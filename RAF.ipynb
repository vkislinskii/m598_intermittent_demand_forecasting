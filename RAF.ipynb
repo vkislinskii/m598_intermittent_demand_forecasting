{
  "nbformat": 4,
  "nbformat_minor": 0,
  "metadata": {
    "colab": {
      "provenance": [],
      "collapsed_sections": [
        "noqlynr8cwhK",
        "_HwnKzaCBd8M",
        "SvKxsFEbBwPW",
        "FA2FuQz_Dau7",
        "RL3FkAu3nx5v",
        "1AZGSL7tn1dV",
        "kjkSPiful4hr",
        "qApQRwnFOLvX",
        "NMLimCK3yDA1",
        "UrfPXDLQ9nME",
        "i2bwAP0PQzZx",
        "0HbojR2bu2ub",
        "Js8TDsMUh72l",
        "xe--CGUrJI_I",
        "MFjPzwBjJSDL",
        "EwwmCBN5GMgl",
        "mK6fU78G4w35",
        "-Kjyg2lWv7_n",
        "EcEjCHnh2lvO"
      ],
      "authorship_tag": "ABX9TyOYboWktLFUEqtjXJtBSe6i",
      "include_colab_link": true
    },
    "kernelspec": {
      "name": "python3",
      "display_name": "Python 3"
    },
    "language_info": {
      "name": "python"
    }
  },
  "cells": [
    {
      "cell_type": "markdown",
      "metadata": {
        "id": "view-in-github",
        "colab_type": "text"
      },
      "source": [
        "<a href=\"https://colab.research.google.com/github/vkislinskii/m598_intermittent_demand_forecasting/blob/main/thesis_3_raf_clean.ipynb\" target=\"_parent\"><img src=\"https://colab.research.google.com/assets/colab-badge.svg\" alt=\"Open In Colab\"/></a>"
      ]
    },
    {
      "cell_type": "markdown",
      "source": [
        "#0. Importing libraries"
      ],
      "metadata": {
        "id": "noqlynr8cwhK"
      }
    },
    {
      "cell_type": "code",
      "source": [
        "from google.colab import drive\n",
        "import pandas as pd\n",
        "import numpy as np\n",
        "import matplotlib.pyplot as plt\n",
        "from sklearn.metrics import mean_squared_error, mean_absolute_error, confusion_matrix, recall_score, f1_score\n",
        "\n",
        "!pip install statsforecast\n",
        "from statsforecast import StatsForecast\n",
        "from statsforecast.models import AutoETS, CrostonOptimized, TSB, ADIDA, IMAPA\n",
        "from xgboost import XGBRegressor\n",
        "\n",
        "! pip install catboost\n",
        "from catboost import CatBoostClassifier, CatBoostRegressor\n",
        "from catboost import Pool\n",
        "\n",
        "!pip install optuna\n",
        "import optuna"
      ],
      "metadata": {
        "colab": {
          "base_uri": "https://localhost:8080/",
          "height": 1000
        },
        "id": "LLNCZWfLcwGn",
        "outputId": "5afd1fd6-53ee-4af1-b9d1-335eadcfd43f"
      },
      "execution_count": 1,
      "outputs": [
        {
          "output_type": "stream",
          "name": "stdout",
          "text": [
            "Collecting statsforecast\n",
            "  Downloading statsforecast-2.0.2-cp312-cp312-manylinux_2_27_x86_64.manylinux_2_28_x86_64.whl.metadata (29 kB)\n",
            "Requirement already satisfied: cloudpickle in /usr/local/lib/python3.12/dist-packages (from statsforecast) (3.1.1)\n",
            "Collecting coreforecast>=0.0.12 (from statsforecast)\n",
            "  Downloading coreforecast-0.0.16-cp312-cp312-manylinux_2_17_x86_64.manylinux2014_x86_64.whl.metadata (3.7 kB)\n",
            "Requirement already satisfied: numba>=0.55.0 in /usr/local/lib/python3.12/dist-packages (from statsforecast) (0.60.0)\n",
            "Requirement already satisfied: numpy>=1.21.6 in /usr/local/lib/python3.12/dist-packages (from statsforecast) (2.0.2)\n",
            "Requirement already satisfied: pandas>=1.3.5 in /usr/local/lib/python3.12/dist-packages (from statsforecast) (2.2.2)\n",
            "Collecting scipy<1.16.0,>=1.7.3 (from statsforecast)\n",
            "  Downloading scipy-1.15.3-cp312-cp312-manylinux_2_17_x86_64.manylinux2014_x86_64.whl.metadata (61 kB)\n",
            "\u001b[2K     \u001b[90m━━━━━━━━━━━━━━━━━━━━━━━━━━━━━━━━━━━━━━━━\u001b[0m \u001b[32m62.0/62.0 kB\u001b[0m \u001b[31m2.5 MB/s\u001b[0m eta \u001b[36m0:00:00\u001b[0m\n",
            "\u001b[?25hRequirement already satisfied: statsmodels>=0.13.2 in /usr/local/lib/python3.12/dist-packages (from statsforecast) (0.14.5)\n",
            "Requirement already satisfied: tqdm in /usr/local/lib/python3.12/dist-packages (from statsforecast) (4.67.1)\n",
            "Collecting fugue>=0.8.1 (from statsforecast)\n",
            "  Downloading fugue-0.9.1-py3-none-any.whl.metadata (18 kB)\n",
            "Collecting utilsforecast>=0.1.4 (from statsforecast)\n",
            "  Downloading utilsforecast-0.2.12-py3-none-any.whl.metadata (7.6 kB)\n",
            "Requirement already satisfied: threadpoolctl>=3 in /usr/local/lib/python3.12/dist-packages (from statsforecast) (3.6.0)\n",
            "Collecting triad>=0.9.7 (from fugue>=0.8.1->statsforecast)\n",
            "  Downloading triad-0.9.8-py3-none-any.whl.metadata (6.3 kB)\n",
            "Collecting adagio>=0.2.4 (from fugue>=0.8.1->statsforecast)\n",
            "  Downloading adagio-0.2.6-py3-none-any.whl.metadata (1.8 kB)\n",
            "Requirement already satisfied: llvmlite<0.44,>=0.43.0dev0 in /usr/local/lib/python3.12/dist-packages (from numba>=0.55.0->statsforecast) (0.43.0)\n",
            "Requirement already satisfied: python-dateutil>=2.8.2 in /usr/local/lib/python3.12/dist-packages (from pandas>=1.3.5->statsforecast) (2.9.0.post0)\n",
            "Requirement already satisfied: pytz>=2020.1 in /usr/local/lib/python3.12/dist-packages (from pandas>=1.3.5->statsforecast) (2025.2)\n",
            "Requirement already satisfied: tzdata>=2022.7 in /usr/local/lib/python3.12/dist-packages (from pandas>=1.3.5->statsforecast) (2025.2)\n",
            "Requirement already satisfied: patsy>=0.5.6 in /usr/local/lib/python3.12/dist-packages (from statsmodels>=0.13.2->statsforecast) (1.0.1)\n",
            "Requirement already satisfied: packaging>=21.3 in /usr/local/lib/python3.12/dist-packages (from statsmodels>=0.13.2->statsforecast) (25.0)\n",
            "Requirement already satisfied: six>=1.5 in /usr/local/lib/python3.12/dist-packages (from python-dateutil>=2.8.2->pandas>=1.3.5->statsforecast) (1.17.0)\n",
            "Requirement already satisfied: pyarrow>=6.0.1 in /usr/local/lib/python3.12/dist-packages (from triad>=0.9.7->fugue>=0.8.1->statsforecast) (18.1.0)\n",
            "Requirement already satisfied: fsspec>=2022.5.0 in /usr/local/lib/python3.12/dist-packages (from triad>=0.9.7->fugue>=0.8.1->statsforecast) (2025.3.0)\n",
            "Collecting fs (from triad>=0.9.7->fugue>=0.8.1->statsforecast)\n",
            "  Downloading fs-2.4.16-py2.py3-none-any.whl.metadata (6.3 kB)\n",
            "Collecting appdirs~=1.4.3 (from fs->triad>=0.9.7->fugue>=0.8.1->statsforecast)\n",
            "  Downloading appdirs-1.4.4-py2.py3-none-any.whl.metadata (9.0 kB)\n",
            "Requirement already satisfied: setuptools in /usr/local/lib/python3.12/dist-packages (from fs->triad>=0.9.7->fugue>=0.8.1->statsforecast) (75.2.0)\n",
            "Downloading statsforecast-2.0.2-cp312-cp312-manylinux_2_27_x86_64.manylinux_2_28_x86_64.whl (344 kB)\n",
            "\u001b[2K   \u001b[90m━━━━━━━━━━━━━━━━━━━━━━━━━━━━━━━━━━━━━━━━\u001b[0m \u001b[32m344.8/344.8 kB\u001b[0m \u001b[31m20.0 MB/s\u001b[0m eta \u001b[36m0:00:00\u001b[0m\n",
            "\u001b[?25hDownloading coreforecast-0.0.16-cp312-cp312-manylinux_2_17_x86_64.manylinux2014_x86_64.whl (287 kB)\n",
            "\u001b[2K   \u001b[90m━━━━━━━━━━━━━━━━━━━━━━━━━━━━━━━━━━━━━━━━\u001b[0m \u001b[32m287.4/287.4 kB\u001b[0m \u001b[31m17.9 MB/s\u001b[0m eta \u001b[36m0:00:00\u001b[0m\n",
            "\u001b[?25hDownloading fugue-0.9.1-py3-none-any.whl (278 kB)\n",
            "\u001b[2K   \u001b[90m━━━━━━━━━━━━━━━━━━━━━━━━━━━━━━━━━━━━━━━━\u001b[0m \u001b[32m278.2/278.2 kB\u001b[0m \u001b[31m15.4 MB/s\u001b[0m eta \u001b[36m0:00:00\u001b[0m\n",
            "\u001b[?25hDownloading scipy-1.15.3-cp312-cp312-manylinux_2_17_x86_64.manylinux2014_x86_64.whl (37.3 MB)\n",
            "\u001b[2K   \u001b[90m━━━━━━━━━━━━━━━━━━━━━━━━━━━━━━━━━━━━━━━━\u001b[0m \u001b[32m37.3/37.3 MB\u001b[0m \u001b[31m24.5 MB/s\u001b[0m eta \u001b[36m0:00:00\u001b[0m\n",
            "\u001b[?25hDownloading utilsforecast-0.2.12-py3-none-any.whl (42 kB)\n",
            "\u001b[2K   \u001b[90m━━━━━━━━━━━━━━━━━━━━━━━━━━━━━━━━━━━━━━━━\u001b[0m \u001b[32m42.2/42.2 kB\u001b[0m \u001b[31m2.2 MB/s\u001b[0m eta \u001b[36m0:00:00\u001b[0m\n",
            "\u001b[?25hDownloading adagio-0.2.6-py3-none-any.whl (19 kB)\n",
            "Downloading triad-0.9.8-py3-none-any.whl (62 kB)\n",
            "\u001b[2K   \u001b[90m━━━━━━━━━━━━━━━━━━━━━━━━━━━━━━━━━━━━━━━━\u001b[0m \u001b[32m62.3/62.3 kB\u001b[0m \u001b[31m5.2 MB/s\u001b[0m eta \u001b[36m0:00:00\u001b[0m\n",
            "\u001b[?25hDownloading fs-2.4.16-py2.py3-none-any.whl (135 kB)\n",
            "\u001b[2K   \u001b[90m━━━━━━━━━━━━━━━━━━━━━━━━━━━━━━━━━━━━━━━━\u001b[0m \u001b[32m135.3/135.3 kB\u001b[0m \u001b[31m5.6 MB/s\u001b[0m eta \u001b[36m0:00:00\u001b[0m\n",
            "\u001b[?25hDownloading appdirs-1.4.4-py2.py3-none-any.whl (9.6 kB)\n",
            "Installing collected packages: appdirs, scipy, fs, coreforecast, utilsforecast, triad, adagio, fugue, statsforecast\n",
            "  Attempting uninstall: scipy\n",
            "    Found existing installation: scipy 1.16.2\n",
            "    Uninstalling scipy-1.16.2:\n",
            "      Successfully uninstalled scipy-1.16.2\n",
            "Successfully installed adagio-0.2.6 appdirs-1.4.4 coreforecast-0.0.16 fs-2.4.16 fugue-0.9.1 scipy-1.15.3 statsforecast-2.0.2 triad-0.9.8 utilsforecast-0.2.12\n"
          ]
        },
        {
          "output_type": "display_data",
          "data": {
            "application/vnd.colab-display-data+json": {
              "pip_warning": {
                "packages": [
                  "scipy"
                ]
              },
              "id": "18999ce7653e47bcb542a5d81f027373"
            }
          },
          "metadata": {}
        },
        {
          "output_type": "stream",
          "name": "stderr",
          "text": [
            "Exception ignored on calling ctypes callback function: <function ThreadpoolController._find_libraries_with_dl_iterate_phdr.<locals>.match_library_callback at 0x79b38db154e0>\n",
            "Traceback (most recent call last):\n",
            "  File \"/usr/local/lib/python3.12/dist-packages/threadpoolctl.py\", line 1005, in match_library_callback\n",
            "    self._make_controller_from_path(filepath)\n",
            "  File \"/usr/local/lib/python3.12/dist-packages/threadpoolctl.py\", line 1187, in _make_controller_from_path\n",
            "    lib_controller = controller_class(\n",
            "                     ^^^^^^^^^^^^^^^^^\n",
            "  File \"/usr/local/lib/python3.12/dist-packages/threadpoolctl.py\", line 114, in __init__\n",
            "    self.dynlib = ctypes.CDLL(filepath, mode=_RTLD_NOLOAD)\n",
            "                  ^^^^^^^^^^^^^^^^^^^^^^^^^^^^^^^^^^^^^^^^\n",
            "  File \"/usr/lib/python3.12/ctypes/__init__.py\", line 379, in __init__\n",
            "    self._handle = _dlopen(self._name, mode)\n",
            "                   ^^^^^^^^^^^^^^^^^^^^^^^^^\n",
            "OSError: /usr/local/lib/python3.12/dist-packages/scipy.libs/libscipy_openblas-b75cc656.so: cannot open shared object file: No such file or directory\n"
          ]
        },
        {
          "output_type": "stream",
          "name": "stdout",
          "text": [
            "Collecting catboost\n",
            "  Downloading catboost-1.2.8-cp312-cp312-manylinux2014_x86_64.whl.metadata (1.2 kB)\n",
            "Requirement already satisfied: graphviz in /usr/local/lib/python3.12/dist-packages (from catboost) (0.21)\n",
            "Requirement already satisfied: matplotlib in /usr/local/lib/python3.12/dist-packages (from catboost) (3.10.0)\n",
            "Requirement already satisfied: numpy<3.0,>=1.16.0 in /usr/local/lib/python3.12/dist-packages (from catboost) (2.0.2)\n",
            "Requirement already satisfied: pandas>=0.24 in /usr/local/lib/python3.12/dist-packages (from catboost) (2.2.2)\n",
            "Requirement already satisfied: scipy in /usr/local/lib/python3.12/dist-packages (from catboost) (1.15.3)\n",
            "Requirement already satisfied: plotly in /usr/local/lib/python3.12/dist-packages (from catboost) (5.24.1)\n",
            "Requirement already satisfied: six in /usr/local/lib/python3.12/dist-packages (from catboost) (1.17.0)\n",
            "Requirement already satisfied: python-dateutil>=2.8.2 in /usr/local/lib/python3.12/dist-packages (from pandas>=0.24->catboost) (2.9.0.post0)\n",
            "Requirement already satisfied: pytz>=2020.1 in /usr/local/lib/python3.12/dist-packages (from pandas>=0.24->catboost) (2025.2)\n",
            "Requirement already satisfied: tzdata>=2022.7 in /usr/local/lib/python3.12/dist-packages (from pandas>=0.24->catboost) (2025.2)\n",
            "Requirement already satisfied: contourpy>=1.0.1 in /usr/local/lib/python3.12/dist-packages (from matplotlib->catboost) (1.3.3)\n",
            "Requirement already satisfied: cycler>=0.10 in /usr/local/lib/python3.12/dist-packages (from matplotlib->catboost) (0.12.1)\n",
            "Requirement already satisfied: fonttools>=4.22.0 in /usr/local/lib/python3.12/dist-packages (from matplotlib->catboost) (4.60.0)\n",
            "Requirement already satisfied: kiwisolver>=1.3.1 in /usr/local/lib/python3.12/dist-packages (from matplotlib->catboost) (1.4.9)\n",
            "Requirement already satisfied: packaging>=20.0 in /usr/local/lib/python3.12/dist-packages (from matplotlib->catboost) (25.0)\n",
            "Requirement already satisfied: pillow>=8 in /usr/local/lib/python3.12/dist-packages (from matplotlib->catboost) (11.3.0)\n",
            "Requirement already satisfied: pyparsing>=2.3.1 in /usr/local/lib/python3.12/dist-packages (from matplotlib->catboost) (3.2.4)\n",
            "Requirement already satisfied: tenacity>=6.2.0 in /usr/local/lib/python3.12/dist-packages (from plotly->catboost) (8.5.0)\n",
            "Downloading catboost-1.2.8-cp312-cp312-manylinux2014_x86_64.whl (99.2 MB)\n",
            "\u001b[2K   \u001b[90m━━━━━━━━━━━━━━━━━━━━━━━━━━━━━━━━━━━━━━━━\u001b[0m \u001b[32m99.2/99.2 MB\u001b[0m \u001b[31m8.2 MB/s\u001b[0m eta \u001b[36m0:00:00\u001b[0m\n",
            "\u001b[?25hInstalling collected packages: catboost\n",
            "Successfully installed catboost-1.2.8\n",
            "Collecting optuna\n",
            "  Downloading optuna-4.5.0-py3-none-any.whl.metadata (17 kB)\n",
            "Requirement already satisfied: alembic>=1.5.0 in /usr/local/lib/python3.12/dist-packages (from optuna) (1.16.5)\n",
            "Collecting colorlog (from optuna)\n",
            "  Downloading colorlog-6.9.0-py3-none-any.whl.metadata (10 kB)\n",
            "Requirement already satisfied: numpy in /usr/local/lib/python3.12/dist-packages (from optuna) (2.0.2)\n",
            "Requirement already satisfied: packaging>=20.0 in /usr/local/lib/python3.12/dist-packages (from optuna) (25.0)\n",
            "Requirement already satisfied: sqlalchemy>=1.4.2 in /usr/local/lib/python3.12/dist-packages (from optuna) (2.0.43)\n",
            "Requirement already satisfied: tqdm in /usr/local/lib/python3.12/dist-packages (from optuna) (4.67.1)\n",
            "Requirement already satisfied: PyYAML in /usr/local/lib/python3.12/dist-packages (from optuna) (6.0.2)\n",
            "Requirement already satisfied: Mako in /usr/local/lib/python3.12/dist-packages (from alembic>=1.5.0->optuna) (1.3.10)\n",
            "Requirement already satisfied: typing-extensions>=4.12 in /usr/local/lib/python3.12/dist-packages (from alembic>=1.5.0->optuna) (4.15.0)\n",
            "Requirement already satisfied: greenlet>=1 in /usr/local/lib/python3.12/dist-packages (from sqlalchemy>=1.4.2->optuna) (3.2.4)\n",
            "Requirement already satisfied: MarkupSafe>=0.9.2 in /usr/local/lib/python3.12/dist-packages (from Mako->alembic>=1.5.0->optuna) (3.0.2)\n",
            "Downloading optuna-4.5.0-py3-none-any.whl (400 kB)\n",
            "\u001b[2K   \u001b[90m━━━━━━━━━━━━━━━━━━━━━━━━━━━━━━━━━━━━━━━━\u001b[0m \u001b[32m400.9/400.9 kB\u001b[0m \u001b[31m12.2 MB/s\u001b[0m eta \u001b[36m0:00:00\u001b[0m\n",
            "\u001b[?25hDownloading colorlog-6.9.0-py3-none-any.whl (11 kB)\n",
            "Installing collected packages: colorlog, optuna\n",
            "Successfully installed colorlog-6.9.0 optuna-4.5.0\n"
          ]
        }
      ]
    },
    {
      "cell_type": "markdown",
      "source": [
        "#1. Reading data"
      ],
      "metadata": {
        "id": "_HwnKzaCBd8M"
      }
    },
    {
      "cell_type": "code",
      "source": [
        "drive.mount('/content/drive')\n",
        "df_data = pd.read_excel(\"/content/drive/MyDrive/202507_thesis/data - raf/RAF.xls\", dtype={'PRICE (£)': str})"
      ],
      "metadata": {
        "id": "Flfone9KZWhI",
        "colab": {
          "base_uri": "https://localhost:8080/"
        },
        "outputId": "f88c5bd7-11c3-4371-db20-c1daed3e66b0"
      },
      "execution_count": 2,
      "outputs": [
        {
          "output_type": "stream",
          "name": "stdout",
          "text": [
            "Mounted at /content/drive\n"
          ]
        }
      ]
    },
    {
      "cell_type": "markdown",
      "source": [
        "#2. Preprocessing data"
      ],
      "metadata": {
        "id": "SvKxsFEbBwPW"
      }
    },
    {
      "cell_type": "code",
      "source": [
        "df_data.columns = df_data.columns.str.replace(' ', '_').str.lower()\n",
        "df_data = df_data.rename(columns={'item_ref_no': 'unique_id', 'lead_time_(months)': 'lead_time', 'price_(£)': 'price'})"
      ],
      "metadata": {
        "id": "_oLd7SfA8UZA"
      },
      "execution_count": 3,
      "outputs": []
    },
    {
      "cell_type": "code",
      "source": [
        "#converting the price to normal format\n",
        "for i in range(df_data.shape[0]):\n",
        "  if len(df_data.price[i].split('.')[-1]) >= 3:\n",
        "    df_data.loc[i, 'price'] = float(df_data.price[i]) * 1000\n",
        "  else:\n",
        "    df_data.loc[i, 'price'] = float(df_data.price[i])"
      ],
      "metadata": {
        "id": "OI58_VOIH0xB"
      },
      "execution_count": 4,
      "outputs": []
    },
    {
      "cell_type": "code",
      "source": [
        "#transposing the table\n",
        "id_vars = ['unique_id', 'description',\t'lead_time',\t'price']\n",
        "value_vars = df_data.select_dtypes(include=['int64']).columns\n",
        "df_data2 = df_data.melt(id_vars=id_vars, value_vars=value_vars, var_name=\"ds\", value_name=\"y\")\n",
        "\n",
        "df_data2['ds'] = pd.to_datetime(df_data2['ds'], format='%b%y')"
      ],
      "metadata": {
        "id": "LhtLAxshqOIi"
      },
      "execution_count": 5,
      "outputs": []
    },
    {
      "cell_type": "code",
      "source": [
        "#make the first non-zero demand the initial value\n",
        "df_data_fin_start = df_data2.query(\"y != 0\")[['unique_id', 'ds']].groupby(by=\"unique_id\", observed=False, as_index=False).min().rename(columns={\"ds\": \"ds_start\"})\n",
        "df_data2 = df_data2.merge(df_data_fin_start, on=['unique_id'], how='left').query(\"ds >= ds_start\")\n",
        "\n",
        "df_data_fin = df_data2[['unique_id', 'ds', 'y']]"
      ],
      "metadata": {
        "id": "NyL3C3xipOcn"
      },
      "execution_count": 7,
      "outputs": []
    },
    {
      "cell_type": "markdown",
      "source": [
        "#3. Data exploration"
      ],
      "metadata": {
        "id": "FA2FuQz_Dau7"
      }
    },
    {
      "cell_type": "code",
      "source": [
        "df_plot = df_data2.pivot(index=\"ds\", columns=\"unique_id\", values=\"y\")"
      ],
      "metadata": {
        "id": "zgfc_F0zDyX2"
      },
      "execution_count": null,
      "outputs": []
    },
    {
      "cell_type": "code",
      "source": [
        "def compute_p_v_from_series(series: pd.Series, ddof: int = 1):\n",
        "    series = series.dropna()\n",
        "    T = len(series)\n",
        "    positives = series[series > 0]\n",
        "    m = int(positives.count())\n",
        "    if m == 0:\n",
        "        return {\"T\": T, \"m\": 0, \"p\": np.nan, \"mu\": np.nan, \"var\": np.nan, \"v\": np.nan}\n",
        "    p = T / m\n",
        "    mu = float(positives.mean())\n",
        "    if m > ddof:\n",
        "        var = float(positives.var(ddof=ddof))\n",
        "        v = var / (mu**2) if mu != 0 else np.inf\n",
        "    else:\n",
        "        var = np.nan\n",
        "        v = np.nan\n",
        "    return {\"T\": T, \"m\": m, \"p\": p, \"mu\": mu, \"var\": var, \"v\": v}"
      ],
      "metadata": {
        "id": "anZF3wcpDyUy"
      },
      "execution_count": null,
      "outputs": []
    },
    {
      "cell_type": "code",
      "source": [
        "ddof=1\n",
        "sort_by='p'\n",
        "results = []\n",
        "n = 0\n",
        "for col in df_plot.columns:\n",
        "  res = compute_p_v_from_series(df_plot[col], ddof=ddof)\n",
        "  res[\"item\"] = col\n",
        "  results.append(res)\n",
        "\n",
        "results_df = pd.DataFrame(results).set_index(\"item\")\n",
        "results_df = results_df[[\"T\", \"m\", \"p\", \"mu\", \"var\", \"v\"]]\n",
        "\n",
        "if sort_by in results_df.columns:\n",
        "  results_df_sorted = results_df.sort_values(sort_by, ascending=False)\n",
        "else:\n",
        "  results_df_sorted = results_df.copy()\n",
        "\n",
        "results_df_sorted['ln_p'] = np.log(results_df_sorted.p)\n",
        "results_df_sorted['ln_v'] = np.log(results_df_sorted.v)"
      ],
      "metadata": {
        "colab": {
          "base_uri": "https://localhost:8080/"
        },
        "id": "Iz_-DSmpDyPd",
        "outputId": "6e4550ab-7ab7-447c-aa76-ae9d6f8d6849"
      },
      "execution_count": null,
      "outputs": [
        {
          "output_type": "stream",
          "name": "stderr",
          "text": [
            "/usr/local/lib/python3.12/dist-packages/pandas/core/arraylike.py:399: RuntimeWarning: divide by zero encountered in log\n",
            "  result = getattr(ufunc, method)(*inputs, **kwargs)\n"
          ]
        }
      ]
    },
    {
      "cell_type": "code",
      "source": [
        "smo = results_df_sorted.query(\"p <= 1.32 & v <= 0.49\").shape[0]\n",
        "inte = results_df_sorted.query(\"p > 1.32 & v <= 0.49\").shape[0]\n",
        "err = results_df_sorted.query(\"p <= 1.32 & v > 0.49\").shape[0]\n",
        "lum = results_df_sorted.query(\"p > 1.32 & v > 0.49\").shape[0]\n",
        "\n",
        "print(f\"{smo} - Smooth \\n{inte} - Intermittent\\n{err} - Erratic\\n{lum} - Lumpy\")"
      ],
      "metadata": {
        "colab": {
          "base_uri": "https://localhost:8080/"
        },
        "id": "tdslHFPfEbYL",
        "outputId": "1cfd47fe-7b5b-4465-fed7-cde0501f02cd"
      },
      "execution_count": null,
      "outputs": [
        {
          "output_type": "stream",
          "name": "stdout",
          "text": [
            "0 - Smooth \n",
            "2597 - Intermittent\n",
            "0 - Erratic\n",
            "2403 - Lumpy\n"
          ]
        }
      ]
    },
    {
      "cell_type": "code",
      "source": [
        "round(results_df_sorted[['p', 'v']].describe(), 2)"
      ],
      "metadata": {
        "colab": {
          "base_uri": "https://localhost:8080/",
          "height": 300
        },
        "id": "lvYL0NHxEbUl",
        "outputId": "c283ae44-229b-411a-a6f5-406b1d06eaa2"
      },
      "execution_count": null,
      "outputs": [
        {
          "output_type": "execute_result",
          "data": {
            "text/plain": [
              "             p        v\n",
              "count  5000.00  5000.00\n",
              "mean     10.00     0.72\n",
              "std       3.49     0.91\n",
              "min       4.07     0.00\n",
              "25%       7.49     0.18\n",
              "50%       9.22     0.46\n",
              "75%      11.86     0.90\n",
              "max      24.00    11.88"
            ],
            "text/html": [
              "\n",
              "  <div id=\"df-12610924-0d53-49e9-9f15-cb1b946abeaa\" class=\"colab-df-container\">\n",
              "    <div>\n",
              "<style scoped>\n",
              "    .dataframe tbody tr th:only-of-type {\n",
              "        vertical-align: middle;\n",
              "    }\n",
              "\n",
              "    .dataframe tbody tr th {\n",
              "        vertical-align: top;\n",
              "    }\n",
              "\n",
              "    .dataframe thead th {\n",
              "        text-align: right;\n",
              "    }\n",
              "</style>\n",
              "<table border=\"1\" class=\"dataframe\">\n",
              "  <thead>\n",
              "    <tr style=\"text-align: right;\">\n",
              "      <th></th>\n",
              "      <th>p</th>\n",
              "      <th>v</th>\n",
              "    </tr>\n",
              "  </thead>\n",
              "  <tbody>\n",
              "    <tr>\n",
              "      <th>count</th>\n",
              "      <td>5000.00</td>\n",
              "      <td>5000.00</td>\n",
              "    </tr>\n",
              "    <tr>\n",
              "      <th>mean</th>\n",
              "      <td>10.00</td>\n",
              "      <td>0.72</td>\n",
              "    </tr>\n",
              "    <tr>\n",
              "      <th>std</th>\n",
              "      <td>3.49</td>\n",
              "      <td>0.91</td>\n",
              "    </tr>\n",
              "    <tr>\n",
              "      <th>min</th>\n",
              "      <td>4.07</td>\n",
              "      <td>0.00</td>\n",
              "    </tr>\n",
              "    <tr>\n",
              "      <th>25%</th>\n",
              "      <td>7.49</td>\n",
              "      <td>0.18</td>\n",
              "    </tr>\n",
              "    <tr>\n",
              "      <th>50%</th>\n",
              "      <td>9.22</td>\n",
              "      <td>0.46</td>\n",
              "    </tr>\n",
              "    <tr>\n",
              "      <th>75%</th>\n",
              "      <td>11.86</td>\n",
              "      <td>0.90</td>\n",
              "    </tr>\n",
              "    <tr>\n",
              "      <th>max</th>\n",
              "      <td>24.00</td>\n",
              "      <td>11.88</td>\n",
              "    </tr>\n",
              "  </tbody>\n",
              "</table>\n",
              "</div>\n",
              "    <div class=\"colab-df-buttons\">\n",
              "\n",
              "  <div class=\"colab-df-container\">\n",
              "    <button class=\"colab-df-convert\" onclick=\"convertToInteractive('df-12610924-0d53-49e9-9f15-cb1b946abeaa')\"\n",
              "            title=\"Convert this dataframe to an interactive table.\"\n",
              "            style=\"display:none;\">\n",
              "\n",
              "  <svg xmlns=\"http://www.w3.org/2000/svg\" height=\"24px\" viewBox=\"0 -960 960 960\">\n",
              "    <path d=\"M120-120v-720h720v720H120Zm60-500h600v-160H180v160Zm220 220h160v-160H400v160Zm0 220h160v-160H400v160ZM180-400h160v-160H180v160Zm440 0h160v-160H620v160ZM180-180h160v-160H180v160Zm440 0h160v-160H620v160Z\"/>\n",
              "  </svg>\n",
              "    </button>\n",
              "\n",
              "  <style>\n",
              "    .colab-df-container {\n",
              "      display:flex;\n",
              "      gap: 12px;\n",
              "    }\n",
              "\n",
              "    .colab-df-convert {\n",
              "      background-color: #E8F0FE;\n",
              "      border: none;\n",
              "      border-radius: 50%;\n",
              "      cursor: pointer;\n",
              "      display: none;\n",
              "      fill: #1967D2;\n",
              "      height: 32px;\n",
              "      padding: 0 0 0 0;\n",
              "      width: 32px;\n",
              "    }\n",
              "\n",
              "    .colab-df-convert:hover {\n",
              "      background-color: #E2EBFA;\n",
              "      box-shadow: 0px 1px 2px rgba(60, 64, 67, 0.3), 0px 1px 3px 1px rgba(60, 64, 67, 0.15);\n",
              "      fill: #174EA6;\n",
              "    }\n",
              "\n",
              "    .colab-df-buttons div {\n",
              "      margin-bottom: 4px;\n",
              "    }\n",
              "\n",
              "    [theme=dark] .colab-df-convert {\n",
              "      background-color: #3B4455;\n",
              "      fill: #D2E3FC;\n",
              "    }\n",
              "\n",
              "    [theme=dark] .colab-df-convert:hover {\n",
              "      background-color: #434B5C;\n",
              "      box-shadow: 0px 1px 3px 1px rgba(0, 0, 0, 0.15);\n",
              "      filter: drop-shadow(0px 1px 2px rgba(0, 0, 0, 0.3));\n",
              "      fill: #FFFFFF;\n",
              "    }\n",
              "  </style>\n",
              "\n",
              "    <script>\n",
              "      const buttonEl =\n",
              "        document.querySelector('#df-12610924-0d53-49e9-9f15-cb1b946abeaa button.colab-df-convert');\n",
              "      buttonEl.style.display =\n",
              "        google.colab.kernel.accessAllowed ? 'block' : 'none';\n",
              "\n",
              "      async function convertToInteractive(key) {\n",
              "        const element = document.querySelector('#df-12610924-0d53-49e9-9f15-cb1b946abeaa');\n",
              "        const dataTable =\n",
              "          await google.colab.kernel.invokeFunction('convertToInteractive',\n",
              "                                                    [key], {});\n",
              "        if (!dataTable) return;\n",
              "\n",
              "        const docLinkHtml = 'Like what you see? Visit the ' +\n",
              "          '<a target=\"_blank\" href=https://colab.research.google.com/notebooks/data_table.ipynb>data table notebook</a>'\n",
              "          + ' to learn more about interactive tables.';\n",
              "        element.innerHTML = '';\n",
              "        dataTable['output_type'] = 'display_data';\n",
              "        await google.colab.output.renderOutput(dataTable, element);\n",
              "        const docLink = document.createElement('div');\n",
              "        docLink.innerHTML = docLinkHtml;\n",
              "        element.appendChild(docLink);\n",
              "      }\n",
              "    </script>\n",
              "  </div>\n",
              "\n",
              "\n",
              "    <div id=\"df-1fe0e587-feb8-4b20-8f20-27eb20a0c596\">\n",
              "      <button class=\"colab-df-quickchart\" onclick=\"quickchart('df-1fe0e587-feb8-4b20-8f20-27eb20a0c596')\"\n",
              "                title=\"Suggest charts\"\n",
              "                style=\"display:none;\">\n",
              "\n",
              "<svg xmlns=\"http://www.w3.org/2000/svg\" height=\"24px\"viewBox=\"0 0 24 24\"\n",
              "     width=\"24px\">\n",
              "    <g>\n",
              "        <path d=\"M19 3H5c-1.1 0-2 .9-2 2v14c0 1.1.9 2 2 2h14c1.1 0 2-.9 2-2V5c0-1.1-.9-2-2-2zM9 17H7v-7h2v7zm4 0h-2V7h2v10zm4 0h-2v-4h2v4z\"/>\n",
              "    </g>\n",
              "</svg>\n",
              "      </button>\n",
              "\n",
              "<style>\n",
              "  .colab-df-quickchart {\n",
              "      --bg-color: #E8F0FE;\n",
              "      --fill-color: #1967D2;\n",
              "      --hover-bg-color: #E2EBFA;\n",
              "      --hover-fill-color: #174EA6;\n",
              "      --disabled-fill-color: #AAA;\n",
              "      --disabled-bg-color: #DDD;\n",
              "  }\n",
              "\n",
              "  [theme=dark] .colab-df-quickchart {\n",
              "      --bg-color: #3B4455;\n",
              "      --fill-color: #D2E3FC;\n",
              "      --hover-bg-color: #434B5C;\n",
              "      --hover-fill-color: #FFFFFF;\n",
              "      --disabled-bg-color: #3B4455;\n",
              "      --disabled-fill-color: #666;\n",
              "  }\n",
              "\n",
              "  .colab-df-quickchart {\n",
              "    background-color: var(--bg-color);\n",
              "    border: none;\n",
              "    border-radius: 50%;\n",
              "    cursor: pointer;\n",
              "    display: none;\n",
              "    fill: var(--fill-color);\n",
              "    height: 32px;\n",
              "    padding: 0;\n",
              "    width: 32px;\n",
              "  }\n",
              "\n",
              "  .colab-df-quickchart:hover {\n",
              "    background-color: var(--hover-bg-color);\n",
              "    box-shadow: 0 1px 2px rgba(60, 64, 67, 0.3), 0 1px 3px 1px rgba(60, 64, 67, 0.15);\n",
              "    fill: var(--button-hover-fill-color);\n",
              "  }\n",
              "\n",
              "  .colab-df-quickchart-complete:disabled,\n",
              "  .colab-df-quickchart-complete:disabled:hover {\n",
              "    background-color: var(--disabled-bg-color);\n",
              "    fill: var(--disabled-fill-color);\n",
              "    box-shadow: none;\n",
              "  }\n",
              "\n",
              "  .colab-df-spinner {\n",
              "    border: 2px solid var(--fill-color);\n",
              "    border-color: transparent;\n",
              "    border-bottom-color: var(--fill-color);\n",
              "    animation:\n",
              "      spin 1s steps(1) infinite;\n",
              "  }\n",
              "\n",
              "  @keyframes spin {\n",
              "    0% {\n",
              "      border-color: transparent;\n",
              "      border-bottom-color: var(--fill-color);\n",
              "      border-left-color: var(--fill-color);\n",
              "    }\n",
              "    20% {\n",
              "      border-color: transparent;\n",
              "      border-left-color: var(--fill-color);\n",
              "      border-top-color: var(--fill-color);\n",
              "    }\n",
              "    30% {\n",
              "      border-color: transparent;\n",
              "      border-left-color: var(--fill-color);\n",
              "      border-top-color: var(--fill-color);\n",
              "      border-right-color: var(--fill-color);\n",
              "    }\n",
              "    40% {\n",
              "      border-color: transparent;\n",
              "      border-right-color: var(--fill-color);\n",
              "      border-top-color: var(--fill-color);\n",
              "    }\n",
              "    60% {\n",
              "      border-color: transparent;\n",
              "      border-right-color: var(--fill-color);\n",
              "    }\n",
              "    80% {\n",
              "      border-color: transparent;\n",
              "      border-right-color: var(--fill-color);\n",
              "      border-bottom-color: var(--fill-color);\n",
              "    }\n",
              "    90% {\n",
              "      border-color: transparent;\n",
              "      border-bottom-color: var(--fill-color);\n",
              "    }\n",
              "  }\n",
              "</style>\n",
              "\n",
              "      <script>\n",
              "        async function quickchart(key) {\n",
              "          const quickchartButtonEl =\n",
              "            document.querySelector('#' + key + ' button');\n",
              "          quickchartButtonEl.disabled = true;  // To prevent multiple clicks.\n",
              "          quickchartButtonEl.classList.add('colab-df-spinner');\n",
              "          try {\n",
              "            const charts = await google.colab.kernel.invokeFunction(\n",
              "                'suggestCharts', [key], {});\n",
              "          } catch (error) {\n",
              "            console.error('Error during call to suggestCharts:', error);\n",
              "          }\n",
              "          quickchartButtonEl.classList.remove('colab-df-spinner');\n",
              "          quickchartButtonEl.classList.add('colab-df-quickchart-complete');\n",
              "        }\n",
              "        (() => {\n",
              "          let quickchartButtonEl =\n",
              "            document.querySelector('#df-1fe0e587-feb8-4b20-8f20-27eb20a0c596 button');\n",
              "          quickchartButtonEl.style.display =\n",
              "            google.colab.kernel.accessAllowed ? 'block' : 'none';\n",
              "        })();\n",
              "      </script>\n",
              "    </div>\n",
              "\n",
              "    </div>\n",
              "  </div>\n"
            ],
            "application/vnd.google.colaboratory.intrinsic+json": {
              "type": "dataframe",
              "summary": "{\n  \"name\": \"round(results_df_sorted[['p', 'v']]\",\n  \"rows\": 8,\n  \"fields\": [\n    {\n      \"column\": \"p\",\n      \"properties\": {\n        \"dtype\": \"number\",\n        \"std\": 1764.2363477877211,\n        \"min\": 3.49,\n        \"max\": 5000.0,\n        \"num_unique_values\": 8,\n        \"samples\": [\n          10.0,\n          9.22,\n          5000.0\n        ],\n        \"semantic_type\": \"\",\n        \"description\": \"\"\n      }\n    },\n    {\n      \"column\": \"v\",\n      \"properties\": {\n        \"dtype\": \"number\",\n        \"std\": 1767.0113073487148,\n        \"min\": 0.0,\n        \"max\": 5000.0,\n        \"num_unique_values\": 8,\n        \"samples\": [\n          0.72,\n          0.46,\n          5000.0\n        ],\n        \"semantic_type\": \"\",\n        \"description\": \"\"\n      }\n    }\n  ]\n}"
            }
          },
          "metadata": {},
          "execution_count": 20
        }
      ]
    },
    {
      "cell_type": "code",
      "source": [
        "y = results_df_sorted[\"ln_p\"].values\n",
        "x = results_df_sorted[\"ln_v\"].values\n",
        "labels = results_df_sorted.index.astype(str).tolist()\n",
        "\n",
        "fig, ax = plt.subplots(figsize=(4, 4))\n",
        "hb = ax.hexbin(x, y, gridsize=40, cmap=\"inferno\", mincnt=1)\n",
        "\n",
        "ax.set_ylabel(\"ln(p)\") #p - average inter-demand interval\n",
        "ax.set_xlabel(\"ln(v)\") #v - squared coef of variation\n",
        "ax.set_title(\"RAF\")\n",
        "\n",
        "ax.grid(True, linewidth=0.3)\n",
        "\n",
        "v_thresh = 0.27763\n",
        "p_thresh = -0.71334\n",
        "\n",
        "# vertical and horizontal lines at the borders\n",
        "ax.axvline(x=p_thresh, color=\"red\", linestyle=\"--\", linewidth=1.5, label=f\"p = {p_thresh}\")\n",
        "ax.axhline(y=v_thresh, color=\"red\", linestyle=\"-.\", linewidth=1.5, label=f\"v = {v_thresh}\")\n",
        "\n",
        "plt.colorbar(hb, ax=ax, label=\"Count per hexagon\")"
      ],
      "metadata": {
        "colab": {
          "base_uri": "https://localhost:8080/",
          "height": 427
        },
        "id": "NKJGrdpHEbRM",
        "outputId": "940e84f3-72da-449a-dfb0-fe75c1a0358e"
      },
      "execution_count": null,
      "outputs": [
        {
          "output_type": "execute_result",
          "data": {
            "text/plain": [
              "<matplotlib.colorbar.Colorbar at 0x7b48c5ad2000>"
            ]
          },
          "metadata": {},
          "execution_count": 21
        },
        {
          "output_type": "display_data",
          "data": {
            "text/plain": [
              "<Figure size 400x400 with 2 Axes>"
            ],
            "image/png": "[encoded data removed]"
          },
          "metadata": {}
        }
      ]
    },
    {
      "cell_type": "code",
      "source": [
        "plt.figure(figsize=(4, 4))\n",
        "plt.plot(df_data2.query(\"unique_id == 3\").ds, df_data2.query(\"unique_id == 3\").y, linestyle=\"-\", linewidth=2)\n",
        "\n",
        "# Labels and title\n",
        "plt.xlabel(\"Date\")\n",
        "plt.ylabel(\"Demand\")\n",
        "plt.title(\"Demand for id #3\")\n",
        "plt.xticks(rotation=45)\n",
        "plt.grid(True)\n",
        "\n",
        "plt.tight_layout()\n",
        "plt.show()"
      ],
      "metadata": {
        "colab": {
          "base_uri": "https://localhost:8080/",
          "height": 407
        },
        "id": "erYVFregEbLn",
        "outputId": "81cb2a79-7441-4633-f5f0-5a6fea986c99"
      },
      "execution_count": null,
      "outputs": [
        {
          "output_type": "display_data",
          "data": {
            "text/plain": [
              "<Figure size 400x400 with 1 Axes>"
            ],
            "image/png": "[encoded data removed]"
          },
          "metadata": {}
        }
      ]
    },
    {
      "cell_type": "markdown",
      "source": [
        "#4. Feature engineering"
      ],
      "metadata": {
        "id": "iXEhJq0rmWZs"
      }
    },
    {
      "cell_type": "markdown",
      "source": [
        "##4.1. New features"
      ],
      "metadata": {
        "id": "RL3FkAu3nx5v"
      }
    },
    {
      "cell_type": "code",
      "source": [
        "#additional features for CatBoost\n",
        "df_data2['y_bin'] = np.where(df_data2['y'] > 0, 1, 0)\n",
        "\n",
        "df_data2['month'] = df_data2['ds'].dt.month\n",
        "df_data2['quarter'] = df_data2['ds'].dt.quarter\n",
        "df_data2['year'] = df_data2['ds'].dt.year\n",
        "\n",
        "df_data2 = df_data2.sort_values(['unique_id', 'ds'])\n",
        "\n",
        "#lag features\n",
        "df_data2['qty_lag1'] = df_data2.groupby('unique_id')['y'].shift(1)\n",
        "df_data2['qty_lag2'] = df_data2.groupby('unique_id')['y'].shift(2)\n",
        "df_data2['qty_lag3'] = df_data2.groupby('unique_id')['y'].shift(3)\n",
        "df_data2['bin_lag1'] = df_data2.groupby('unique_id')['y_bin'].shift(1)\n",
        "df_data2['bin_lag2'] = df_data2.groupby('unique_id')['y_bin'].shift(2)\n",
        "df_data2['bin_lag3'] = df_data2.groupby('unique_id')['y_bin'].shift(3)\n",
        "\n",
        "#rolling means\n",
        "df_data2['qty_roll_mean_3'] = df_data2.groupby('unique_id')['y'].rolling(window=3, closed='left').mean().reset_index(0, drop=True)\n",
        "df_data2['bin_roll_mean_3'] = df_data2.groupby('unique_id')['y_bin'].rolling(window=3, closed='left').mean().reset_index(0, drop=True)\n",
        "df_data2['qty_roll_mean_6'] = df_data2.groupby('unique_id')['y'].rolling(window=6, closed='left').mean().reset_index(0, drop=True)\n",
        "df_data2 = df_data2.fillna(0)\n",
        "\n",
        "#trend features\n",
        "df_data2['qty_diff1'] = df_data2['qty_lag1'] - df_data2['qty_lag2']\n",
        "df_data2['qty_trend_ratio'] = df_data2['qty_roll_mean_3'] / (df_data2['qty_roll_mean_6'] + 1e-6)"
      ],
      "metadata": {
        "id": "J031cWVK1ul8"
      },
      "execution_count": 9,
      "outputs": []
    },
    {
      "cell_type": "markdown",
      "source": [
        "##4.2. Train-test splitting"
      ],
      "metadata": {
        "id": "1AZGSL7tn1dV"
      }
    },
    {
      "cell_type": "code",
      "source": [
        "#validation - 15.7% of the dataset\n",
        "h = 12\n",
        "split_day = df_data_fin.ds.max() - pd.DateOffset(months=h)\n",
        "split_day_val = df_data2.ds.max() - pd.DateOffset(months=(h + 12))"
      ],
      "metadata": {
        "id": "DO9eU_-eq2Py"
      },
      "execution_count": null,
      "outputs": []
    },
    {
      "cell_type": "code",
      "source": [
        "#train-test for univariate models\n",
        "train = df_data_fin.query(\"ds <= @split_day\")\n",
        "test = df_data_fin.query(\"ds > @split_day\")"
      ],
      "metadata": {
        "id": "2PC-VEiCWwD9"
      },
      "execution_count": null,
      "outputs": []
    },
    {
      "cell_type": "code",
      "source": [
        "#train-test for boosting\n",
        "train_cat = df_data2.query(\"ds <= @split_day_val\").copy()\n",
        "val_cat = df_data2.query(\"ds > @split_day_val & ds <= @split_day\").copy()\n",
        "test_cat = df_data2.query(\"ds > @split_day\").copy()"
      ],
      "metadata": {
        "id": "p_HcnN7BTvSX"
      },
      "execution_count": null,
      "outputs": []
    },
    {
      "cell_type": "markdown",
      "source": [
        "#5. Predictions"
      ],
      "metadata": {
        "id": "RI5IgIOBduCf"
      }
    },
    {
      "cell_type": "markdown",
      "source": [
        "##5.1. RMSSE metric function defining"
      ],
      "metadata": {
        "id": "kjkSPiful4hr"
      }
    },
    {
      "cell_type": "code",
      "source": [
        "#RMSSE metric calculation\n",
        "def fast_rmsse(df_hist, df_forecasts, df_test, forecast_col):\n",
        "    hist_df = df_hist.pivot(index='ds', columns='unique_id', values='y').sort_index()\n",
        "    test_df = df_test.pivot(index='ds', columns='unique_id', values='y').sort_index()\n",
        "    pred_df = df_forecasts.pivot(index='ds', columns='unique_id', values=forecast_col).sort_index()\n",
        "\n",
        "    #align columns across datsframes\n",
        "    cols = hist_df.columns\n",
        "    test_df = test_df.reindex(columns=cols)\n",
        "    pred_df = pred_df.reindex(columns=cols)\n",
        "\n",
        "    #convert to numpy for calculation\n",
        "    hist_wide = hist_df.to_numpy(dtype=float)\n",
        "    test_wide = test_df.to_numpy(dtype=float)\n",
        "    pred_wide = pred_df.to_numpy(dtype=float)\n",
        "\n",
        "    #denominator\n",
        "    diffsq = np.diff(hist_wide, axis=0) ** 2\n",
        "    denom = np.nanmean(diffsq, axis=0)\n",
        "\n",
        "    #numerator (mean squared forecast errors)\n",
        "    num = np.nanmean((test_wide - pred_wide) ** 2, axis=0)\n",
        "\n",
        "    #calculation\n",
        "    bad = (denom == 0) | np.isnan(denom)\n",
        "    rmsse = np.sqrt(num / denom)\n",
        "    rmsse[bad] = np.nan\n",
        "\n",
        "    return rmsse, cols"
      ],
      "metadata": {
        "id": "goUp58jCl1dD"
      },
      "execution_count": null,
      "outputs": []
    },
    {
      "cell_type": "markdown",
      "source": [
        "##5.2. ETS, SBA, TSB, ADIDA, IMAPA"
      ],
      "metadata": {
        "id": "qApQRwnFOLvX"
      }
    },
    {
      "cell_type": "code",
      "source": [
        "sf = StatsForecast(\n",
        "    models=[\n",
        "        CrostonOptimized(alias='SBA'),\n",
        "        TSB(alpha_d=0.2, alpha_p=0.2),\n",
        "        ADIDA(),\n",
        "        IMAPA(),\n",
        "        AutoETS(season_length=12)\n",
        "        ],\n",
        "    freq='MS',\n",
        "    n_jobs=1\n",
        ")"
      ],
      "metadata": {
        "id": "eA9PoGzTOjmb"
      },
      "execution_count": null,
      "outputs": []
    },
    {
      "cell_type": "code",
      "source": [
        "fitted = sf.fit(train)\n",
        "forecasts = fitted.forecast(df=train, h=h)"
      ],
      "metadata": {
        "id": "uIZVqZ4OUyyP"
      },
      "execution_count": null,
      "outputs": []
    },
    {
      "cell_type": "code",
      "source": [
        "merged = forecasts.merge(test, on=['unique_id', 'ds'], how='left')\n",
        "merged['SBA_round'] = np.round(merged['SBA']).astype('uint16')\n",
        "merged['TSB_round'] = np.round(merged['TSB']).astype('uint16')\n",
        "merged['ADIDA_round'] = np.round(merged['ADIDA']).astype('uint16')\n",
        "merged['IMAPA_round'] = np.round(merged['IMAPA']).astype('uint16')\n",
        "merged['ETS_round'] = np.round(merged['AutoETS']).astype('int16')"
      ],
      "metadata": {
        "id": "KB_2chiNpiJJ"
      },
      "execution_count": null,
      "outputs": []
    },
    {
      "cell_type": "code",
      "source": [
        "#RMSSE - float prediction\n",
        "r_vec_sba, cols_sba = fast_rmsse(train, merged, test, 'SBA')\n",
        "r_vec_tsb, cols_tsb = fast_rmsse(train, merged, test, 'TSB')\n",
        "r_vec_adida, cols_adida = fast_rmsse(train, merged, test, 'ADIDA')\n",
        "r_vec_imapa, cols_imapa = fast_rmsse(train, merged, test, 'IMAPA')\n",
        "r_vec_ets, cols_ets = fast_rmsse(train, merged, test, 'AutoETS')\n",
        "\n",
        "print(f\"RMSSE CrostonSBA for h={h}: {np.nanmean(r_vec_sba):.3f}\")\n",
        "print(f\"RMSSE TSB for h={h}: {np.nanmean(r_vec_tsb):.3f}\")\n",
        "print(f\"RMSSE ADIDA for h={h}: {np.nanmean(r_vec_adida):.3f}\")\n",
        "print(f\"RMSSE IMAPA for h={h}: {np.nanmean(r_vec_imapa):.3f}\")\n",
        "print(f\"RMSSE ETS for h={h}: {np.nanmean(r_vec_ets):.3f}\")"
      ],
      "metadata": {
        "id": "gTRC1yqhRcT7",
        "colab": {
          "base_uri": "https://localhost:8080/"
        },
        "outputId": "a9d0a79b-b829-472b-e49c-36370ba590c5"
      },
      "execution_count": null,
      "outputs": [
        {
          "output_type": "stream",
          "name": "stdout",
          "text": [
            "RMSSE CrostonSBA for h=3: 0.512\n",
            "RMSSE TSB for h=3: 0.456\n",
            "RMSSE ADIDA for h=3: 0.466\n",
            "RMSSE IMAPA for h=3: 0.462\n",
            "RMSSE ETS for h=3: 0.482\n"
          ]
        }
      ]
    },
    {
      "cell_type": "code",
      "source": [
        "#RMSSE - integer prediction\n",
        "r_vec_sba, cols_sba = fast_rmsse(train, merged, test, 'SBA_round')\n",
        "r_vec_tsb, cols_tsb = fast_rmsse(train, merged, test, 'TSB_round')\n",
        "r_vec_adida, cols_adida = fast_rmsse(train, merged, test, 'ADIDA_round')\n",
        "r_vec_imapa, cols_imapa = fast_rmsse(train, merged, test, 'IMAPA_round')\n",
        "r_vec_ets, cols_ets = fast_rmsse(train, merged, test, 'ETS_round')\n",
        "\n",
        "print(f\"RMSSE CrostonSBA for h={h}: {np.nanmean(r_vec_sba):.3f}\")\n",
        "print(f\"RMSSE TSB for h={h}: {np.nanmean(r_vec_tsb):.3f}\")\n",
        "print(f\"RMSSE ADIDA for h={h}: {np.nanmean(r_vec_adida):.3f}\")\n",
        "print(f\"RMSSE IMAPA for h={h}: {np.nanmean(r_vec_imapa):.3f}\")\n",
        "print(f\"RMSSE ETS for h={h}: {np.nanmean(r_vec_ets):.3f}\")"
      ],
      "metadata": {
        "colab": {
          "base_uri": "https://localhost:8080/"
        },
        "id": "2h-uyLoi4fsM",
        "outputId": "5cf74591-7ab3-4f7b-fa29-c4b8eef5ef33"
      },
      "execution_count": null,
      "outputs": [
        {
          "output_type": "stream",
          "name": "stdout",
          "text": [
            "RMSSE CrostonSBA for h=3: 0.434\n",
            "RMSSE TSB for h=3: 0.409\n",
            "RMSSE ADIDA for h=3: 0.400\n",
            "RMSSE IMAPA for h=3: 0.399\n",
            "RMSSE ETS for h=3: 0.413\n"
          ]
        }
      ]
    },
    {
      "cell_type": "code",
      "source": [
        "#MAE - float prediction\n",
        "mae_sba = mean_absolute_error(merged['y'], merged['SBA'])\n",
        "mae_tsb = mean_absolute_error(merged['y'], merged['TSB'])\n",
        "mae_adida = mean_absolute_error(merged['y'], merged['ADIDA'])\n",
        "mae_imapa = mean_absolute_error(merged['y'], merged['IMAPA'])\n",
        "mae_ets = mean_absolute_error(merged['y'], merged['AutoETS'])\n",
        "\n",
        "print(f\"MAE CrostonSBA for h={h}: {mae_sba:.3f}\")\n",
        "print(f\"MAE TSB for h={h}: {mae_tsb:.3f}\")\n",
        "print(f\"MAE ADIDA for h={h}: {mae_adida:.3f}\")\n",
        "print(f\"MAE IMAPA for h={h}: {mae_imapa:.3f}\")\n",
        "print(f\"MAE ETS for h={h}: {mae_ets:.3f}\")"
      ],
      "metadata": {
        "id": "vwxFwIHhGfqS",
        "colab": {
          "base_uri": "https://localhost:8080/"
        },
        "outputId": "0dc82e77-7a2b-4c29-c08d-fd3e13c6830a"
      },
      "execution_count": null,
      "outputs": [
        {
          "output_type": "stream",
          "name": "stdout",
          "text": [
            "MAE CrostonSBA for h=3: 2.767\n",
            "MAE TSB for h=3: 2.379\n",
            "MAE ADIDA for h=3: 2.419\n",
            "MAE IMAPA for h=3: 2.400\n",
            "MAE ETS for h=3: 2.573\n"
          ]
        }
      ]
    },
    {
      "cell_type": "code",
      "source": [
        "#MAE - integer prediction\n",
        "mae_sba = mean_absolute_error(merged['y'], merged['SBA_round'])\n",
        "mae_tsb = mean_absolute_error(merged['y'], merged['TSB_round'])\n",
        "mae_adida = mean_absolute_error(merged['y'], merged['ADIDA_round']) #merged forecasts\n",
        "mae_imapa = mean_absolute_error(merged['y'], merged['IMAPA_round'])\n",
        "mae_ets = mean_absolute_error(merged['y'], merged['ETS_round'])\n",
        "\n",
        "print(f\"MAE CrostonSBA for h={h}: {mae_sba:.3f}\")\n",
        "print(f\"MAE TSB for h={h}: {mae_tsb:.3f}\")\n",
        "print(f\"MAE ADIDA for h={h}: {mae_adida:.3f}\")\n",
        "print(f\"MAE IMAPA for h={h}: {mae_imapa:.3f}\")\n",
        "print(f\"MAE ETS for h={h}: {mae_ets:.3f}\")"
      ],
      "metadata": {
        "id": "np9aEHl1G-Yj",
        "colab": {
          "base_uri": "https://localhost:8080/"
        },
        "outputId": "fe919f4d-7c4b-43c9-d97e-fd58b5a0581e"
      },
      "execution_count": null,
      "outputs": [
        {
          "output_type": "stream",
          "name": "stdout",
          "text": [
            "MAE CrostonSBA for h=3: 2.693\n",
            "MAE TSB for h=3: 2.321\n",
            "MAE ADIDA for h=3: 2.339\n",
            "MAE IMAPA for h=3: 2.323\n",
            "MAE ETS for h=3: 2.498\n"
          ]
        }
      ]
    },
    {
      "cell_type": "markdown",
      "source": [
        "##5.3. XGBoost, CatBoost regressors"
      ],
      "metadata": {
        "id": "7QEqUgNFs7ya"
      }
    },
    {
      "cell_type": "markdown",
      "source": [
        "###XGB"
      ],
      "metadata": {
        "id": "zgxhFBqNYhvC"
      }
    },
    {
      "cell_type": "markdown",
      "source": [
        "#### With initial features"
      ],
      "metadata": {
        "id": "NMLimCK3yDA1"
      }
    },
    {
      "cell_type": "code",
      "source": [
        "train_cat['description'] = train_cat['description'].astype(\"category\")\n",
        "val_cat['description'] = val_cat['description'].astype(\"category\")\n",
        "test_cat['description'] = test_cat['description'].astype(\"category\")"
      ],
      "metadata": {
        "id": "jnlXhNE17gMx"
      },
      "execution_count": null,
      "outputs": []
    },
    {
      "cell_type": "code",
      "source": [
        "#set of initial features\n",
        "X = ['unique_id', 'description',\t'lead_time',\t'price', 'year', 'month']\n",
        "y = 'y'"
      ],
      "metadata": {
        "id": "BypWS3X2zDdW"
      },
      "execution_count": null,
      "outputs": []
    },
    {
      "cell_type": "code",
      "source": [
        "X_train = train_cat[X]\n",
        "y_train = train_cat[y]\n",
        "\n",
        "X_val = val_cat[X]\n",
        "y_val = val_cat[y]\n",
        "\n",
        "X_test = test_cat[X]\n",
        "y_test = test_cat[y]"
      ],
      "metadata": {
        "id": "C_PMEPnUYqUG"
      },
      "execution_count": null,
      "outputs": []
    },
    {
      "cell_type": "code",
      "source": [
        "base_model = XGBRegressor(\n",
        "    n_estimators=1000,\n",
        "    max_depth=6,\n",
        "    learning_rate=0.05,\n",
        "    early_stopping_rounds=200,\n",
        "    objective='reg:squarederror',  # optimizes MSE\n",
        "    eval_metric='rmse', #MAE R2\n",
        "    random_state=42,\n",
        "    enable_categorical=True\n",
        ")\n",
        "\n",
        "base_model.fit(\n",
        "    X_train, y_train,\n",
        "    eval_set=[(X_val, y_val)],\n",
        "    verbose=False\n",
        ")"
      ],
      "metadata": {
        "colab": {
          "base_uri": "https://localhost:8080/"
        },
        "id": "LXwsJ96sYqQn",
        "outputId": "df4242f3-62f1-447e-c878-d90a6338d1f7"
      },
      "execution_count": null,
      "outputs": [
        {
          "output_type": "execute_result",
          "data": {
            "text/plain": [
              "XGBRegressor(base_score=None, booster=None, callbacks=None,\n",
              "             colsample_bylevel=None, colsample_bynode=None,\n",
              "             colsample_bytree=None, device=None, early_stopping_rounds=200,\n",
              "             enable_categorical=True, eval_metric='rmse', feature_types=None,\n",
              "             feature_weights=None, gamma=None, grow_policy=None,\n",
              "             importance_type=None, interaction_constraints=None,\n",
              "             learning_rate=0.05, max_bin=None, max_cat_threshold=None,\n",
              "             max_cat_to_onehot=None, max_delta_step=None, max_depth=6,\n",
              "             max_leaves=None, min_child_weight=None, missing=nan,\n",
              "             monotone_constraints=None, multi_strategy=None, n_estimators=1000,\n",
              "             n_jobs=None, num_parallel_tree=None, ...)"
            ],
            "text/html": [
              "<style>#sk-container-id-1 {\n",
              "  /* Definition of color scheme common for light and dark mode */\n",
              "  --sklearn-color-text: #000;\n",
              "  --sklearn-color-text-muted: #666;\n",
              "  --sklearn-color-line: gray;\n",
              "  /* Definition of color scheme for unfitted estimators */\n",
              "  --sklearn-color-unfitted-level-0: #fff5e6;\n",
              "  --sklearn-color-unfitted-level-1: #f6e4d2;\n",
              "  --sklearn-color-unfitted-level-2: #ffe0b3;\n",
              "  --sklearn-color-unfitted-level-3: chocolate;\n",
              "  /* Definition of color scheme for fitted estimators */\n",
              "  --sklearn-color-fitted-level-0: #f0f8ff;\n",
              "  --sklearn-color-fitted-level-1: #d4ebff;\n",
              "  --sklearn-color-fitted-level-2: #b3dbfd;\n",
              "  --sklearn-color-fitted-level-3: cornflowerblue;\n",
              "\n",
              "  /* Specific color for light theme */\n",
              "  --sklearn-color-text-on-default-background: var(--sg-text-color, var(--theme-code-foreground, var(--jp-content-font-color1, black)));\n",
              "  --sklearn-color-background: var(--sg-background-color, var(--theme-background, var(--jp-layout-color0, white)));\n",
              "  --sklearn-color-border-box: var(--sg-text-color, var(--theme-code-foreground, var(--jp-content-font-color1, black)));\n",
              "  --sklearn-color-icon: #696969;\n",
              "\n",
              "  @media (prefers-color-scheme: dark) {\n",
              "    /* Redefinition of color scheme for dark theme */\n",
              "    --sklearn-color-text-on-default-background: var(--sg-text-color, var(--theme-code-foreground, var(--jp-content-font-color1, white)));\n",
              "    --sklearn-color-background: var(--sg-background-color, var(--theme-background, var(--jp-layout-color0, #111)));\n",
              "    --sklearn-color-border-box: var(--sg-text-color, var(--theme-code-foreground, var(--jp-content-font-color1, white)));\n",
              "    --sklearn-color-icon: #878787;\n",
              "  }\n",
              "}\n",
              "\n",
              "#sk-container-id-1 {\n",
              "  color: var(--sklearn-color-text);\n",
              "}\n",
              "\n",
              "#sk-container-id-1 pre {\n",
              "  padding: 0;\n",
              "}\n",
              "\n",
              "#sk-container-id-1 input.sk-hidden--visually {\n",
              "  border: 0;\n",
              "  clip: rect(1px 1px 1px 1px);\n",
              "  clip: rect(1px, 1px, 1px, 1px);\n",
              "  height: 1px;\n",
              "  margin: -1px;\n",
              "  overflow: hidden;\n",
              "  padding: 0;\n",
              "  position: absolute;\n",
              "  width: 1px;\n",
              "}\n",
              "\n",
              "#sk-container-id-1 div.sk-dashed-wrapped {\n",
              "  border: 1px dashed var(--sklearn-color-line);\n",
              "  margin: 0 0.4em 0.5em 0.4em;\n",
              "  box-sizing: border-box;\n",
              "  padding-bottom: 0.4em;\n",
              "  background-color: var(--sklearn-color-background);\n",
              "}\n",
              "\n",
              "#sk-container-id-1 div.sk-container {\n",
              "  /* jupyter's `normalize.less` sets `[hidden] { display: none; }`\n",
              "     but bootstrap.min.css set `[hidden] { display: none !important; }`\n",
              "     so we also need the `!important` here to be able to override the\n",
              "     default hidden behavior on the sphinx rendered scikit-learn.org.\n",
              "     See: https://github.com/scikit-learn/scikit-learn/issues/21755 */\n",
              "  display: inline-block !important;\n",
              "  position: relative;\n",
              "}\n",
              "\n",
              "#sk-container-id-1 div.sk-text-repr-fallback {\n",
              "  display: none;\n",
              "}\n",
              "\n",
              "div.sk-parallel-item,\n",
              "div.sk-serial,\n",
              "div.sk-item {\n",
              "  /* draw centered vertical line to link estimators */\n",
              "  background-image: linear-gradient(var(--sklearn-color-text-on-default-background), var(--sklearn-color-text-on-default-background));\n",
              "  background-size: 2px 100%;\n",
              "  background-repeat: no-repeat;\n",
              "  background-position: center center;\n",
              "}\n",
              "\n",
              "/* Parallel-specific style estimator block */\n",
              "\n",
              "#sk-container-id-1 div.sk-parallel-item::after {\n",
              "  content: \"\";\n",
              "  width: 100%;\n",
              "  border-bottom: 2px solid var(--sklearn-color-text-on-default-background);\n",
              "  flex-grow: 1;\n",
              "}\n",
              "\n",
              "#sk-container-id-1 div.sk-parallel {\n",
              "  display: flex;\n",
              "  align-items: stretch;\n",
              "  justify-content: center;\n",
              "  background-color: var(--sklearn-color-background);\n",
              "  position: relative;\n",
              "}\n",
              "\n",
              "#sk-container-id-1 div.sk-parallel-item {\n",
              "  display: flex;\n",
              "  flex-direction: column;\n",
              "}\n",
              "\n",
              "#sk-container-id-1 div.sk-parallel-item:first-child::after {\n",
              "  align-self: flex-end;\n",
              "  width: 50%;\n",
              "}\n",
              "\n",
              "#sk-container-id-1 div.sk-parallel-item:last-child::after {\n",
              "  align-self: flex-start;\n",
              "  width: 50%;\n",
              "}\n",
              "\n",
              "#sk-container-id-1 div.sk-parallel-item:only-child::after {\n",
              "  width: 0;\n",
              "}\n",
              "\n",
              "/* Serial-specific style estimator block */\n",
              "\n",
              "#sk-container-id-1 div.sk-serial {\n",
              "  display: flex;\n",
              "  flex-direction: column;\n",
              "  align-items: center;\n",
              "  background-color: var(--sklearn-color-background);\n",
              "  padding-right: 1em;\n",
              "  padding-left: 1em;\n",
              "}\n",
              "\n",
              "\n",
              "/* Toggleable style: style used for estimator/Pipeline/ColumnTransformer box that is\n",
              "clickable and can be expanded/collapsed.\n",
              "- Pipeline and ColumnTransformer use this feature and define the default style\n",
              "- Estimators will overwrite some part of the style using the `sk-estimator` class\n",
              "*/\n",
              "\n",
              "/* Pipeline and ColumnTransformer style (default) */\n",
              "\n",
              "#sk-container-id-1 div.sk-toggleable {\n",
              "  /* Default theme specific background. It is overwritten whether we have a\n",
              "  specific estimator or a Pipeline/ColumnTransformer */\n",
              "  background-color: var(--sklearn-color-background);\n",
              "}\n",
              "\n",
              "/* Toggleable label */\n",
              "#sk-container-id-1 label.sk-toggleable__label {\n",
              "  cursor: pointer;\n",
              "  display: flex;\n",
              "  width: 100%;\n",
              "  margin-bottom: 0;\n",
              "  padding: 0.5em;\n",
              "  box-sizing: border-box;\n",
              "  text-align: center;\n",
              "  align-items: start;\n",
              "  justify-content: space-between;\n",
              "  gap: 0.5em;\n",
              "}\n",
              "\n",
              "#sk-container-id-1 label.sk-toggleable__label .caption {\n",
              "  font-size: 0.6rem;\n",
              "  font-weight: lighter;\n",
              "  color: var(--sklearn-color-text-muted);\n",
              "}\n",
              "\n",
              "#sk-container-id-1 label.sk-toggleable__label-arrow:before {\n",
              "  /* Arrow on the left of the label */\n",
              "  content: \"▸\";\n",
              "  float: left;\n",
              "  margin-right: 0.25em;\n",
              "  color: var(--sklearn-color-icon);\n",
              "}\n",
              "\n",
              "#sk-container-id-1 label.sk-toggleable__label-arrow:hover:before {\n",
              "  color: var(--sklearn-color-text);\n",
              "}\n",
              "\n",
              "/* Toggleable content - dropdown */\n",
              "\n",
              "#sk-container-id-1 div.sk-toggleable__content {\n",
              "  max-height: 0;\n",
              "  max-width: 0;\n",
              "  overflow: hidden;\n",
              "  text-align: left;\n",
              "  /* unfitted */\n",
              "  background-color: var(--sklearn-color-unfitted-level-0);\n",
              "}\n",
              "\n",
              "#sk-container-id-1 div.sk-toggleable__content.fitted {\n",
              "  /* fitted */\n",
              "  background-color: var(--sklearn-color-fitted-level-0);\n",
              "}\n",
              "\n",
              "#sk-container-id-1 div.sk-toggleable__content pre {\n",
              "  margin: 0.2em;\n",
              "  border-radius: 0.25em;\n",
              "  color: var(--sklearn-color-text);\n",
              "  /* unfitted */\n",
              "  background-color: var(--sklearn-color-unfitted-level-0);\n",
              "}\n",
              "\n",
              "#sk-container-id-1 div.sk-toggleable__content.fitted pre {\n",
              "  /* unfitted */\n",
              "  background-color: var(--sklearn-color-fitted-level-0);\n",
              "}\n",
              "\n",
              "#sk-container-id-1 input.sk-toggleable__control:checked~div.sk-toggleable__content {\n",
              "  /* Expand drop-down */\n",
              "  max-height: 200px;\n",
              "  max-width: 100%;\n",
              "  overflow: auto;\n",
              "}\n",
              "\n",
              "#sk-container-id-1 input.sk-toggleable__control:checked~label.sk-toggleable__label-arrow:before {\n",
              "  content: \"▾\";\n",
              "}\n",
              "\n",
              "/* Pipeline/ColumnTransformer-specific style */\n",
              "\n",
              "#sk-container-id-1 div.sk-label input.sk-toggleable__control:checked~label.sk-toggleable__label {\n",
              "  color: var(--sklearn-color-text);\n",
              "  background-color: var(--sklearn-color-unfitted-level-2);\n",
              "}\n",
              "\n",
              "#sk-container-id-1 div.sk-label.fitted input.sk-toggleable__control:checked~label.sk-toggleable__label {\n",
              "  background-color: var(--sklearn-color-fitted-level-2);\n",
              "}\n",
              "\n",
              "/* Estimator-specific style */\n",
              "\n",
              "/* Colorize estimator box */\n",
              "#sk-container-id-1 div.sk-estimator input.sk-toggleable__control:checked~label.sk-toggleable__label {\n",
              "  /* unfitted */\n",
              "  background-color: var(--sklearn-color-unfitted-level-2);\n",
              "}\n",
              "\n",
              "#sk-container-id-1 div.sk-estimator.fitted input.sk-toggleable__control:checked~label.sk-toggleable__label {\n",
              "  /* fitted */\n",
              "  background-color: var(--sklearn-color-fitted-level-2);\n",
              "}\n",
              "\n",
              "#sk-container-id-1 div.sk-label label.sk-toggleable__label,\n",
              "#sk-container-id-1 div.sk-label label {\n",
              "  /* The background is the default theme color */\n",
              "  color: var(--sklearn-color-text-on-default-background);\n",
              "}\n",
              "\n",
              "/* On hover, darken the color of the background */\n",
              "#sk-container-id-1 div.sk-label:hover label.sk-toggleable__label {\n",
              "  color: var(--sklearn-color-text);\n",
              "  background-color: var(--sklearn-color-unfitted-level-2);\n",
              "}\n",
              "\n",
              "/* Label box, darken color on hover, fitted */\n",
              "#sk-container-id-1 div.sk-label.fitted:hover label.sk-toggleable__label.fitted {\n",
              "  color: var(--sklearn-color-text);\n",
              "  background-color: var(--sklearn-color-fitted-level-2);\n",
              "}\n",
              "\n",
              "/* Estimator label */\n",
              "\n",
              "#sk-container-id-1 div.sk-label label {\n",
              "  font-family: monospace;\n",
              "  font-weight: bold;\n",
              "  display: inline-block;\n",
              "  line-height: 1.2em;\n",
              "}\n",
              "\n",
              "#sk-container-id-1 div.sk-label-container {\n",
              "  text-align: center;\n",
              "}\n",
              "\n",
              "/* Estimator-specific */\n",
              "#sk-container-id-1 div.sk-estimator {\n",
              "  font-family: monospace;\n",
              "  border: 1px dotted var(--sklearn-color-border-box);\n",
              "  border-radius: 0.25em;\n",
              "  box-sizing: border-box;\n",
              "  margin-bottom: 0.5em;\n",
              "  /* unfitted */\n",
              "  background-color: var(--sklearn-color-unfitted-level-0);\n",
              "}\n",
              "\n",
              "#sk-container-id-1 div.sk-estimator.fitted {\n",
              "  /* fitted */\n",
              "  background-color: var(--sklearn-color-fitted-level-0);\n",
              "}\n",
              "\n",
              "/* on hover */\n",
              "#sk-container-id-1 div.sk-estimator:hover {\n",
              "  /* unfitted */\n",
              "  background-color: var(--sklearn-color-unfitted-level-2);\n",
              "}\n",
              "\n",
              "#sk-container-id-1 div.sk-estimator.fitted:hover {\n",
              "  /* fitted */\n",
              "  background-color: var(--sklearn-color-fitted-level-2);\n",
              "}\n",
              "\n",
              "/* Specification for estimator info (e.g. \"i\" and \"?\") */\n",
              "\n",
              "/* Common style for \"i\" and \"?\" */\n",
              "\n",
              ".sk-estimator-doc-link,\n",
              "a:link.sk-estimator-doc-link,\n",
              "a:visited.sk-estimator-doc-link {\n",
              "  float: right;\n",
              "  font-size: smaller;\n",
              "  line-height: 1em;\n",
              "  font-family: monospace;\n",
              "  background-color: var(--sklearn-color-background);\n",
              "  border-radius: 1em;\n",
              "  height: 1em;\n",
              "  width: 1em;\n",
              "  text-decoration: none !important;\n",
              "  margin-left: 0.5em;\n",
              "  text-align: center;\n",
              "  /* unfitted */\n",
              "  border: var(--sklearn-color-unfitted-level-1) 1pt solid;\n",
              "  color: var(--sklearn-color-unfitted-level-1);\n",
              "}\n",
              "\n",
              ".sk-estimator-doc-link.fitted,\n",
              "a:link.sk-estimator-doc-link.fitted,\n",
              "a:visited.sk-estimator-doc-link.fitted {\n",
              "  /* fitted */\n",
              "  border: var(--sklearn-color-fitted-level-1) 1pt solid;\n",
              "  color: var(--sklearn-color-fitted-level-1);\n",
              "}\n",
              "\n",
              "/* On hover */\n",
              "div.sk-estimator:hover .sk-estimator-doc-link:hover,\n",
              ".sk-estimator-doc-link:hover,\n",
              "div.sk-label-container:hover .sk-estimator-doc-link:hover,\n",
              ".sk-estimator-doc-link:hover {\n",
              "  /* unfitted */\n",
              "  background-color: var(--sklearn-color-unfitted-level-3);\n",
              "  color: var(--sklearn-color-background);\n",
              "  text-decoration: none;\n",
              "}\n",
              "\n",
              "div.sk-estimator.fitted:hover .sk-estimator-doc-link.fitted:hover,\n",
              ".sk-estimator-doc-link.fitted:hover,\n",
              "div.sk-label-container:hover .sk-estimator-doc-link.fitted:hover,\n",
              ".sk-estimator-doc-link.fitted:hover {\n",
              "  /* fitted */\n",
              "  background-color: var(--sklearn-color-fitted-level-3);\n",
              "  color: var(--sklearn-color-background);\n",
              "  text-decoration: none;\n",
              "}\n",
              "\n",
              "/* Span, style for the box shown on hovering the info icon */\n",
              ".sk-estimator-doc-link span {\n",
              "  display: none;\n",
              "  z-index: 9999;\n",
              "  position: relative;\n",
              "  font-weight: normal;\n",
              "  right: .2ex;\n",
              "  padding: .5ex;\n",
              "  margin: .5ex;\n",
              "  width: min-content;\n",
              "  min-width: 20ex;\n",
              "  max-width: 50ex;\n",
              "  color: var(--sklearn-color-text);\n",
              "  box-shadow: 2pt 2pt 4pt #999;\n",
              "  /* unfitted */\n",
              "  background: var(--sklearn-color-unfitted-level-0);\n",
              "  border: .5pt solid var(--sklearn-color-unfitted-level-3);\n",
              "}\n",
              "\n",
              ".sk-estimator-doc-link.fitted span {\n",
              "  /* fitted */\n",
              "  background: var(--sklearn-color-fitted-level-0);\n",
              "  border: var(--sklearn-color-fitted-level-3);\n",
              "}\n",
              "\n",
              ".sk-estimator-doc-link:hover span {\n",
              "  display: block;\n",
              "}\n",
              "\n",
              "/* \"?\"-specific style due to the `<a>` HTML tag */\n",
              "\n",
              "#sk-container-id-1 a.estimator_doc_link {\n",
              "  float: right;\n",
              "  font-size: 1rem;\n",
              "  line-height: 1em;\n",
              "  font-family: monospace;\n",
              "  background-color: var(--sklearn-color-background);\n",
              "  border-radius: 1rem;\n",
              "  height: 1rem;\n",
              "  width: 1rem;\n",
              "  text-decoration: none;\n",
              "  /* unfitted */\n",
              "  color: var(--sklearn-color-unfitted-level-1);\n",
              "  border: var(--sklearn-color-unfitted-level-1) 1pt solid;\n",
              "}\n",
              "\n",
              "#sk-container-id-1 a.estimator_doc_link.fitted {\n",
              "  /* fitted */\n",
              "  border: var(--sklearn-color-fitted-level-1) 1pt solid;\n",
              "  color: var(--sklearn-color-fitted-level-1);\n",
              "}\n",
              "\n",
              "/* On hover */\n",
              "#sk-container-id-1 a.estimator_doc_link:hover {\n",
              "  /* unfitted */\n",
              "  background-color: var(--sklearn-color-unfitted-level-3);\n",
              "  color: var(--sklearn-color-background);\n",
              "  text-decoration: none;\n",
              "}\n",
              "\n",
              "#sk-container-id-1 a.estimator_doc_link.fitted:hover {\n",
              "  /* fitted */\n",
              "  background-color: var(--sklearn-color-fitted-level-3);\n",
              "}\n",
              "</style><div id=\"sk-container-id-1\" class=\"sk-top-container\"><div class=\"sk-text-repr-fallback\"><pre>XGBRegressor(base_score=None, booster=None, callbacks=None,\n",
              "             colsample_bylevel=None, colsample_bynode=None,\n",
              "             colsample_bytree=None, device=None, early_stopping_rounds=200,\n",
              "             enable_categorical=True, eval_metric=&#x27;rmse&#x27;, feature_types=None,\n",
              "             feature_weights=None, gamma=None, grow_policy=None,\n",
              "             importance_type=None, interaction_constraints=None,\n",
              "             learning_rate=0.05, max_bin=None, max_cat_threshold=None,\n",
              "             max_cat_to_onehot=None, max_delta_step=None, max_depth=6,\n",
              "             max_leaves=None, min_child_weight=None, missing=nan,\n",
              "             monotone_constraints=None, multi_strategy=None, n_estimators=1000,\n",
              "             n_jobs=None, num_parallel_tree=None, ...)</pre><b>In a Jupyter environment, please rerun this cell to show the HTML representation or trust the notebook. <br />On GitHub, the HTML representation is unable to render, please try loading this page with nbviewer.org.</b></div><div class=\"sk-container\" hidden><div class=\"sk-item\"><div class=\"sk-estimator fitted sk-toggleable\"><input class=\"sk-toggleable__control sk-hidden--visually\" id=\"sk-estimator-id-1\" type=\"checkbox\" checked><label for=\"sk-estimator-id-1\" class=\"sk-toggleable__label fitted sk-toggleable__label-arrow\"><div><div>XGBRegressor</div></div><div><a class=\"sk-estimator-doc-link fitted\" rel=\"noreferrer\" target=\"_blank\" href=\"https://xgboost.readthedocs.io/en/release_3.0.0/python/python_api.html#xgboost.XGBRegressor\">?<span>Documentation for XGBRegressor</span></a><span class=\"sk-estimator-doc-link fitted\">i<span>Fitted</span></span></div></label><div class=\"sk-toggleable__content fitted\"><pre>XGBRegressor(base_score=None, booster=None, callbacks=None,\n",
              "             colsample_bylevel=None, colsample_bynode=None,\n",
              "             colsample_bytree=None, device=None, early_stopping_rounds=200,\n",
              "             enable_categorical=True, eval_metric=&#x27;rmse&#x27;, feature_types=None,\n",
              "             feature_weights=None, gamma=None, grow_policy=None,\n",
              "             importance_type=None, interaction_constraints=None,\n",
              "             learning_rate=0.05, max_bin=None, max_cat_threshold=None,\n",
              "             max_cat_to_onehot=None, max_delta_step=None, max_depth=6,\n",
              "             max_leaves=None, min_child_weight=None, missing=nan,\n",
              "             monotone_constraints=None, multi_strategy=None, n_estimators=1000,\n",
              "             n_jobs=None, num_parallel_tree=None, ...)</pre></div> </div></div></div></div>"
            ]
          },
          "metadata": {},
          "execution_count": 27
        }
      ]
    },
    {
      "cell_type": "code",
      "source": [
        "print(round(base_model.best_score, 5), base_model.best_iteration)"
      ],
      "metadata": {
        "colab": {
          "base_uri": "https://localhost:8080/"
        },
        "id": "5yBLM5oKj44z",
        "outputId": "08f59093-e7fe-4f00-dc12-b6530163ab5b"
      },
      "execution_count": null,
      "outputs": [
        {
          "output_type": "stream",
          "name": "stdout",
          "text": [
            "14.01954 9\n"
          ]
        }
      ]
    },
    {
      "cell_type": "code",
      "source": [
        "# Predict\n",
        "y_pred_val = base_model.predict(X_val)\n",
        "\n",
        "val_cat['XGB_val'] = y_pred_val\n",
        "val_cat['XGB_val'] = np.where(val_cat['XGB_val'] < 0, 0, val_cat['XGB_val'])\n",
        "val_cat['XGB_val_round'] = np.round(val_cat['XGB_val']).astype('uint16')"
      ],
      "metadata": {
        "id": "Q460ZVTY8zrD"
      },
      "execution_count": null,
      "outputs": []
    },
    {
      "cell_type": "code",
      "source": [
        "#RMSSE, MAE - float prediction\n",
        "r_vec_cat, cols_cat = fast_rmsse(train_cat, val_cat, val_cat, 'XGB_val')\n",
        "print(f\"RMSSE CatBoostRegressor for h={h}: {np.nanmean(r_vec_cat):.3f}\")\n",
        "\n",
        "#RMSSE, MAE - integer prediction\n",
        "r_vec_cat, cols_cat = fast_rmsse(train_cat, val_cat, val_cat, 'XGB_val_round')\n",
        "print(f\"RMSSE CatBoostRegressor for h={h}: {np.nanmean(r_vec_cat):.3f}\")"
      ],
      "metadata": {
        "colab": {
          "base_uri": "https://localhost:8080/"
        },
        "id": "Jq23I9108zmR",
        "outputId": "2175af74-2274-488f-84bf-0563953379f5"
      },
      "execution_count": null,
      "outputs": [
        {
          "output_type": "stream",
          "name": "stdout",
          "text": [
            "RMSSE CatBoostRegressor for h=12: 1.409\n",
            "RMSSE CatBoostRegressor for h=12: 1.228\n"
          ]
        }
      ]
    },
    {
      "cell_type": "markdown",
      "source": [
        "#####final evaluation on test (if applicable)"
      ],
      "metadata": {
        "id": "1NbXkJyQ9gji"
      }
    },
    {
      "cell_type": "code",
      "source": [
        "X_trainval = pd.concat([X_train, X_val], ignore_index=True)\n",
        "y_trainval = pd.concat([y_train, y_val], ignore_index=True)"
      ],
      "metadata": {
        "id": "rHfonZK4jgk7"
      },
      "execution_count": null,
      "outputs": []
    },
    {
      "cell_type": "code",
      "source": [
        "final_model_xgb = XGBRegressor(\n",
        "    n_estimators=base_model.best_iteration,\n",
        "    max_depth=6,\n",
        "    learning_rate=0.05,\n",
        "    objective='reg:squarederror',  # optimizes MSE\n",
        "    eval_metric='rmse', #MAE R2\n",
        "    random_state=42,\n",
        "    enable_categorical=True\n",
        ")\n",
        "\n",
        "final_model_xgb.fit(\n",
        "    X_trainval, y_trainval,\n",
        "    verbose=False\n",
        ")"
      ],
      "metadata": {
        "colab": {
          "base_uri": "https://localhost:8080/"
        },
        "id": "Dma_DW7djhiF",
        "outputId": "a76568ca-bc32-4d2c-b5ad-18c8b20ce328"
      },
      "execution_count": null,
      "outputs": [
        {
          "output_type": "execute_result",
          "data": {
            "text/plain": [
              "XGBRegressor(base_score=None, booster=None, callbacks=None,\n",
              "             colsample_bylevel=None, colsample_bynode=None,\n",
              "             colsample_bytree=None, device=None, early_stopping_rounds=None,\n",
              "             enable_categorical=True, eval_metric='rmse', feature_types=None,\n",
              "             feature_weights=None, gamma=None, grow_policy=None,\n",
              "             importance_type=None, interaction_constraints=None,\n",
              "             learning_rate=0.05, max_bin=None, max_cat_threshold=None,\n",
              "             max_cat_to_onehot=None, max_delta_step=None, max_depth=6,\n",
              "             max_leaves=None, min_child_weight=None, missing=nan,\n",
              "             monotone_constraints=None, multi_strategy=None, n_estimators=9,\n",
              "             n_jobs=None, num_parallel_tree=None, ...)"
            ],
            "text/html": [
              "<style>#sk-container-id-2 {\n",
              "  /* Definition of color scheme common for light and dark mode */\n",
              "  --sklearn-color-text: #000;\n",
              "  --sklearn-color-text-muted: #666;\n",
              "  --sklearn-color-line: gray;\n",
              "  /* Definition of color scheme for unfitted estimators */\n",
              "  --sklearn-color-unfitted-level-0: #fff5e6;\n",
              "  --sklearn-color-unfitted-level-1: #f6e4d2;\n",
              "  --sklearn-color-unfitted-level-2: #ffe0b3;\n",
              "  --sklearn-color-unfitted-level-3: chocolate;\n",
              "  /* Definition of color scheme for fitted estimators */\n",
              "  --sklearn-color-fitted-level-0: #f0f8ff;\n",
              "  --sklearn-color-fitted-level-1: #d4ebff;\n",
              "  --sklearn-color-fitted-level-2: #b3dbfd;\n",
              "  --sklearn-color-fitted-level-3: cornflowerblue;\n",
              "\n",
              "  /* Specific color for light theme */\n",
              "  --sklearn-color-text-on-default-background: var(--sg-text-color, var(--theme-code-foreground, var(--jp-content-font-color1, black)));\n",
              "  --sklearn-color-background: var(--sg-background-color, var(--theme-background, var(--jp-layout-color0, white)));\n",
              "  --sklearn-color-border-box: var(--sg-text-color, var(--theme-code-foreground, var(--jp-content-font-color1, black)));\n",
              "  --sklearn-color-icon: #696969;\n",
              "\n",
              "  @media (prefers-color-scheme: dark) {\n",
              "    /* Redefinition of color scheme for dark theme */\n",
              "    --sklearn-color-text-on-default-background: var(--sg-text-color, var(--theme-code-foreground, var(--jp-content-font-color1, white)));\n",
              "    --sklearn-color-background: var(--sg-background-color, var(--theme-background, var(--jp-layout-color0, #111)));\n",
              "    --sklearn-color-border-box: var(--sg-text-color, var(--theme-code-foreground, var(--jp-content-font-color1, white)));\n",
              "    --sklearn-color-icon: #878787;\n",
              "  }\n",
              "}\n",
              "\n",
              "#sk-container-id-2 {\n",
              "  color: var(--sklearn-color-text);\n",
              "}\n",
              "\n",
              "#sk-container-id-2 pre {\n",
              "  padding: 0;\n",
              "}\n",
              "\n",
              "#sk-container-id-2 input.sk-hidden--visually {\n",
              "  border: 0;\n",
              "  clip: rect(1px 1px 1px 1px);\n",
              "  clip: rect(1px, 1px, 1px, 1px);\n",
              "  height: 1px;\n",
              "  margin: -1px;\n",
              "  overflow: hidden;\n",
              "  padding: 0;\n",
              "  position: absolute;\n",
              "  width: 1px;\n",
              "}\n",
              "\n",
              "#sk-container-id-2 div.sk-dashed-wrapped {\n",
              "  border: 1px dashed var(--sklearn-color-line);\n",
              "  margin: 0 0.4em 0.5em 0.4em;\n",
              "  box-sizing: border-box;\n",
              "  padding-bottom: 0.4em;\n",
              "  background-color: var(--sklearn-color-background);\n",
              "}\n",
              "\n",
              "#sk-container-id-2 div.sk-container {\n",
              "  /* jupyter's `normalize.less` sets `[hidden] { display: none; }`\n",
              "     but bootstrap.min.css set `[hidden] { display: none !important; }`\n",
              "     so we also need the `!important` here to be able to override the\n",
              "     default hidden behavior on the sphinx rendered scikit-learn.org.\n",
              "     See: https://github.com/scikit-learn/scikit-learn/issues/21755 */\n",
              "  display: inline-block !important;\n",
              "  position: relative;\n",
              "}\n",
              "\n",
              "#sk-container-id-2 div.sk-text-repr-fallback {\n",
              "  display: none;\n",
              "}\n",
              "\n",
              "div.sk-parallel-item,\n",
              "div.sk-serial,\n",
              "div.sk-item {\n",
              "  /* draw centered vertical line to link estimators */\n",
              "  background-image: linear-gradient(var(--sklearn-color-text-on-default-background), var(--sklearn-color-text-on-default-background));\n",
              "  background-size: 2px 100%;\n",
              "  background-repeat: no-repeat;\n",
              "  background-position: center center;\n",
              "}\n",
              "\n",
              "/* Parallel-specific style estimator block */\n",
              "\n",
              "#sk-container-id-2 div.sk-parallel-item::after {\n",
              "  content: \"\";\n",
              "  width: 100%;\n",
              "  border-bottom: 2px solid var(--sklearn-color-text-on-default-background);\n",
              "  flex-grow: 1;\n",
              "}\n",
              "\n",
              "#sk-container-id-2 div.sk-parallel {\n",
              "  display: flex;\n",
              "  align-items: stretch;\n",
              "  justify-content: center;\n",
              "  background-color: var(--sklearn-color-background);\n",
              "  position: relative;\n",
              "}\n",
              "\n",
              "#sk-container-id-2 div.sk-parallel-item {\n",
              "  display: flex;\n",
              "  flex-direction: column;\n",
              "}\n",
              "\n",
              "#sk-container-id-2 div.sk-parallel-item:first-child::after {\n",
              "  align-self: flex-end;\n",
              "  width: 50%;\n",
              "}\n",
              "\n",
              "#sk-container-id-2 div.sk-parallel-item:last-child::after {\n",
              "  align-self: flex-start;\n",
              "  width: 50%;\n",
              "}\n",
              "\n",
              "#sk-container-id-2 div.sk-parallel-item:only-child::after {\n",
              "  width: 0;\n",
              "}\n",
              "\n",
              "/* Serial-specific style estimator block */\n",
              "\n",
              "#sk-container-id-2 div.sk-serial {\n",
              "  display: flex;\n",
              "  flex-direction: column;\n",
              "  align-items: center;\n",
              "  background-color: var(--sklearn-color-background);\n",
              "  padding-right: 1em;\n",
              "  padding-left: 1em;\n",
              "}\n",
              "\n",
              "\n",
              "/* Toggleable style: style used for estimator/Pipeline/ColumnTransformer box that is\n",
              "clickable and can be expanded/collapsed.\n",
              "- Pipeline and ColumnTransformer use this feature and define the default style\n",
              "- Estimators will overwrite some part of the style using the `sk-estimator` class\n",
              "*/\n",
              "\n",
              "/* Pipeline and ColumnTransformer style (default) */\n",
              "\n",
              "#sk-container-id-2 div.sk-toggleable {\n",
              "  /* Default theme specific background. It is overwritten whether we have a\n",
              "  specific estimator or a Pipeline/ColumnTransformer */\n",
              "  background-color: var(--sklearn-color-background);\n",
              "}\n",
              "\n",
              "/* Toggleable label */\n",
              "#sk-container-id-2 label.sk-toggleable__label {\n",
              "  cursor: pointer;\n",
              "  display: flex;\n",
              "  width: 100%;\n",
              "  margin-bottom: 0;\n",
              "  padding: 0.5em;\n",
              "  box-sizing: border-box;\n",
              "  text-align: center;\n",
              "  align-items: start;\n",
              "  justify-content: space-between;\n",
              "  gap: 0.5em;\n",
              "}\n",
              "\n",
              "#sk-container-id-2 label.sk-toggleable__label .caption {\n",
              "  font-size: 0.6rem;\n",
              "  font-weight: lighter;\n",
              "  color: var(--sklearn-color-text-muted);\n",
              "}\n",
              "\n",
              "#sk-container-id-2 label.sk-toggleable__label-arrow:before {\n",
              "  /* Arrow on the left of the label */\n",
              "  content: \"▸\";\n",
              "  float: left;\n",
              "  margin-right: 0.25em;\n",
              "  color: var(--sklearn-color-icon);\n",
              "}\n",
              "\n",
              "#sk-container-id-2 label.sk-toggleable__label-arrow:hover:before {\n",
              "  color: var(--sklearn-color-text);\n",
              "}\n",
              "\n",
              "/* Toggleable content - dropdown */\n",
              "\n",
              "#sk-container-id-2 div.sk-toggleable__content {\n",
              "  max-height: 0;\n",
              "  max-width: 0;\n",
              "  overflow: hidden;\n",
              "  text-align: left;\n",
              "  /* unfitted */\n",
              "  background-color: var(--sklearn-color-unfitted-level-0);\n",
              "}\n",
              "\n",
              "#sk-container-id-2 div.sk-toggleable__content.fitted {\n",
              "  /* fitted */\n",
              "  background-color: var(--sklearn-color-fitted-level-0);\n",
              "}\n",
              "\n",
              "#sk-container-id-2 div.sk-toggleable__content pre {\n",
              "  margin: 0.2em;\n",
              "  border-radius: 0.25em;\n",
              "  color: var(--sklearn-color-text);\n",
              "  /* unfitted */\n",
              "  background-color: var(--sklearn-color-unfitted-level-0);\n",
              "}\n",
              "\n",
              "#sk-container-id-2 div.sk-toggleable__content.fitted pre {\n",
              "  /* unfitted */\n",
              "  background-color: var(--sklearn-color-fitted-level-0);\n",
              "}\n",
              "\n",
              "#sk-container-id-2 input.sk-toggleable__control:checked~div.sk-toggleable__content {\n",
              "  /* Expand drop-down */\n",
              "  max-height: 200px;\n",
              "  max-width: 100%;\n",
              "  overflow: auto;\n",
              "}\n",
              "\n",
              "#sk-container-id-2 input.sk-toggleable__control:checked~label.sk-toggleable__label-arrow:before {\n",
              "  content: \"▾\";\n",
              "}\n",
              "\n",
              "/* Pipeline/ColumnTransformer-specific style */\n",
              "\n",
              "#sk-container-id-2 div.sk-label input.sk-toggleable__control:checked~label.sk-toggleable__label {\n",
              "  color: var(--sklearn-color-text);\n",
              "  background-color: var(--sklearn-color-unfitted-level-2);\n",
              "}\n",
              "\n",
              "#sk-container-id-2 div.sk-label.fitted input.sk-toggleable__control:checked~label.sk-toggleable__label {\n",
              "  background-color: var(--sklearn-color-fitted-level-2);\n",
              "}\n",
              "\n",
              "/* Estimator-specific style */\n",
              "\n",
              "/* Colorize estimator box */\n",
              "#sk-container-id-2 div.sk-estimator input.sk-toggleable__control:checked~label.sk-toggleable__label {\n",
              "  /* unfitted */\n",
              "  background-color: var(--sklearn-color-unfitted-level-2);\n",
              "}\n",
              "\n",
              "#sk-container-id-2 div.sk-estimator.fitted input.sk-toggleable__control:checked~label.sk-toggleable__label {\n",
              "  /* fitted */\n",
              "  background-color: var(--sklearn-color-fitted-level-2);\n",
              "}\n",
              "\n",
              "#sk-container-id-2 div.sk-label label.sk-toggleable__label,\n",
              "#sk-container-id-2 div.sk-label label {\n",
              "  /* The background is the default theme color */\n",
              "  color: var(--sklearn-color-text-on-default-background);\n",
              "}\n",
              "\n",
              "/* On hover, darken the color of the background */\n",
              "#sk-container-id-2 div.sk-label:hover label.sk-toggleable__label {\n",
              "  color: var(--sklearn-color-text);\n",
              "  background-color: var(--sklearn-color-unfitted-level-2);\n",
              "}\n",
              "\n",
              "/* Label box, darken color on hover, fitted */\n",
              "#sk-container-id-2 div.sk-label.fitted:hover label.sk-toggleable__label.fitted {\n",
              "  color: var(--sklearn-color-text);\n",
              "  background-color: var(--sklearn-color-fitted-level-2);\n",
              "}\n",
              "\n",
              "/* Estimator label */\n",
              "\n",
              "#sk-container-id-2 div.sk-label label {\n",
              "  font-family: monospace;\n",
              "  font-weight: bold;\n",
              "  display: inline-block;\n",
              "  line-height: 1.2em;\n",
              "}\n",
              "\n",
              "#sk-container-id-2 div.sk-label-container {\n",
              "  text-align: center;\n",
              "}\n",
              "\n",
              "/* Estimator-specific */\n",
              "#sk-container-id-2 div.sk-estimator {\n",
              "  font-family: monospace;\n",
              "  border: 1px dotted var(--sklearn-color-border-box);\n",
              "  border-radius: 0.25em;\n",
              "  box-sizing: border-box;\n",
              "  margin-bottom: 0.5em;\n",
              "  /* unfitted */\n",
              "  background-color: var(--sklearn-color-unfitted-level-0);\n",
              "}\n",
              "\n",
              "#sk-container-id-2 div.sk-estimator.fitted {\n",
              "  /* fitted */\n",
              "  background-color: var(--sklearn-color-fitted-level-0);\n",
              "}\n",
              "\n",
              "/* on hover */\n",
              "#sk-container-id-2 div.sk-estimator:hover {\n",
              "  /* unfitted */\n",
              "  background-color: var(--sklearn-color-unfitted-level-2);\n",
              "}\n",
              "\n",
              "#sk-container-id-2 div.sk-estimator.fitted:hover {\n",
              "  /* fitted */\n",
              "  background-color: var(--sklearn-color-fitted-level-2);\n",
              "}\n",
              "\n",
              "/* Specification for estimator info (e.g. \"i\" and \"?\") */\n",
              "\n",
              "/* Common style for \"i\" and \"?\" */\n",
              "\n",
              ".sk-estimator-doc-link,\n",
              "a:link.sk-estimator-doc-link,\n",
              "a:visited.sk-estimator-doc-link {\n",
              "  float: right;\n",
              "  font-size: smaller;\n",
              "  line-height: 1em;\n",
              "  font-family: monospace;\n",
              "  background-color: var(--sklearn-color-background);\n",
              "  border-radius: 1em;\n",
              "  height: 1em;\n",
              "  width: 1em;\n",
              "  text-decoration: none !important;\n",
              "  margin-left: 0.5em;\n",
              "  text-align: center;\n",
              "  /* unfitted */\n",
              "  border: var(--sklearn-color-unfitted-level-1) 1pt solid;\n",
              "  color: var(--sklearn-color-unfitted-level-1);\n",
              "}\n",
              "\n",
              ".sk-estimator-doc-link.fitted,\n",
              "a:link.sk-estimator-doc-link.fitted,\n",
              "a:visited.sk-estimator-doc-link.fitted {\n",
              "  /* fitted */\n",
              "  border: var(--sklearn-color-fitted-level-1) 1pt solid;\n",
              "  color: var(--sklearn-color-fitted-level-1);\n",
              "}\n",
              "\n",
              "/* On hover */\n",
              "div.sk-estimator:hover .sk-estimator-doc-link:hover,\n",
              ".sk-estimator-doc-link:hover,\n",
              "div.sk-label-container:hover .sk-estimator-doc-link:hover,\n",
              ".sk-estimator-doc-link:hover {\n",
              "  /* unfitted */\n",
              "  background-color: var(--sklearn-color-unfitted-level-3);\n",
              "  color: var(--sklearn-color-background);\n",
              "  text-decoration: none;\n",
              "}\n",
              "\n",
              "div.sk-estimator.fitted:hover .sk-estimator-doc-link.fitted:hover,\n",
              ".sk-estimator-doc-link.fitted:hover,\n",
              "div.sk-label-container:hover .sk-estimator-doc-link.fitted:hover,\n",
              ".sk-estimator-doc-link.fitted:hover {\n",
              "  /* fitted */\n",
              "  background-color: var(--sklearn-color-fitted-level-3);\n",
              "  color: var(--sklearn-color-background);\n",
              "  text-decoration: none;\n",
              "}\n",
              "\n",
              "/* Span, style for the box shown on hovering the info icon */\n",
              ".sk-estimator-doc-link span {\n",
              "  display: none;\n",
              "  z-index: 9999;\n",
              "  position: relative;\n",
              "  font-weight: normal;\n",
              "  right: .2ex;\n",
              "  padding: .5ex;\n",
              "  margin: .5ex;\n",
              "  width: min-content;\n",
              "  min-width: 20ex;\n",
              "  max-width: 50ex;\n",
              "  color: var(--sklearn-color-text);\n",
              "  box-shadow: 2pt 2pt 4pt #999;\n",
              "  /* unfitted */\n",
              "  background: var(--sklearn-color-unfitted-level-0);\n",
              "  border: .5pt solid var(--sklearn-color-unfitted-level-3);\n",
              "}\n",
              "\n",
              ".sk-estimator-doc-link.fitted span {\n",
              "  /* fitted */\n",
              "  background: var(--sklearn-color-fitted-level-0);\n",
              "  border: var(--sklearn-color-fitted-level-3);\n",
              "}\n",
              "\n",
              ".sk-estimator-doc-link:hover span {\n",
              "  display: block;\n",
              "}\n",
              "\n",
              "/* \"?\"-specific style due to the `<a>` HTML tag */\n",
              "\n",
              "#sk-container-id-2 a.estimator_doc_link {\n",
              "  float: right;\n",
              "  font-size: 1rem;\n",
              "  line-height: 1em;\n",
              "  font-family: monospace;\n",
              "  background-color: var(--sklearn-color-background);\n",
              "  border-radius: 1rem;\n",
              "  height: 1rem;\n",
              "  width: 1rem;\n",
              "  text-decoration: none;\n",
              "  /* unfitted */\n",
              "  color: var(--sklearn-color-unfitted-level-1);\n",
              "  border: var(--sklearn-color-unfitted-level-1) 1pt solid;\n",
              "}\n",
              "\n",
              "#sk-container-id-2 a.estimator_doc_link.fitted {\n",
              "  /* fitted */\n",
              "  border: var(--sklearn-color-fitted-level-1) 1pt solid;\n",
              "  color: var(--sklearn-color-fitted-level-1);\n",
              "}\n",
              "\n",
              "/* On hover */\n",
              "#sk-container-id-2 a.estimator_doc_link:hover {\n",
              "  /* unfitted */\n",
              "  background-color: var(--sklearn-color-unfitted-level-3);\n",
              "  color: var(--sklearn-color-background);\n",
              "  text-decoration: none;\n",
              "}\n",
              "\n",
              "#sk-container-id-2 a.estimator_doc_link.fitted:hover {\n",
              "  /* fitted */\n",
              "  background-color: var(--sklearn-color-fitted-level-3);\n",
              "}\n",
              "</style><div id=\"sk-container-id-2\" class=\"sk-top-container\"><div class=\"sk-text-repr-fallback\"><pre>XGBRegressor(base_score=None, booster=None, callbacks=None,\n",
              "             colsample_bylevel=None, colsample_bynode=None,\n",
              "             colsample_bytree=None, device=None, early_stopping_rounds=None,\n",
              "             enable_categorical=True, eval_metric=&#x27;rmse&#x27;, feature_types=None,\n",
              "             feature_weights=None, gamma=None, grow_policy=None,\n",
              "             importance_type=None, interaction_constraints=None,\n",
              "             learning_rate=0.05, max_bin=None, max_cat_threshold=None,\n",
              "             max_cat_to_onehot=None, max_delta_step=None, max_depth=6,\n",
              "             max_leaves=None, min_child_weight=None, missing=nan,\n",
              "             monotone_constraints=None, multi_strategy=None, n_estimators=9,\n",
              "             n_jobs=None, num_parallel_tree=None, ...)</pre><b>In a Jupyter environment, please rerun this cell to show the HTML representation or trust the notebook. <br />On GitHub, the HTML representation is unable to render, please try loading this page with nbviewer.org.</b></div><div class=\"sk-container\" hidden><div class=\"sk-item\"><div class=\"sk-estimator fitted sk-toggleable\"><input class=\"sk-toggleable__control sk-hidden--visually\" id=\"sk-estimator-id-2\" type=\"checkbox\" checked><label for=\"sk-estimator-id-2\" class=\"sk-toggleable__label fitted sk-toggleable__label-arrow\"><div><div>XGBRegressor</div></div><div><a class=\"sk-estimator-doc-link fitted\" rel=\"noreferrer\" target=\"_blank\" href=\"https://xgboost.readthedocs.io/en/release_3.0.0/python/python_api.html#xgboost.XGBRegressor\">?<span>Documentation for XGBRegressor</span></a><span class=\"sk-estimator-doc-link fitted\">i<span>Fitted</span></span></div></label><div class=\"sk-toggleable__content fitted\"><pre>XGBRegressor(base_score=None, booster=None, callbacks=None,\n",
              "             colsample_bylevel=None, colsample_bynode=None,\n",
              "             colsample_bytree=None, device=None, early_stopping_rounds=None,\n",
              "             enable_categorical=True, eval_metric=&#x27;rmse&#x27;, feature_types=None,\n",
              "             feature_weights=None, gamma=None, grow_policy=None,\n",
              "             importance_type=None, interaction_constraints=None,\n",
              "             learning_rate=0.05, max_bin=None, max_cat_threshold=None,\n",
              "             max_cat_to_onehot=None, max_delta_step=None, max_depth=6,\n",
              "             max_leaves=None, min_child_weight=None, missing=nan,\n",
              "             monotone_constraints=None, multi_strategy=None, n_estimators=9,\n",
              "             n_jobs=None, num_parallel_tree=None, ...)</pre></div> </div></div></div></div>"
            ]
          },
          "metadata": {},
          "execution_count": 32
        }
      ]
    },
    {
      "cell_type": "code",
      "source": [
        "# Predict\n",
        "y_pred_xgb = final_model_xgb.predict(X_test)\n",
        "\n",
        "test_cat['XGB'] = y_pred_xgb\n",
        "test_cat['XGB'] = np.where(test_cat['XGB'] < 0, 0, test_cat['XGB'])\n",
        "test_cat['XGB_round'] = np.round(test_cat['XGB']).astype('uint16')"
      ],
      "metadata": {
        "id": "Wab5_9ytYqJG"
      },
      "execution_count": null,
      "outputs": []
    },
    {
      "cell_type": "code",
      "source": [
        "#RMSSE, MAE - float prediction\n",
        "r_vec_xgb, cols_xgb = fast_rmsse(train, test_cat, test_cat, 'XGB')\n",
        "mae_xgb = mean_absolute_error(test_cat['y'], test_cat['XGB'])\n",
        "print(f\"RMSSE XGBRegressor for h={h}: {np.nanmean(r_vec_xgb):.3f}\")\n",
        "print(f\"MAE XGBRegressor for h={h}: {mae_xgb:.3f}\")\n",
        "\n",
        "#RMSSE, MAE - integer prediction\n",
        "r_vec_xgb, cols_xgb = fast_rmsse(train, test_cat, test_cat, 'XGB_round')\n",
        "mae_xgb = mean_absolute_error(test_cat['y'], test_cat['XGB_round'])\n",
        "print(f\"RMSSE XGBRegressor for h={h}: {np.nanmean(r_vec_xgb):.3f}\")\n",
        "print(f\"MAE XGBRegressor for h={h}: {mae_xgb:.3f}\")"
      ],
      "metadata": {
        "colab": {
          "base_uri": "https://localhost:8080/"
        },
        "id": "EYkMTEb3YqGh",
        "outputId": "2ead980d-b3ac-4250-c53d-c342d91a667c"
      },
      "execution_count": null,
      "outputs": [
        {
          "output_type": "stream",
          "name": "stdout",
          "text": [
            "RMSSE XGBRegressor for h=12: 1.268\n",
            "MAE XGBRegressor for h=12: 2.533\n",
            "RMSSE XGBRegressor for h=12: 1.101\n",
            "MAE XGBRegressor for h=12: 2.356\n"
          ]
        }
      ]
    },
    {
      "cell_type": "markdown",
      "source": [
        "####With additional features"
      ],
      "metadata": {
        "id": "UrfPXDLQ9nME"
      }
    },
    {
      "cell_type": "code",
      "source": [
        "train_cat['ds_month'] = df_data2['ds_start'].dt.month\n",
        "train_cat['ds_year'] = df_data2['ds_start'].dt.year\n",
        "val_cat['ds_month'] = df_data2['ds_start'].dt.month\n",
        "val_cat['ds_year'] = df_data2['ds_start'].dt.year\n",
        "test_cat['ds_month'] = df_data2['ds_start'].dt.month\n",
        "test_cat['ds_year'] = df_data2['ds_start'].dt.year\n",
        "train_cat['description'] = train_cat['description'].astype(\"category\")\n",
        "val_cat['description'] = val_cat['description'].astype(\"category\")\n",
        "test_cat['description'] = test_cat['description'].astype(\"category\")"
      ],
      "metadata": {
        "id": "XVaABQRD95Zd"
      },
      "execution_count": null,
      "outputs": []
    },
    {
      "cell_type": "code",
      "source": [
        "#set of all features\n",
        "X = train_cat.drop(columns=['y', 'y_bin', 'ds', 'ds_start']).columns.tolist()\n",
        "y = 'y'"
      ],
      "metadata": {
        "id": "RIumMHss9s2K"
      },
      "execution_count": null,
      "outputs": []
    },
    {
      "cell_type": "code",
      "source": [
        "X_train = train_cat[X]\n",
        "y_train = train_cat[y]\n",
        "\n",
        "X_val = val_cat[X]\n",
        "y_val = val_cat[y]\n",
        "\n",
        "X_test = test_cat[X]\n",
        "y_test = test_cat[y]"
      ],
      "metadata": {
        "id": "u-tKfdAdEBmQ"
      },
      "execution_count": null,
      "outputs": []
    },
    {
      "cell_type": "code",
      "source": [
        "full_model = XGBRegressor(\n",
        "    n_estimators=1000,\n",
        "    max_depth=6,\n",
        "    learning_rate=0.05,\n",
        "    early_stopping_rounds=200,\n",
        "    objective='reg:squarederror',  # optimizes MSE\n",
        "    eval_metric='rmse', #MAE R2\n",
        "    random_state=42,\n",
        "    enable_categorical=True\n",
        ")\n",
        "full_model.fit(\n",
        "    X_train, y_train,\n",
        "    eval_set=[(X_val, y_val)],\n",
        "    verbose=False\n",
        ")"
      ],
      "metadata": {
        "colab": {
          "base_uri": "https://localhost:8080/",
          "height": 254
        },
        "id": "Oa0pJNu_9syh",
        "outputId": "7d92048c-335b-476f-9a27-600d9bcdbd6a"
      },
      "execution_count": null,
      "outputs": [
        {
          "output_type": "execute_result",
          "data": {
            "text/plain": [
              "XGBRegressor(base_score=None, booster=None, callbacks=None,\n",
              "             colsample_bylevel=None, colsample_bynode=None,\n",
              "             colsample_bytree=None, device=None, early_stopping_rounds=200,\n",
              "             enable_categorical=True, eval_metric='rmse', feature_types=None,\n",
              "             feature_weights=None, gamma=None, grow_policy=None,\n",
              "             importance_type=None, interaction_constraints=None,\n",
              "             learning_rate=0.05, max_bin=None, max_cat_threshold=None,\n",
              "             max_cat_to_onehot=None, max_delta_step=None, max_depth=6,\n",
              "             max_leaves=None, min_child_weight=None, missing=nan,\n",
              "             monotone_constraints=None, multi_strategy=None, n_estimators=1000,\n",
              "             n_jobs=None, num_parallel_tree=None, ...)"
            ],
            "text/html": [
              "<style>#sk-container-id-22 {\n",
              "  /* Definition of color scheme common for light and dark mode */\n",
              "  --sklearn-color-text: #000;\n",
              "  --sklearn-color-text-muted: #666;\n",
              "  --sklearn-color-line: gray;\n",
              "  /* Definition of color scheme for unfitted estimators */\n",
              "  --sklearn-color-unfitted-level-0: #fff5e6;\n",
              "  --sklearn-color-unfitted-level-1: #f6e4d2;\n",
              "  --sklearn-color-unfitted-level-2: #ffe0b3;\n",
              "  --sklearn-color-unfitted-level-3: chocolate;\n",
              "  /* Definition of color scheme for fitted estimators */\n",
              "  --sklearn-color-fitted-level-0: #f0f8ff;\n",
              "  --sklearn-color-fitted-level-1: #d4ebff;\n",
              "  --sklearn-color-fitted-level-2: #b3dbfd;\n",
              "  --sklearn-color-fitted-level-3: cornflowerblue;\n",
              "\n",
              "  /* Specific color for light theme */\n",
              "  --sklearn-color-text-on-default-background: var(--sg-text-color, var(--theme-code-foreground, var(--jp-content-font-color1, black)));\n",
              "  --sklearn-color-background: var(--sg-background-color, var(--theme-background, var(--jp-layout-color0, white)));\n",
              "  --sklearn-color-border-box: var(--sg-text-color, var(--theme-code-foreground, var(--jp-content-font-color1, black)));\n",
              "  --sklearn-color-icon: #696969;\n",
              "\n",
              "  @media (prefers-color-scheme: dark) {\n",
              "    /* Redefinition of color scheme for dark theme */\n",
              "    --sklearn-color-text-on-default-background: var(--sg-text-color, var(--theme-code-foreground, var(--jp-content-font-color1, white)));\n",
              "    --sklearn-color-background: var(--sg-background-color, var(--theme-background, var(--jp-layout-color0, #111)));\n",
              "    --sklearn-color-border-box: var(--sg-text-color, var(--theme-code-foreground, var(--jp-content-font-color1, white)));\n",
              "    --sklearn-color-icon: #878787;\n",
              "  }\n",
              "}\n",
              "\n",
              "#sk-container-id-22 {\n",
              "  color: var(--sklearn-color-text);\n",
              "}\n",
              "\n",
              "#sk-container-id-22 pre {\n",
              "  padding: 0;\n",
              "}\n",
              "\n",
              "#sk-container-id-22 input.sk-hidden--visually {\n",
              "  border: 0;\n",
              "  clip: rect(1px 1px 1px 1px);\n",
              "  clip: rect(1px, 1px, 1px, 1px);\n",
              "  height: 1px;\n",
              "  margin: -1px;\n",
              "  overflow: hidden;\n",
              "  padding: 0;\n",
              "  position: absolute;\n",
              "  width: 1px;\n",
              "}\n",
              "\n",
              "#sk-container-id-22 div.sk-dashed-wrapped {\n",
              "  border: 1px dashed var(--sklearn-color-line);\n",
              "  margin: 0 0.4em 0.5em 0.4em;\n",
              "  box-sizing: border-box;\n",
              "  padding-bottom: 0.4em;\n",
              "  background-color: var(--sklearn-color-background);\n",
              "}\n",
              "\n",
              "#sk-container-id-22 div.sk-container {\n",
              "  /* jupyter's `normalize.less` sets `[hidden] { display: none; }`\n",
              "     but bootstrap.min.css set `[hidden] { display: none !important; }`\n",
              "     so we also need the `!important` here to be able to override the\n",
              "     default hidden behavior on the sphinx rendered scikit-learn.org.\n",
              "     See: https://github.com/scikit-learn/scikit-learn/issues/21755 */\n",
              "  display: inline-block !important;\n",
              "  position: relative;\n",
              "}\n",
              "\n",
              "#sk-container-id-22 div.sk-text-repr-fallback {\n",
              "  display: none;\n",
              "}\n",
              "\n",
              "div.sk-parallel-item,\n",
              "div.sk-serial,\n",
              "div.sk-item {\n",
              "  /* draw centered vertical line to link estimators */\n",
              "  background-image: linear-gradient(var(--sklearn-color-text-on-default-background), var(--sklearn-color-text-on-default-background));\n",
              "  background-size: 2px 100%;\n",
              "  background-repeat: no-repeat;\n",
              "  background-position: center center;\n",
              "}\n",
              "\n",
              "/* Parallel-specific style estimator block */\n",
              "\n",
              "#sk-container-id-22 div.sk-parallel-item::after {\n",
              "  content: \"\";\n",
              "  width: 100%;\n",
              "  border-bottom: 2px solid var(--sklearn-color-text-on-default-background);\n",
              "  flex-grow: 1;\n",
              "}\n",
              "\n",
              "#sk-container-id-22 div.sk-parallel {\n",
              "  display: flex;\n",
              "  align-items: stretch;\n",
              "  justify-content: center;\n",
              "  background-color: var(--sklearn-color-background);\n",
              "  position: relative;\n",
              "}\n",
              "\n",
              "#sk-container-id-22 div.sk-parallel-item {\n",
              "  display: flex;\n",
              "  flex-direction: column;\n",
              "}\n",
              "\n",
              "#sk-container-id-22 div.sk-parallel-item:first-child::after {\n",
              "  align-self: flex-end;\n",
              "  width: 50%;\n",
              "}\n",
              "\n",
              "#sk-container-id-22 div.sk-parallel-item:last-child::after {\n",
              "  align-self: flex-start;\n",
              "  width: 50%;\n",
              "}\n",
              "\n",
              "#sk-container-id-22 div.sk-parallel-item:only-child::after {\n",
              "  width: 0;\n",
              "}\n",
              "\n",
              "/* Serial-specific style estimator block */\n",
              "\n",
              "#sk-container-id-22 div.sk-serial {\n",
              "  display: flex;\n",
              "  flex-direction: column;\n",
              "  align-items: center;\n",
              "  background-color: var(--sklearn-color-background);\n",
              "  padding-right: 1em;\n",
              "  padding-left: 1em;\n",
              "}\n",
              "\n",
              "\n",
              "/* Toggleable style: style used for estimator/Pipeline/ColumnTransformer box that is\n",
              "clickable and can be expanded/collapsed.\n",
              "- Pipeline and ColumnTransformer use this feature and define the default style\n",
              "- Estimators will overwrite some part of the style using the `sk-estimator` class\n",
              "*/\n",
              "\n",
              "/* Pipeline and ColumnTransformer style (default) */\n",
              "\n",
              "#sk-container-id-22 div.sk-toggleable {\n",
              "  /* Default theme specific background. It is overwritten whether we have a\n",
              "  specific estimator or a Pipeline/ColumnTransformer */\n",
              "  background-color: var(--sklearn-color-background);\n",
              "}\n",
              "\n",
              "/* Toggleable label */\n",
              "#sk-container-id-22 label.sk-toggleable__label {\n",
              "  cursor: pointer;\n",
              "  display: flex;\n",
              "  width: 100%;\n",
              "  margin-bottom: 0;\n",
              "  padding: 0.5em;\n",
              "  box-sizing: border-box;\n",
              "  text-align: center;\n",
              "  align-items: start;\n",
              "  justify-content: space-between;\n",
              "  gap: 0.5em;\n",
              "}\n",
              "\n",
              "#sk-container-id-22 label.sk-toggleable__label .caption {\n",
              "  font-size: 0.6rem;\n",
              "  font-weight: lighter;\n",
              "  color: var(--sklearn-color-text-muted);\n",
              "}\n",
              "\n",
              "#sk-container-id-22 label.sk-toggleable__label-arrow:before {\n",
              "  /* Arrow on the left of the label */\n",
              "  content: \"▸\";\n",
              "  float: left;\n",
              "  margin-right: 0.25em;\n",
              "  color: var(--sklearn-color-icon);\n",
              "}\n",
              "\n",
              "#sk-container-id-22 label.sk-toggleable__label-arrow:hover:before {\n",
              "  color: var(--sklearn-color-text);\n",
              "}\n",
              "\n",
              "/* Toggleable content - dropdown */\n",
              "\n",
              "#sk-container-id-22 div.sk-toggleable__content {\n",
              "  max-height: 0;\n",
              "  max-width: 0;\n",
              "  overflow: hidden;\n",
              "  text-align: left;\n",
              "  /* unfitted */\n",
              "  background-color: var(--sklearn-color-unfitted-level-0);\n",
              "}\n",
              "\n",
              "#sk-container-id-22 div.sk-toggleable__content.fitted {\n",
              "  /* fitted */\n",
              "  background-color: var(--sklearn-color-fitted-level-0);\n",
              "}\n",
              "\n",
              "#sk-container-id-22 div.sk-toggleable__content pre {\n",
              "  margin: 0.2em;\n",
              "  border-radius: 0.25em;\n",
              "  color: var(--sklearn-color-text);\n",
              "  /* unfitted */\n",
              "  background-color: var(--sklearn-color-unfitted-level-0);\n",
              "}\n",
              "\n",
              "#sk-container-id-22 div.sk-toggleable__content.fitted pre {\n",
              "  /* unfitted */\n",
              "  background-color: var(--sklearn-color-fitted-level-0);\n",
              "}\n",
              "\n",
              "#sk-container-id-22 input.sk-toggleable__control:checked~div.sk-toggleable__content {\n",
              "  /* Expand drop-down */\n",
              "  max-height: 200px;\n",
              "  max-width: 100%;\n",
              "  overflow: auto;\n",
              "}\n",
              "\n",
              "#sk-container-id-22 input.sk-toggleable__control:checked~label.sk-toggleable__label-arrow:before {\n",
              "  content: \"▾\";\n",
              "}\n",
              "\n",
              "/* Pipeline/ColumnTransformer-specific style */\n",
              "\n",
              "#sk-container-id-22 div.sk-label input.sk-toggleable__control:checked~label.sk-toggleable__label {\n",
              "  color: var(--sklearn-color-text);\n",
              "  background-color: var(--sklearn-color-unfitted-level-2);\n",
              "}\n",
              "\n",
              "#sk-container-id-22 div.sk-label.fitted input.sk-toggleable__control:checked~label.sk-toggleable__label {\n",
              "  background-color: var(--sklearn-color-fitted-level-2);\n",
              "}\n",
              "\n",
              "/* Estimator-specific style */\n",
              "\n",
              "/* Colorize estimator box */\n",
              "#sk-container-id-22 div.sk-estimator input.sk-toggleable__control:checked~label.sk-toggleable__label {\n",
              "  /* unfitted */\n",
              "  background-color: var(--sklearn-color-unfitted-level-2);\n",
              "}\n",
              "\n",
              "#sk-container-id-22 div.sk-estimator.fitted input.sk-toggleable__control:checked~label.sk-toggleable__label {\n",
              "  /* fitted */\n",
              "  background-color: var(--sklearn-color-fitted-level-2);\n",
              "}\n",
              "\n",
              "#sk-container-id-22 div.sk-label label.sk-toggleable__label,\n",
              "#sk-container-id-22 div.sk-label label {\n",
              "  /* The background is the default theme color */\n",
              "  color: var(--sklearn-color-text-on-default-background);\n",
              "}\n",
              "\n",
              "/* On hover, darken the color of the background */\n",
              "#sk-container-id-22 div.sk-label:hover label.sk-toggleable__label {\n",
              "  color: var(--sklearn-color-text);\n",
              "  background-color: var(--sklearn-color-unfitted-level-2);\n",
              "}\n",
              "\n",
              "/* Label box, darken color on hover, fitted */\n",
              "#sk-container-id-22 div.sk-label.fitted:hover label.sk-toggleable__label.fitted {\n",
              "  color: var(--sklearn-color-text);\n",
              "  background-color: var(--sklearn-color-fitted-level-2);\n",
              "}\n",
              "\n",
              "/* Estimator label */\n",
              "\n",
              "#sk-container-id-22 div.sk-label label {\n",
              "  font-family: monospace;\n",
              "  font-weight: bold;\n",
              "  display: inline-block;\n",
              "  line-height: 1.2em;\n",
              "}\n",
              "\n",
              "#sk-container-id-22 div.sk-label-container {\n",
              "  text-align: center;\n",
              "}\n",
              "\n",
              "/* Estimator-specific */\n",
              "#sk-container-id-22 div.sk-estimator {\n",
              "  font-family: monospace;\n",
              "  border: 1px dotted var(--sklearn-color-border-box);\n",
              "  border-radius: 0.25em;\n",
              "  box-sizing: border-box;\n",
              "  margin-bottom: 0.5em;\n",
              "  /* unfitted */\n",
              "  background-color: var(--sklearn-color-unfitted-level-0);\n",
              "}\n",
              "\n",
              "#sk-container-id-22 div.sk-estimator.fitted {\n",
              "  /* fitted */\n",
              "  background-color: var(--sklearn-color-fitted-level-0);\n",
              "}\n",
              "\n",
              "/* on hover */\n",
              "#sk-container-id-22 div.sk-estimator:hover {\n",
              "  /* unfitted */\n",
              "  background-color: var(--sklearn-color-unfitted-level-2);\n",
              "}\n",
              "\n",
              "#sk-container-id-22 div.sk-estimator.fitted:hover {\n",
              "  /* fitted */\n",
              "  background-color: var(--sklearn-color-fitted-level-2);\n",
              "}\n",
              "\n",
              "/* Specification for estimator info (e.g. \"i\" and \"?\") */\n",
              "\n",
              "/* Common style for \"i\" and \"?\" */\n",
              "\n",
              ".sk-estimator-doc-link,\n",
              "a:link.sk-estimator-doc-link,\n",
              "a:visited.sk-estimator-doc-link {\n",
              "  float: right;\n",
              "  font-size: smaller;\n",
              "  line-height: 1em;\n",
              "  font-family: monospace;\n",
              "  background-color: var(--sklearn-color-background);\n",
              "  border-radius: 1em;\n",
              "  height: 1em;\n",
              "  width: 1em;\n",
              "  text-decoration: none !important;\n",
              "  margin-left: 0.5em;\n",
              "  text-align: center;\n",
              "  /* unfitted */\n",
              "  border: var(--sklearn-color-unfitted-level-1) 1pt solid;\n",
              "  color: var(--sklearn-color-unfitted-level-1);\n",
              "}\n",
              "\n",
              ".sk-estimator-doc-link.fitted,\n",
              "a:link.sk-estimator-doc-link.fitted,\n",
              "a:visited.sk-estimator-doc-link.fitted {\n",
              "  /* fitted */\n",
              "  border: var(--sklearn-color-fitted-level-1) 1pt solid;\n",
              "  color: var(--sklearn-color-fitted-level-1);\n",
              "}\n",
              "\n",
              "/* On hover */\n",
              "div.sk-estimator:hover .sk-estimator-doc-link:hover,\n",
              ".sk-estimator-doc-link:hover,\n",
              "div.sk-label-container:hover .sk-estimator-doc-link:hover,\n",
              ".sk-estimator-doc-link:hover {\n",
              "  /* unfitted */\n",
              "  background-color: var(--sklearn-color-unfitted-level-3);\n",
              "  color: var(--sklearn-color-background);\n",
              "  text-decoration: none;\n",
              "}\n",
              "\n",
              "div.sk-estimator.fitted:hover .sk-estimator-doc-link.fitted:hover,\n",
              ".sk-estimator-doc-link.fitted:hover,\n",
              "div.sk-label-container:hover .sk-estimator-doc-link.fitted:hover,\n",
              ".sk-estimator-doc-link.fitted:hover {\n",
              "  /* fitted */\n",
              "  background-color: var(--sklearn-color-fitted-level-3);\n",
              "  color: var(--sklearn-color-background);\n",
              "  text-decoration: none;\n",
              "}\n",
              "\n",
              "/* Span, style for the box shown on hovering the info icon */\n",
              ".sk-estimator-doc-link span {\n",
              "  display: none;\n",
              "  z-index: 9999;\n",
              "  position: relative;\n",
              "  font-weight: normal;\n",
              "  right: .2ex;\n",
              "  padding: .5ex;\n",
              "  margin: .5ex;\n",
              "  width: min-content;\n",
              "  min-width: 20ex;\n",
              "  max-width: 50ex;\n",
              "  color: var(--sklearn-color-text);\n",
              "  box-shadow: 2pt 2pt 4pt #999;\n",
              "  /* unfitted */\n",
              "  background: var(--sklearn-color-unfitted-level-0);\n",
              "  border: .5pt solid var(--sklearn-color-unfitted-level-3);\n",
              "}\n",
              "\n",
              ".sk-estimator-doc-link.fitted span {\n",
              "  /* fitted */\n",
              "  background: var(--sklearn-color-fitted-level-0);\n",
              "  border: var(--sklearn-color-fitted-level-3);\n",
              "}\n",
              "\n",
              ".sk-estimator-doc-link:hover span {\n",
              "  display: block;\n",
              "}\n",
              "\n",
              "/* \"?\"-specific style due to the `<a>` HTML tag */\n",
              "\n",
              "#sk-container-id-22 a.estimator_doc_link {\n",
              "  float: right;\n",
              "  font-size: 1rem;\n",
              "  line-height: 1em;\n",
              "  font-family: monospace;\n",
              "  background-color: var(--sklearn-color-background);\n",
              "  border-radius: 1rem;\n",
              "  height: 1rem;\n",
              "  width: 1rem;\n",
              "  text-decoration: none;\n",
              "  /* unfitted */\n",
              "  color: var(--sklearn-color-unfitted-level-1);\n",
              "  border: var(--sklearn-color-unfitted-level-1) 1pt solid;\n",
              "}\n",
              "\n",
              "#sk-container-id-22 a.estimator_doc_link.fitted {\n",
              "  /* fitted */\n",
              "  border: var(--sklearn-color-fitted-level-1) 1pt solid;\n",
              "  color: var(--sklearn-color-fitted-level-1);\n",
              "}\n",
              "\n",
              "/* On hover */\n",
              "#sk-container-id-22 a.estimator_doc_link:hover {\n",
              "  /* unfitted */\n",
              "  background-color: var(--sklearn-color-unfitted-level-3);\n",
              "  color: var(--sklearn-color-background);\n",
              "  text-decoration: none;\n",
              "}\n",
              "\n",
              "#sk-container-id-22 a.estimator_doc_link.fitted:hover {\n",
              "  /* fitted */\n",
              "  background-color: var(--sklearn-color-fitted-level-3);\n",
              "}\n",
              "</style><div id=\"sk-container-id-22\" class=\"sk-top-container\"><div class=\"sk-text-repr-fallback\"><pre>XGBRegressor(base_score=None, booster=None, callbacks=None,\n",
              "             colsample_bylevel=None, colsample_bynode=None,\n",
              "             colsample_bytree=None, device=None, early_stopping_rounds=200,\n",
              "             enable_categorical=True, eval_metric=&#x27;rmse&#x27;, feature_types=None,\n",
              "             feature_weights=None, gamma=None, grow_policy=None,\n",
              "             importance_type=None, interaction_constraints=None,\n",
              "             learning_rate=0.05, max_bin=None, max_cat_threshold=None,\n",
              "             max_cat_to_onehot=None, max_delta_step=None, max_depth=6,\n",
              "             max_leaves=None, min_child_weight=None, missing=nan,\n",
              "             monotone_constraints=None, multi_strategy=None, n_estimators=1000,\n",
              "             n_jobs=None, num_parallel_tree=None, ...)</pre><b>In a Jupyter environment, please rerun this cell to show the HTML representation or trust the notebook. <br />On GitHub, the HTML representation is unable to render, please try loading this page with nbviewer.org.</b></div><div class=\"sk-container\" hidden><div class=\"sk-item\"><div class=\"sk-estimator fitted sk-toggleable\"><input class=\"sk-toggleable__control sk-hidden--visually\" id=\"sk-estimator-id-22\" type=\"checkbox\" checked><label for=\"sk-estimator-id-22\" class=\"sk-toggleable__label fitted sk-toggleable__label-arrow\"><div><div>XGBRegressor</div></div><div><a class=\"sk-estimator-doc-link fitted\" rel=\"noreferrer\" target=\"_blank\" href=\"https://xgboost.readthedocs.io/en/release_3.0.0/python/python_api.html#xgboost.XGBRegressor\">?<span>Documentation for XGBRegressor</span></a><span class=\"sk-estimator-doc-link fitted\">i<span>Fitted</span></span></div></label><div class=\"sk-toggleable__content fitted\"><pre>XGBRegressor(base_score=None, booster=None, callbacks=None,\n",
              "             colsample_bylevel=None, colsample_bynode=None,\n",
              "             colsample_bytree=None, device=None, early_stopping_rounds=200,\n",
              "             enable_categorical=True, eval_metric=&#x27;rmse&#x27;, feature_types=None,\n",
              "             feature_weights=None, gamma=None, grow_policy=None,\n",
              "             importance_type=None, interaction_constraints=None,\n",
              "             learning_rate=0.05, max_bin=None, max_cat_threshold=None,\n",
              "             max_cat_to_onehot=None, max_delta_step=None, max_depth=6,\n",
              "             max_leaves=None, min_child_weight=None, missing=nan,\n",
              "             monotone_constraints=None, multi_strategy=None, n_estimators=1000,\n",
              "             n_jobs=None, num_parallel_tree=None, ...)</pre></div> </div></div></div></div>"
            ]
          },
          "metadata": {},
          "execution_count": 467
        }
      ]
    },
    {
      "cell_type": "code",
      "source": [
        "print(round(full_model.best_score, 5), full_model.best_iteration)"
      ],
      "metadata": {
        "colab": {
          "base_uri": "https://localhost:8080/"
        },
        "id": "-f-R3hLWFZ1n",
        "outputId": "5e5d4f69-c783-4320-d330-a8825f5fa2f6"
      },
      "execution_count": null,
      "outputs": [
        {
          "output_type": "stream",
          "name": "stdout",
          "text": [
            "14.01804 9\n"
          ]
        }
      ]
    },
    {
      "cell_type": "code",
      "source": [
        "y_pred_val = full_model.predict(X_val)\n",
        "\n",
        "val_cat['XGB_val'] = y_pred_val\n",
        "val_cat['XGB_val'] = np.where(val_cat['XGB_val'] < 0, 0, val_cat['XGB_val'])\n",
        "val_cat['XGB_val_round'] = np.round(val_cat['XGB_val']).astype('uint16')"
      ],
      "metadata": {
        "id": "eJoAt7KJAzsd"
      },
      "execution_count": null,
      "outputs": []
    },
    {
      "cell_type": "code",
      "source": [
        "baseline_rmse = np.sqrt(mean_squared_error(y_val, y_pred_val))"
      ],
      "metadata": {
        "id": "v9M01qkfE3Rv"
      },
      "execution_count": null,
      "outputs": []
    },
    {
      "cell_type": "code",
      "source": [
        "rmse_drop = {}\n",
        "i = 0\n",
        "\n",
        "#loop over each feature and calculate the difference\n",
        "for feature in X_train.columns:\n",
        "    X_train_drop = X_train.drop(columns=[feature])\n",
        "    X_val_drop = X_val.drop(columns=[feature])\n",
        "\n",
        "    model = XGBRegressor(\n",
        "        n_estimators=1000,\n",
        "        max_depth=6,\n",
        "        learning_rate=0.05,\n",
        "        early_stopping_rounds=200,\n",
        "        objective='reg:squarederror',  # optimizes MSE\n",
        "        eval_metric='rmse',\n",
        "        random_state=42,\n",
        "        enable_categorical=True\n",
        "    )\n",
        "    model.fit(\n",
        "        X_train_drop, y_train,\n",
        "        eval_set=[(X_val_drop, y_val)],\n",
        "        verbose=False)\n",
        "    y_pred = model.predict(X_val_drop)\n",
        "    rmse = np.sqrt(mean_squared_error(y_val, y_pred))\n",
        "\n",
        "    rmse_drop[feature] = rmse\n",
        "    print(f\"{i}. without {feature}, rmse diff is: {(rmse - baseline_rmse):.3f}\")\n",
        "    i += 1\n",
        "\n",
        "rmse_df = pd.DataFrame({\n",
        "    'feature': list(rmse_drop.keys()),\n",
        "    'rmse_without_feature': list(rmse_drop.values())\n",
        "})\n",
        "\n",
        "#eventual impact (increase in RMSE when dropped)\n",
        "rmse_df['rmse_increase'] = rmse_df['rmse_without_feature'] - baseline_rmse"
      ],
      "metadata": {
        "colab": {
          "base_uri": "https://localhost:8080/"
        },
        "id": "05Mnz49hERvK",
        "outputId": "dc51dc26-4e8d-421c-f8b0-bdd8b26bcdf9"
      },
      "execution_count": null,
      "outputs": [
        {
          "output_type": "stream",
          "name": "stdout",
          "text": [
            "0. without unique_id, rmse diff is: -0.001\n",
            "1. without description, rmse diff is: 0.068\n",
            "2. without lead_time, rmse diff is: 0.002\n",
            "3. without price, rmse diff is: -0.001\n",
            "4. without month, rmse diff is: -0.011\n",
            "5. without quarter, rmse diff is: 0.000\n",
            "6. without year, rmse diff is: 0.010\n",
            "7. without qty_lag1, rmse diff is: -0.011\n",
            "8. without qty_lag2, rmse diff is: -0.008\n",
            "9. without qty_lag3, rmse diff is: -0.001\n",
            "10. without bin_lag1, rmse diff is: 0.000\n",
            "11. without bin_lag2, rmse diff is: 0.000\n",
            "12. without bin_lag3, rmse diff is: 0.000\n",
            "13. without qty_roll_mean_3, rmse diff is: 0.008\n",
            "14. without bin_roll_mean_3, rmse diff is: 0.000\n",
            "15. without qty_roll_mean_6, rmse diff is: -0.007\n",
            "16. without qty_diff1, rmse diff is: -0.003\n",
            "17. without qty_trend_ratio, rmse diff is: -0.001\n",
            "18. without ds_month, rmse diff is: 0.005\n",
            "19. without ds_year, rmse diff is: 0.000\n"
          ]
        }
      ]
    },
    {
      "cell_type": "code",
      "source": [
        "rmse_df[['feature', 'rmse_increase']].sort_values('rmse_increase', ascending=False)"
      ],
      "metadata": {
        "colab": {
          "base_uri": "https://localhost:8080/",
          "height": 677
        },
        "id": "to_TfpKeNE4m",
        "outputId": "25faac2d-9bf5-4795-f41b-7ac0272cdc81"
      },
      "execution_count": null,
      "outputs": [
        {
          "output_type": "execute_result",
          "data": {
            "text/plain": [
              "            feature  rmse_increase\n",
              "1       description       0.067864\n",
              "6              year       0.009570\n",
              "13  qty_roll_mean_3       0.008097\n",
              "18         ds_month       0.005304\n",
              "2         lead_time       0.001588\n",
              "14  bin_roll_mean_3       0.000000\n",
              "19          ds_year       0.000000\n",
              "5           quarter       0.000000\n",
              "12         bin_lag3       0.000000\n",
              "11         bin_lag2       0.000000\n",
              "10         bin_lag1       0.000000\n",
              "9          qty_lag3      -0.000517\n",
              "17  qty_trend_ratio      -0.000753\n",
              "0         unique_id      -0.000794\n",
              "3             price      -0.001032\n",
              "16        qty_diff1      -0.003082\n",
              "15  qty_roll_mean_6      -0.007022\n",
              "8          qty_lag2      -0.007892\n",
              "7          qty_lag1      -0.010510\n",
              "4             month      -0.011449"
            ],
            "text/html": [
              "\n",
              "  <div id=\"df-4686ccc4-d090-4f9f-a451-4cbcfad0d4fb\" class=\"colab-df-container\">\n",
              "    <div>\n",
              "<style scoped>\n",
              "    .dataframe tbody tr th:only-of-type {\n",
              "        vertical-align: middle;\n",
              "    }\n",
              "\n",
              "    .dataframe tbody tr th {\n",
              "        vertical-align: top;\n",
              "    }\n",
              "\n",
              "    .dataframe thead th {\n",
              "        text-align: right;\n",
              "    }\n",
              "</style>\n",
              "<table border=\"1\" class=\"dataframe\">\n",
              "  <thead>\n",
              "    <tr style=\"text-align: right;\">\n",
              "      <th></th>\n",
              "      <th>feature</th>\n",
              "      <th>rmse_increase</th>\n",
              "    </tr>\n",
              "  </thead>\n",
              "  <tbody>\n",
              "    <tr>\n",
              "      <th>1</th>\n",
              "      <td>description</td>\n",
              "      <td>0.067864</td>\n",
              "    </tr>\n",
              "    <tr>\n",
              "      <th>6</th>\n",
              "      <td>year</td>\n",
              "      <td>0.009570</td>\n",
              "    </tr>\n",
              "    <tr>\n",
              "      <th>13</th>\n",
              "      <td>qty_roll_mean_3</td>\n",
              "      <td>0.008097</td>\n",
              "    </tr>\n",
              "    <tr>\n",
              "      <th>18</th>\n",
              "      <td>ds_month</td>\n",
              "      <td>0.005304</td>\n",
              "    </tr>\n",
              "    <tr>\n",
              "      <th>2</th>\n",
              "      <td>lead_time</td>\n",
              "      <td>0.001588</td>\n",
              "    </tr>\n",
              "    <tr>\n",
              "      <th>14</th>\n",
              "      <td>bin_roll_mean_3</td>\n",
              "      <td>0.000000</td>\n",
              "    </tr>\n",
              "    <tr>\n",
              "      <th>19</th>\n",
              "      <td>ds_year</td>\n",
              "      <td>0.000000</td>\n",
              "    </tr>\n",
              "    <tr>\n",
              "      <th>5</th>\n",
              "      <td>quarter</td>\n",
              "      <td>0.000000</td>\n",
              "    </tr>\n",
              "    <tr>\n",
              "      <th>12</th>\n",
              "      <td>bin_lag3</td>\n",
              "      <td>0.000000</td>\n",
              "    </tr>\n",
              "    <tr>\n",
              "      <th>11</th>\n",
              "      <td>bin_lag2</td>\n",
              "      <td>0.000000</td>\n",
              "    </tr>\n",
              "    <tr>\n",
              "      <th>10</th>\n",
              "      <td>bin_lag1</td>\n",
              "      <td>0.000000</td>\n",
              "    </tr>\n",
              "    <tr>\n",
              "      <th>9</th>\n",
              "      <td>qty_lag3</td>\n",
              "      <td>-0.000517</td>\n",
              "    </tr>\n",
              "    <tr>\n",
              "      <th>17</th>\n",
              "      <td>qty_trend_ratio</td>\n",
              "      <td>-0.000753</td>\n",
              "    </tr>\n",
              "    <tr>\n",
              "      <th>0</th>\n",
              "      <td>unique_id</td>\n",
              "      <td>-0.000794</td>\n",
              "    </tr>\n",
              "    <tr>\n",
              "      <th>3</th>\n",
              "      <td>price</td>\n",
              "      <td>-0.001032</td>\n",
              "    </tr>\n",
              "    <tr>\n",
              "      <th>16</th>\n",
              "      <td>qty_diff1</td>\n",
              "      <td>-0.003082</td>\n",
              "    </tr>\n",
              "    <tr>\n",
              "      <th>15</th>\n",
              "      <td>qty_roll_mean_6</td>\n",
              "      <td>-0.007022</td>\n",
              "    </tr>\n",
              "    <tr>\n",
              "      <th>8</th>\n",
              "      <td>qty_lag2</td>\n",
              "      <td>-0.007892</td>\n",
              "    </tr>\n",
              "    <tr>\n",
              "      <th>7</th>\n",
              "      <td>qty_lag1</td>\n",
              "      <td>-0.010510</td>\n",
              "    </tr>\n",
              "    <tr>\n",
              "      <th>4</th>\n",
              "      <td>month</td>\n",
              "      <td>-0.011449</td>\n",
              "    </tr>\n",
              "  </tbody>\n",
              "</table>\n",
              "</div>\n",
              "    <div class=\"colab-df-buttons\">\n",
              "\n",
              "  <div class=\"colab-df-container\">\n",
              "    <button class=\"colab-df-convert\" onclick=\"convertToInteractive('df-4686ccc4-d090-4f9f-a451-4cbcfad0d4fb')\"\n",
              "            title=\"Convert this dataframe to an interactive table.\"\n",
              "            style=\"display:none;\">\n",
              "\n",
              "  <svg xmlns=\"http://www.w3.org/2000/svg\" height=\"24px\" viewBox=\"0 -960 960 960\">\n",
              "    <path d=\"M120-120v-720h720v720H120Zm60-500h600v-160H180v160Zm220 220h160v-160H400v160Zm0 220h160v-160H400v160ZM180-400h160v-160H180v160Zm440 0h160v-160H620v160ZM180-180h160v-160H180v160Zm440 0h160v-160H620v160Z\"/>\n",
              "  </svg>\n",
              "    </button>\n",
              "\n",
              "  <style>\n",
              "    .colab-df-container {\n",
              "      display:flex;\n",
              "      gap: 12px;\n",
              "    }\n",
              "\n",
              "    .colab-df-convert {\n",
              "      background-color: #E8F0FE;\n",
              "      border: none;\n",
              "      border-radius: 50%;\n",
              "      cursor: pointer;\n",
              "      display: none;\n",
              "      fill: #1967D2;\n",
              "      height: 32px;\n",
              "      padding: 0 0 0 0;\n",
              "      width: 32px;\n",
              "    }\n",
              "\n",
              "    .colab-df-convert:hover {\n",
              "      background-color: #E2EBFA;\n",
              "      box-shadow: 0px 1px 2px rgba(60, 64, 67, 0.3), 0px 1px 3px 1px rgba(60, 64, 67, 0.15);\n",
              "      fill: #174EA6;\n",
              "    }\n",
              "\n",
              "    .colab-df-buttons div {\n",
              "      margin-bottom: 4px;\n",
              "    }\n",
              "\n",
              "    [theme=dark] .colab-df-convert {\n",
              "      background-color: #3B4455;\n",
              "      fill: #D2E3FC;\n",
              "    }\n",
              "\n",
              "    [theme=dark] .colab-df-convert:hover {\n",
              "      background-color: #434B5C;\n",
              "      box-shadow: 0px 1px 3px 1px rgba(0, 0, 0, 0.15);\n",
              "      filter: drop-shadow(0px 1px 2px rgba(0, 0, 0, 0.3));\n",
              "      fill: #FFFFFF;\n",
              "    }\n",
              "  </style>\n",
              "\n",
              "    <script>\n",
              "      const buttonEl =\n",
              "        document.querySelector('#df-4686ccc4-d090-4f9f-a451-4cbcfad0d4fb button.colab-df-convert');\n",
              "      buttonEl.style.display =\n",
              "        google.colab.kernel.accessAllowed ? 'block' : 'none';\n",
              "\n",
              "      async function convertToInteractive(key) {\n",
              "        const element = document.querySelector('#df-4686ccc4-d090-4f9f-a451-4cbcfad0d4fb');\n",
              "        const dataTable =\n",
              "          await google.colab.kernel.invokeFunction('convertToInteractive',\n",
              "                                                    [key], {});\n",
              "        if (!dataTable) return;\n",
              "\n",
              "        const docLinkHtml = 'Like what you see? Visit the ' +\n",
              "          '<a target=\"_blank\" href=https://colab.research.google.com/notebooks/data_table.ipynb>data table notebook</a>'\n",
              "          + ' to learn more about interactive tables.';\n",
              "        element.innerHTML = '';\n",
              "        dataTable['output_type'] = 'display_data';\n",
              "        await google.colab.output.renderOutput(dataTable, element);\n",
              "        const docLink = document.createElement('div');\n",
              "        docLink.innerHTML = docLinkHtml;\n",
              "        element.appendChild(docLink);\n",
              "      }\n",
              "    </script>\n",
              "  </div>\n",
              "\n",
              "\n",
              "    <div id=\"df-30ec678b-9c69-4f0a-90f5-da59fcc4a83a\">\n",
              "      <button class=\"colab-df-quickchart\" onclick=\"quickchart('df-30ec678b-9c69-4f0a-90f5-da59fcc4a83a')\"\n",
              "                title=\"Suggest charts\"\n",
              "                style=\"display:none;\">\n",
              "\n",
              "<svg xmlns=\"http://www.w3.org/2000/svg\" height=\"24px\"viewBox=\"0 0 24 24\"\n",
              "     width=\"24px\">\n",
              "    <g>\n",
              "        <path d=\"M19 3H5c-1.1 0-2 .9-2 2v14c0 1.1.9 2 2 2h14c1.1 0 2-.9 2-2V5c0-1.1-.9-2-2-2zM9 17H7v-7h2v7zm4 0h-2V7h2v10zm4 0h-2v-4h2v4z\"/>\n",
              "    </g>\n",
              "</svg>\n",
              "      </button>\n",
              "\n",
              "<style>\n",
              "  .colab-df-quickchart {\n",
              "      --bg-color: #E8F0FE;\n",
              "      --fill-color: #1967D2;\n",
              "      --hover-bg-color: #E2EBFA;\n",
              "      --hover-fill-color: #174EA6;\n",
              "      --disabled-fill-color: #AAA;\n",
              "      --disabled-bg-color: #DDD;\n",
              "  }\n",
              "\n",
              "  [theme=dark] .colab-df-quickchart {\n",
              "      --bg-color: #3B4455;\n",
              "      --fill-color: #D2E3FC;\n",
              "      --hover-bg-color: #434B5C;\n",
              "      --hover-fill-color: #FFFFFF;\n",
              "      --disabled-bg-color: #3B4455;\n",
              "      --disabled-fill-color: #666;\n",
              "  }\n",
              "\n",
              "  .colab-df-quickchart {\n",
              "    background-color: var(--bg-color);\n",
              "    border: none;\n",
              "    border-radius: 50%;\n",
              "    cursor: pointer;\n",
              "    display: none;\n",
              "    fill: var(--fill-color);\n",
              "    height: 32px;\n",
              "    padding: 0;\n",
              "    width: 32px;\n",
              "  }\n",
              "\n",
              "  .colab-df-quickchart:hover {\n",
              "    background-color: var(--hover-bg-color);\n",
              "    box-shadow: 0 1px 2px rgba(60, 64, 67, 0.3), 0 1px 3px 1px rgba(60, 64, 67, 0.15);\n",
              "    fill: var(--button-hover-fill-color);\n",
              "  }\n",
              "\n",
              "  .colab-df-quickchart-complete:disabled,\n",
              "  .colab-df-quickchart-complete:disabled:hover {\n",
              "    background-color: var(--disabled-bg-color);\n",
              "    fill: var(--disabled-fill-color);\n",
              "    box-shadow: none;\n",
              "  }\n",
              "\n",
              "  .colab-df-spinner {\n",
              "    border: 2px solid var(--fill-color);\n",
              "    border-color: transparent;\n",
              "    border-bottom-color: var(--fill-color);\n",
              "    animation:\n",
              "      spin 1s steps(1) infinite;\n",
              "  }\n",
              "\n",
              "  @keyframes spin {\n",
              "    0% {\n",
              "      border-color: transparent;\n",
              "      border-bottom-color: var(--fill-color);\n",
              "      border-left-color: var(--fill-color);\n",
              "    }\n",
              "    20% {\n",
              "      border-color: transparent;\n",
              "      border-left-color: var(--fill-color);\n",
              "      border-top-color: var(--fill-color);\n",
              "    }\n",
              "    30% {\n",
              "      border-color: transparent;\n",
              "      border-left-color: var(--fill-color);\n",
              "      border-top-color: var(--fill-color);\n",
              "      border-right-color: var(--fill-color);\n",
              "    }\n",
              "    40% {\n",
              "      border-color: transparent;\n",
              "      border-right-color: var(--fill-color);\n",
              "      border-top-color: var(--fill-color);\n",
              "    }\n",
              "    60% {\n",
              "      border-color: transparent;\n",
              "      border-right-color: var(--fill-color);\n",
              "    }\n",
              "    80% {\n",
              "      border-color: transparent;\n",
              "      border-right-color: var(--fill-color);\n",
              "      border-bottom-color: var(--fill-color);\n",
              "    }\n",
              "    90% {\n",
              "      border-color: transparent;\n",
              "      border-bottom-color: var(--fill-color);\n",
              "    }\n",
              "  }\n",
              "</style>\n",
              "\n",
              "      <script>\n",
              "        async function quickchart(key) {\n",
              "          const quickchartButtonEl =\n",
              "            document.querySelector('#' + key + ' button');\n",
              "          quickchartButtonEl.disabled = true;  // To prevent multiple clicks.\n",
              "          quickchartButtonEl.classList.add('colab-df-spinner');\n",
              "          try {\n",
              "            const charts = await google.colab.kernel.invokeFunction(\n",
              "                'suggestCharts', [key], {});\n",
              "          } catch (error) {\n",
              "            console.error('Error during call to suggestCharts:', error);\n",
              "          }\n",
              "          quickchartButtonEl.classList.remove('colab-df-spinner');\n",
              "          quickchartButtonEl.classList.add('colab-df-quickchart-complete');\n",
              "        }\n",
              "        (() => {\n",
              "          let quickchartButtonEl =\n",
              "            document.querySelector('#df-30ec678b-9c69-4f0a-90f5-da59fcc4a83a button');\n",
              "          quickchartButtonEl.style.display =\n",
              "            google.colab.kernel.accessAllowed ? 'block' : 'none';\n",
              "        })();\n",
              "      </script>\n",
              "    </div>\n",
              "\n",
              "    </div>\n",
              "  </div>\n"
            ],
            "application/vnd.google.colaboratory.intrinsic+json": {
              "type": "dataframe",
              "summary": "{\n  \"name\": \"rmse_df[['feature', 'rmse_increase']]\",\n  \"rows\": 20,\n  \"fields\": [\n    {\n      \"column\": \"feature\",\n      \"properties\": {\n        \"dtype\": \"string\",\n        \"num_unique_values\": 20,\n        \"samples\": [\n          \"description\",\n          \"qty_lag2\",\n          \"qty_diff1\"\n        ],\n        \"semantic_type\": \"\",\n        \"description\": \"\"\n      }\n    },\n    {\n      \"column\": \"rmse_increase\",\n      \"properties\": {\n        \"dtype\": \"number\",\n        \"std\": 0.016281368259015976,\n        \"min\": -0.011448733812702727,\n        \"max\": 0.0678638467397299,\n        \"num_unique_values\": 15,\n        \"samples\": [\n          -0.001032490548645626,\n          -0.007021564893660681,\n          0.0678638467397299\n        ],\n        \"semantic_type\": \"\",\n        \"description\": \"\"\n      }\n    }\n  ]\n}"
            }
          },
          "metadata": {},
          "execution_count": 473
        }
      ]
    },
    {
      "cell_type": "code",
      "source": [
        "strong_features_xgb = rmse_df.query(\"rmse_increase > 0.002\")['feature'].tolist()\n",
        "print(f\"strong features for h={h}: {strong_features_xgb}\")"
      ],
      "metadata": {
        "colab": {
          "base_uri": "https://localhost:8080/"
        },
        "id": "D1rsF23wAzo7",
        "outputId": "943da8c9-0aae-4898-f5f7-0c39e7c0d0c1"
      },
      "execution_count": null,
      "outputs": [
        {
          "output_type": "stream",
          "name": "stdout",
          "text": [
            "strong features for h=12: ['description', 'year', 'qty_roll_mean_3', 'ds_month']\n"
          ]
        }
      ]
    },
    {
      "cell_type": "code",
      "source": [
        "X = strong_features_xgb\n",
        "y = 'y'\n",
        "\n",
        "X_train = train_cat[X]\n",
        "y_train = train_cat[y]\n",
        "\n",
        "X_val = val_cat[X]\n",
        "y_val = val_cat[y]\n",
        "\n",
        "X_test = test_cat[X]\n",
        "y_test = test_cat[y]"
      ],
      "metadata": {
        "id": "bgQB6CvIH6fz"
      },
      "execution_count": null,
      "outputs": []
    },
    {
      "cell_type": "code",
      "source": [
        "opt_model = XGBRegressor(\n",
        "    n_estimators=1000,\n",
        "    max_depth=6,\n",
        "    learning_rate=0.05,\n",
        "    early_stopping_rounds=200,\n",
        "    objective='reg:squarederror',  # optimizes MSE\n",
        "    eval_metric='rmse', #MAE R2\n",
        "    random_state=42,\n",
        "    enable_categorical=True\n",
        ")\n",
        "opt_model.fit(\n",
        "    X_train, y_train,\n",
        "    eval_set=[(X_val, y_val)],\n",
        "    verbose=False\n",
        ")"
      ],
      "metadata": {
        "colab": {
          "base_uri": "https://localhost:8080/",
          "height": 254
        },
        "id": "-0xgPPfKH6cC",
        "outputId": "f38d2315-2112-436a-97f5-5091be179224"
      },
      "execution_count": null,
      "outputs": [
        {
          "output_type": "execute_result",
          "data": {
            "text/plain": [
              "XGBRegressor(base_score=None, booster=None, callbacks=None,\n",
              "             colsample_bylevel=None, colsample_bynode=None,\n",
              "             colsample_bytree=None, device=None, early_stopping_rounds=200,\n",
              "             enable_categorical=True, eval_metric='rmse', feature_types=None,\n",
              "             feature_weights=None, gamma=None, grow_policy=None,\n",
              "             importance_type=None, interaction_constraints=None,\n",
              "             learning_rate=0.05, max_bin=None, max_cat_threshold=None,\n",
              "             max_cat_to_onehot=None, max_delta_step=None, max_depth=6,\n",
              "             max_leaves=None, min_child_weight=None, missing=nan,\n",
              "             monotone_constraints=None, multi_strategy=None, n_estimators=1000,\n",
              "             n_jobs=None, num_parallel_tree=None, ...)"
            ],
            "text/html": [
              "<style>#sk-container-id-23 {\n",
              "  /* Definition of color scheme common for light and dark mode */\n",
              "  --sklearn-color-text: #000;\n",
              "  --sklearn-color-text-muted: #666;\n",
              "  --sklearn-color-line: gray;\n",
              "  /* Definition of color scheme for unfitted estimators */\n",
              "  --sklearn-color-unfitted-level-0: #fff5e6;\n",
              "  --sklearn-color-unfitted-level-1: #f6e4d2;\n",
              "  --sklearn-color-unfitted-level-2: #ffe0b3;\n",
              "  --sklearn-color-unfitted-level-3: chocolate;\n",
              "  /* Definition of color scheme for fitted estimators */\n",
              "  --sklearn-color-fitted-level-0: #f0f8ff;\n",
              "  --sklearn-color-fitted-level-1: #d4ebff;\n",
              "  --sklearn-color-fitted-level-2: #b3dbfd;\n",
              "  --sklearn-color-fitted-level-3: cornflowerblue;\n",
              "\n",
              "  /* Specific color for light theme */\n",
              "  --sklearn-color-text-on-default-background: var(--sg-text-color, var(--theme-code-foreground, var(--jp-content-font-color1, black)));\n",
              "  --sklearn-color-background: var(--sg-background-color, var(--theme-background, var(--jp-layout-color0, white)));\n",
              "  --sklearn-color-border-box: var(--sg-text-color, var(--theme-code-foreground, var(--jp-content-font-color1, black)));\n",
              "  --sklearn-color-icon: #696969;\n",
              "\n",
              "  @media (prefers-color-scheme: dark) {\n",
              "    /* Redefinition of color scheme for dark theme */\n",
              "    --sklearn-color-text-on-default-background: var(--sg-text-color, var(--theme-code-foreground, var(--jp-content-font-color1, white)));\n",
              "    --sklearn-color-background: var(--sg-background-color, var(--theme-background, var(--jp-layout-color0, #111)));\n",
              "    --sklearn-color-border-box: var(--sg-text-color, var(--theme-code-foreground, var(--jp-content-font-color1, white)));\n",
              "    --sklearn-color-icon: #878787;\n",
              "  }\n",
              "}\n",
              "\n",
              "#sk-container-id-23 {\n",
              "  color: var(--sklearn-color-text);\n",
              "}\n",
              "\n",
              "#sk-container-id-23 pre {\n",
              "  padding: 0;\n",
              "}\n",
              "\n",
              "#sk-container-id-23 input.sk-hidden--visually {\n",
              "  border: 0;\n",
              "  clip: rect(1px 1px 1px 1px);\n",
              "  clip: rect(1px, 1px, 1px, 1px);\n",
              "  height: 1px;\n",
              "  margin: -1px;\n",
              "  overflow: hidden;\n",
              "  padding: 0;\n",
              "  position: absolute;\n",
              "  width: 1px;\n",
              "}\n",
              "\n",
              "#sk-container-id-23 div.sk-dashed-wrapped {\n",
              "  border: 1px dashed var(--sklearn-color-line);\n",
              "  margin: 0 0.4em 0.5em 0.4em;\n",
              "  box-sizing: border-box;\n",
              "  padding-bottom: 0.4em;\n",
              "  background-color: var(--sklearn-color-background);\n",
              "}\n",
              "\n",
              "#sk-container-id-23 div.sk-container {\n",
              "  /* jupyter's `normalize.less` sets `[hidden] { display: none; }`\n",
              "     but bootstrap.min.css set `[hidden] { display: none !important; }`\n",
              "     so we also need the `!important` here to be able to override the\n",
              "     default hidden behavior on the sphinx rendered scikit-learn.org.\n",
              "     See: https://github.com/scikit-learn/scikit-learn/issues/21755 */\n",
              "  display: inline-block !important;\n",
              "  position: relative;\n",
              "}\n",
              "\n",
              "#sk-container-id-23 div.sk-text-repr-fallback {\n",
              "  display: none;\n",
              "}\n",
              "\n",
              "div.sk-parallel-item,\n",
              "div.sk-serial,\n",
              "div.sk-item {\n",
              "  /* draw centered vertical line to link estimators */\n",
              "  background-image: linear-gradient(var(--sklearn-color-text-on-default-background), var(--sklearn-color-text-on-default-background));\n",
              "  background-size: 2px 100%;\n",
              "  background-repeat: no-repeat;\n",
              "  background-position: center center;\n",
              "}\n",
              "\n",
              "/* Parallel-specific style estimator block */\n",
              "\n",
              "#sk-container-id-23 div.sk-parallel-item::after {\n",
              "  content: \"\";\n",
              "  width: 100%;\n",
              "  border-bottom: 2px solid var(--sklearn-color-text-on-default-background);\n",
              "  flex-grow: 1;\n",
              "}\n",
              "\n",
              "#sk-container-id-23 div.sk-parallel {\n",
              "  display: flex;\n",
              "  align-items: stretch;\n",
              "  justify-content: center;\n",
              "  background-color: var(--sklearn-color-background);\n",
              "  position: relative;\n",
              "}\n",
              "\n",
              "#sk-container-id-23 div.sk-parallel-item {\n",
              "  display: flex;\n",
              "  flex-direction: column;\n",
              "}\n",
              "\n",
              "#sk-container-id-23 div.sk-parallel-item:first-child::after {\n",
              "  align-self: flex-end;\n",
              "  width: 50%;\n",
              "}\n",
              "\n",
              "#sk-container-id-23 div.sk-parallel-item:last-child::after {\n",
              "  align-self: flex-start;\n",
              "  width: 50%;\n",
              "}\n",
              "\n",
              "#sk-container-id-23 div.sk-parallel-item:only-child::after {\n",
              "  width: 0;\n",
              "}\n",
              "\n",
              "/* Serial-specific style estimator block */\n",
              "\n",
              "#sk-container-id-23 div.sk-serial {\n",
              "  display: flex;\n",
              "  flex-direction: column;\n",
              "  align-items: center;\n",
              "  background-color: var(--sklearn-color-background);\n",
              "  padding-right: 1em;\n",
              "  padding-left: 1em;\n",
              "}\n",
              "\n",
              "\n",
              "/* Toggleable style: style used for estimator/Pipeline/ColumnTransformer box that is\n",
              "clickable and can be expanded/collapsed.\n",
              "- Pipeline and ColumnTransformer use this feature and define the default style\n",
              "- Estimators will overwrite some part of the style using the `sk-estimator` class\n",
              "*/\n",
              "\n",
              "/* Pipeline and ColumnTransformer style (default) */\n",
              "\n",
              "#sk-container-id-23 div.sk-toggleable {\n",
              "  /* Default theme specific background. It is overwritten whether we have a\n",
              "  specific estimator or a Pipeline/ColumnTransformer */\n",
              "  background-color: var(--sklearn-color-background);\n",
              "}\n",
              "\n",
              "/* Toggleable label */\n",
              "#sk-container-id-23 label.sk-toggleable__label {\n",
              "  cursor: pointer;\n",
              "  display: flex;\n",
              "  width: 100%;\n",
              "  margin-bottom: 0;\n",
              "  padding: 0.5em;\n",
              "  box-sizing: border-box;\n",
              "  text-align: center;\n",
              "  align-items: start;\n",
              "  justify-content: space-between;\n",
              "  gap: 0.5em;\n",
              "}\n",
              "\n",
              "#sk-container-id-23 label.sk-toggleable__label .caption {\n",
              "  font-size: 0.6rem;\n",
              "  font-weight: lighter;\n",
              "  color: var(--sklearn-color-text-muted);\n",
              "}\n",
              "\n",
              "#sk-container-id-23 label.sk-toggleable__label-arrow:before {\n",
              "  /* Arrow on the left of the label */\n",
              "  content: \"▸\";\n",
              "  float: left;\n",
              "  margin-right: 0.25em;\n",
              "  color: var(--sklearn-color-icon);\n",
              "}\n",
              "\n",
              "#sk-container-id-23 label.sk-toggleable__label-arrow:hover:before {\n",
              "  color: var(--sklearn-color-text);\n",
              "}\n",
              "\n",
              "/* Toggleable content - dropdown */\n",
              "\n",
              "#sk-container-id-23 div.sk-toggleable__content {\n",
              "  max-height: 0;\n",
              "  max-width: 0;\n",
              "  overflow: hidden;\n",
              "  text-align: left;\n",
              "  /* unfitted */\n",
              "  background-color: var(--sklearn-color-unfitted-level-0);\n",
              "}\n",
              "\n",
              "#sk-container-id-23 div.sk-toggleable__content.fitted {\n",
              "  /* fitted */\n",
              "  background-color: var(--sklearn-color-fitted-level-0);\n",
              "}\n",
              "\n",
              "#sk-container-id-23 div.sk-toggleable__content pre {\n",
              "  margin: 0.2em;\n",
              "  border-radius: 0.25em;\n",
              "  color: var(--sklearn-color-text);\n",
              "  /* unfitted */\n",
              "  background-color: var(--sklearn-color-unfitted-level-0);\n",
              "}\n",
              "\n",
              "#sk-container-id-23 div.sk-toggleable__content.fitted pre {\n",
              "  /* unfitted */\n",
              "  background-color: var(--sklearn-color-fitted-level-0);\n",
              "}\n",
              "\n",
              "#sk-container-id-23 input.sk-toggleable__control:checked~div.sk-toggleable__content {\n",
              "  /* Expand drop-down */\n",
              "  max-height: 200px;\n",
              "  max-width: 100%;\n",
              "  overflow: auto;\n",
              "}\n",
              "\n",
              "#sk-container-id-23 input.sk-toggleable__control:checked~label.sk-toggleable__label-arrow:before {\n",
              "  content: \"▾\";\n",
              "}\n",
              "\n",
              "/* Pipeline/ColumnTransformer-specific style */\n",
              "\n",
              "#sk-container-id-23 div.sk-label input.sk-toggleable__control:checked~label.sk-toggleable__label {\n",
              "  color: var(--sklearn-color-text);\n",
              "  background-color: var(--sklearn-color-unfitted-level-2);\n",
              "}\n",
              "\n",
              "#sk-container-id-23 div.sk-label.fitted input.sk-toggleable__control:checked~label.sk-toggleable__label {\n",
              "  background-color: var(--sklearn-color-fitted-level-2);\n",
              "}\n",
              "\n",
              "/* Estimator-specific style */\n",
              "\n",
              "/* Colorize estimator box */\n",
              "#sk-container-id-23 div.sk-estimator input.sk-toggleable__control:checked~label.sk-toggleable__label {\n",
              "  /* unfitted */\n",
              "  background-color: var(--sklearn-color-unfitted-level-2);\n",
              "}\n",
              "\n",
              "#sk-container-id-23 div.sk-estimator.fitted input.sk-toggleable__control:checked~label.sk-toggleable__label {\n",
              "  /* fitted */\n",
              "  background-color: var(--sklearn-color-fitted-level-2);\n",
              "}\n",
              "\n",
              "#sk-container-id-23 div.sk-label label.sk-toggleable__label,\n",
              "#sk-container-id-23 div.sk-label label {\n",
              "  /* The background is the default theme color */\n",
              "  color: var(--sklearn-color-text-on-default-background);\n",
              "}\n",
              "\n",
              "/* On hover, darken the color of the background */\n",
              "#sk-container-id-23 div.sk-label:hover label.sk-toggleable__label {\n",
              "  color: var(--sklearn-color-text);\n",
              "  background-color: var(--sklearn-color-unfitted-level-2);\n",
              "}\n",
              "\n",
              "/* Label box, darken color on hover, fitted */\n",
              "#sk-container-id-23 div.sk-label.fitted:hover label.sk-toggleable__label.fitted {\n",
              "  color: var(--sklearn-color-text);\n",
              "  background-color: var(--sklearn-color-fitted-level-2);\n",
              "}\n",
              "\n",
              "/* Estimator label */\n",
              "\n",
              "#sk-container-id-23 div.sk-label label {\n",
              "  font-family: monospace;\n",
              "  font-weight: bold;\n",
              "  display: inline-block;\n",
              "  line-height: 1.2em;\n",
              "}\n",
              "\n",
              "#sk-container-id-23 div.sk-label-container {\n",
              "  text-align: center;\n",
              "}\n",
              "\n",
              "/* Estimator-specific */\n",
              "#sk-container-id-23 div.sk-estimator {\n",
              "  font-family: monospace;\n",
              "  border: 1px dotted var(--sklearn-color-border-box);\n",
              "  border-radius: 0.25em;\n",
              "  box-sizing: border-box;\n",
              "  margin-bottom: 0.5em;\n",
              "  /* unfitted */\n",
              "  background-color: var(--sklearn-color-unfitted-level-0);\n",
              "}\n",
              "\n",
              "#sk-container-id-23 div.sk-estimator.fitted {\n",
              "  /* fitted */\n",
              "  background-color: var(--sklearn-color-fitted-level-0);\n",
              "}\n",
              "\n",
              "/* on hover */\n",
              "#sk-container-id-23 div.sk-estimator:hover {\n",
              "  /* unfitted */\n",
              "  background-color: var(--sklearn-color-unfitted-level-2);\n",
              "}\n",
              "\n",
              "#sk-container-id-23 div.sk-estimator.fitted:hover {\n",
              "  /* fitted */\n",
              "  background-color: var(--sklearn-color-fitted-level-2);\n",
              "}\n",
              "\n",
              "/* Specification for estimator info (e.g. \"i\" and \"?\") */\n",
              "\n",
              "/* Common style for \"i\" and \"?\" */\n",
              "\n",
              ".sk-estimator-doc-link,\n",
              "a:link.sk-estimator-doc-link,\n",
              "a:visited.sk-estimator-doc-link {\n",
              "  float: right;\n",
              "  font-size: smaller;\n",
              "  line-height: 1em;\n",
              "  font-family: monospace;\n",
              "  background-color: var(--sklearn-color-background);\n",
              "  border-radius: 1em;\n",
              "  height: 1em;\n",
              "  width: 1em;\n",
              "  text-decoration: none !important;\n",
              "  margin-left: 0.5em;\n",
              "  text-align: center;\n",
              "  /* unfitted */\n",
              "  border: var(--sklearn-color-unfitted-level-1) 1pt solid;\n",
              "  color: var(--sklearn-color-unfitted-level-1);\n",
              "}\n",
              "\n",
              ".sk-estimator-doc-link.fitted,\n",
              "a:link.sk-estimator-doc-link.fitted,\n",
              "a:visited.sk-estimator-doc-link.fitted {\n",
              "  /* fitted */\n",
              "  border: var(--sklearn-color-fitted-level-1) 1pt solid;\n",
              "  color: var(--sklearn-color-fitted-level-1);\n",
              "}\n",
              "\n",
              "/* On hover */\n",
              "div.sk-estimator:hover .sk-estimator-doc-link:hover,\n",
              ".sk-estimator-doc-link:hover,\n",
              "div.sk-label-container:hover .sk-estimator-doc-link:hover,\n",
              ".sk-estimator-doc-link:hover {\n",
              "  /* unfitted */\n",
              "  background-color: var(--sklearn-color-unfitted-level-3);\n",
              "  color: var(--sklearn-color-background);\n",
              "  text-decoration: none;\n",
              "}\n",
              "\n",
              "div.sk-estimator.fitted:hover .sk-estimator-doc-link.fitted:hover,\n",
              ".sk-estimator-doc-link.fitted:hover,\n",
              "div.sk-label-container:hover .sk-estimator-doc-link.fitted:hover,\n",
              ".sk-estimator-doc-link.fitted:hover {\n",
              "  /* fitted */\n",
              "  background-color: var(--sklearn-color-fitted-level-3);\n",
              "  color: var(--sklearn-color-background);\n",
              "  text-decoration: none;\n",
              "}\n",
              "\n",
              "/* Span, style for the box shown on hovering the info icon */\n",
              ".sk-estimator-doc-link span {\n",
              "  display: none;\n",
              "  z-index: 9999;\n",
              "  position: relative;\n",
              "  font-weight: normal;\n",
              "  right: .2ex;\n",
              "  padding: .5ex;\n",
              "  margin: .5ex;\n",
              "  width: min-content;\n",
              "  min-width: 20ex;\n",
              "  max-width: 50ex;\n",
              "  color: var(--sklearn-color-text);\n",
              "  box-shadow: 2pt 2pt 4pt #999;\n",
              "  /* unfitted */\n",
              "  background: var(--sklearn-color-unfitted-level-0);\n",
              "  border: .5pt solid var(--sklearn-color-unfitted-level-3);\n",
              "}\n",
              "\n",
              ".sk-estimator-doc-link.fitted span {\n",
              "  /* fitted */\n",
              "  background: var(--sklearn-color-fitted-level-0);\n",
              "  border: var(--sklearn-color-fitted-level-3);\n",
              "}\n",
              "\n",
              ".sk-estimator-doc-link:hover span {\n",
              "  display: block;\n",
              "}\n",
              "\n",
              "/* \"?\"-specific style due to the `<a>` HTML tag */\n",
              "\n",
              "#sk-container-id-23 a.estimator_doc_link {\n",
              "  float: right;\n",
              "  font-size: 1rem;\n",
              "  line-height: 1em;\n",
              "  font-family: monospace;\n",
              "  background-color: var(--sklearn-color-background);\n",
              "  border-radius: 1rem;\n",
              "  height: 1rem;\n",
              "  width: 1rem;\n",
              "  text-decoration: none;\n",
              "  /* unfitted */\n",
              "  color: var(--sklearn-color-unfitted-level-1);\n",
              "  border: var(--sklearn-color-unfitted-level-1) 1pt solid;\n",
              "}\n",
              "\n",
              "#sk-container-id-23 a.estimator_doc_link.fitted {\n",
              "  /* fitted */\n",
              "  border: var(--sklearn-color-fitted-level-1) 1pt solid;\n",
              "  color: var(--sklearn-color-fitted-level-1);\n",
              "}\n",
              "\n",
              "/* On hover */\n",
              "#sk-container-id-23 a.estimator_doc_link:hover {\n",
              "  /* unfitted */\n",
              "  background-color: var(--sklearn-color-unfitted-level-3);\n",
              "  color: var(--sklearn-color-background);\n",
              "  text-decoration: none;\n",
              "}\n",
              "\n",
              "#sk-container-id-23 a.estimator_doc_link.fitted:hover {\n",
              "  /* fitted */\n",
              "  background-color: var(--sklearn-color-fitted-level-3);\n",
              "}\n",
              "</style><div id=\"sk-container-id-23\" class=\"sk-top-container\"><div class=\"sk-text-repr-fallback\"><pre>XGBRegressor(base_score=None, booster=None, callbacks=None,\n",
              "             colsample_bylevel=None, colsample_bynode=None,\n",
              "             colsample_bytree=None, device=None, early_stopping_rounds=200,\n",
              "             enable_categorical=True, eval_metric=&#x27;rmse&#x27;, feature_types=None,\n",
              "             feature_weights=None, gamma=None, grow_policy=None,\n",
              "             importance_type=None, interaction_constraints=None,\n",
              "             learning_rate=0.05, max_bin=None, max_cat_threshold=None,\n",
              "             max_cat_to_onehot=None, max_delta_step=None, max_depth=6,\n",
              "             max_leaves=None, min_child_weight=None, missing=nan,\n",
              "             monotone_constraints=None, multi_strategy=None, n_estimators=1000,\n",
              "             n_jobs=None, num_parallel_tree=None, ...)</pre><b>In a Jupyter environment, please rerun this cell to show the HTML representation or trust the notebook. <br />On GitHub, the HTML representation is unable to render, please try loading this page with nbviewer.org.</b></div><div class=\"sk-container\" hidden><div class=\"sk-item\"><div class=\"sk-estimator fitted sk-toggleable\"><input class=\"sk-toggleable__control sk-hidden--visually\" id=\"sk-estimator-id-23\" type=\"checkbox\" checked><label for=\"sk-estimator-id-23\" class=\"sk-toggleable__label fitted sk-toggleable__label-arrow\"><div><div>XGBRegressor</div></div><div><a class=\"sk-estimator-doc-link fitted\" rel=\"noreferrer\" target=\"_blank\" href=\"https://xgboost.readthedocs.io/en/release_3.0.0/python/python_api.html#xgboost.XGBRegressor\">?<span>Documentation for XGBRegressor</span></a><span class=\"sk-estimator-doc-link fitted\">i<span>Fitted</span></span></div></label><div class=\"sk-toggleable__content fitted\"><pre>XGBRegressor(base_score=None, booster=None, callbacks=None,\n",
              "             colsample_bylevel=None, colsample_bynode=None,\n",
              "             colsample_bytree=None, device=None, early_stopping_rounds=200,\n",
              "             enable_categorical=True, eval_metric=&#x27;rmse&#x27;, feature_types=None,\n",
              "             feature_weights=None, gamma=None, grow_policy=None,\n",
              "             importance_type=None, interaction_constraints=None,\n",
              "             learning_rate=0.05, max_bin=None, max_cat_threshold=None,\n",
              "             max_cat_to_onehot=None, max_delta_step=None, max_depth=6,\n",
              "             max_leaves=None, min_child_weight=None, missing=nan,\n",
              "             monotone_constraints=None, multi_strategy=None, n_estimators=1000,\n",
              "             n_jobs=None, num_parallel_tree=None, ...)</pre></div> </div></div></div></div>"
            ]
          },
          "metadata": {},
          "execution_count": 476
        }
      ]
    },
    {
      "cell_type": "code",
      "source": [
        "print(round(opt_model.best_score, 5), opt_model.best_iteration)"
      ],
      "metadata": {
        "colab": {
          "base_uri": "https://localhost:8080/"
        },
        "id": "oBhf43OhH6Zy",
        "outputId": "4603cfa3-64be-4b60-9aa9-cc34185fb892"
      },
      "execution_count": null,
      "outputs": [
        {
          "output_type": "stream",
          "name": "stdout",
          "text": [
            "13.91665 35\n"
          ]
        }
      ]
    },
    {
      "cell_type": "code",
      "source": [
        "# Predict\n",
        "y_pred_val = opt_model.predict(X_val)\n",
        "\n",
        "val_cat['XGB_val'] = y_pred_val\n",
        "val_cat['XGB_val'] = np.where(val_cat['XGB_val'] < 0, 0, val_cat['XGB_val'])\n",
        "val_cat['XGB_val_round'] = np.round(val_cat['XGB_val']).astype('uint16')"
      ],
      "metadata": {
        "id": "o7TzC5yYH6We"
      },
      "execution_count": null,
      "outputs": []
    },
    {
      "cell_type": "code",
      "source": [
        "#RMSSE, MAE - float prediction\n",
        "r_vec_cat, cols_cat = fast_rmsse(train_cat, val_cat, val_cat, 'XGB_val')\n",
        "print(f\"RMSSE CatBoostRegressor for h={h}: {np.nanmean(r_vec_cat):.3f}\")\n",
        "\n",
        "#RMSSE, MAE - integer prediction\n",
        "r_vec_cat, cols_cat = fast_rmsse(train_cat, val_cat, val_cat, 'XGB_val_round')\n",
        "print(f\"RMSSE CatBoostRegressor for h={h}: {np.nanmean(r_vec_cat):.3f}\")"
      ],
      "metadata": {
        "colab": {
          "base_uri": "https://localhost:8080/"
        },
        "id": "87hSZdrhMqhK",
        "outputId": "661d63b4-9a33-4eeb-a420-66b630a53456"
      },
      "execution_count": null,
      "outputs": [
        {
          "output_type": "stream",
          "name": "stdout",
          "text": [
            "RMSSE CatBoostRegressor for h=12: 1.148\n",
            "RMSSE CatBoostRegressor for h=12: 1.246\n"
          ]
        }
      ]
    },
    {
      "cell_type": "markdown",
      "source": [
        "####With hyperparameters tuning"
      ],
      "metadata": {
        "id": "i2bwAP0PQzZx"
      }
    },
    {
      "cell_type": "code",
      "source": [
        "train_cat['description'] = train_cat['description'].astype(\"category\")\n",
        "val_cat['description'] = val_cat['description'].astype(\"category\")\n",
        "test_cat['description'] = test_cat['description'].astype(\"category\")"
      ],
      "metadata": {
        "id": "3UZxjqjyMqdn"
      },
      "execution_count": null,
      "outputs": []
    },
    {
      "cell_type": "code",
      "source": [
        "#set of initial features\n",
        "X = ['unique_id', 'description',\t'lead_time',\t'price', 'year', 'month']\n",
        "y = 'y'\n",
        "\n",
        "X_train = train_cat[X]\n",
        "y_train = train_cat[y]\n",
        "X_val = val_cat[X]\n",
        "y_val = val_cat[y]\n",
        "X_test = test_cat[X]\n",
        "y_test = test_cat[y]"
      ],
      "metadata": {
        "id": "Js6vrHtOQ8_9"
      },
      "execution_count": null,
      "outputs": []
    },
    {
      "cell_type": "code",
      "source": [
        "#finding optimal hyperparameters\n",
        "def objective_xgb(trial):\n",
        "    depth = trial.suggest_int('max_depth', 4, 10)\n",
        "    lr = trial.suggest_float('learning_rate', 0.01, 0.3, log=True)\n",
        "\n",
        "    model = XGBRegressor(\n",
        "        n_estimators=1000,\n",
        "        max_depth=depth,\n",
        "        learning_rate=lr,\n",
        "        early_stopping_rounds=200,\n",
        "        objective='reg:squarederror',  # optimizes MSE\n",
        "        eval_metric='rmse', #MAE R2\n",
        "        random_state=42,\n",
        "        enable_categorical=True\n",
        "    )\n",
        "\n",
        "    model.fit(\n",
        "        X_train, y_train,\n",
        "        eval_set=[(X_val, y_val)],\n",
        "        verbose=False\n",
        "    )\n",
        "\n",
        "    trial.set_user_attr(\"best_iteration\", model.best_iteration)\n",
        "\n",
        "    return model.best_score\n",
        "\n",
        "sampler = optuna.samplers.TPESampler(seed=42)\n",
        "study = optuna.create_study(direction=\"minimize\", sampler=sampler)\n",
        "study.optimize(objective_xgb, n_trials=20)"
      ],
      "metadata": {
        "colab": {
          "base_uri": "https://localhost:8080/"
        },
        "id": "UpTb9P5KQ88Q",
        "outputId": "efa6a498-7810-4218-d7f3-4c89e7964ce7"
      },
      "execution_count": null,
      "outputs": [
        {
          "output_type": "stream",
          "name": "stderr",
          "text": [
            "[I 2025-09-08 14:54:52,733] A new study created in memory with name: no-name-e84c2653-b3e6-43e3-befe-51f5fe64da8a\n",
            "[I 2025-09-08 14:55:01,826] Trial 0 finished with value: 12.446860128778054 and parameters: {'max_depth': 6, 'learning_rate': 0.2536999076681772}. Best is trial 0 with value: 12.446860128778054.\n",
            "[I 2025-09-08 14:55:25,764] Trial 1 finished with value: 12.511744628990707 and parameters: {'max_depth': 9, 'learning_rate': 0.07661100707771368}. Best is trial 0 with value: 12.446860128778054.\n",
            "[I 2025-09-08 14:55:38,054] Trial 2 finished with value: 12.515332451953684 and parameters: {'max_depth': 5, 'learning_rate': 0.01699897838270077}. Best is trial 0 with value: 12.446860128778054.\n",
            "[I 2025-09-08 14:55:44,224] Trial 3 finished with value: 12.525741360346945 and parameters: {'max_depth': 4, 'learning_rate': 0.19030368381735815}. Best is trial 0 with value: 12.446860128778054.\n",
            "[I 2025-09-08 14:56:03,095] Trial 4 finished with value: 12.488877307339962 and parameters: {'max_depth': 8, 'learning_rate': 0.11114989443094977}. Best is trial 0 with value: 12.446860128778054.\n",
            "[I 2025-09-08 14:56:09,118] Trial 5 finished with value: 12.555638620488661 and parameters: {'max_depth': 4, 'learning_rate': 0.2708160864249968}. Best is trial 0 with value: 12.446860128778054.\n",
            "[I 2025-09-08 14:56:40,378] Trial 6 finished with value: 12.500420880991241 and parameters: {'max_depth': 9, 'learning_rate': 0.020589728197687916}. Best is trial 0 with value: 12.446860128778054.\n",
            "[I 2025-09-08 14:56:50,844] Trial 7 finished with value: 12.507800008696698 and parameters: {'max_depth': 5, 'learning_rate': 0.018659959624904916}. Best is trial 0 with value: 12.446860128778054.\n",
            "[I 2025-09-08 14:57:02,529] Trial 8 finished with value: 12.454030795827434 and parameters: {'max_depth': 6, 'learning_rate': 0.05958389350068958}. Best is trial 0 with value: 12.446860128778054.\n",
            "[I 2025-09-08 14:57:17,976] Trial 9 finished with value: 12.450350043366992 and parameters: {'max_depth': 7, 'learning_rate': 0.02692655251486473}. Best is trial 0 with value: 12.446860128778054.\n",
            "[I 2025-09-08 14:57:52,665] Trial 10 finished with value: 12.540955931611638 and parameters: {'max_depth': 10, 'learning_rate': 0.13785830577715374}. Best is trial 0 with value: 12.446860128778054.\n",
            "[I 2025-09-08 14:58:07,474] Trial 11 finished with value: 12.450103905287865 and parameters: {'max_depth': 7, 'learning_rate': 0.03400967395367027}. Best is trial 0 with value: 12.446860128778054.\n",
            "[I 2025-09-08 14:58:22,843] Trial 12 finished with value: 12.453667890787974 and parameters: {'max_depth': 7, 'learning_rate': 0.03674771711278268}. Best is trial 0 with value: 12.446860128778054.\n",
            "[I 2025-09-08 14:58:35,447] Trial 13 finished with value: 12.454478536883547 and parameters: {'max_depth': 6, 'learning_rate': 0.03799273062329156}. Best is trial 0 with value: 12.446860128778054.\n",
            "[I 2025-09-08 14:58:53,132] Trial 14 finished with value: 12.451085578944777 and parameters: {'max_depth': 6, 'learning_rate': 0.010458361070578832}. Best is trial 0 with value: 12.446860128778054.\n",
            "[I 2025-09-08 14:59:06,895] Trial 15 finished with value: 12.44438420463117 and parameters: {'max_depth': 7, 'learning_rate': 0.08798155327756996}. Best is trial 15 with value: 12.44438420463117.\n",
            "[I 2025-09-08 14:59:26,169] Trial 16 finished with value: 12.500417045268723 and parameters: {'max_depth': 8, 'learning_rate': 0.2939618275329455}. Best is trial 15 with value: 12.44438420463117.\n",
            "[I 2025-09-08 14:59:33,526] Trial 17 finished with value: 12.489806926147743 and parameters: {'max_depth': 5, 'learning_rate': 0.09984007417228705}. Best is trial 15 with value: 12.44438420463117.\n",
            "[I 2025-09-08 14:59:52,522] Trial 18 finished with value: 12.493326527604804 and parameters: {'max_depth': 8, 'learning_rate': 0.20614396905713375}. Best is trial 15 with value: 12.44438420463117.\n",
            "[I 2025-09-08 15:00:01,646] Trial 19 finished with value: 12.451238212289857 and parameters: {'max_depth': 6, 'learning_rate': 0.162369657518548}. Best is trial 15 with value: 12.44438420463117.\n"
          ]
        }
      ]
    },
    {
      "cell_type": "code",
      "source": [
        "best_model_xgb = XGBRegressor(\n",
        "    n_estimators=1000,\n",
        "    max_depth=study.best_params['max_depth'],\n",
        "    learning_rate=study.best_params['learning_rate'],\n",
        "    early_stopping_rounds=200,\n",
        "    objective='reg:squarederror',  # optimizes MSE\n",
        "    eval_metric='rmse', #MAE R2\n",
        "    random_state=42,\n",
        "    enable_categorical=True\n",
        ")\n",
        "best_model_xgb.fit(\n",
        "    X_train, y_train,\n",
        "    eval_set=[(X_val, y_val)],\n",
        "    verbose=False\n",
        ")"
      ],
      "metadata": {
        "colab": {
          "base_uri": "https://localhost:8080/",
          "height": 257
        },
        "id": "om7lNWEaQ85t",
        "outputId": "b8963c34-3f1e-488c-af83-2ebf77624ccc"
      },
      "execution_count": null,
      "outputs": [
        {
          "output_type": "execute_result",
          "data": {
            "text/plain": [
              "XGBRegressor(base_score=None, booster=None, callbacks=None,\n",
              "             colsample_bylevel=None, colsample_bynode=None,\n",
              "             colsample_bytree=None, device=None, early_stopping_rounds=200,\n",
              "             enable_categorical=True, eval_metric='rmse', feature_types=None,\n",
              "             feature_weights=None, gamma=None, grow_policy=None,\n",
              "             importance_type=None, interaction_constraints=None,\n",
              "             learning_rate=0.08798155327756996, max_bin=None,\n",
              "             max_cat_threshold=None, max_cat_to_onehot=None,\n",
              "             max_delta_step=None, max_depth=7, max_leaves=None,\n",
              "             min_child_weight=None, missing=nan, monotone_constraints=None,\n",
              "             multi_strategy=None, n_estimators=1000, n_jobs=None,\n",
              "             num_parallel_tree=None, ...)"
            ],
            "text/html": [
              "<style>#sk-container-id-29 {\n",
              "  /* Definition of color scheme common for light and dark mode */\n",
              "  --sklearn-color-text: #000;\n",
              "  --sklearn-color-text-muted: #666;\n",
              "  --sklearn-color-line: gray;\n",
              "  /* Definition of color scheme for unfitted estimators */\n",
              "  --sklearn-color-unfitted-level-0: #fff5e6;\n",
              "  --sklearn-color-unfitted-level-1: #f6e4d2;\n",
              "  --sklearn-color-unfitted-level-2: #ffe0b3;\n",
              "  --sklearn-color-unfitted-level-3: chocolate;\n",
              "  /* Definition of color scheme for fitted estimators */\n",
              "  --sklearn-color-fitted-level-0: #f0f8ff;\n",
              "  --sklearn-color-fitted-level-1: #d4ebff;\n",
              "  --sklearn-color-fitted-level-2: #b3dbfd;\n",
              "  --sklearn-color-fitted-level-3: cornflowerblue;\n",
              "\n",
              "  /* Specific color for light theme */\n",
              "  --sklearn-color-text-on-default-background: var(--sg-text-color, var(--theme-code-foreground, var(--jp-content-font-color1, black)));\n",
              "  --sklearn-color-background: var(--sg-background-color, var(--theme-background, var(--jp-layout-color0, white)));\n",
              "  --sklearn-color-border-box: var(--sg-text-color, var(--theme-code-foreground, var(--jp-content-font-color1, black)));\n",
              "  --sklearn-color-icon: #696969;\n",
              "\n",
              "  @media (prefers-color-scheme: dark) {\n",
              "    /* Redefinition of color scheme for dark theme */\n",
              "    --sklearn-color-text-on-default-background: var(--sg-text-color, var(--theme-code-foreground, var(--jp-content-font-color1, white)));\n",
              "    --sklearn-color-background: var(--sg-background-color, var(--theme-background, var(--jp-layout-color0, #111)));\n",
              "    --sklearn-color-border-box: var(--sg-text-color, var(--theme-code-foreground, var(--jp-content-font-color1, white)));\n",
              "    --sklearn-color-icon: #878787;\n",
              "  }\n",
              "}\n",
              "\n",
              "#sk-container-id-29 {\n",
              "  color: var(--sklearn-color-text);\n",
              "}\n",
              "\n",
              "#sk-container-id-29 pre {\n",
              "  padding: 0;\n",
              "}\n",
              "\n",
              "#sk-container-id-29 input.sk-hidden--visually {\n",
              "  border: 0;\n",
              "  clip: rect(1px 1px 1px 1px);\n",
              "  clip: rect(1px, 1px, 1px, 1px);\n",
              "  height: 1px;\n",
              "  margin: -1px;\n",
              "  overflow: hidden;\n",
              "  padding: 0;\n",
              "  position: absolute;\n",
              "  width: 1px;\n",
              "}\n",
              "\n",
              "#sk-container-id-29 div.sk-dashed-wrapped {\n",
              "  border: 1px dashed var(--sklearn-color-line);\n",
              "  margin: 0 0.4em 0.5em 0.4em;\n",
              "  box-sizing: border-box;\n",
              "  padding-bottom: 0.4em;\n",
              "  background-color: var(--sklearn-color-background);\n",
              "}\n",
              "\n",
              "#sk-container-id-29 div.sk-container {\n",
              "  /* jupyter's `normalize.less` sets `[hidden] { display: none; }`\n",
              "     but bootstrap.min.css set `[hidden] { display: none !important; }`\n",
              "     so we also need the `!important` here to be able to override the\n",
              "     default hidden behavior on the sphinx rendered scikit-learn.org.\n",
              "     See: https://github.com/scikit-learn/scikit-learn/issues/21755 */\n",
              "  display: inline-block !important;\n",
              "  position: relative;\n",
              "}\n",
              "\n",
              "#sk-container-id-29 div.sk-text-repr-fallback {\n",
              "  display: none;\n",
              "}\n",
              "\n",
              "div.sk-parallel-item,\n",
              "div.sk-serial,\n",
              "div.sk-item {\n",
              "  /* draw centered vertical line to link estimators */\n",
              "  background-image: linear-gradient(var(--sklearn-color-text-on-default-background), var(--sklearn-color-text-on-default-background));\n",
              "  background-size: 2px 100%;\n",
              "  background-repeat: no-repeat;\n",
              "  background-position: center center;\n",
              "}\n",
              "\n",
              "/* Parallel-specific style estimator block */\n",
              "\n",
              "#sk-container-id-29 div.sk-parallel-item::after {\n",
              "  content: \"\";\n",
              "  width: 100%;\n",
              "  border-bottom: 2px solid var(--sklearn-color-text-on-default-background);\n",
              "  flex-grow: 1;\n",
              "}\n",
              "\n",
              "#sk-container-id-29 div.sk-parallel {\n",
              "  display: flex;\n",
              "  align-items: stretch;\n",
              "  justify-content: center;\n",
              "  background-color: var(--sklearn-color-background);\n",
              "  position: relative;\n",
              "}\n",
              "\n",
              "#sk-container-id-29 div.sk-parallel-item {\n",
              "  display: flex;\n",
              "  flex-direction: column;\n",
              "}\n",
              "\n",
              "#sk-container-id-29 div.sk-parallel-item:first-child::after {\n",
              "  align-self: flex-end;\n",
              "  width: 50%;\n",
              "}\n",
              "\n",
              "#sk-container-id-29 div.sk-parallel-item:last-child::after {\n",
              "  align-self: flex-start;\n",
              "  width: 50%;\n",
              "}\n",
              "\n",
              "#sk-container-id-29 div.sk-parallel-item:only-child::after {\n",
              "  width: 0;\n",
              "}\n",
              "\n",
              "/* Serial-specific style estimator block */\n",
              "\n",
              "#sk-container-id-29 div.sk-serial {\n",
              "  display: flex;\n",
              "  flex-direction: column;\n",
              "  align-items: center;\n",
              "  background-color: var(--sklearn-color-background);\n",
              "  padding-right: 1em;\n",
              "  padding-left: 1em;\n",
              "}\n",
              "\n",
              "\n",
              "/* Toggleable style: style used for estimator/Pipeline/ColumnTransformer box that is\n",
              "clickable and can be expanded/collapsed.\n",
              "- Pipeline and ColumnTransformer use this feature and define the default style\n",
              "- Estimators will overwrite some part of the style using the `sk-estimator` class\n",
              "*/\n",
              "\n",
              "/* Pipeline and ColumnTransformer style (default) */\n",
              "\n",
              "#sk-container-id-29 div.sk-toggleable {\n",
              "  /* Default theme specific background. It is overwritten whether we have a\n",
              "  specific estimator or a Pipeline/ColumnTransformer */\n",
              "  background-color: var(--sklearn-color-background);\n",
              "}\n",
              "\n",
              "/* Toggleable label */\n",
              "#sk-container-id-29 label.sk-toggleable__label {\n",
              "  cursor: pointer;\n",
              "  display: flex;\n",
              "  width: 100%;\n",
              "  margin-bottom: 0;\n",
              "  padding: 0.5em;\n",
              "  box-sizing: border-box;\n",
              "  text-align: center;\n",
              "  align-items: start;\n",
              "  justify-content: space-between;\n",
              "  gap: 0.5em;\n",
              "}\n",
              "\n",
              "#sk-container-id-29 label.sk-toggleable__label .caption {\n",
              "  font-size: 0.6rem;\n",
              "  font-weight: lighter;\n",
              "  color: var(--sklearn-color-text-muted);\n",
              "}\n",
              "\n",
              "#sk-container-id-29 label.sk-toggleable__label-arrow:before {\n",
              "  /* Arrow on the left of the label */\n",
              "  content: \"▸\";\n",
              "  float: left;\n",
              "  margin-right: 0.25em;\n",
              "  color: var(--sklearn-color-icon);\n",
              "}\n",
              "\n",
              "#sk-container-id-29 label.sk-toggleable__label-arrow:hover:before {\n",
              "  color: var(--sklearn-color-text);\n",
              "}\n",
              "\n",
              "/* Toggleable content - dropdown */\n",
              "\n",
              "#sk-container-id-29 div.sk-toggleable__content {\n",
              "  max-height: 0;\n",
              "  max-width: 0;\n",
              "  overflow: hidden;\n",
              "  text-align: left;\n",
              "  /* unfitted */\n",
              "  background-color: var(--sklearn-color-unfitted-level-0);\n",
              "}\n",
              "\n",
              "#sk-container-id-29 div.sk-toggleable__content.fitted {\n",
              "  /* fitted */\n",
              "  background-color: var(--sklearn-color-fitted-level-0);\n",
              "}\n",
              "\n",
              "#sk-container-id-29 div.sk-toggleable__content pre {\n",
              "  margin: 0.2em;\n",
              "  border-radius: 0.25em;\n",
              "  color: var(--sklearn-color-text);\n",
              "  /* unfitted */\n",
              "  background-color: var(--sklearn-color-unfitted-level-0);\n",
              "}\n",
              "\n",
              "#sk-container-id-29 div.sk-toggleable__content.fitted pre {\n",
              "  /* unfitted */\n",
              "  background-color: var(--sklearn-color-fitted-level-0);\n",
              "}\n",
              "\n",
              "#sk-container-id-29 input.sk-toggleable__control:checked~div.sk-toggleable__content {\n",
              "  /* Expand drop-down */\n",
              "  max-height: 200px;\n",
              "  max-width: 100%;\n",
              "  overflow: auto;\n",
              "}\n",
              "\n",
              "#sk-container-id-29 input.sk-toggleable__control:checked~label.sk-toggleable__label-arrow:before {\n",
              "  content: \"▾\";\n",
              "}\n",
              "\n",
              "/* Pipeline/ColumnTransformer-specific style */\n",
              "\n",
              "#sk-container-id-29 div.sk-label input.sk-toggleable__control:checked~label.sk-toggleable__label {\n",
              "  color: var(--sklearn-color-text);\n",
              "  background-color: var(--sklearn-color-unfitted-level-2);\n",
              "}\n",
              "\n",
              "#sk-container-id-29 div.sk-label.fitted input.sk-toggleable__control:checked~label.sk-toggleable__label {\n",
              "  background-color: var(--sklearn-color-fitted-level-2);\n",
              "}\n",
              "\n",
              "/* Estimator-specific style */\n",
              "\n",
              "/* Colorize estimator box */\n",
              "#sk-container-id-29 div.sk-estimator input.sk-toggleable__control:checked~label.sk-toggleable__label {\n",
              "  /* unfitted */\n",
              "  background-color: var(--sklearn-color-unfitted-level-2);\n",
              "}\n",
              "\n",
              "#sk-container-id-29 div.sk-estimator.fitted input.sk-toggleable__control:checked~label.sk-toggleable__label {\n",
              "  /* fitted */\n",
              "  background-color: var(--sklearn-color-fitted-level-2);\n",
              "}\n",
              "\n",
              "#sk-container-id-29 div.sk-label label.sk-toggleable__label,\n",
              "#sk-container-id-29 div.sk-label label {\n",
              "  /* The background is the default theme color */\n",
              "  color: var(--sklearn-color-text-on-default-background);\n",
              "}\n",
              "\n",
              "/* On hover, darken the color of the background */\n",
              "#sk-container-id-29 div.sk-label:hover label.sk-toggleable__label {\n",
              "  color: var(--sklearn-color-text);\n",
              "  background-color: var(--sklearn-color-unfitted-level-2);\n",
              "}\n",
              "\n",
              "/* Label box, darken color on hover, fitted */\n",
              "#sk-container-id-29 div.sk-label.fitted:hover label.sk-toggleable__label.fitted {\n",
              "  color: var(--sklearn-color-text);\n",
              "  background-color: var(--sklearn-color-fitted-level-2);\n",
              "}\n",
              "\n",
              "/* Estimator label */\n",
              "\n",
              "#sk-container-id-29 div.sk-label label {\n",
              "  font-family: monospace;\n",
              "  font-weight: bold;\n",
              "  display: inline-block;\n",
              "  line-height: 1.2em;\n",
              "}\n",
              "\n",
              "#sk-container-id-29 div.sk-label-container {\n",
              "  text-align: center;\n",
              "}\n",
              "\n",
              "/* Estimator-specific */\n",
              "#sk-container-id-29 div.sk-estimator {\n",
              "  font-family: monospace;\n",
              "  border: 1px dotted var(--sklearn-color-border-box);\n",
              "  border-radius: 0.25em;\n",
              "  box-sizing: border-box;\n",
              "  margin-bottom: 0.5em;\n",
              "  /* unfitted */\n",
              "  background-color: var(--sklearn-color-unfitted-level-0);\n",
              "}\n",
              "\n",
              "#sk-container-id-29 div.sk-estimator.fitted {\n",
              "  /* fitted */\n",
              "  background-color: var(--sklearn-color-fitted-level-0);\n",
              "}\n",
              "\n",
              "/* on hover */\n",
              "#sk-container-id-29 div.sk-estimator:hover {\n",
              "  /* unfitted */\n",
              "  background-color: var(--sklearn-color-unfitted-level-2);\n",
              "}\n",
              "\n",
              "#sk-container-id-29 div.sk-estimator.fitted:hover {\n",
              "  /* fitted */\n",
              "  background-color: var(--sklearn-color-fitted-level-2);\n",
              "}\n",
              "\n",
              "/* Specification for estimator info (e.g. \"i\" and \"?\") */\n",
              "\n",
              "/* Common style for \"i\" and \"?\" */\n",
              "\n",
              ".sk-estimator-doc-link,\n",
              "a:link.sk-estimator-doc-link,\n",
              "a:visited.sk-estimator-doc-link {\n",
              "  float: right;\n",
              "  font-size: smaller;\n",
              "  line-height: 1em;\n",
              "  font-family: monospace;\n",
              "  background-color: var(--sklearn-color-background);\n",
              "  border-radius: 1em;\n",
              "  height: 1em;\n",
              "  width: 1em;\n",
              "  text-decoration: none !important;\n",
              "  margin-left: 0.5em;\n",
              "  text-align: center;\n",
              "  /* unfitted */\n",
              "  border: var(--sklearn-color-unfitted-level-1) 1pt solid;\n",
              "  color: var(--sklearn-color-unfitted-level-1);\n",
              "}\n",
              "\n",
              ".sk-estimator-doc-link.fitted,\n",
              "a:link.sk-estimator-doc-link.fitted,\n",
              "a:visited.sk-estimator-doc-link.fitted {\n",
              "  /* fitted */\n",
              "  border: var(--sklearn-color-fitted-level-1) 1pt solid;\n",
              "  color: var(--sklearn-color-fitted-level-1);\n",
              "}\n",
              "\n",
              "/* On hover */\n",
              "div.sk-estimator:hover .sk-estimator-doc-link:hover,\n",
              ".sk-estimator-doc-link:hover,\n",
              "div.sk-label-container:hover .sk-estimator-doc-link:hover,\n",
              ".sk-estimator-doc-link:hover {\n",
              "  /* unfitted */\n",
              "  background-color: var(--sklearn-color-unfitted-level-3);\n",
              "  color: var(--sklearn-color-background);\n",
              "  text-decoration: none;\n",
              "}\n",
              "\n",
              "div.sk-estimator.fitted:hover .sk-estimator-doc-link.fitted:hover,\n",
              ".sk-estimator-doc-link.fitted:hover,\n",
              "div.sk-label-container:hover .sk-estimator-doc-link.fitted:hover,\n",
              ".sk-estimator-doc-link.fitted:hover {\n",
              "  /* fitted */\n",
              "  background-color: var(--sklearn-color-fitted-level-3);\n",
              "  color: var(--sklearn-color-background);\n",
              "  text-decoration: none;\n",
              "}\n",
              "\n",
              "/* Span, style for the box shown on hovering the info icon */\n",
              ".sk-estimator-doc-link span {\n",
              "  display: none;\n",
              "  z-index: 9999;\n",
              "  position: relative;\n",
              "  font-weight: normal;\n",
              "  right: .2ex;\n",
              "  padding: .5ex;\n",
              "  margin: .5ex;\n",
              "  width: min-content;\n",
              "  min-width: 20ex;\n",
              "  max-width: 50ex;\n",
              "  color: var(--sklearn-color-text);\n",
              "  box-shadow: 2pt 2pt 4pt #999;\n",
              "  /* unfitted */\n",
              "  background: var(--sklearn-color-unfitted-level-0);\n",
              "  border: .5pt solid var(--sklearn-color-unfitted-level-3);\n",
              "}\n",
              "\n",
              ".sk-estimator-doc-link.fitted span {\n",
              "  /* fitted */\n",
              "  background: var(--sklearn-color-fitted-level-0);\n",
              "  border: var(--sklearn-color-fitted-level-3);\n",
              "}\n",
              "\n",
              ".sk-estimator-doc-link:hover span {\n",
              "  display: block;\n",
              "}\n",
              "\n",
              "/* \"?\"-specific style due to the `<a>` HTML tag */\n",
              "\n",
              "#sk-container-id-29 a.estimator_doc_link {\n",
              "  float: right;\n",
              "  font-size: 1rem;\n",
              "  line-height: 1em;\n",
              "  font-family: monospace;\n",
              "  background-color: var(--sklearn-color-background);\n",
              "  border-radius: 1rem;\n",
              "  height: 1rem;\n",
              "  width: 1rem;\n",
              "  text-decoration: none;\n",
              "  /* unfitted */\n",
              "  color: var(--sklearn-color-unfitted-level-1);\n",
              "  border: var(--sklearn-color-unfitted-level-1) 1pt solid;\n",
              "}\n",
              "\n",
              "#sk-container-id-29 a.estimator_doc_link.fitted {\n",
              "  /* fitted */\n",
              "  border: var(--sklearn-color-fitted-level-1) 1pt solid;\n",
              "  color: var(--sklearn-color-fitted-level-1);\n",
              "}\n",
              "\n",
              "/* On hover */\n",
              "#sk-container-id-29 a.estimator_doc_link:hover {\n",
              "  /* unfitted */\n",
              "  background-color: var(--sklearn-color-unfitted-level-3);\n",
              "  color: var(--sklearn-color-background);\n",
              "  text-decoration: none;\n",
              "}\n",
              "\n",
              "#sk-container-id-29 a.estimator_doc_link.fitted:hover {\n",
              "  /* fitted */\n",
              "  background-color: var(--sklearn-color-fitted-level-3);\n",
              "}\n",
              "</style><div id=\"sk-container-id-29\" class=\"sk-top-container\"><div class=\"sk-text-repr-fallback\"><pre>XGBRegressor(base_score=None, booster=None, callbacks=None,\n",
              "             colsample_bylevel=None, colsample_bynode=None,\n",
              "             colsample_bytree=None, device=None, early_stopping_rounds=200,\n",
              "             enable_categorical=True, eval_metric=&#x27;rmse&#x27;, feature_types=None,\n",
              "             feature_weights=None, gamma=None, grow_policy=None,\n",
              "             importance_type=None, interaction_constraints=None,\n",
              "             learning_rate=0.08798155327756996, max_bin=None,\n",
              "             max_cat_threshold=None, max_cat_to_onehot=None,\n",
              "             max_delta_step=None, max_depth=7, max_leaves=None,\n",
              "             min_child_weight=None, missing=nan, monotone_constraints=None,\n",
              "             multi_strategy=None, n_estimators=1000, n_jobs=None,\n",
              "             num_parallel_tree=None, ...)</pre><b>In a Jupyter environment, please rerun this cell to show the HTML representation or trust the notebook. <br />On GitHub, the HTML representation is unable to render, please try loading this page with nbviewer.org.</b></div><div class=\"sk-container\" hidden><div class=\"sk-item\"><div class=\"sk-estimator fitted sk-toggleable\"><input class=\"sk-toggleable__control sk-hidden--visually\" id=\"sk-estimator-id-29\" type=\"checkbox\" checked><label for=\"sk-estimator-id-29\" class=\"sk-toggleable__label fitted sk-toggleable__label-arrow\"><div><div>XGBRegressor</div></div><div><a class=\"sk-estimator-doc-link fitted\" rel=\"noreferrer\" target=\"_blank\" href=\"https://xgboost.readthedocs.io/en/release_3.0.0/python/python_api.html#xgboost.XGBRegressor\">?<span>Documentation for XGBRegressor</span></a><span class=\"sk-estimator-doc-link fitted\">i<span>Fitted</span></span></div></label><div class=\"sk-toggleable__content fitted\"><pre>XGBRegressor(base_score=None, booster=None, callbacks=None,\n",
              "             colsample_bylevel=None, colsample_bynode=None,\n",
              "             colsample_bytree=None, device=None, early_stopping_rounds=200,\n",
              "             enable_categorical=True, eval_metric=&#x27;rmse&#x27;, feature_types=None,\n",
              "             feature_weights=None, gamma=None, grow_policy=None,\n",
              "             importance_type=None, interaction_constraints=None,\n",
              "             learning_rate=0.08798155327756996, max_bin=None,\n",
              "             max_cat_threshold=None, max_cat_to_onehot=None,\n",
              "             max_delta_step=None, max_depth=7, max_leaves=None,\n",
              "             min_child_weight=None, missing=nan, monotone_constraints=None,\n",
              "             multi_strategy=None, n_estimators=1000, n_jobs=None,\n",
              "             num_parallel_tree=None, ...)</pre></div> </div></div></div></div>"
            ]
          },
          "metadata": {},
          "execution_count": 524
        }
      ]
    },
    {
      "cell_type": "code",
      "source": [
        "# Predict\n",
        "y_pred_val = best_model_xgb.predict(X_val)\n",
        "\n",
        "val_cat['XGB_val'] = y_pred_val\n",
        "val_cat['XGB_val'] = np.where(val_cat['XGB_val'] < 0, 0, val_cat['XGB_val'])\n",
        "val_cat['XGB_val_round'] = np.round(val_cat['XGB_val']).astype('uint16')"
      ],
      "metadata": {
        "id": "CrtwTHfjQ83Y"
      },
      "execution_count": null,
      "outputs": []
    },
    {
      "cell_type": "code",
      "source": [
        "#RMSSE, MAE - float prediction\n",
        "r_vec_cat, cols_cat = fast_rmsse(train_cat, val_cat, val_cat, 'XGB_val')\n",
        "print(f\"RMSSE CatBoostRegressor for h={h}: {np.nanmean(r_vec_cat):.3f}\")\n",
        "\n",
        "#RMSSE, MAE - integer prediction\n",
        "r_vec_cat, cols_cat = fast_rmsse(train_cat, val_cat, val_cat, 'XGB_val_round')\n",
        "print(f\"RMSSE CatBoostRegressor for h={h}: {np.nanmean(r_vec_cat):.3f}\")"
      ],
      "metadata": {
        "colab": {
          "base_uri": "https://localhost:8080/"
        },
        "id": "x2Ah6QaPQ80N",
        "outputId": "327a67ff-a447-45e2-846f-4e26a36bd793"
      },
      "execution_count": null,
      "outputs": [
        {
          "output_type": "stream",
          "name": "stdout",
          "text": [
            "RMSSE CatBoostRegressor for h=3: 1.044\n",
            "RMSSE CatBoostRegressor for h=3: 1.122\n"
          ]
        }
      ]
    },
    {
      "cell_type": "markdown",
      "source": [
        "#####final evaluation on test (if applicable)"
      ],
      "metadata": {
        "id": "brBpCTP5xtc4"
      }
    },
    {
      "cell_type": "code",
      "source": [
        "X_trainval = pd.concat([X_train, X_val], ignore_index=True)\n",
        "y_trainval = pd.concat([y_train, y_val], ignore_index=True)"
      ],
      "metadata": {
        "id": "uFhnj74wxwPz"
      },
      "execution_count": null,
      "outputs": []
    },
    {
      "cell_type": "code",
      "source": [
        "final_model_xgb = XGBRegressor(\n",
        "    n_estimators=study.best_trial.user_attrs['best_iteration'],\n",
        "    max_depth=study.best_params['max_depth'],\n",
        "    learning_rate=study.best_params['learning_rate'],\n",
        "    objective='reg:squarederror',  # optimizes MSE\n",
        "    eval_metric='rmse', #MAE R2\n",
        "    random_state=42,\n",
        "    enable_categorical=True\n",
        ")\n",
        "\n",
        "final_model_xgb.fit(\n",
        "    X_trainval, y_trainval,\n",
        "    verbose=False\n",
        ")"
      ],
      "metadata": {
        "colab": {
          "base_uri": "https://localhost:8080/",
          "height": 257
        },
        "id": "5Mg5D5HRxwLu",
        "outputId": "9cd97781-70ef-430d-ca2b-51320c96d776"
      },
      "execution_count": null,
      "outputs": [
        {
          "output_type": "execute_result",
          "data": {
            "text/plain": [
              "XGBRegressor(base_score=None, booster=None, callbacks=None,\n",
              "             colsample_bylevel=None, colsample_bynode=None,\n",
              "             colsample_bytree=None, device=None, early_stopping_rounds=None,\n",
              "             enable_categorical=True, eval_metric='rmse', feature_types=None,\n",
              "             feature_weights=None, gamma=None, grow_policy=None,\n",
              "             importance_type=None, interaction_constraints=None,\n",
              "             learning_rate=0.08798155327756996, max_bin=None,\n",
              "             max_cat_threshold=None, max_cat_to_onehot=None,\n",
              "             max_delta_step=None, max_depth=7, max_leaves=None,\n",
              "             min_child_weight=None, missing=nan, monotone_constraints=None,\n",
              "             multi_strategy=None, n_estimators=12, n_jobs=None,\n",
              "             num_parallel_tree=None, ...)"
            ],
            "text/html": [
              "<style>#sk-container-id-30 {\n",
              "  /* Definition of color scheme common for light and dark mode */\n",
              "  --sklearn-color-text: #000;\n",
              "  --sklearn-color-text-muted: #666;\n",
              "  --sklearn-color-line: gray;\n",
              "  /* Definition of color scheme for unfitted estimators */\n",
              "  --sklearn-color-unfitted-level-0: #fff5e6;\n",
              "  --sklearn-color-unfitted-level-1: #f6e4d2;\n",
              "  --sklearn-color-unfitted-level-2: #ffe0b3;\n",
              "  --sklearn-color-unfitted-level-3: chocolate;\n",
              "  /* Definition of color scheme for fitted estimators */\n",
              "  --sklearn-color-fitted-level-0: #f0f8ff;\n",
              "  --sklearn-color-fitted-level-1: #d4ebff;\n",
              "  --sklearn-color-fitted-level-2: #b3dbfd;\n",
              "  --sklearn-color-fitted-level-3: cornflowerblue;\n",
              "\n",
              "  /* Specific color for light theme */\n",
              "  --sklearn-color-text-on-default-background: var(--sg-text-color, var(--theme-code-foreground, var(--jp-content-font-color1, black)));\n",
              "  --sklearn-color-background: var(--sg-background-color, var(--theme-background, var(--jp-layout-color0, white)));\n",
              "  --sklearn-color-border-box: var(--sg-text-color, var(--theme-code-foreground, var(--jp-content-font-color1, black)));\n",
              "  --sklearn-color-icon: #696969;\n",
              "\n",
              "  @media (prefers-color-scheme: dark) {\n",
              "    /* Redefinition of color scheme for dark theme */\n",
              "    --sklearn-color-text-on-default-background: var(--sg-text-color, var(--theme-code-foreground, var(--jp-content-font-color1, white)));\n",
              "    --sklearn-color-background: var(--sg-background-color, var(--theme-background, var(--jp-layout-color0, #111)));\n",
              "    --sklearn-color-border-box: var(--sg-text-color, var(--theme-code-foreground, var(--jp-content-font-color1, white)));\n",
              "    --sklearn-color-icon: #878787;\n",
              "  }\n",
              "}\n",
              "\n",
              "#sk-container-id-30 {\n",
              "  color: var(--sklearn-color-text);\n",
              "}\n",
              "\n",
              "#sk-container-id-30 pre {\n",
              "  padding: 0;\n",
              "}\n",
              "\n",
              "#sk-container-id-30 input.sk-hidden--visually {\n",
              "  border: 0;\n",
              "  clip: rect(1px 1px 1px 1px);\n",
              "  clip: rect(1px, 1px, 1px, 1px);\n",
              "  height: 1px;\n",
              "  margin: -1px;\n",
              "  overflow: hidden;\n",
              "  padding: 0;\n",
              "  position: absolute;\n",
              "  width: 1px;\n",
              "}\n",
              "\n",
              "#sk-container-id-30 div.sk-dashed-wrapped {\n",
              "  border: 1px dashed var(--sklearn-color-line);\n",
              "  margin: 0 0.4em 0.5em 0.4em;\n",
              "  box-sizing: border-box;\n",
              "  padding-bottom: 0.4em;\n",
              "  background-color: var(--sklearn-color-background);\n",
              "}\n",
              "\n",
              "#sk-container-id-30 div.sk-container {\n",
              "  /* jupyter's `normalize.less` sets `[hidden] { display: none; }`\n",
              "     but bootstrap.min.css set `[hidden] { display: none !important; }`\n",
              "     so we also need the `!important` here to be able to override the\n",
              "     default hidden behavior on the sphinx rendered scikit-learn.org.\n",
              "     See: https://github.com/scikit-learn/scikit-learn/issues/21755 */\n",
              "  display: inline-block !important;\n",
              "  position: relative;\n",
              "}\n",
              "\n",
              "#sk-container-id-30 div.sk-text-repr-fallback {\n",
              "  display: none;\n",
              "}\n",
              "\n",
              "div.sk-parallel-item,\n",
              "div.sk-serial,\n",
              "div.sk-item {\n",
              "  /* draw centered vertical line to link estimators */\n",
              "  background-image: linear-gradient(var(--sklearn-color-text-on-default-background), var(--sklearn-color-text-on-default-background));\n",
              "  background-size: 2px 100%;\n",
              "  background-repeat: no-repeat;\n",
              "  background-position: center center;\n",
              "}\n",
              "\n",
              "/* Parallel-specific style estimator block */\n",
              "\n",
              "#sk-container-id-30 div.sk-parallel-item::after {\n",
              "  content: \"\";\n",
              "  width: 100%;\n",
              "  border-bottom: 2px solid var(--sklearn-color-text-on-default-background);\n",
              "  flex-grow: 1;\n",
              "}\n",
              "\n",
              "#sk-container-id-30 div.sk-parallel {\n",
              "  display: flex;\n",
              "  align-items: stretch;\n",
              "  justify-content: center;\n",
              "  background-color: var(--sklearn-color-background);\n",
              "  position: relative;\n",
              "}\n",
              "\n",
              "#sk-container-id-30 div.sk-parallel-item {\n",
              "  display: flex;\n",
              "  flex-direction: column;\n",
              "}\n",
              "\n",
              "#sk-container-id-30 div.sk-parallel-item:first-child::after {\n",
              "  align-self: flex-end;\n",
              "  width: 50%;\n",
              "}\n",
              "\n",
              "#sk-container-id-30 div.sk-parallel-item:last-child::after {\n",
              "  align-self: flex-start;\n",
              "  width: 50%;\n",
              "}\n",
              "\n",
              "#sk-container-id-30 div.sk-parallel-item:only-child::after {\n",
              "  width: 0;\n",
              "}\n",
              "\n",
              "/* Serial-specific style estimator block */\n",
              "\n",
              "#sk-container-id-30 div.sk-serial {\n",
              "  display: flex;\n",
              "  flex-direction: column;\n",
              "  align-items: center;\n",
              "  background-color: var(--sklearn-color-background);\n",
              "  padding-right: 1em;\n",
              "  padding-left: 1em;\n",
              "}\n",
              "\n",
              "\n",
              "/* Toggleable style: style used for estimator/Pipeline/ColumnTransformer box that is\n",
              "clickable and can be expanded/collapsed.\n",
              "- Pipeline and ColumnTransformer use this feature and define the default style\n",
              "- Estimators will overwrite some part of the style using the `sk-estimator` class\n",
              "*/\n",
              "\n",
              "/* Pipeline and ColumnTransformer style (default) */\n",
              "\n",
              "#sk-container-id-30 div.sk-toggleable {\n",
              "  /* Default theme specific background. It is overwritten whether we have a\n",
              "  specific estimator or a Pipeline/ColumnTransformer */\n",
              "  background-color: var(--sklearn-color-background);\n",
              "}\n",
              "\n",
              "/* Toggleable label */\n",
              "#sk-container-id-30 label.sk-toggleable__label {\n",
              "  cursor: pointer;\n",
              "  display: flex;\n",
              "  width: 100%;\n",
              "  margin-bottom: 0;\n",
              "  padding: 0.5em;\n",
              "  box-sizing: border-box;\n",
              "  text-align: center;\n",
              "  align-items: start;\n",
              "  justify-content: space-between;\n",
              "  gap: 0.5em;\n",
              "}\n",
              "\n",
              "#sk-container-id-30 label.sk-toggleable__label .caption {\n",
              "  font-size: 0.6rem;\n",
              "  font-weight: lighter;\n",
              "  color: var(--sklearn-color-text-muted);\n",
              "}\n",
              "\n",
              "#sk-container-id-30 label.sk-toggleable__label-arrow:before {\n",
              "  /* Arrow on the left of the label */\n",
              "  content: \"▸\";\n",
              "  float: left;\n",
              "  margin-right: 0.25em;\n",
              "  color: var(--sklearn-color-icon);\n",
              "}\n",
              "\n",
              "#sk-container-id-30 label.sk-toggleable__label-arrow:hover:before {\n",
              "  color: var(--sklearn-color-text);\n",
              "}\n",
              "\n",
              "/* Toggleable content - dropdown */\n",
              "\n",
              "#sk-container-id-30 div.sk-toggleable__content {\n",
              "  max-height: 0;\n",
              "  max-width: 0;\n",
              "  overflow: hidden;\n",
              "  text-align: left;\n",
              "  /* unfitted */\n",
              "  background-color: var(--sklearn-color-unfitted-level-0);\n",
              "}\n",
              "\n",
              "#sk-container-id-30 div.sk-toggleable__content.fitted {\n",
              "  /* fitted */\n",
              "  background-color: var(--sklearn-color-fitted-level-0);\n",
              "}\n",
              "\n",
              "#sk-container-id-30 div.sk-toggleable__content pre {\n",
              "  margin: 0.2em;\n",
              "  border-radius: 0.25em;\n",
              "  color: var(--sklearn-color-text);\n",
              "  /* unfitted */\n",
              "  background-color: var(--sklearn-color-unfitted-level-0);\n",
              "}\n",
              "\n",
              "#sk-container-id-30 div.sk-toggleable__content.fitted pre {\n",
              "  /* unfitted */\n",
              "  background-color: var(--sklearn-color-fitted-level-0);\n",
              "}\n",
              "\n",
              "#sk-container-id-30 input.sk-toggleable__control:checked~div.sk-toggleable__content {\n",
              "  /* Expand drop-down */\n",
              "  max-height: 200px;\n",
              "  max-width: 100%;\n",
              "  overflow: auto;\n",
              "}\n",
              "\n",
              "#sk-container-id-30 input.sk-toggleable__control:checked~label.sk-toggleable__label-arrow:before {\n",
              "  content: \"▾\";\n",
              "}\n",
              "\n",
              "/* Pipeline/ColumnTransformer-specific style */\n",
              "\n",
              "#sk-container-id-30 div.sk-label input.sk-toggleable__control:checked~label.sk-toggleable__label {\n",
              "  color: var(--sklearn-color-text);\n",
              "  background-color: var(--sklearn-color-unfitted-level-2);\n",
              "}\n",
              "\n",
              "#sk-container-id-30 div.sk-label.fitted input.sk-toggleable__control:checked~label.sk-toggleable__label {\n",
              "  background-color: var(--sklearn-color-fitted-level-2);\n",
              "}\n",
              "\n",
              "/* Estimator-specific style */\n",
              "\n",
              "/* Colorize estimator box */\n",
              "#sk-container-id-30 div.sk-estimator input.sk-toggleable__control:checked~label.sk-toggleable__label {\n",
              "  /* unfitted */\n",
              "  background-color: var(--sklearn-color-unfitted-level-2);\n",
              "}\n",
              "\n",
              "#sk-container-id-30 div.sk-estimator.fitted input.sk-toggleable__control:checked~label.sk-toggleable__label {\n",
              "  /* fitted */\n",
              "  background-color: var(--sklearn-color-fitted-level-2);\n",
              "}\n",
              "\n",
              "#sk-container-id-30 div.sk-label label.sk-toggleable__label,\n",
              "#sk-container-id-30 div.sk-label label {\n",
              "  /* The background is the default theme color */\n",
              "  color: var(--sklearn-color-text-on-default-background);\n",
              "}\n",
              "\n",
              "/* On hover, darken the color of the background */\n",
              "#sk-container-id-30 div.sk-label:hover label.sk-toggleable__label {\n",
              "  color: var(--sklearn-color-text);\n",
              "  background-color: var(--sklearn-color-unfitted-level-2);\n",
              "}\n",
              "\n",
              "/* Label box, darken color on hover, fitted */\n",
              "#sk-container-id-30 div.sk-label.fitted:hover label.sk-toggleable__label.fitted {\n",
              "  color: var(--sklearn-color-text);\n",
              "  background-color: var(--sklearn-color-fitted-level-2);\n",
              "}\n",
              "\n",
              "/* Estimator label */\n",
              "\n",
              "#sk-container-id-30 div.sk-label label {\n",
              "  font-family: monospace;\n",
              "  font-weight: bold;\n",
              "  display: inline-block;\n",
              "  line-height: 1.2em;\n",
              "}\n",
              "\n",
              "#sk-container-id-30 div.sk-label-container {\n",
              "  text-align: center;\n",
              "}\n",
              "\n",
              "/* Estimator-specific */\n",
              "#sk-container-id-30 div.sk-estimator {\n",
              "  font-family: monospace;\n",
              "  border: 1px dotted var(--sklearn-color-border-box);\n",
              "  border-radius: 0.25em;\n",
              "  box-sizing: border-box;\n",
              "  margin-bottom: 0.5em;\n",
              "  /* unfitted */\n",
              "  background-color: var(--sklearn-color-unfitted-level-0);\n",
              "}\n",
              "\n",
              "#sk-container-id-30 div.sk-estimator.fitted {\n",
              "  /* fitted */\n",
              "  background-color: var(--sklearn-color-fitted-level-0);\n",
              "}\n",
              "\n",
              "/* on hover */\n",
              "#sk-container-id-30 div.sk-estimator:hover {\n",
              "  /* unfitted */\n",
              "  background-color: var(--sklearn-color-unfitted-level-2);\n",
              "}\n",
              "\n",
              "#sk-container-id-30 div.sk-estimator.fitted:hover {\n",
              "  /* fitted */\n",
              "  background-color: var(--sklearn-color-fitted-level-2);\n",
              "}\n",
              "\n",
              "/* Specification for estimator info (e.g. \"i\" and \"?\") */\n",
              "\n",
              "/* Common style for \"i\" and \"?\" */\n",
              "\n",
              ".sk-estimator-doc-link,\n",
              "a:link.sk-estimator-doc-link,\n",
              "a:visited.sk-estimator-doc-link {\n",
              "  float: right;\n",
              "  font-size: smaller;\n",
              "  line-height: 1em;\n",
              "  font-family: monospace;\n",
              "  background-color: var(--sklearn-color-background);\n",
              "  border-radius: 1em;\n",
              "  height: 1em;\n",
              "  width: 1em;\n",
              "  text-decoration: none !important;\n",
              "  margin-left: 0.5em;\n",
              "  text-align: center;\n",
              "  /* unfitted */\n",
              "  border: var(--sklearn-color-unfitted-level-1) 1pt solid;\n",
              "  color: var(--sklearn-color-unfitted-level-1);\n",
              "}\n",
              "\n",
              ".sk-estimator-doc-link.fitted,\n",
              "a:link.sk-estimator-doc-link.fitted,\n",
              "a:visited.sk-estimator-doc-link.fitted {\n",
              "  /* fitted */\n",
              "  border: var(--sklearn-color-fitted-level-1) 1pt solid;\n",
              "  color: var(--sklearn-color-fitted-level-1);\n",
              "}\n",
              "\n",
              "/* On hover */\n",
              "div.sk-estimator:hover .sk-estimator-doc-link:hover,\n",
              ".sk-estimator-doc-link:hover,\n",
              "div.sk-label-container:hover .sk-estimator-doc-link:hover,\n",
              ".sk-estimator-doc-link:hover {\n",
              "  /* unfitted */\n",
              "  background-color: var(--sklearn-color-unfitted-level-3);\n",
              "  color: var(--sklearn-color-background);\n",
              "  text-decoration: none;\n",
              "}\n",
              "\n",
              "div.sk-estimator.fitted:hover .sk-estimator-doc-link.fitted:hover,\n",
              ".sk-estimator-doc-link.fitted:hover,\n",
              "div.sk-label-container:hover .sk-estimator-doc-link.fitted:hover,\n",
              ".sk-estimator-doc-link.fitted:hover {\n",
              "  /* fitted */\n",
              "  background-color: var(--sklearn-color-fitted-level-3);\n",
              "  color: var(--sklearn-color-background);\n",
              "  text-decoration: none;\n",
              "}\n",
              "\n",
              "/* Span, style for the box shown on hovering the info icon */\n",
              ".sk-estimator-doc-link span {\n",
              "  display: none;\n",
              "  z-index: 9999;\n",
              "  position: relative;\n",
              "  font-weight: normal;\n",
              "  right: .2ex;\n",
              "  padding: .5ex;\n",
              "  margin: .5ex;\n",
              "  width: min-content;\n",
              "  min-width: 20ex;\n",
              "  max-width: 50ex;\n",
              "  color: var(--sklearn-color-text);\n",
              "  box-shadow: 2pt 2pt 4pt #999;\n",
              "  /* unfitted */\n",
              "  background: var(--sklearn-color-unfitted-level-0);\n",
              "  border: .5pt solid var(--sklearn-color-unfitted-level-3);\n",
              "}\n",
              "\n",
              ".sk-estimator-doc-link.fitted span {\n",
              "  /* fitted */\n",
              "  background: var(--sklearn-color-fitted-level-0);\n",
              "  border: var(--sklearn-color-fitted-level-3);\n",
              "}\n",
              "\n",
              ".sk-estimator-doc-link:hover span {\n",
              "  display: block;\n",
              "}\n",
              "\n",
              "/* \"?\"-specific style due to the `<a>` HTML tag */\n",
              "\n",
              "#sk-container-id-30 a.estimator_doc_link {\n",
              "  float: right;\n",
              "  font-size: 1rem;\n",
              "  line-height: 1em;\n",
              "  font-family: monospace;\n",
              "  background-color: var(--sklearn-color-background);\n",
              "  border-radius: 1rem;\n",
              "  height: 1rem;\n",
              "  width: 1rem;\n",
              "  text-decoration: none;\n",
              "  /* unfitted */\n",
              "  color: var(--sklearn-color-unfitted-level-1);\n",
              "  border: var(--sklearn-color-unfitted-level-1) 1pt solid;\n",
              "}\n",
              "\n",
              "#sk-container-id-30 a.estimator_doc_link.fitted {\n",
              "  /* fitted */\n",
              "  border: var(--sklearn-color-fitted-level-1) 1pt solid;\n",
              "  color: var(--sklearn-color-fitted-level-1);\n",
              "}\n",
              "\n",
              "/* On hover */\n",
              "#sk-container-id-30 a.estimator_doc_link:hover {\n",
              "  /* unfitted */\n",
              "  background-color: var(--sklearn-color-unfitted-level-3);\n",
              "  color: var(--sklearn-color-background);\n",
              "  text-decoration: none;\n",
              "}\n",
              "\n",
              "#sk-container-id-30 a.estimator_doc_link.fitted:hover {\n",
              "  /* fitted */\n",
              "  background-color: var(--sklearn-color-fitted-level-3);\n",
              "}\n",
              "</style><div id=\"sk-container-id-30\" class=\"sk-top-container\"><div class=\"sk-text-repr-fallback\"><pre>XGBRegressor(base_score=None, booster=None, callbacks=None,\n",
              "             colsample_bylevel=None, colsample_bynode=None,\n",
              "             colsample_bytree=None, device=None, early_stopping_rounds=None,\n",
              "             enable_categorical=True, eval_metric=&#x27;rmse&#x27;, feature_types=None,\n",
              "             feature_weights=None, gamma=None, grow_policy=None,\n",
              "             importance_type=None, interaction_constraints=None,\n",
              "             learning_rate=0.08798155327756996, max_bin=None,\n",
              "             max_cat_threshold=None, max_cat_to_onehot=None,\n",
              "             max_delta_step=None, max_depth=7, max_leaves=None,\n",
              "             min_child_weight=None, missing=nan, monotone_constraints=None,\n",
              "             multi_strategy=None, n_estimators=12, n_jobs=None,\n",
              "             num_parallel_tree=None, ...)</pre><b>In a Jupyter environment, please rerun this cell to show the HTML representation or trust the notebook. <br />On GitHub, the HTML representation is unable to render, please try loading this page with nbviewer.org.</b></div><div class=\"sk-container\" hidden><div class=\"sk-item\"><div class=\"sk-estimator fitted sk-toggleable\"><input class=\"sk-toggleable__control sk-hidden--visually\" id=\"sk-estimator-id-30\" type=\"checkbox\" checked><label for=\"sk-estimator-id-30\" class=\"sk-toggleable__label fitted sk-toggleable__label-arrow\"><div><div>XGBRegressor</div></div><div><a class=\"sk-estimator-doc-link fitted\" rel=\"noreferrer\" target=\"_blank\" href=\"https://xgboost.readthedocs.io/en/release_3.0.0/python/python_api.html#xgboost.XGBRegressor\">?<span>Documentation for XGBRegressor</span></a><span class=\"sk-estimator-doc-link fitted\">i<span>Fitted</span></span></div></label><div class=\"sk-toggleable__content fitted\"><pre>XGBRegressor(base_score=None, booster=None, callbacks=None,\n",
              "             colsample_bylevel=None, colsample_bynode=None,\n",
              "             colsample_bytree=None, device=None, early_stopping_rounds=None,\n",
              "             enable_categorical=True, eval_metric=&#x27;rmse&#x27;, feature_types=None,\n",
              "             feature_weights=None, gamma=None, grow_policy=None,\n",
              "             importance_type=None, interaction_constraints=None,\n",
              "             learning_rate=0.08798155327756996, max_bin=None,\n",
              "             max_cat_threshold=None, max_cat_to_onehot=None,\n",
              "             max_delta_step=None, max_depth=7, max_leaves=None,\n",
              "             min_child_weight=None, missing=nan, monotone_constraints=None,\n",
              "             multi_strategy=None, n_estimators=12, n_jobs=None,\n",
              "             num_parallel_tree=None, ...)</pre></div> </div></div></div></div>"
            ]
          },
          "metadata": {},
          "execution_count": 528
        }
      ]
    },
    {
      "cell_type": "code",
      "source": [
        "# Predict\n",
        "y_pred_xgb = final_model_xgb.predict(X_test)\n",
        "\n",
        "test_cat['XGB'] = y_pred_xgb\n",
        "test_cat['XGB'] = np.where(test_cat['XGB'] < 0, 0, test_cat['XGB'])\n",
        "test_cat['XGB_round'] = np.round(test_cat['XGB']).astype('uint16')"
      ],
      "metadata": {
        "id": "mACOj7w7xwEu"
      },
      "execution_count": null,
      "outputs": []
    },
    {
      "cell_type": "code",
      "source": [
        "#RMSSE, MAE - float prediction\n",
        "r_vec_xgb, cols_xgb = fast_rmsse(train, test_cat, test_cat, 'XGB')\n",
        "mae_xgb = mean_absolute_error(test_cat['y'], test_cat['XGB'])\n",
        "print(f\"RMSSE XGBRegressor for h={h}: {np.nanmean(r_vec_xgb):.3f}\")\n",
        "print(f\"MAE XGBRegressor for h={h}: {mae_xgb:.3f}\")\n",
        "\n",
        "#RMSSE, MAE - integer prediction\n",
        "r_vec_xgb, cols_xgb = fast_rmsse(train, test_cat, test_cat, 'XGB_round')\n",
        "mae_xgb = mean_absolute_error(test_cat['y'], test_cat['XGB_round'])\n",
        "print(f\"RMSSE XGBRegressor for h={h}: {np.nanmean(r_vec_xgb):.3f}\")\n",
        "print(f\"MAE XGBRegressor for h={h}: {mae_xgb:.3f}\")"
      ],
      "metadata": {
        "colab": {
          "base_uri": "https://localhost:8080/"
        },
        "id": "C2OI49Qcx1aT",
        "outputId": "5742aada-7bdc-447a-e124-c91ccc82e3ab"
      },
      "execution_count": null,
      "outputs": [
        {
          "output_type": "stream",
          "name": "stdout",
          "text": [
            "RMSSE XGBRegressor for h=3: 0.952\n",
            "MAE XGBRegressor for h=3: 2.557\n",
            "RMSSE XGBRegressor for h=3: 1.032\n",
            "MAE XGBRegressor for h=3: 2.623\n"
          ]
        }
      ]
    },
    {
      "cell_type": "markdown",
      "source": [
        "###CatBoost"
      ],
      "metadata": {
        "id": "QJLkt0boRQPe"
      }
    },
    {
      "cell_type": "markdown",
      "source": [
        "####With initial features"
      ],
      "metadata": {
        "id": "0HbojR2bu2ub"
      }
    },
    {
      "cell_type": "code",
      "source": [
        "#set of initial features\n",
        "X = ['unique_id', 'description',\t'lead_time',\t'price', 'ds']\n",
        "cat_features = train_cat[X].select_dtypes(include=['object', 'category']).columns.tolist()\n",
        "y = 'y'"
      ],
      "metadata": {
        "id": "xAJ86YnfuX8x"
      },
      "execution_count": null,
      "outputs": []
    },
    {
      "cell_type": "code",
      "source": [
        "X_train = train_cat[X]\n",
        "y_train = train_cat[y]\n",
        "\n",
        "X_val = val_cat[X]\n",
        "y_val = val_cat[y]\n",
        "\n",
        "X_test = test_cat[X]\n",
        "y_test = test_cat[y]"
      ],
      "metadata": {
        "id": "ujz51qhHuX5Y"
      },
      "execution_count": null,
      "outputs": []
    },
    {
      "cell_type": "code",
      "source": [
        "train_pool = Pool(X_train, y_train, cat_features=cat_features)\n",
        "val_pool = Pool(X_val, y_val, cat_features=cat_features)\n",
        "test_pool = Pool(X_test, y_test, cat_features=cat_features)"
      ],
      "metadata": {
        "id": "u2pMi51UuXr7"
      },
      "execution_count": null,
      "outputs": []
    },
    {
      "cell_type": "code",
      "source": [
        "base_model = CatBoostRegressor(\n",
        "    iterations=1000,\n",
        "    depth=6,\n",
        "    learning_rate=0.05,\n",
        "    early_stopping_rounds=200,\n",
        "    loss_function='RMSE',\n",
        "    random_seed=42,\n",
        "    verbose=100\n",
        "    )\n",
        "base_model.fit(train_pool, eval_set=val_pool)"
      ],
      "metadata": {
        "colab": {
          "base_uri": "https://localhost:8080/"
        },
        "id": "kQffb_qHuXoX",
        "outputId": "5c6ca6fd-b264-43b4-b96c-5af4dcf27ef5"
      },
      "execution_count": null,
      "outputs": [
        {
          "output_type": "stream",
          "name": "stdout",
          "text": [
            "0:\tlearn: 18.0109561\ttest: 14.0838623\tbest: 14.0838623 (0)\ttotal: 193ms\tremaining: 3m 12s\n",
            "100:\tlearn: 17.6922110\ttest: 14.0205633\tbest: 14.0205633 (100)\ttotal: 13.6s\tremaining: 2m 1s\n",
            "200:\tlearn: 17.5602591\ttest: 13.9973084\tbest: 13.9972299 (196)\ttotal: 24.3s\tremaining: 1m 36s\n",
            "300:\tlearn: 17.4096643\ttest: 13.9920869\tbest: 13.9893732 (284)\ttotal: 33.3s\tremaining: 1m 17s\n",
            "400:\tlearn: 17.2760378\ttest: 13.9831115\tbest: 13.9817892 (396)\ttotal: 42.5s\tremaining: 1m 3s\n",
            "500:\tlearn: 17.1223426\ttest: 13.9736163\tbest: 13.9735712 (499)\ttotal: 51.6s\tremaining: 51.4s\n",
            "600:\tlearn: 17.0541270\ttest: 13.9750578\tbest: 13.9718344 (530)\ttotal: 59s\tremaining: 39.2s\n",
            "700:\tlearn: 16.9724950\ttest: 13.9724749\tbest: 13.9718344 (530)\ttotal: 1m 8s\tremaining: 29.3s\n",
            "800:\tlearn: 16.8771079\ttest: 13.9735107\tbest: 13.9698731 (790)\ttotal: 1m 16s\tremaining: 19.1s\n",
            "900:\tlearn: 16.7643777\ttest: 13.9848391\tbest: 13.9698731 (790)\ttotal: 1m 26s\tremaining: 9.53s\n",
            "Stopped by overfitting detector  (200 iterations wait)\n",
            "\n",
            "bestTest = 13.96987314\n",
            "bestIteration = 790\n",
            "\n",
            "Shrink model to first 791 iterations.\n"
          ]
        },
        {
          "output_type": "execute_result",
          "data": {
            "text/plain": [
              "<catboost.core.CatBoostRegressor at 0x7f89bb71bd40>"
            ]
          },
          "metadata": {},
          "execution_count": 39
        }
      ]
    },
    {
      "cell_type": "code",
      "source": [
        "y_pred_val = base_model.predict(X_val)\n",
        "\n",
        "val_cat['CatRegr_val'] = y_pred_val\n",
        "val_cat['CatRegr_val'] = np.where(val_cat['CatRegr_val'] < 0, 0, val_cat['CatRegr_val'])\n",
        "val_cat['CatRegr_val_round'] = np.round(val_cat['CatRegr_val']).astype('uint16')"
      ],
      "metadata": {
        "id": "5Aa84JQsuXj-"
      },
      "execution_count": null,
      "outputs": []
    },
    {
      "cell_type": "code",
      "source": [
        "#RMSSE, MAE - float prediction\n",
        "r_vec_cat, cols_cat = fast_rmsse(train_cat, val_cat, val_cat, 'CatRegr_val')\n",
        "print(f\"RMSSE CatBoostRegressor for h={h}: {np.nanmean(r_vec_cat):.3f}\")\n",
        "\n",
        "#RMSSE, MAE - integer prediction\n",
        "r_vec_cat, cols_cat = fast_rmsse(train_cat, val_cat, val_cat, 'CatRegr_val_round')\n",
        "print(f\"RMSSE CatBoostRegressor for h={h}: {np.nanmean(r_vec_cat):.3f}\")"
      ],
      "metadata": {
        "colab": {
          "base_uri": "https://localhost:8080/"
        },
        "id": "85A0vwQvufXa",
        "outputId": "d42e76a5-7262-47da-a886-bf3352b8c84e"
      },
      "execution_count": null,
      "outputs": [
        {
          "output_type": "stream",
          "name": "stdout",
          "text": [
            "RMSSE CatBoostRegressor for h=12: 0.903\n",
            "RMSSE CatBoostRegressor for h=12: 0.912\n"
          ]
        }
      ]
    },
    {
      "cell_type": "markdown",
      "source": [
        "#####final evaluation on test (if applicable)"
      ],
      "metadata": {
        "id": "Js8TDsMUh72l"
      }
    },
    {
      "cell_type": "code",
      "source": [
        "#creating the pool with train+val\n",
        "X_trainval = pd.concat([X_train, X_val], ignore_index=True)\n",
        "y_trainval = pd.concat([y_train, y_val], ignore_index=True)\n",
        "trainval_pool = Pool(X_trainval, y_trainval, cat_features=cat_features)"
      ],
      "metadata": {
        "id": "kZAPnhcph72l"
      },
      "execution_count": null,
      "outputs": []
    },
    {
      "cell_type": "code",
      "source": [
        "#training on train+val with the optimal hyperparameters\n",
        "final_cat_model = CatBoostRegressor(\n",
        "    iterations=base_model.best_iteration_,\n",
        "    depth=6,\n",
        "    learning_rate=0.05,\n",
        "    loss_function='RMSE',\n",
        "    random_seed=42,\n",
        "    verbose=False\n",
        ")\n",
        "final_cat_model.fit(trainval_pool)"
      ],
      "metadata": {
        "colab": {
          "base_uri": "https://localhost:8080/"
        },
        "outputId": "93a0e9a6-f57e-4fa8-e2ce-46b0e69d02cf",
        "id": "Jz2XJsACh72m"
      },
      "execution_count": null,
      "outputs": [
        {
          "output_type": "execute_result",
          "data": {
            "text/plain": [
              "<catboost.core.CatBoostRegressor at 0x7f89a3def740>"
            ]
          },
          "metadata": {},
          "execution_count": 43
        }
      ]
    },
    {
      "cell_type": "code",
      "source": [
        "# Predict\n",
        "y_pred = final_cat_model.predict(X_test)\n",
        "\n",
        "test_cat['CatRegr'] = y_pred\n",
        "test_cat['CatRegr'] = np.where(test_cat['CatRegr'] < 0, 0, test_cat['CatRegr'])\n",
        "test_cat['CatRegr_round'] = np.round(test_cat['CatRegr']).astype('uint16')"
      ],
      "metadata": {
        "id": "Ea2o-16bh72m"
      },
      "execution_count": null,
      "outputs": []
    },
    {
      "cell_type": "code",
      "source": [
        "#RMSSE, MAE - raw\n",
        "r_vec_cat, cols_cat = fast_rmsse(train, test_cat, test_cat, 'CatRegr')\n",
        "mae_cat = mean_absolute_error(test_cat['y'], test_cat['CatRegr'])\n",
        "print(f\"RMSSE CatBoostRegressor for h={h}: {np.nanmean(r_vec_cat):.3f}\")\n",
        "print(f\"MAE CatBoostRegressor for h={h}: {mae_cat:.3f}\")\n",
        "\n",
        "#RMSSE, MAE - rounded\n",
        "r_vec_cat, cols_cat = fast_rmsse(train, test_cat, test_cat, 'CatRegr_round')\n",
        "mae_cat = mean_absolute_error(test_cat['y'], test_cat['CatRegr_round'])\n",
        "print(f\"RMSSE CatBoostRegressor for h={h}: {np.nanmean(r_vec_cat):.3f}\")\n",
        "print(f\"MAE CatBoostRegressor for h={h}: {mae_cat:.3f}\")"
      ],
      "metadata": {
        "colab": {
          "base_uri": "https://localhost:8080/"
        },
        "outputId": "4a48a2cf-5303-4ae0-95e5-449e790a7af0",
        "id": "jbG3em1Qh72m"
      },
      "execution_count": null,
      "outputs": [
        {
          "output_type": "stream",
          "name": "stdout",
          "text": [
            "RMSSE CatBoostRegressor for h=12: 0.704\n",
            "MAE CatBoostRegressor for h=12: 1.930\n",
            "RMSSE CatBoostRegressor for h=12: 0.703\n",
            "MAE CatBoostRegressor for h=12: 1.906\n"
          ]
        }
      ]
    },
    {
      "cell_type": "markdown",
      "source": [
        "####With additional features"
      ],
      "metadata": {
        "id": "xe--CGUrJI_I"
      }
    },
    {
      "cell_type": "code",
      "source": [
        "#set of all features\n",
        "X = train_cat.drop(columns=['y', 'y_bin']).columns.tolist()\n",
        "cat_features = train_cat[X].select_dtypes(include=['object', 'category']).columns.tolist()\n",
        "y = 'y'"
      ],
      "metadata": {
        "id": "PAiSYd3EjY7F"
      },
      "execution_count": null,
      "outputs": []
    },
    {
      "cell_type": "code",
      "source": [
        "X_train = train_cat[X]\n",
        "y_train = train_cat[y]\n",
        "\n",
        "X_val = val_cat[X]\n",
        "y_val = val_cat[y]\n",
        "\n",
        "X_test = test_cat[X]\n",
        "y_test = test_cat[y]"
      ],
      "metadata": {
        "id": "hOSsSIn5jY3h"
      },
      "execution_count": null,
      "outputs": []
    },
    {
      "cell_type": "code",
      "source": [
        "train_pool = Pool(X_train, y_train, cat_features=cat_features)\n",
        "val_pool = Pool(X_val, y_val, cat_features=cat_features)\n",
        "test_pool = Pool(X_test, y_test, cat_features=cat_features)"
      ],
      "metadata": {
        "id": "ZU7w3AkTjnh5"
      },
      "execution_count": null,
      "outputs": []
    },
    {
      "cell_type": "code",
      "source": [
        "#baseline model for features finding\n",
        "base_model = CatBoostRegressor(\n",
        "    iterations=1000,\n",
        "    depth=6,\n",
        "    learning_rate=0.05,\n",
        "    early_stopping_rounds=200,\n",
        "    loss_function='RMSE',\n",
        "    random_seed=42,\n",
        "    verbose=100\n",
        "    )\n",
        "base_model.fit(train_pool, eval_set=val_pool)"
      ],
      "metadata": {
        "colab": {
          "base_uri": "https://localhost:8080/"
        },
        "id": "g32FgNazJ3FX",
        "outputId": "fa2ed123-2908-45ab-ba98-c207c3deeb9b"
      },
      "execution_count": null,
      "outputs": [
        {
          "output_type": "stream",
          "name": "stdout",
          "text": [
            "0:\tlearn: 17.7390841\ttest: 12.4976219\tbest: 12.4976219 (0)\ttotal: 103ms\tremaining: 1m 42s\n",
            "100:\tlearn: 17.2328432\ttest: 12.4069335\tbest: 12.4047228 (53)\ttotal: 11.7s\tremaining: 1m 43s\n",
            "200:\tlearn: 16.9951353\ttest: 12.3827549\tbest: 12.3827549 (200)\ttotal: 23s\tremaining: 1m 31s\n",
            "300:\tlearn: 16.8382172\ttest: 12.3725134\tbest: 12.3725134 (300)\ttotal: 32.9s\tremaining: 1m 16s\n",
            "400:\tlearn: 16.7056674\ttest: 12.3828688\tbest: 12.3688973 (311)\ttotal: 43.7s\tremaining: 1m 5s\n",
            "500:\tlearn: 16.6048996\ttest: 12.3718566\tbest: 12.3688973 (311)\ttotal: 53.7s\tremaining: 53.5s\n",
            "600:\tlearn: 16.5069350\ttest: 12.3579910\tbest: 12.3576760 (598)\ttotal: 1m 3s\tremaining: 41.9s\n",
            "700:\tlearn: 16.4013710\ttest: 12.3689355\tbest: 12.3574084 (608)\ttotal: 1m 12s\tremaining: 30.8s\n",
            "800:\tlearn: 16.3291884\ttest: 12.3759166\tbest: 12.3574084 (608)\ttotal: 1m 22s\tremaining: 20.4s\n",
            "Stopped by overfitting detector  (200 iterations wait)\n",
            "\n",
            "bestTest = 12.35740835\n",
            "bestIteration = 608\n",
            "\n",
            "Shrink model to first 609 iterations.\n"
          ]
        },
        {
          "output_type": "execute_result",
          "data": {
            "text/plain": [
              "<catboost.core.CatBoostRegressor at 0x780529f1f140>"
            ]
          },
          "metadata": {},
          "execution_count": 233
        }
      ]
    },
    {
      "cell_type": "code",
      "source": [
        "base_score_all_features = base_model.best_score_['validation']['RMSE']"
      ],
      "metadata": {
        "id": "EHSkVGeLPx2-"
      },
      "execution_count": null,
      "outputs": []
    },
    {
      "cell_type": "code",
      "source": [
        "loss_values = base_model.get_feature_importance(type='LossFunctionChange', data=val_pool)\n",
        "loss_values_df = pd.DataFrame(\n",
        "    loss_values.tolist(),\n",
        "    index=X_train.columns,\n",
        "    columns=['rmse_change']\n",
        "  )\n",
        "\n",
        "loss_values_df.sort_values(by='rmse_change', ascending=False)"
      ],
      "metadata": {
        "colab": {
          "base_uri": "https://localhost:8080/",
          "height": 677
        },
        "id": "_gxePydXQU8n",
        "outputId": "f3629cdb-3460-4bca-ecc7-ce70b0eee7b1"
      },
      "execution_count": null,
      "outputs": [
        {
          "output_type": "execute_result",
          "data": {
            "text/plain": [
              "                 rmse_change\n",
              "qty_diff1           0.044822\n",
              "qty_roll_mean_6     0.026349\n",
              "ds_start            0.013385\n",
              "price               0.009997\n",
              "ds                  0.006439\n",
              "qty_lag2            0.005541\n",
              "unique_id           0.004717\n",
              "quarter             0.001859\n",
              "year                0.001072\n",
              "qty_lag1            0.000218\n",
              "bin_lag3            0.000018\n",
              "lead_time          -0.000540\n",
              "bin_lag2           -0.000690\n",
              "bin_roll_mean_3    -0.000898\n",
              "bin_lag1           -0.001028\n",
              "description        -0.001594\n",
              "qty_roll_mean_3    -0.002027\n",
              "month              -0.005545\n",
              "qty_lag3           -0.007601\n",
              "qty_trend_ratio    -0.008741"
            ],
            "text/html": [
              "\n",
              "  <div id=\"df-f1cd03e2-bd0b-40fd-ab6b-1ddd80b1c57e\" class=\"colab-df-container\">\n",
              "    <div>\n",
              "<style scoped>\n",
              "    .dataframe tbody tr th:only-of-type {\n",
              "        vertical-align: middle;\n",
              "    }\n",
              "\n",
              "    .dataframe tbody tr th {\n",
              "        vertical-align: top;\n",
              "    }\n",
              "\n",
              "    .dataframe thead th {\n",
              "        text-align: right;\n",
              "    }\n",
              "</style>\n",
              "<table border=\"1\" class=\"dataframe\">\n",
              "  <thead>\n",
              "    <tr style=\"text-align: right;\">\n",
              "      <th></th>\n",
              "      <th>rmse_change</th>\n",
              "    </tr>\n",
              "  </thead>\n",
              "  <tbody>\n",
              "    <tr>\n",
              "      <th>qty_diff1</th>\n",
              "      <td>0.044822</td>\n",
              "    </tr>\n",
              "    <tr>\n",
              "      <th>qty_roll_mean_6</th>\n",
              "      <td>0.026349</td>\n",
              "    </tr>\n",
              "    <tr>\n",
              "      <th>ds_start</th>\n",
              "      <td>0.013385</td>\n",
              "    </tr>\n",
              "    <tr>\n",
              "      <th>price</th>\n",
              "      <td>0.009997</td>\n",
              "    </tr>\n",
              "    <tr>\n",
              "      <th>ds</th>\n",
              "      <td>0.006439</td>\n",
              "    </tr>\n",
              "    <tr>\n",
              "      <th>qty_lag2</th>\n",
              "      <td>0.005541</td>\n",
              "    </tr>\n",
              "    <tr>\n",
              "      <th>unique_id</th>\n",
              "      <td>0.004717</td>\n",
              "    </tr>\n",
              "    <tr>\n",
              "      <th>quarter</th>\n",
              "      <td>0.001859</td>\n",
              "    </tr>\n",
              "    <tr>\n",
              "      <th>year</th>\n",
              "      <td>0.001072</td>\n",
              "    </tr>\n",
              "    <tr>\n",
              "      <th>qty_lag1</th>\n",
              "      <td>0.000218</td>\n",
              "    </tr>\n",
              "    <tr>\n",
              "      <th>bin_lag3</th>\n",
              "      <td>0.000018</td>\n",
              "    </tr>\n",
              "    <tr>\n",
              "      <th>lead_time</th>\n",
              "      <td>-0.000540</td>\n",
              "    </tr>\n",
              "    <tr>\n",
              "      <th>bin_lag2</th>\n",
              "      <td>-0.000690</td>\n",
              "    </tr>\n",
              "    <tr>\n",
              "      <th>bin_roll_mean_3</th>\n",
              "      <td>-0.000898</td>\n",
              "    </tr>\n",
              "    <tr>\n",
              "      <th>bin_lag1</th>\n",
              "      <td>-0.001028</td>\n",
              "    </tr>\n",
              "    <tr>\n",
              "      <th>description</th>\n",
              "      <td>-0.001594</td>\n",
              "    </tr>\n",
              "    <tr>\n",
              "      <th>qty_roll_mean_3</th>\n",
              "      <td>-0.002027</td>\n",
              "    </tr>\n",
              "    <tr>\n",
              "      <th>month</th>\n",
              "      <td>-0.005545</td>\n",
              "    </tr>\n",
              "    <tr>\n",
              "      <th>qty_lag3</th>\n",
              "      <td>-0.007601</td>\n",
              "    </tr>\n",
              "    <tr>\n",
              "      <th>qty_trend_ratio</th>\n",
              "      <td>-0.008741</td>\n",
              "    </tr>\n",
              "  </tbody>\n",
              "</table>\n",
              "</div>\n",
              "    <div class=\"colab-df-buttons\">\n",
              "\n",
              "  <div class=\"colab-df-container\">\n",
              "    <button class=\"colab-df-convert\" onclick=\"convertToInteractive('df-f1cd03e2-bd0b-40fd-ab6b-1ddd80b1c57e')\"\n",
              "            title=\"Convert this dataframe to an interactive table.\"\n",
              "            style=\"display:none;\">\n",
              "\n",
              "  <svg xmlns=\"http://www.w3.org/2000/svg\" height=\"24px\" viewBox=\"0 -960 960 960\">\n",
              "    <path d=\"M120-120v-720h720v720H120Zm60-500h600v-160H180v160Zm220 220h160v-160H400v160Zm0 220h160v-160H400v160ZM180-400h160v-160H180v160Zm440 0h160v-160H620v160ZM180-180h160v-160H180v160Zm440 0h160v-160H620v160Z\"/>\n",
              "  </svg>\n",
              "    </button>\n",
              "\n",
              "  <style>\n",
              "    .colab-df-container {\n",
              "      display:flex;\n",
              "      gap: 12px;\n",
              "    }\n",
              "\n",
              "    .colab-df-convert {\n",
              "      background-color: #E8F0FE;\n",
              "      border: none;\n",
              "      border-radius: 50%;\n",
              "      cursor: pointer;\n",
              "      display: none;\n",
              "      fill: #1967D2;\n",
              "      height: 32px;\n",
              "      padding: 0 0 0 0;\n",
              "      width: 32px;\n",
              "    }\n",
              "\n",
              "    .colab-df-convert:hover {\n",
              "      background-color: #E2EBFA;\n",
              "      box-shadow: 0px 1px 2px rgba(60, 64, 67, 0.3), 0px 1px 3px 1px rgba(60, 64, 67, 0.15);\n",
              "      fill: #174EA6;\n",
              "    }\n",
              "\n",
              "    .colab-df-buttons div {\n",
              "      margin-bottom: 4px;\n",
              "    }\n",
              "\n",
              "    [theme=dark] .colab-df-convert {\n",
              "      background-color: #3B4455;\n",
              "      fill: #D2E3FC;\n",
              "    }\n",
              "\n",
              "    [theme=dark] .colab-df-convert:hover {\n",
              "      background-color: #434B5C;\n",
              "      box-shadow: 0px 1px 3px 1px rgba(0, 0, 0, 0.15);\n",
              "      filter: drop-shadow(0px 1px 2px rgba(0, 0, 0, 0.3));\n",
              "      fill: #FFFFFF;\n",
              "    }\n",
              "  </style>\n",
              "\n",
              "    <script>\n",
              "      const buttonEl =\n",
              "        document.querySelector('#df-f1cd03e2-bd0b-40fd-ab6b-1ddd80b1c57e button.colab-df-convert');\n",
              "      buttonEl.style.display =\n",
              "        google.colab.kernel.accessAllowed ? 'block' : 'none';\n",
              "\n",
              "      async function convertToInteractive(key) {\n",
              "        const element = document.querySelector('#df-f1cd03e2-bd0b-40fd-ab6b-1ddd80b1c57e');\n",
              "        const dataTable =\n",
              "          await google.colab.kernel.invokeFunction('convertToInteractive',\n",
              "                                                    [key], {});\n",
              "        if (!dataTable) return;\n",
              "\n",
              "        const docLinkHtml = 'Like what you see? Visit the ' +\n",
              "          '<a target=\"_blank\" href=https://colab.research.google.com/notebooks/data_table.ipynb>data table notebook</a>'\n",
              "          + ' to learn more about interactive tables.';\n",
              "        element.innerHTML = '';\n",
              "        dataTable['output_type'] = 'display_data';\n",
              "        await google.colab.output.renderOutput(dataTable, element);\n",
              "        const docLink = document.createElement('div');\n",
              "        docLink.innerHTML = docLinkHtml;\n",
              "        element.appendChild(docLink);\n",
              "      }\n",
              "    </script>\n",
              "  </div>\n",
              "\n",
              "\n",
              "    <div id=\"df-e9f8dc41-b668-4808-bf5e-5f9f622926c5\">\n",
              "      <button class=\"colab-df-quickchart\" onclick=\"quickchart('df-e9f8dc41-b668-4808-bf5e-5f9f622926c5')\"\n",
              "                title=\"Suggest charts\"\n",
              "                style=\"display:none;\">\n",
              "\n",
              "<svg xmlns=\"http://www.w3.org/2000/svg\" height=\"24px\"viewBox=\"0 0 24 24\"\n",
              "     width=\"24px\">\n",
              "    <g>\n",
              "        <path d=\"M19 3H5c-1.1 0-2 .9-2 2v14c0 1.1.9 2 2 2h14c1.1 0 2-.9 2-2V5c0-1.1-.9-2-2-2zM9 17H7v-7h2v7zm4 0h-2V7h2v10zm4 0h-2v-4h2v4z\"/>\n",
              "    </g>\n",
              "</svg>\n",
              "      </button>\n",
              "\n",
              "<style>\n",
              "  .colab-df-quickchart {\n",
              "      --bg-color: #E8F0FE;\n",
              "      --fill-color: #1967D2;\n",
              "      --hover-bg-color: #E2EBFA;\n",
              "      --hover-fill-color: #174EA6;\n",
              "      --disabled-fill-color: #AAA;\n",
              "      --disabled-bg-color: #DDD;\n",
              "  }\n",
              "\n",
              "  [theme=dark] .colab-df-quickchart {\n",
              "      --bg-color: #3B4455;\n",
              "      --fill-color: #D2E3FC;\n",
              "      --hover-bg-color: #434B5C;\n",
              "      --hover-fill-color: #FFFFFF;\n",
              "      --disabled-bg-color: #3B4455;\n",
              "      --disabled-fill-color: #666;\n",
              "  }\n",
              "\n",
              "  .colab-df-quickchart {\n",
              "    background-color: var(--bg-color);\n",
              "    border: none;\n",
              "    border-radius: 50%;\n",
              "    cursor: pointer;\n",
              "    display: none;\n",
              "    fill: var(--fill-color);\n",
              "    height: 32px;\n",
              "    padding: 0;\n",
              "    width: 32px;\n",
              "  }\n",
              "\n",
              "  .colab-df-quickchart:hover {\n",
              "    background-color: var(--hover-bg-color);\n",
              "    box-shadow: 0 1px 2px rgba(60, 64, 67, 0.3), 0 1px 3px 1px rgba(60, 64, 67, 0.15);\n",
              "    fill: var(--button-hover-fill-color);\n",
              "  }\n",
              "\n",
              "  .colab-df-quickchart-complete:disabled,\n",
              "  .colab-df-quickchart-complete:disabled:hover {\n",
              "    background-color: var(--disabled-bg-color);\n",
              "    fill: var(--disabled-fill-color);\n",
              "    box-shadow: none;\n",
              "  }\n",
              "\n",
              "  .colab-df-spinner {\n",
              "    border: 2px solid var(--fill-color);\n",
              "    border-color: transparent;\n",
              "    border-bottom-color: var(--fill-color);\n",
              "    animation:\n",
              "      spin 1s steps(1) infinite;\n",
              "  }\n",
              "\n",
              "  @keyframes spin {\n",
              "    0% {\n",
              "      border-color: transparent;\n",
              "      border-bottom-color: var(--fill-color);\n",
              "      border-left-color: var(--fill-color);\n",
              "    }\n",
              "    20% {\n",
              "      border-color: transparent;\n",
              "      border-left-color: var(--fill-color);\n",
              "      border-top-color: var(--fill-color);\n",
              "    }\n",
              "    30% {\n",
              "      border-color: transparent;\n",
              "      border-left-color: var(--fill-color);\n",
              "      border-top-color: var(--fill-color);\n",
              "      border-right-color: var(--fill-color);\n",
              "    }\n",
              "    40% {\n",
              "      border-color: transparent;\n",
              "      border-right-color: var(--fill-color);\n",
              "      border-top-color: var(--fill-color);\n",
              "    }\n",
              "    60% {\n",
              "      border-color: transparent;\n",
              "      border-right-color: var(--fill-color);\n",
              "    }\n",
              "    80% {\n",
              "      border-color: transparent;\n",
              "      border-right-color: var(--fill-color);\n",
              "      border-bottom-color: var(--fill-color);\n",
              "    }\n",
              "    90% {\n",
              "      border-color: transparent;\n",
              "      border-bottom-color: var(--fill-color);\n",
              "    }\n",
              "  }\n",
              "</style>\n",
              "\n",
              "      <script>\n",
              "        async function quickchart(key) {\n",
              "          const quickchartButtonEl =\n",
              "            document.querySelector('#' + key + ' button');\n",
              "          quickchartButtonEl.disabled = true;  // To prevent multiple clicks.\n",
              "          quickchartButtonEl.classList.add('colab-df-spinner');\n",
              "          try {\n",
              "            const charts = await google.colab.kernel.invokeFunction(\n",
              "                'suggestCharts', [key], {});\n",
              "          } catch (error) {\n",
              "            console.error('Error during call to suggestCharts:', error);\n",
              "          }\n",
              "          quickchartButtonEl.classList.remove('colab-df-spinner');\n",
              "          quickchartButtonEl.classList.add('colab-df-quickchart-complete');\n",
              "        }\n",
              "        (() => {\n",
              "          let quickchartButtonEl =\n",
              "            document.querySelector('#df-e9f8dc41-b668-4808-bf5e-5f9f622926c5 button');\n",
              "          quickchartButtonEl.style.display =\n",
              "            google.colab.kernel.accessAllowed ? 'block' : 'none';\n",
              "        })();\n",
              "      </script>\n",
              "    </div>\n",
              "\n",
              "    </div>\n",
              "  </div>\n"
            ],
            "application/vnd.google.colaboratory.intrinsic+json": {
              "type": "dataframe",
              "summary": "{\n  \"name\": \"loss_values_df\",\n  \"rows\": 20,\n  \"fields\": [\n    {\n      \"column\": \"rmse_change\",\n      \"properties\": {\n        \"dtype\": \"number\",\n        \"std\": 0.012328842155932447,\n        \"min\": -0.008740933920371674,\n        \"max\": 0.044822115813069274,\n        \"num_unique_values\": 20,\n        \"samples\": [\n          0.044822115813069274,\n          -0.005544942536481301,\n          -0.0015938712443457348\n        ],\n        \"semantic_type\": \"\",\n        \"description\": \"\"\n      }\n    }\n  ]\n}"
            }
          },
          "metadata": {},
          "execution_count": 235
        }
      ]
    },
    {
      "cell_type": "code",
      "source": [
        "strong_features = loss_values_df.query(\"rmse_change > 0.002\").index.tolist()\n",
        "print(f\"strong features for h={h}: {strong_features}\")"
      ],
      "metadata": {
        "id": "2AMpoBt9QU4y",
        "colab": {
          "base_uri": "https://localhost:8080/"
        },
        "outputId": "b111cdb3-f22f-4fad-95b8-6294b87accd2"
      },
      "execution_count": null,
      "outputs": [
        {
          "output_type": "stream",
          "name": "stdout",
          "text": [
            "strong features for h=6: ['unique_id', 'price', 'ds', 'ds_start', 'qty_lag2', 'qty_roll_mean_6', 'qty_diff1']\n"
          ]
        }
      ]
    },
    {
      "cell_type": "code",
      "source": [
        "X = strong_features\n",
        "cat_features = train_cat[X].select_dtypes(include=['object', 'category']).columns.tolist()\n",
        "y = 'y'"
      ],
      "metadata": {
        "id": "TTQrAp7iQU1l"
      },
      "execution_count": null,
      "outputs": []
    },
    {
      "cell_type": "code",
      "source": [
        "X_train = train_cat[X]\n",
        "y_train = train_cat[y]\n",
        "\n",
        "X_val = val_cat[X]\n",
        "y_val = val_cat[y]\n",
        "\n",
        "X_test = test_cat[X]\n",
        "y_test = test_cat[y]"
      ],
      "metadata": {
        "id": "cjoC39rQMZ1U"
      },
      "execution_count": null,
      "outputs": []
    },
    {
      "cell_type": "code",
      "source": [
        "train_pool = Pool(X_train, y_train, cat_features=cat_features)\n",
        "val_pool = Pool(X_val, y_val, cat_features=cat_features)\n",
        "test_pool = Pool(X_test, y_test, cat_features=cat_features)"
      ],
      "metadata": {
        "id": "GbR6GLNrMZyZ"
      },
      "execution_count": null,
      "outputs": []
    },
    {
      "cell_type": "code",
      "source": [
        "base_model = CatBoostRegressor(\n",
        "    iterations=1000,\n",
        "    depth=6,\n",
        "    learning_rate=0.05,\n",
        "    early_stopping_rounds=200,\n",
        "    loss_function='RMSE',\n",
        "    random_seed=42,\n",
        "    verbose=100\n",
        "    )\n",
        "base_model.fit(train_pool, eval_set=val_pool)"
      ],
      "metadata": {
        "colab": {
          "base_uri": "https://localhost:8080/"
        },
        "id": "Oh5GvQcDVmMu",
        "outputId": "f581b87c-e96b-4fa1-ee46-c4fdd6111067"
      },
      "execution_count": null,
      "outputs": [
        {
          "output_type": "stream",
          "name": "stdout",
          "text": [
            "0:\tlearn: 17.7422133\ttest: 12.4952348\tbest: 12.4952348 (0)\ttotal: 31.5ms\tremaining: 31.4s\n",
            "100:\tlearn: 17.3108373\ttest: 12.3646236\tbest: 12.3646236 (100)\ttotal: 3.71s\tremaining: 33s\n",
            "200:\tlearn: 17.1036656\ttest: 12.3557471\tbest: 12.3549845 (199)\ttotal: 7.49s\tremaining: 29.8s\n",
            "300:\tlearn: 16.9191427\ttest: 12.3391936\tbest: 12.3391936 (300)\ttotal: 10.3s\tremaining: 24s\n",
            "400:\tlearn: 16.7491666\ttest: 12.2980962\tbest: 12.2980238 (399)\ttotal: 13.2s\tremaining: 19.7s\n",
            "500:\tlearn: 16.6277561\ttest: 12.2937051\tbest: 12.2909399 (480)\ttotal: 16.7s\tremaining: 16.6s\n",
            "600:\tlearn: 16.4813448\ttest: 12.2991846\tbest: 12.2909399 (480)\ttotal: 20.8s\tremaining: 13.8s\n",
            "Stopped by overfitting detector  (200 iterations wait)\n",
            "\n",
            "bestTest = 12.29093991\n",
            "bestIteration = 480\n",
            "\n",
            "Shrink model to first 481 iterations.\n"
          ]
        },
        {
          "output_type": "execute_result",
          "data": {
            "text/plain": [
              "<catboost.core.CatBoostRegressor at 0x780529dc2ea0>"
            ]
          },
          "metadata": {},
          "execution_count": 240
        }
      ]
    },
    {
      "cell_type": "code",
      "source": [
        "y_pred_val = base_model.predict(X_val)\n",
        "\n",
        "val_cat['CatRegr_val'] = y_pred_val\n",
        "val_cat['CatRegr_val'] = np.where(val_cat['CatRegr_val'] < 0, 0, val_cat['CatRegr_val'])\n",
        "val_cat['CatRegr_val_round'] = np.round(val_cat['CatRegr_val']).astype('uint16')"
      ],
      "metadata": {
        "id": "3PVAmeUNIe_8"
      },
      "execution_count": null,
      "outputs": []
    },
    {
      "cell_type": "code",
      "source": [
        "#RMSSE, MAE - float prediction\n",
        "r_vec_cat, cols_cat = fast_rmsse(train_cat, val_cat, val_cat, 'CatRegr_val')\n",
        "print(f\"RMSSE CatBoostRegressor for h={h}: {np.nanmean(r_vec_cat):.3f}\")\n",
        "\n",
        "#RMSSE, MAE - integer prediction\n",
        "r_vec_cat, cols_cat = fast_rmsse(train_cat, val_cat, val_cat, 'CatRegr_val_round')\n",
        "print(f\"RMSSE CatBoostRegressor for h={h}: {np.nanmean(r_vec_cat):.3f}\")"
      ],
      "metadata": {
        "colab": {
          "base_uri": "https://localhost:8080/"
        },
        "outputId": "cd4f051b-14e3-4073-d62b-acc4b3c4514d",
        "id": "_UxZoZxBIe_9"
      },
      "execution_count": null,
      "outputs": [
        {
          "output_type": "stream",
          "name": "stdout",
          "text": [
            "RMSSE CatBoostRegressor for h=6: 0.928\n",
            "RMSSE CatBoostRegressor for h=6: 0.927\n"
          ]
        }
      ]
    },
    {
      "cell_type": "markdown",
      "source": [
        "#####final evaluation on test (if applicable)"
      ],
      "metadata": {
        "id": "U5IMqOX5UB_x"
      }
    },
    {
      "cell_type": "code",
      "source": [
        "#creating the pool with train+val\n",
        "X_trainval = pd.concat([X_train, X_val], ignore_index=True)\n",
        "y_trainval = pd.concat([y_train, y_val], ignore_index=True)\n",
        "trainval_pool = Pool(X_trainval, y_trainval, cat_features=cat_features)"
      ],
      "metadata": {
        "id": "GMYiEqOET-3j"
      },
      "execution_count": null,
      "outputs": []
    },
    {
      "cell_type": "code",
      "source": [
        "#training on train+val with the optimal hyperparameters\n",
        "final_cat_model = CatBoostRegressor(\n",
        "    iterations=base_model.best_iteration_,\n",
        "    depth=6,\n",
        "    learning_rate=0.05,\n",
        "    loss_function='RMSE',\n",
        "    random_seed=42,\n",
        "    verbose=False\n",
        ")\n",
        "final_cat_model.fit(trainval_pool)"
      ],
      "metadata": {
        "colab": {
          "base_uri": "https://localhost:8080/"
        },
        "id": "98RCAWkvUJYM",
        "outputId": "6e7edb69-21b8-4b91-a083-7d7b325be68f"
      },
      "execution_count": null,
      "outputs": [
        {
          "output_type": "execute_result",
          "data": {
            "text/plain": [
              "<catboost.core.CatBoostRegressor at 0x780529df1850>"
            ]
          },
          "metadata": {},
          "execution_count": 244
        }
      ]
    },
    {
      "cell_type": "code",
      "source": [
        "# Predict\n",
        "y_pred = final_cat_model.predict(X_test)\n",
        "\n",
        "test_cat['CatRegr'] = y_pred\n",
        "test_cat['CatRegr'] = np.where(test_cat['CatRegr'] < 0, 0, test_cat['CatRegr'])\n",
        "test_cat['CatRegr_round'] = np.round(test_cat['CatRegr']).astype('uint16')"
      ],
      "metadata": {
        "id": "gfvckXGsUJUr"
      },
      "execution_count": null,
      "outputs": []
    },
    {
      "cell_type": "code",
      "source": [
        "#RMSSE, MAE - float prediction\n",
        "r_vec_cat, cols_cat = fast_rmsse(train, test_cat, test_cat, 'CatRegr')\n",
        "mae_cat = mean_absolute_error(test_cat['y'], test_cat['CatRegr'])\n",
        "print(f\"RMSSE CatBoostRegressor for h={h}: {np.nanmean(r_vec_cat):.3f}\")\n",
        "print(f\"MAE CatBoostRegressor for h={h}: {mae_cat:.3f}\")\n",
        "\n",
        "#RMSSE, MAE - integer prediction\n",
        "r_vec_cat, cols_cat = fast_rmsse(train, test_cat, test_cat, 'CatRegr_round')\n",
        "mae_cat = mean_absolute_error(test_cat['y'], test_cat['CatRegr_round'])\n",
        "print(f\"RMSSE CatBoostRegressor for h={h}: {np.nanmean(r_vec_cat):.3f}\")\n",
        "print(f\"MAE CatBoostRegressor for h={h}: {mae_cat:.3f}\")"
      ],
      "metadata": {
        "colab": {
          "base_uri": "https://localhost:8080/"
        },
        "id": "xLsMvSjFUMkw",
        "outputId": "69f33827-be38-4fe5-8d83-72b584ea8e5a"
      },
      "execution_count": null,
      "outputs": [
        {
          "output_type": "stream",
          "name": "stdout",
          "text": [
            "RMSSE CatBoostRegressor for h=6: 0.808\n",
            "MAE CatBoostRegressor for h=6: 2.261\n",
            "RMSSE CatBoostRegressor for h=6: 0.788\n",
            "MAE CatBoostRegressor for h=6: 2.218\n"
          ]
        }
      ]
    },
    {
      "cell_type": "markdown",
      "source": [
        "####With hyperparameters tuning"
      ],
      "metadata": {
        "id": "MFjPzwBjJSDL"
      }
    },
    {
      "cell_type": "code",
      "source": [
        "#the final list of features\n",
        "#X = strong_features\n",
        "X = ['unique_id', 'description',\t'lead_time',\t'price', 'ds']\n",
        "cat_features = train_cat[X].select_dtypes(include=['object', 'category']).columns.tolist()\n",
        "y = 'y'"
      ],
      "metadata": {
        "id": "uAjeF3_xM6qi"
      },
      "execution_count": null,
      "outputs": []
    },
    {
      "cell_type": "code",
      "source": [
        "X_train = train_cat[X]\n",
        "y_train = train_cat[y]\n",
        "\n",
        "X_val = val_cat[X]\n",
        "y_val = val_cat[y]\n",
        "\n",
        "X_test = test_cat[X]\n",
        "y_test = test_cat[y]"
      ],
      "metadata": {
        "id": "6aVLMMH3M6ni"
      },
      "execution_count": null,
      "outputs": []
    },
    {
      "cell_type": "code",
      "source": [
        "train_pool = Pool(X_train, y_train, cat_features=cat_features)\n",
        "val_pool = Pool(X_val, y_val, cat_features=cat_features)\n",
        "test_pool = Pool(X_test, y_test, cat_features=cat_features)"
      ],
      "metadata": {
        "id": "8f4xvs5EJ2-5"
      },
      "execution_count": null,
      "outputs": []
    },
    {
      "cell_type": "code",
      "source": [
        "#finding optimal hyperparameters\n",
        "def objective(trial):\n",
        "    depth = trial.suggest_int('depth', 4, 10)\n",
        "    lr = trial.suggest_float('learning_rate', 0.01, 0.3, log=True)\n",
        "\n",
        "    model = CatBoostRegressor(\n",
        "        iterations=2000,\n",
        "        early_stopping_rounds=100,\n",
        "        random_seed=42,\n",
        "        loss_function='RMSE',\n",
        "        depth=depth,\n",
        "        learning_rate=lr\n",
        "    )\n",
        "    model.fit(train_pool, eval_set=val_pool, verbose=False)\n",
        "\n",
        "    trial.set_user_attr(\"best_iteration\", model.best_iteration_)\n",
        "\n",
        "    return model.best_score_['validation']['RMSE']\n",
        "\n",
        "sampler = optuna.samplers.TPESampler(seed=42)\n",
        "study = optuna.create_study(direction=\"minimize\", sampler=sampler)\n",
        "study.optimize(objective, n_trials=20)"
      ],
      "metadata": {
        "colab": {
          "base_uri": "https://localhost:8080/"
        },
        "id": "OGtnddDePeKt",
        "outputId": "9e18520b-9d10-4aaf-bcbc-245135b7d3ca"
      },
      "execution_count": null,
      "outputs": [
        {
          "output_type": "stream",
          "name": "stderr",
          "text": [
            "[I 2025-09-08 09:03:43,952] A new study created in memory with name: no-name-91462a1b-508d-4fdf-83b8-5dafcf9985be\n",
            "[I 2025-09-08 09:03:55,500] Trial 0 finished with value: 12.596525086796026 and parameters: {'depth': 6, 'learning_rate': 0.2536999076681772}. Best is trial 0 with value: 12.596525086796026.\n",
            "[I 2025-09-08 09:04:17,740] Trial 1 finished with value: 12.617034485134914 and parameters: {'depth': 9, 'learning_rate': 0.07661100707771368}. Best is trial 0 with value: 12.596525086796026.\n",
            "[I 2025-09-08 09:05:09,057] Trial 2 finished with value: 12.62270870122857 and parameters: {'depth': 5, 'learning_rate': 0.01699897838270077}. Best is trial 0 with value: 12.596525086796026.\n",
            "[I 2025-09-08 09:05:21,058] Trial 3 finished with value: 12.593961996543078 and parameters: {'depth': 4, 'learning_rate': 0.19030368381735815}. Best is trial 3 with value: 12.593961996543078.\n",
            "[I 2025-09-08 09:05:41,508] Trial 4 finished with value: 12.612891336007678 and parameters: {'depth': 8, 'learning_rate': 0.11114989443094977}. Best is trial 3 with value: 12.593961996543078.\n",
            "[I 2025-09-08 09:05:59,464] Trial 5 finished with value: 12.633430233834087 and parameters: {'depth': 4, 'learning_rate': 0.2708160864249968}. Best is trial 3 with value: 12.593961996543078.\n",
            "[I 2025-09-08 09:06:49,247] Trial 6 finished with value: 12.598503138475103 and parameters: {'depth': 9, 'learning_rate': 0.020589728197687916}. Best is trial 3 with value: 12.593961996543078.\n",
            "[I 2025-09-08 09:07:37,864] Trial 7 finished with value: 12.617885291370483 and parameters: {'depth': 5, 'learning_rate': 0.018659959624904916}. Best is trial 3 with value: 12.593961996543078.\n",
            "[I 2025-09-08 09:07:57,114] Trial 8 finished with value: 12.623491790902296 and parameters: {'depth': 6, 'learning_rate': 0.05958389350068958}. Best is trial 3 with value: 12.593961996543078.\n",
            "[I 2025-09-08 09:08:23,226] Trial 9 finished with value: 12.621609669984219 and parameters: {'depth': 7, 'learning_rate': 0.02692655251486473}. Best is trial 3 with value: 12.593961996543078.\n",
            "[I 2025-09-08 09:08:38,351] Trial 10 finished with value: 12.599824684936884 and parameters: {'depth': 4, 'learning_rate': 0.14057740278445005}. Best is trial 3 with value: 12.593961996543078.\n",
            "[I 2025-09-08 09:08:51,857] Trial 11 finished with value: 12.599683748717043 and parameters: {'depth': 6, 'learning_rate': 0.2731473606679194}. Best is trial 3 with value: 12.593961996543078.\n",
            "[I 2025-09-08 09:09:08,590] Trial 12 finished with value: 12.603433325347684 and parameters: {'depth': 6, 'learning_rate': 0.16484948648148848}. Best is trial 3 with value: 12.593961996543078.\n",
            "[I 2025-09-08 09:09:50,858] Trial 13 finished with value: 12.594372023070164 and parameters: {'depth': 4, 'learning_rate': 0.03799273062329156}. Best is trial 3 with value: 12.593961996543078.\n",
            "[I 2025-09-08 09:10:38,469] Trial 14 finished with value: 12.58255137877934 and parameters: {'depth': 4, 'learning_rate': 0.036368174009388174}. Best is trial 14 with value: 12.58255137877934.\n",
            "[I 2025-09-08 09:12:02,138] Trial 15 finished with value: 12.605121024735102 and parameters: {'depth': 10, 'learning_rate': 0.011703312041568418}. Best is trial 14 with value: 12.58255137877934.\n",
            "[I 2025-09-08 09:12:32,152] Trial 16 finished with value: 12.619998278101978 and parameters: {'depth': 5, 'learning_rate': 0.04017475925581966}. Best is trial 14 with value: 12.58255137877934.\n",
            "[I 2025-09-08 09:12:58,857] Trial 17 finished with value: 12.583883876233164 and parameters: {'depth': 4, 'learning_rate': 0.08287670130296045}. Best is trial 14 with value: 12.58255137877934.\n",
            "[I 2025-09-08 09:13:16,441] Trial 18 finished with value: 12.62108171815474 and parameters: {'depth': 7, 'learning_rate': 0.08851384049978887}. Best is trial 14 with value: 12.58255137877934.\n",
            "[I 2025-09-08 09:13:40,887] Trial 19 finished with value: 12.618275095645728 and parameters: {'depth': 5, 'learning_rate': 0.04709780899634887}. Best is trial 14 with value: 12.58255137877934.\n"
          ]
        }
      ]
    },
    {
      "cell_type": "code",
      "source": [
        "best_model = CatBoostRegressor(\n",
        "    iterations=2000,\n",
        "    depth=study.best_params['depth'],\n",
        "    learning_rate=study.best_params['learning_rate'],\n",
        "    early_stopping_rounds=100,\n",
        "    loss_function='RMSE',\n",
        "    random_seed=42,\n",
        "    verbose=100,\n",
        ")\n",
        "\n",
        "best_model.fit(train_pool, eval_set=val_pool)"
      ],
      "metadata": {
        "colab": {
          "base_uri": "https://localhost:8080/"
        },
        "id": "m2cMtHTfMsK6",
        "outputId": "6459538e-1830-4095-eb14-0536f1ca439f"
      },
      "execution_count": null,
      "outputs": [
        {
          "output_type": "stream",
          "name": "stdout",
          "text": [
            "0:\tlearn: 17.5698209\ttest: 12.7067997\tbest: 12.7067997 (0)\ttotal: 135ms\tremaining: 4m 28s\n",
            "100:\tlearn: 17.4077435\ttest: 12.6443396\tbest: 12.6443396 (100)\ttotal: 7.79s\tremaining: 2m 26s\n",
            "200:\tlearn: 17.3544750\ttest: 12.6271913\tbest: 12.6271794 (197)\ttotal: 14.8s\tremaining: 2m 12s\n",
            "300:\tlearn: 17.3116037\ttest: 12.6097808\tbest: 12.6097808 (300)\ttotal: 22.7s\tremaining: 2m 7s\n",
            "400:\tlearn: 17.2723273\ttest: 12.5963431\tbest: 12.5962732 (393)\ttotal: 29s\tremaining: 1m 55s\n",
            "500:\tlearn: 17.2301097\ttest: 12.5847762\tbest: 12.5847762 (500)\ttotal: 36.6s\tremaining: 1m 49s\n",
            "600:\tlearn: 17.2002904\ttest: 12.5831046\tbest: 12.5825514 (580)\ttotal: 42.1s\tremaining: 1m 37s\n",
            "Stopped by overfitting detector  (100 iterations wait)\n",
            "\n",
            "bestTest = 12.58255138\n",
            "bestIteration = 580\n",
            "\n",
            "Shrink model to first 581 iterations.\n"
          ]
        },
        {
          "output_type": "execute_result",
          "data": {
            "text/plain": [
              "<catboost.core.CatBoostRegressor at 0x780529df37a0>"
            ]
          },
          "metadata": {},
          "execution_count": 218
        }
      ]
    },
    {
      "cell_type": "code",
      "source": [
        "y_pred_val = best_model.predict(X_val)\n",
        "\n",
        "val_cat['CatRegr_val'] = y_pred_val\n",
        "val_cat['CatRegr_val'] = np.where(val_cat['CatRegr_val'] < 0, 0, val_cat['CatRegr_val'])\n",
        "val_cat['CatRegr_val_round'] = np.round(val_cat['CatRegr_val']).astype('uint16')"
      ],
      "metadata": {
        "id": "o7Vw-iYnlUEn"
      },
      "execution_count": null,
      "outputs": []
    },
    {
      "cell_type": "code",
      "source": [
        "#RMSSE, MAE - float prediction\n",
        "r_vec_cat, cols_cat = fast_rmsse(train_cat, val_cat, val_cat, 'CatRegr_val')\n",
        "print(f\"RMSSE CatBoostRegressor for h={h}: {np.nanmean(r_vec_cat):.3f}\")\n",
        "\n",
        "#RMSSE, MAE - integer prediction\n",
        "r_vec_cat, cols_cat = fast_rmsse(train_cat, val_cat, val_cat, 'CatRegr_val_round')\n",
        "print(f\"RMSSE CatBoostRegressor for h={h}: {np.nanmean(r_vec_cat):.3f}\")"
      ],
      "metadata": {
        "colab": {
          "base_uri": "https://localhost:8080/"
        },
        "id": "i1taxDHTKQ2R",
        "outputId": "cfdef005-c1a5-4397-ced3-bcff61aba64f"
      },
      "execution_count": null,
      "outputs": [
        {
          "output_type": "stream",
          "name": "stdout",
          "text": [
            "RMSSE CatBoostRegressor for h=3: 0.913\n",
            "RMSSE CatBoostRegressor for h=3: 0.917\n"
          ]
        }
      ]
    },
    {
      "cell_type": "markdown",
      "source": [
        "#####final evaluation on test (if applicable)"
      ],
      "metadata": {
        "id": "IpCaRhfoaRSr"
      }
    },
    {
      "cell_type": "code",
      "source": [
        "#creating the pool with train+val\n",
        "X_trainval = pd.concat([X_train, X_val], ignore_index=True)\n",
        "y_trainval = pd.concat([y_train, y_val], ignore_index=True)\n",
        "trainval_pool = Pool(X_trainval, y_trainval, cat_features=cat_features)"
      ],
      "metadata": {
        "id": "EczBQVsuMoqB"
      },
      "execution_count": null,
      "outputs": []
    },
    {
      "cell_type": "code",
      "source": [
        "#training on train+val with the optimal hyperparameters\n",
        "final_cat_model = CatBoostRegressor(\n",
        "    iterations=study.best_trial.user_attrs['best_iteration'],\n",
        "    depth=study.best_params['depth'],\n",
        "    learning_rate=study.best_params['learning_rate'],\n",
        "    loss_function='RMSE',\n",
        "    random_seed=42,\n",
        "    verbose=False\n",
        ")\n",
        "final_cat_model.fit(trainval_pool)"
      ],
      "metadata": {
        "colab": {
          "base_uri": "https://localhost:8080/"
        },
        "id": "N9hj7jzyitFt",
        "outputId": "03d69df0-73e2-471c-f23b-1708c329b1ee"
      },
      "execution_count": null,
      "outputs": [
        {
          "output_type": "execute_result",
          "data": {
            "text/plain": [
              "<catboost.core.CatBoostRegressor at 0x780529f1e360>"
            ]
          },
          "metadata": {},
          "execution_count": 222
        }
      ]
    },
    {
      "cell_type": "code",
      "source": [
        "# Predict\n",
        "y_pred = final_cat_model.predict(X_test)\n",
        "\n",
        "test_cat['CatRegr'] = y_pred\n",
        "test_cat['CatRegr'] = np.where(test_cat['CatRegr'] < 0, 0, test_cat['CatRegr'])\n",
        "test_cat['CatRegr_round'] = np.round(test_cat['CatRegr']).astype('uint16')"
      ],
      "metadata": {
        "id": "jz5pzphEZWp7"
      },
      "execution_count": null,
      "outputs": []
    },
    {
      "cell_type": "code",
      "source": [
        "#RMSSE, MAE - float prediction\n",
        "r_vec_cat, cols_cat = fast_rmsse(train, test_cat, test_cat, 'CatRegr')\n",
        "mae_cat = mean_absolute_error(test_cat['y'], test_cat['CatRegr'])\n",
        "print(f\"RMSSE CatBoostRegressor for h={h}: {np.nanmean(r_vec_cat):.3f}\")\n",
        "print(f\"MAE CatBoostRegressor for h={h}: {mae_cat:.3f}\")\n",
        "\n",
        "#RMSSE, MAE - integer prediction\n",
        "r_vec_cat, cols_cat = fast_rmsse(train, test_cat, test_cat, 'CatRegr_round')\n",
        "mae_cat = mean_absolute_error(test_cat['y'], test_cat['CatRegr_round'])\n",
        "print(f\"RMSSE CatBoostRegressor for h={h}: {np.nanmean(r_vec_cat):.3f}\")\n",
        "print(f\"MAE CatBoostRegressor for h={h}: {mae_cat:.3f}\")"
      ],
      "metadata": {
        "colab": {
          "base_uri": "https://localhost:8080/"
        },
        "id": "bEI-j5VDZYO4",
        "outputId": "5cfbe7aa-1d7d-452e-a0c3-4f5336892fb6"
      },
      "execution_count": null,
      "outputs": [
        {
          "output_type": "stream",
          "name": "stdout",
          "text": [
            "RMSSE CatBoostRegressor for h=3: 0.710\n",
            "MAE CatBoostRegressor for h=3: 2.315\n",
            "RMSSE CatBoostRegressor for h=3: 0.674\n",
            "MAE CatBoostRegressor for h=3: 2.279\n"
          ]
        }
      ]
    },
    {
      "cell_type": "markdown",
      "source": [
        "##5.4. IMAPA + Catboost"
      ],
      "metadata": {
        "id": "_zYJg2_Zn1OP"
      }
    },
    {
      "cell_type": "markdown",
      "source": [
        "### With initial features"
      ],
      "metadata": {
        "id": "EwwmCBN5GMgl"
      }
    },
    {
      "cell_type": "code",
      "source": [
        "#set of initial features\n",
        "X = ['unique_id', 'description',\t'lead_time',\t'price', 'ds']\n",
        "cat_features = train_cat[X].select_dtypes(include=['object', 'category']).columns.tolist()\n",
        "y = 'y_bin'"
      ],
      "metadata": {
        "id": "YWad75kdrj2H"
      },
      "execution_count": null,
      "outputs": []
    },
    {
      "cell_type": "code",
      "source": [
        "X_train = train_cat[X]\n",
        "y_train = train_cat[y]\n",
        "\n",
        "X_val = val_cat[X]\n",
        "y_val = val_cat[y]\n",
        "\n",
        "X_test = test_cat[X]\n",
        "y_test = test_cat[y]"
      ],
      "metadata": {
        "id": "C5irqYY2Vazy"
      },
      "execution_count": null,
      "outputs": []
    },
    {
      "cell_type": "code",
      "source": [
        "train_pool = Pool(X_train, y_train, cat_features=cat_features)\n",
        "val_pool = Pool(X_val, y_val, cat_features=cat_features)\n",
        "test_pool = Pool(X_test, y_test, cat_features=cat_features)"
      ],
      "metadata": {
        "id": "ryqR5RQIVawb"
      },
      "execution_count": null,
      "outputs": []
    },
    {
      "cell_type": "code",
      "source": [
        "cb_class_model = CatBoostClassifier(\n",
        "    iterations=1000,\n",
        "    depth=6,\n",
        "    learning_rate=0.05,\n",
        "    early_stopping_rounds=200,\n",
        "    loss_function='Logloss',\n",
        "    random_seed=42,\n",
        "    class_weights=[0.57, 4.23],\n",
        "    verbose=100\n",
        ")\n",
        "\n",
        "cb_class_model.fit(train_pool, eval_set=val_pool)"
      ],
      "metadata": {
        "colab": {
          "base_uri": "https://localhost:8080/"
        },
        "id": "Tre7IOKEWTbl",
        "outputId": "7dccf7b1-438e-46c3-9a9d-06f67ce48d4e"
      },
      "execution_count": null,
      "outputs": [
        {
          "output_type": "stream",
          "name": "stdout",
          "text": [
            "0:\tlearn: 0.6914497\ttest: 0.6928185\tbest: 0.6928185 (0)\ttotal: 263ms\tremaining: 4m 22s\n",
            "100:\tlearn: 0.6721460\ttest: 0.7099162\tbest: 0.6896968 (13)\ttotal: 22.3s\tremaining: 3m 18s\n",
            "200:\tlearn: 0.6702121\ttest: 0.7153750\tbest: 0.6896968 (13)\ttotal: 46.3s\tremaining: 3m 4s\n",
            "Stopped by overfitting detector  (200 iterations wait)\n",
            "\n",
            "bestTest = 0.6896967512\n",
            "bestIteration = 13\n",
            "\n",
            "Shrink model to first 14 iterations.\n"
          ]
        },
        {
          "output_type": "execute_result",
          "data": {
            "text/plain": [
              "<catboost.core.CatBoostClassifier at 0x7fe339e1fb60>"
            ]
          },
          "metadata": {},
          "execution_count": 341
        }
      ]
    },
    {
      "cell_type": "code",
      "source": [
        "y_bin_pred_val = cb_class_model.predict(X_val)\n",
        "y_bin_pred_proba = cb_class_model.predict_proba(X_val)[:, 1]\n",
        "\n",
        "val_cat['CatClass_val'] = y_bin_pred_val"
      ],
      "metadata": {
        "id": "ym8frAZzWTYS"
      },
      "execution_count": null,
      "outputs": []
    },
    {
      "cell_type": "code",
      "source": [
        "print(np.round(y_bin_pred_proba.min(), 3), np.round(np.median(y_bin_pred_proba), 3), np.round(y_bin_pred_proba.max(), 3))"
      ],
      "metadata": {
        "colab": {
          "base_uri": "https://localhost:8080/"
        },
        "id": "xNHNUiDgcb-A",
        "outputId": "e7f12ffc-7baa-4c78-c08d-35a117abc397"
      },
      "execution_count": null,
      "outputs": [
        {
          "output_type": "stream",
          "name": "stdout",
          "text": [
            "0.441 0.462 0.465\n"
          ]
        }
      ]
    },
    {
      "cell_type": "code",
      "source": [
        "print(f\"f1_score: {f1_score(y_val, y_bin_pred_val, zero_division=0):.3f}\")\n",
        "print(f\"recall_score: {recall_score(y_val, y_bin_pred_val, zero_division=0):.3f}\")\n",
        "\n",
        "cm = confusion_matrix(y_val, y_bin_pred_val)\n",
        "df_cm = pd.DataFrame(cm, index=[\"Actual 0\", \"Actual 1\"], columns=[\"Pred 0\", \"Pred 1\"])\n",
        "print(df_cm)"
      ],
      "metadata": {
        "colab": {
          "base_uri": "https://localhost:8080/"
        },
        "id": "xdHfIuqLWTVl",
        "outputId": "2e47e115-cb5d-46aa-8fdf-d11cdb8daa0d"
      },
      "execution_count": null,
      "outputs": [
        {
          "output_type": "stream",
          "name": "stdout",
          "text": [
            "f1_score: 0.000\n",
            "recall_score: 0.000\n",
            "          Pred 0  Pred 1\n",
            "Actual 0   53857       0\n",
            "Actual 1    6143       0\n"
          ]
        }
      ]
    },
    {
      "cell_type": "code",
      "source": [
        "thresholds = np.linspace(0.01, 0.99, 99)\n",
        "best_thr, best_f1 = 0.5, 0.0\n",
        "for t in thresholds:\n",
        "    p = (y_bin_pred_proba >= t).astype(int)\n",
        "    f = f1_score(y_val, p, zero_division=0)\n",
        "    if f >= best_f1:\n",
        "        best_f1 = f; best_thr = t"
      ],
      "metadata": {
        "id": "F5DKzVDiWqwb"
      },
      "execution_count": null,
      "outputs": []
    },
    {
      "cell_type": "code",
      "source": [
        "print(f\"Best validation threshold for F1: {best_thr:.3f} (F1={best_f1:.3f})\")"
      ],
      "metadata": {
        "colab": {
          "base_uri": "https://localhost:8080/"
        },
        "id": "GuLa4cGHWqtt",
        "outputId": "fe2aed2c-0f95-42f9-d6a9-422a70909aac"
      },
      "execution_count": null,
      "outputs": [
        {
          "output_type": "stream",
          "name": "stdout",
          "text": [
            "Best validation threshold for F1: 0.440 (F1=0.186)\n"
          ]
        }
      ]
    },
    {
      "cell_type": "code",
      "source": [
        "y_bin_pred_val2 = (y_bin_pred_proba >= best_thr).astype(int)\n",
        "val_cat['CatClass2_val'] = y_bin_pred_val2"
      ],
      "metadata": {
        "id": "jC66kH0eXDHv"
      },
      "execution_count": null,
      "outputs": []
    },
    {
      "cell_type": "code",
      "source": [
        "print(f\"f1_score: {f1_score(y_val, y_bin_pred_val2, zero_division=0):.3f}\")\n",
        "print(f\"recall_score: {recall_score(y_val, y_bin_pred_val2, zero_division=0):.3f}\")\n",
        "\n",
        "cm = confusion_matrix(y_val, y_bin_pred_val2)\n",
        "df_cm = pd.DataFrame(cm, index=[\"Actual 0\", \"Actual 1\"], columns=[\"Pred 0\", \"Pred 1\"])\n",
        "print(df_cm)"
      ],
      "metadata": {
        "colab": {
          "base_uri": "https://localhost:8080/"
        },
        "id": "9-Lx6pALXDEa",
        "outputId": "03b79fd6-d8fd-4ab2-858c-e516f348312a"
      },
      "execution_count": null,
      "outputs": [
        {
          "output_type": "stream",
          "name": "stdout",
          "text": [
            "f1_score: 0.186\n",
            "recall_score: 1.000\n",
            "          Pred 0  Pred 1\n",
            "Actual 0       0   53857\n",
            "Actual 1       0    6143\n"
          ]
        }
      ]
    },
    {
      "cell_type": "markdown",
      "source": [
        "### With additional features"
      ],
      "metadata": {
        "id": "mK6fU78G4w35"
      }
    },
    {
      "cell_type": "code",
      "source": [
        "#set of all features\n",
        "X = train_cat.drop(columns=['y', 'y_bin']).columns.tolist()\n",
        "cat_features = train_cat[X].select_dtypes(include=['object', 'category']).columns.tolist()\n",
        "y = 'y_bin'"
      ],
      "metadata": {
        "id": "9jj2QHFcXDBq"
      },
      "execution_count": null,
      "outputs": []
    },
    {
      "cell_type": "code",
      "source": [
        "X_train = train_cat[X]\n",
        "y_train = train_cat[y]\n",
        "\n",
        "X_val = val_cat[X]\n",
        "y_val = val_cat[y]\n",
        "\n",
        "X_test = test_cat[X]\n",
        "y_test = test_cat[y]"
      ],
      "metadata": {
        "id": "amO4DbILXC-2"
      },
      "execution_count": null,
      "outputs": []
    },
    {
      "cell_type": "code",
      "source": [
        "train_pool = Pool(X_train, y_train, cat_features=cat_features)\n",
        "val_pool = Pool(X_val, y_val, cat_features=cat_features)\n",
        "test_pool = Pool(X_test, y_test, cat_features=cat_features)"
      ],
      "metadata": {
        "id": "Uug-4_b3Wqqm"
      },
      "execution_count": null,
      "outputs": []
    },
    {
      "cell_type": "code",
      "source": [
        "cb_class_model = CatBoostClassifier(\n",
        "    iterations=1000,\n",
        "    depth=6,\n",
        "    learning_rate=0.05,\n",
        "    early_stopping_rounds=200,\n",
        "    loss_function='Logloss',\n",
        "    random_seed=42,\n",
        "    class_weights=[0.57, 4.23],\n",
        "    verbose=100\n",
        ")\n",
        "\n",
        "cb_class_model.fit(train_pool, eval_set=val_pool)"
      ],
      "metadata": {
        "colab": {
          "base_uri": "https://localhost:8080/"
        },
        "id": "YbFZCilg5Aag",
        "outputId": "ce3518f4-7477-40dd-83f9-705ebfc7a35c"
      },
      "execution_count": null,
      "outputs": [
        {
          "output_type": "stream",
          "name": "stdout",
          "text": [
            "0:\tlearn: 0.6863452\ttest: 0.6927562\tbest: 0.6927562 (0)\ttotal: 246ms\tremaining: 4m 5s\n",
            "100:\tlearn: 0.6394174\ttest: 0.6837972\tbest: 0.6837972 (100)\ttotal: 27.6s\tremaining: 4m 6s\n",
            "200:\tlearn: 0.6332185\ttest: 0.6838067\tbest: 0.6835463 (172)\ttotal: 55.3s\tremaining: 3m 39s\n",
            "300:\tlearn: 0.6279115\ttest: 0.6846388\tbest: 0.6835463 (172)\ttotal: 1m 23s\tremaining: 3m 12s\n",
            "Stopped by overfitting detector  (200 iterations wait)\n",
            "\n",
            "bestTest = 0.683546305\n",
            "bestIteration = 172\n",
            "\n",
            "Shrink model to first 173 iterations.\n"
          ]
        },
        {
          "output_type": "execute_result",
          "data": {
            "text/plain": [
              "<catboost.core.CatBoostClassifier at 0x7fe368bd1a60>"
            ]
          },
          "metadata": {},
          "execution_count": 388
        }
      ]
    },
    {
      "cell_type": "code",
      "source": [
        "loss_values = cb_class_model.get_feature_importance(type='LossFunctionChange', data=val_pool)\n",
        "loss_values_df = pd.DataFrame(\n",
        "    loss_values.tolist(),\n",
        "    index=X_train.columns,\n",
        "    columns=['logloss_change']\n",
        "  )\n",
        "\n",
        "loss_values_df.sort_values(by='logloss_change', ascending=False, inplace=True)"
      ],
      "metadata": {
        "id": "TkQtvmHB5akW"
      },
      "execution_count": null,
      "outputs": []
    },
    {
      "cell_type": "code",
      "source": [
        "pos_features = loss_values_df.query(\"logloss_change > 0\").index\n",
        "overall_impact = loss_values_df.query(\"logloss_change > 0\").logloss_change.sum()\n",
        "\n",
        "loss_values_df['cumulative_contribution'] = 0.00\n",
        "loss_values_df['cc_percent'] = 0.00\n",
        "max_impact_feature = loss_values_df.index[0]\n",
        "loss_values_df.loc[max_impact_feature, 'cumulative_contribution'] = loss_values_df.loc[max_impact_feature, 'logloss_change']\n",
        "loss_values_df.loc[max_impact_feature, 'cc_percent'] = loss_values_df.loc[max_impact_feature, 'cumulative_contribution'] / overall_impact\n",
        "\n",
        "for i in range(1, len(pos_features)):\n",
        "  loss_values_df.loc[pos_features[i], 'cumulative_contribution'] = loss_values_df.loc[pos_features[i-1], 'cumulative_contribution'] + loss_values_df.loc[pos_features[i], 'logloss_change']\n",
        "  loss_values_df.loc[pos_features[i], 'cc_percent'] = loss_values_df.loc[pos_features[i], 'cumulative_contribution'] / overall_impact"
      ],
      "metadata": {
        "id": "YMNLd3e6eTY8"
      },
      "execution_count": null,
      "outputs": []
    },
    {
      "cell_type": "code",
      "source": [
        "round(loss_values_df[['logloss_change', 'cc_percent']], 6)"
      ],
      "metadata": {
        "colab": {
          "base_uri": "https://localhost:8080/",
          "height": 677
        },
        "id": "t5a7Y__Kehcz",
        "outputId": "27d3a07c-2902-445d-c98b-e980f6dc0775"
      },
      "execution_count": null,
      "outputs": [
        {
          "output_type": "execute_result",
          "data": {
            "text/plain": [
              "                 logloss_change  cc_percent\n",
              "qty_roll_mean_6        0.002470    0.328172\n",
              "month                  0.001671    0.550136\n",
              "quarter                0.000614    0.631750\n",
              "bin_roll_mean_3        0.000477    0.695112\n",
              "bin_lag2               0.000410    0.749575\n",
              "qty_lag2               0.000391    0.801469\n",
              "ds_start               0.000325    0.844657\n",
              "bin_lag1               0.000243    0.876991\n",
              "qty_lag3               0.000226    0.907063\n",
              "qty_diff1              0.000177    0.930551\n",
              "qty_roll_mean_3        0.000176    0.953940\n",
              "price                  0.000114    0.969109\n",
              "bin_lag3               0.000089    0.980889\n",
              "qty_lag1               0.000052    0.987841\n",
              "description            0.000045    0.993804\n",
              "lead_time              0.000037    0.998751\n",
              "unique_id              0.000009    1.000000\n",
              "ds                    -0.000145    0.000000\n",
              "qty_trend_ratio       -0.000253    0.000000\n",
              "year                  -0.000604    0.000000"
            ],
            "text/html": [
              "\n",
              "  <div id=\"df-30787d57-0af8-4104-bf09-5987941380f6\" class=\"colab-df-container\">\n",
              "    <div>\n",
              "<style scoped>\n",
              "    .dataframe tbody tr th:only-of-type {\n",
              "        vertical-align: middle;\n",
              "    }\n",
              "\n",
              "    .dataframe tbody tr th {\n",
              "        vertical-align: top;\n",
              "    }\n",
              "\n",
              "    .dataframe thead th {\n",
              "        text-align: right;\n",
              "    }\n",
              "</style>\n",
              "<table border=\"1\" class=\"dataframe\">\n",
              "  <thead>\n",
              "    <tr style=\"text-align: right;\">\n",
              "      <th></th>\n",
              "      <th>logloss_change</th>\n",
              "      <th>cc_percent</th>\n",
              "    </tr>\n",
              "  </thead>\n",
              "  <tbody>\n",
              "    <tr>\n",
              "      <th>qty_roll_mean_6</th>\n",
              "      <td>0.002470</td>\n",
              "      <td>0.328172</td>\n",
              "    </tr>\n",
              "    <tr>\n",
              "      <th>month</th>\n",
              "      <td>0.001671</td>\n",
              "      <td>0.550136</td>\n",
              "    </tr>\n",
              "    <tr>\n",
              "      <th>quarter</th>\n",
              "      <td>0.000614</td>\n",
              "      <td>0.631750</td>\n",
              "    </tr>\n",
              "    <tr>\n",
              "      <th>bin_roll_mean_3</th>\n",
              "      <td>0.000477</td>\n",
              "      <td>0.695112</td>\n",
              "    </tr>\n",
              "    <tr>\n",
              "      <th>bin_lag2</th>\n",
              "      <td>0.000410</td>\n",
              "      <td>0.749575</td>\n",
              "    </tr>\n",
              "    <tr>\n",
              "      <th>qty_lag2</th>\n",
              "      <td>0.000391</td>\n",
              "      <td>0.801469</td>\n",
              "    </tr>\n",
              "    <tr>\n",
              "      <th>ds_start</th>\n",
              "      <td>0.000325</td>\n",
              "      <td>0.844657</td>\n",
              "    </tr>\n",
              "    <tr>\n",
              "      <th>bin_lag1</th>\n",
              "      <td>0.000243</td>\n",
              "      <td>0.876991</td>\n",
              "    </tr>\n",
              "    <tr>\n",
              "      <th>qty_lag3</th>\n",
              "      <td>0.000226</td>\n",
              "      <td>0.907063</td>\n",
              "    </tr>\n",
              "    <tr>\n",
              "      <th>qty_diff1</th>\n",
              "      <td>0.000177</td>\n",
              "      <td>0.930551</td>\n",
              "    </tr>\n",
              "    <tr>\n",
              "      <th>qty_roll_mean_3</th>\n",
              "      <td>0.000176</td>\n",
              "      <td>0.953940</td>\n",
              "    </tr>\n",
              "    <tr>\n",
              "      <th>price</th>\n",
              "      <td>0.000114</td>\n",
              "      <td>0.969109</td>\n",
              "    </tr>\n",
              "    <tr>\n",
              "      <th>bin_lag3</th>\n",
              "      <td>0.000089</td>\n",
              "      <td>0.980889</td>\n",
              "    </tr>\n",
              "    <tr>\n",
              "      <th>qty_lag1</th>\n",
              "      <td>0.000052</td>\n",
              "      <td>0.987841</td>\n",
              "    </tr>\n",
              "    <tr>\n",
              "      <th>description</th>\n",
              "      <td>0.000045</td>\n",
              "      <td>0.993804</td>\n",
              "    </tr>\n",
              "    <tr>\n",
              "      <th>lead_time</th>\n",
              "      <td>0.000037</td>\n",
              "      <td>0.998751</td>\n",
              "    </tr>\n",
              "    <tr>\n",
              "      <th>unique_id</th>\n",
              "      <td>0.000009</td>\n",
              "      <td>1.000000</td>\n",
              "    </tr>\n",
              "    <tr>\n",
              "      <th>ds</th>\n",
              "      <td>-0.000145</td>\n",
              "      <td>0.000000</td>\n",
              "    </tr>\n",
              "    <tr>\n",
              "      <th>qty_trend_ratio</th>\n",
              "      <td>-0.000253</td>\n",
              "      <td>0.000000</td>\n",
              "    </tr>\n",
              "    <tr>\n",
              "      <th>year</th>\n",
              "      <td>-0.000604</td>\n",
              "      <td>0.000000</td>\n",
              "    </tr>\n",
              "  </tbody>\n",
              "</table>\n",
              "</div>\n",
              "    <div class=\"colab-df-buttons\">\n",
              "\n",
              "  <div class=\"colab-df-container\">\n",
              "    <button class=\"colab-df-convert\" onclick=\"convertToInteractive('df-30787d57-0af8-4104-bf09-5987941380f6')\"\n",
              "            title=\"Convert this dataframe to an interactive table.\"\n",
              "            style=\"display:none;\">\n",
              "\n",
              "  <svg xmlns=\"http://www.w3.org/2000/svg\" height=\"24px\" viewBox=\"0 -960 960 960\">\n",
              "    <path d=\"M120-120v-720h720v720H120Zm60-500h600v-160H180v160Zm220 220h160v-160H400v160Zm0 220h160v-160H400v160ZM180-400h160v-160H180v160Zm440 0h160v-160H620v160ZM180-180h160v-160H180v160Zm440 0h160v-160H620v160Z\"/>\n",
              "  </svg>\n",
              "    </button>\n",
              "\n",
              "  <style>\n",
              "    .colab-df-container {\n",
              "      display:flex;\n",
              "      gap: 12px;\n",
              "    }\n",
              "\n",
              "    .colab-df-convert {\n",
              "      background-color: #E8F0FE;\n",
              "      border: none;\n",
              "      border-radius: 50%;\n",
              "      cursor: pointer;\n",
              "      display: none;\n",
              "      fill: #1967D2;\n",
              "      height: 32px;\n",
              "      padding: 0 0 0 0;\n",
              "      width: 32px;\n",
              "    }\n",
              "\n",
              "    .colab-df-convert:hover {\n",
              "      background-color: #E2EBFA;\n",
              "      box-shadow: 0px 1px 2px rgba(60, 64, 67, 0.3), 0px 1px 3px 1px rgba(60, 64, 67, 0.15);\n",
              "      fill: #174EA6;\n",
              "    }\n",
              "\n",
              "    .colab-df-buttons div {\n",
              "      margin-bottom: 4px;\n",
              "    }\n",
              "\n",
              "    [theme=dark] .colab-df-convert {\n",
              "      background-color: #3B4455;\n",
              "      fill: #D2E3FC;\n",
              "    }\n",
              "\n",
              "    [theme=dark] .colab-df-convert:hover {\n",
              "      background-color: #434B5C;\n",
              "      box-shadow: 0px 1px 3px 1px rgba(0, 0, 0, 0.15);\n",
              "      filter: drop-shadow(0px 1px 2px rgba(0, 0, 0, 0.3));\n",
              "      fill: #FFFFFF;\n",
              "    }\n",
              "  </style>\n",
              "\n",
              "    <script>\n",
              "      const buttonEl =\n",
              "        document.querySelector('#df-30787d57-0af8-4104-bf09-5987941380f6 button.colab-df-convert');\n",
              "      buttonEl.style.display =\n",
              "        google.colab.kernel.accessAllowed ? 'block' : 'none';\n",
              "\n",
              "      async function convertToInteractive(key) {\n",
              "        const element = document.querySelector('#df-30787d57-0af8-4104-bf09-5987941380f6');\n",
              "        const dataTable =\n",
              "          await google.colab.kernel.invokeFunction('convertToInteractive',\n",
              "                                                    [key], {});\n",
              "        if (!dataTable) return;\n",
              "\n",
              "        const docLinkHtml = 'Like what you see? Visit the ' +\n",
              "          '<a target=\"_blank\" href=https://colab.research.google.com/notebooks/data_table.ipynb>data table notebook</a>'\n",
              "          + ' to learn more about interactive tables.';\n",
              "        element.innerHTML = '';\n",
              "        dataTable['output_type'] = 'display_data';\n",
              "        await google.colab.output.renderOutput(dataTable, element);\n",
              "        const docLink = document.createElement('div');\n",
              "        docLink.innerHTML = docLinkHtml;\n",
              "        element.appendChild(docLink);\n",
              "      }\n",
              "    </script>\n",
              "  </div>\n",
              "\n",
              "\n",
              "    <div id=\"df-78cf2ab3-3c9a-4ebd-a4ae-fd1973cb6bc0\">\n",
              "      <button class=\"colab-df-quickchart\" onclick=\"quickchart('df-78cf2ab3-3c9a-4ebd-a4ae-fd1973cb6bc0')\"\n",
              "                title=\"Suggest charts\"\n",
              "                style=\"display:none;\">\n",
              "\n",
              "<svg xmlns=\"http://www.w3.org/2000/svg\" height=\"24px\"viewBox=\"0 0 24 24\"\n",
              "     width=\"24px\">\n",
              "    <g>\n",
              "        <path d=\"M19 3H5c-1.1 0-2 .9-2 2v14c0 1.1.9 2 2 2h14c1.1 0 2-.9 2-2V5c0-1.1-.9-2-2-2zM9 17H7v-7h2v7zm4 0h-2V7h2v10zm4 0h-2v-4h2v4z\"/>\n",
              "    </g>\n",
              "</svg>\n",
              "      </button>\n",
              "\n",
              "<style>\n",
              "  .colab-df-quickchart {\n",
              "      --bg-color: #E8F0FE;\n",
              "      --fill-color: #1967D2;\n",
              "      --hover-bg-color: #E2EBFA;\n",
              "      --hover-fill-color: #174EA6;\n",
              "      --disabled-fill-color: #AAA;\n",
              "      --disabled-bg-color: #DDD;\n",
              "  }\n",
              "\n",
              "  [theme=dark] .colab-df-quickchart {\n",
              "      --bg-color: #3B4455;\n",
              "      --fill-color: #D2E3FC;\n",
              "      --hover-bg-color: #434B5C;\n",
              "      --hover-fill-color: #FFFFFF;\n",
              "      --disabled-bg-color: #3B4455;\n",
              "      --disabled-fill-color: #666;\n",
              "  }\n",
              "\n",
              "  .colab-df-quickchart {\n",
              "    background-color: var(--bg-color);\n",
              "    border: none;\n",
              "    border-radius: 50%;\n",
              "    cursor: pointer;\n",
              "    display: none;\n",
              "    fill: var(--fill-color);\n",
              "    height: 32px;\n",
              "    padding: 0;\n",
              "    width: 32px;\n",
              "  }\n",
              "\n",
              "  .colab-df-quickchart:hover {\n",
              "    background-color: var(--hover-bg-color);\n",
              "    box-shadow: 0 1px 2px rgba(60, 64, 67, 0.3), 0 1px 3px 1px rgba(60, 64, 67, 0.15);\n",
              "    fill: var(--button-hover-fill-color);\n",
              "  }\n",
              "\n",
              "  .colab-df-quickchart-complete:disabled,\n",
              "  .colab-df-quickchart-complete:disabled:hover {\n",
              "    background-color: var(--disabled-bg-color);\n",
              "    fill: var(--disabled-fill-color);\n",
              "    box-shadow: none;\n",
              "  }\n",
              "\n",
              "  .colab-df-spinner {\n",
              "    border: 2px solid var(--fill-color);\n",
              "    border-color: transparent;\n",
              "    border-bottom-color: var(--fill-color);\n",
              "    animation:\n",
              "      spin 1s steps(1) infinite;\n",
              "  }\n",
              "\n",
              "  @keyframes spin {\n",
              "    0% {\n",
              "      border-color: transparent;\n",
              "      border-bottom-color: var(--fill-color);\n",
              "      border-left-color: var(--fill-color);\n",
              "    }\n",
              "    20% {\n",
              "      border-color: transparent;\n",
              "      border-left-color: var(--fill-color);\n",
              "      border-top-color: var(--fill-color);\n",
              "    }\n",
              "    30% {\n",
              "      border-color: transparent;\n",
              "      border-left-color: var(--fill-color);\n",
              "      border-top-color: var(--fill-color);\n",
              "      border-right-color: var(--fill-color);\n",
              "    }\n",
              "    40% {\n",
              "      border-color: transparent;\n",
              "      border-right-color: var(--fill-color);\n",
              "      border-top-color: var(--fill-color);\n",
              "    }\n",
              "    60% {\n",
              "      border-color: transparent;\n",
              "      border-right-color: var(--fill-color);\n",
              "    }\n",
              "    80% {\n",
              "      border-color: transparent;\n",
              "      border-right-color: var(--fill-color);\n",
              "      border-bottom-color: var(--fill-color);\n",
              "    }\n",
              "    90% {\n",
              "      border-color: transparent;\n",
              "      border-bottom-color: var(--fill-color);\n",
              "    }\n",
              "  }\n",
              "</style>\n",
              "\n",
              "      <script>\n",
              "        async function quickchart(key) {\n",
              "          const quickchartButtonEl =\n",
              "            document.querySelector('#' + key + ' button');\n",
              "          quickchartButtonEl.disabled = true;  // To prevent multiple clicks.\n",
              "          quickchartButtonEl.classList.add('colab-df-spinner');\n",
              "          try {\n",
              "            const charts = await google.colab.kernel.invokeFunction(\n",
              "                'suggestCharts', [key], {});\n",
              "          } catch (error) {\n",
              "            console.error('Error during call to suggestCharts:', error);\n",
              "          }\n",
              "          quickchartButtonEl.classList.remove('colab-df-spinner');\n",
              "          quickchartButtonEl.classList.add('colab-df-quickchart-complete');\n",
              "        }\n",
              "        (() => {\n",
              "          let quickchartButtonEl =\n",
              "            document.querySelector('#df-78cf2ab3-3c9a-4ebd-a4ae-fd1973cb6bc0 button');\n",
              "          quickchartButtonEl.style.display =\n",
              "            google.colab.kernel.accessAllowed ? 'block' : 'none';\n",
              "        })();\n",
              "      </script>\n",
              "    </div>\n",
              "\n",
              "    </div>\n",
              "  </div>\n"
            ],
            "application/vnd.google.colaboratory.intrinsic+json": {
              "type": "dataframe",
              "summary": "{\n  \"name\": \"round(loss_values_df[['logloss_change', 'cc_percent']], 6)\",\n  \"rows\": 20,\n  \"fields\": [\n    {\n      \"column\": \"logloss_change\",\n      \"properties\": {\n        \"dtype\": \"number\",\n        \"std\": 0.0006667090898782736,\n        \"min\": -0.000604,\n        \"max\": 0.00247,\n        \"num_unique_values\": 20,\n        \"samples\": [\n          0.00247,\n          -0.000145,\n          3.7e-05\n        ],\n        \"semantic_type\": \"\",\n        \"description\": \"\"\n      }\n    },\n    {\n      \"column\": \"cc_percent\",\n      \"properties\": {\n        \"dtype\": \"number\",\n        \"std\": 0.35233538020239813,\n        \"min\": 0.0,\n        \"max\": 1.0,\n        \"num_unique_values\": 18,\n        \"samples\": [\n          0.328172,\n          0.550136,\n          0.907063\n        ],\n        \"semantic_type\": \"\",\n        \"description\": \"\"\n      }\n    }\n  ]\n}"
            }
          },
          "metadata": {},
          "execution_count": 391
        }
      ]
    },
    {
      "cell_type": "code",
      "source": [
        "strong_features = loss_values_df.query(\"cc_percent <= 0.99 & cc_percent > 0\").index.tolist()\n",
        "print(f\"strong features for h={h}: {strong_features}\")"
      ],
      "metadata": {
        "colab": {
          "base_uri": "https://localhost:8080/"
        },
        "id": "udXWjA-Ed0j5",
        "outputId": "ad205a9f-2580-4d13-8025-1a4fa6ce7633"
      },
      "execution_count": null,
      "outputs": [
        {
          "output_type": "stream",
          "name": "stdout",
          "text": [
            "strong features for h=12: ['qty_roll_mean_6', 'month', 'quarter', 'bin_roll_mean_3', 'bin_lag2', 'qty_lag2', 'ds_start', 'bin_lag1', 'qty_lag3', 'qty_diff1', 'qty_roll_mean_3', 'price', 'bin_lag3', 'qty_lag1']\n"
          ]
        }
      ]
    },
    {
      "cell_type": "code",
      "source": [
        "X = strong_features\n",
        "cat_features = train_cat[X].select_dtypes(include=['object', 'category']).columns.tolist()\n",
        "y = 'y_bin'"
      ],
      "metadata": {
        "id": "aezW1b7id0di"
      },
      "execution_count": null,
      "outputs": []
    },
    {
      "cell_type": "code",
      "source": [
        "X_train = train_cat[X]\n",
        "y_train = train_cat[y]\n",
        "\n",
        "X_val = val_cat[X]\n",
        "y_val = val_cat[y]\n",
        "\n",
        "X_test = test_cat[X]\n",
        "y_test = test_cat[y]"
      ],
      "metadata": {
        "id": "1_i6XYMU5AXB"
      },
      "execution_count": null,
      "outputs": []
    },
    {
      "cell_type": "code",
      "source": [
        "train_pool = Pool(X_train, y_train, cat_features=cat_features)\n",
        "val_pool = Pool(X_val, y_val, cat_features=cat_features)\n",
        "test_pool = Pool(X_test, y_test, cat_features=cat_features)"
      ],
      "metadata": {
        "id": "SD6zS0Hvm2o1"
      },
      "execution_count": null,
      "outputs": []
    },
    {
      "cell_type": "code",
      "source": [
        "cb_class_model = CatBoostClassifier(\n",
        "    iterations=1000,\n",
        "    depth=6,\n",
        "    learning_rate=0.05,\n",
        "    early_stopping_rounds=200,\n",
        "    loss_function='Logloss',\n",
        "    random_seed=42,\n",
        "    class_weights=[0.57, 4.23],\n",
        "    verbose=100\n",
        ")\n",
        "\n",
        "cb_class_model.fit(train_pool, eval_set=val_pool)"
      ],
      "metadata": {
        "colab": {
          "base_uri": "https://localhost:8080/"
        },
        "id": "BhCW8Pvmm3om",
        "outputId": "d4d1a607-7184-4489-88cd-2ee272b38913"
      },
      "execution_count": null,
      "outputs": [
        {
          "output_type": "stream",
          "name": "stdout",
          "text": [
            "0:\tlearn: 0.6916913\ttest: 0.6924510\tbest: 0.6924510 (0)\ttotal: 64.4ms\tremaining: 1m 4s\n",
            "100:\tlearn: 0.6723200\ttest: 0.6884597\tbest: 0.6879835 (37)\ttotal: 8.71s\tremaining: 1m 17s\n",
            "200:\tlearn: 0.6685891\ttest: 0.6891238\tbest: 0.6879835 (37)\ttotal: 14.9s\tremaining: 59.2s\n",
            "Stopped by overfitting detector  (200 iterations wait)\n",
            "\n",
            "bestTest = 0.6879835104\n",
            "bestIteration = 37\n",
            "\n",
            "Shrink model to first 38 iterations.\n"
          ]
        },
        {
          "output_type": "execute_result",
          "data": {
            "text/plain": [
              "<catboost.core.CatBoostClassifier at 0x7fe339d056d0>"
            ]
          },
          "metadata": {},
          "execution_count": 396
        }
      ]
    },
    {
      "cell_type": "code",
      "source": [
        "y_bin_pred_val = cb_class_model.predict(X_val)\n",
        "y_bin_pred_proba = cb_class_model.predict_proba(X_val)[:, 1]\n",
        "\n",
        "val_cat['CatClass_val'] = y_bin_pred_val"
      ],
      "metadata": {
        "id": "1FwSmrzem3k8"
      },
      "execution_count": null,
      "outputs": []
    },
    {
      "cell_type": "code",
      "source": [
        "print(np.round(y_bin_pred_proba.min(), 3), np.round(np.median(y_bin_pred_proba), 3), np.round(y_bin_pred_proba.max(), 3))"
      ],
      "metadata": {
        "colab": {
          "base_uri": "https://localhost:8080/"
        },
        "id": "ReaR7JJMm3ht",
        "outputId": "dbd527ff-461d-4c12-a9a7-76dcc14ee06f"
      },
      "execution_count": null,
      "outputs": [
        {
          "output_type": "stream",
          "name": "stdout",
          "text": [
            "0.179 0.501 0.657\n"
          ]
        }
      ]
    },
    {
      "cell_type": "code",
      "source": [
        "print(f\"f1_score: {(f1_score(y_val, y_bin_pred_val, zero_division=0)):.3f}\")\n",
        "print(f\"recall_score: {(recall_score(y_val, y_bin_pred_val, zero_division=0)):.3f}\")\n",
        "\n",
        "cm = confusion_matrix(y_val, y_bin_pred_val)\n",
        "df_cm = pd.DataFrame(cm, index=[\"Actual 0\", \"Actual 1\"], columns=[\"Pred 0\", \"Pred 1\"])\n",
        "print(df_cm)"
      ],
      "metadata": {
        "colab": {
          "base_uri": "https://localhost:8080/"
        },
        "id": "zZchhwqPm3eD",
        "outputId": "ae08796a-bd25-46ff-8ea5-57a7b5142d36"
      },
      "execution_count": null,
      "outputs": [
        {
          "output_type": "stream",
          "name": "stdout",
          "text": [
            "f1_score: 0.198\n",
            "recall_score: 0.597\n",
            "          Pred 0  Pred 1\n",
            "Actual 0   26625   27232\n",
            "Actual 1    2474    3669\n"
          ]
        }
      ]
    },
    {
      "cell_type": "code",
      "source": [
        "thresholds = np.linspace(0.01, 0.99, 99)\n",
        "best_thr, best_f1 = 0.5, 0.0\n",
        "for t in thresholds:\n",
        "    p = (y_bin_pred_proba >= t).astype(int)\n",
        "    f = f1_score(y_val, p, zero_division=0)\n",
        "    if f > best_f1:\n",
        "        best_f1 = f; best_thr = t"
      ],
      "metadata": {
        "id": "xs8d7UGkyd3r"
      },
      "execution_count": null,
      "outputs": []
    },
    {
      "cell_type": "code",
      "source": [
        "tr_coef = np.median(y_bin_pred_proba)/best_thr\n",
        "print(f\"Best validation threshold for F1: {best_thr:.3f} (F1={best_f1:.3f})\")\n",
        "print(f\"Threshold is {(tr_coef):.3f} times smaller than the median\")"
      ],
      "metadata": {
        "colab": {
          "base_uri": "https://localhost:8080/"
        },
        "outputId": "a6c8a124-b269-4489-ebcd-2963f14bc8a1",
        "id": "FOOs8eCSyd3t"
      },
      "execution_count": null,
      "outputs": [
        {
          "output_type": "stream",
          "name": "stdout",
          "text": [
            "Best validation threshold for F1: 0.480 (F1=0.201)\n",
            "Threshold is 1.043 times smaller than the median\n"
          ]
        }
      ]
    },
    {
      "cell_type": "code",
      "source": [
        "y_bin_pred_val2 = (y_bin_pred_proba >= best_thr).astype(int)\n",
        "val_cat['CatClass2_val'] = y_bin_pred_val2"
      ],
      "metadata": {
        "id": "KBKXwA1iyd3t"
      },
      "execution_count": null,
      "outputs": []
    },
    {
      "cell_type": "code",
      "source": [
        "print(f\"f1_score: {f1_score(y_val, y_bin_pred_val2, zero_division=0):.3f}\")\n",
        "print(f\"recall_score: {recall_score(y_val, y_bin_pred_val2, zero_division=0):.3f}\")\n",
        "\n",
        "cm = confusion_matrix(y_val, y_bin_pred_val2)\n",
        "df_cm = pd.DataFrame(cm, index=[\"Actual 0\", \"Actual 1\"], columns=[\"Pred 0\", \"Pred 1\"])\n",
        "print(df_cm)"
      ],
      "metadata": {
        "colab": {
          "base_uri": "https://localhost:8080/"
        },
        "outputId": "74eef932-5894-49d3-fa85-21b7dfa5677c",
        "id": "yavkmhEpyd3u"
      },
      "execution_count": null,
      "outputs": [
        {
          "output_type": "stream",
          "name": "stdout",
          "text": [
            "f1_score: 0.201\n",
            "recall_score: 0.673\n",
            "          Pred 0  Pred 1\n",
            "Actual 0   22894   30963\n",
            "Actual 1    2008    4135\n"
          ]
        }
      ]
    },
    {
      "cell_type": "markdown",
      "source": [
        "####final evaluation on test (if applicable)"
      ],
      "metadata": {
        "id": "-Kjyg2lWv7_n"
      }
    },
    {
      "cell_type": "code",
      "source": [
        "forecasts_imp_tst = sf_2.forecast(df=train, h=h)"
      ],
      "metadata": {
        "id": "CJG-pMsSwO4B"
      },
      "execution_count": null,
      "outputs": []
    },
    {
      "cell_type": "code",
      "source": [
        "merged_ens_tst = forecasts_imp_tst.merge(test_cat[['unique_id', 'ds', 'y']], on=['unique_id', 'ds'], how='left')\n",
        "merged_ens_tst['IMAPA_round'] = np.round(merged_ens_tst['IMAPA']).astype('uint16')"
      ],
      "metadata": {
        "id": "VTAneenywO4C"
      },
      "execution_count": null,
      "outputs": []
    },
    {
      "cell_type": "code",
      "source": [
        "#RMSSE IMAPA doublecheck\n",
        "r_vec_adida, cols_adida = fast_rmsse(train, merged_ens_tst, merged_ens_tst, 'IMAPA')\n",
        "print(f\"RMSSE IMAPA for h={h}: {np.nanmean(r_vec_adida):.3f}\")\n",
        "\n",
        "r_vec_adida, cols_adida = fast_rmsse(train, merged_ens_tst, merged_ens_tst, 'IMAPA_round')\n",
        "print(f\"RMSSE IMAPA for h={h}: {np.nanmean(r_vec_adida):.3f}\")"
      ],
      "metadata": {
        "colab": {
          "base_uri": "https://localhost:8080/"
        },
        "outputId": "2ac3d9d8-8490-4bb9-92fa-f2c10ff1368c",
        "id": "OuaHtiPowO4C"
      },
      "execution_count": null,
      "outputs": [
        {
          "output_type": "stream",
          "name": "stdout",
          "text": [
            "RMSSE IMAPA for h=12: 0.604\n",
            "RMSSE IMAPA for h=12: 0.578\n"
          ]
        }
      ]
    },
    {
      "cell_type": "code",
      "source": [
        "#creating the pool with train+val\n",
        "X_trainval = pd.concat([X_train, X_val], ignore_index=True)\n",
        "y_trainval = pd.concat([y_train, y_val], ignore_index=True)\n",
        "trainval_pool = Pool(X_trainval, y_trainval, cat_features=cat_features)"
      ],
      "metadata": {
        "id": "hI1ExBT6v7_o"
      },
      "execution_count": null,
      "outputs": []
    },
    {
      "cell_type": "code",
      "source": [
        "#training on train+val with the optimal hyperparameters\n",
        "final_cat_model = CatBoostClassifier(\n",
        "    iterations=cb_class_model.best_iteration_,\n",
        "    depth=6,\n",
        "    learning_rate=0.05,\n",
        "    loss_function='Logloss',\n",
        "    random_seed=42,\n",
        "    class_weights=[0.56, 4.22],\n",
        "    verbose=False\n",
        ")\n",
        "final_cat_model.fit(trainval_pool)"
      ],
      "metadata": {
        "colab": {
          "base_uri": "https://localhost:8080/"
        },
        "outputId": "699cf710-4ffd-406d-a8f2-f0a3b08c805c",
        "id": "LfzB86-Ov7_p"
      },
      "execution_count": null,
      "outputs": [
        {
          "output_type": "execute_result",
          "data": {
            "text/plain": [
              "<catboost.core.CatBoostClassifier at 0x7fe339d06db0>"
            ]
          },
          "metadata": {},
          "execution_count": 415
        }
      ]
    },
    {
      "cell_type": "code",
      "source": [
        "# Predict\n",
        "y_bin_pred0 = final_cat_model.predict(X_test)\n",
        "y_bin_pred_proba = final_cat_model.predict_proba(X_test)[:, 1]\n",
        "\n",
        "print(np.round(y_bin_pred_proba.min(), 3), np.round(np.median(y_bin_pred_proba), 3), np.round(y_bin_pred_proba.max(), 3))"
      ],
      "metadata": {
        "colab": {
          "base_uri": "https://localhost:8080/"
        },
        "id": "aPSnlTCo_3PD",
        "outputId": "a44cf302-3168-48c5-a304-89a723b34d33"
      },
      "execution_count": null,
      "outputs": [
        {
          "output_type": "stream",
          "name": "stdout",
          "text": [
            "0.297 0.505 0.644\n"
          ]
        }
      ]
    },
    {
      "cell_type": "code",
      "source": [
        "thr = np.median(y_bin_pred_proba) / tr_coef\n",
        "y_bin_pred = (y_bin_pred_proba >= thr).astype(int)\n",
        "test_cat['CatClass_tst'] = y_bin_pred"
      ],
      "metadata": {
        "id": "DF3wtY7x4ce0"
      },
      "execution_count": null,
      "outputs": []
    },
    {
      "cell_type": "code",
      "source": [
        "print(f\"f1_score: {(f1_score(y_test, y_bin_pred, zero_division=0)):.3f}\")\n",
        "print(f\"recall_score: {(recall_score(y_test, y_bin_pred, zero_division=0)):.3f}\")\n",
        "\n",
        "cm = confusion_matrix(y_test, y_bin_pred)\n",
        "df_cm = pd.DataFrame(cm, index=[\"Actual 0\", \"Actual 1\"], columns=[\"Pred 0\", \"Pred 1\"])\n",
        "print(df_cm)"
      ],
      "metadata": {
        "colab": {
          "base_uri": "https://localhost:8080/"
        },
        "outputId": "24250aff-ca24-4bdc-bb48-177091834906",
        "id": "5co5542m4ce1"
      },
      "execution_count": null,
      "outputs": [
        {
          "output_type": "stream",
          "name": "stdout",
          "text": [
            "f1_score: 0.149\n",
            "recall_score: 0.656\n",
            "          Pred 0  Pred 1\n",
            "Actual 0   20376   34759\n",
            "Actual 1    1673    3192\n"
          ]
        }
      ]
    },
    {
      "cell_type": "code",
      "source": [
        "merged_ens_tst = merged_ens_tst[['unique_id', 'ds', 'IMAPA', 'y', 'IMAPA_round']]\n",
        "merged_ens_tst = merged_ens_tst.merge(test_cat[['unique_id', 'ds', 'CatClass_tst']], on=['unique_id', 'ds'], how='left')"
      ],
      "metadata": {
        "id": "tz0TdebA4ce1"
      },
      "execution_count": null,
      "outputs": []
    },
    {
      "cell_type": "code",
      "source": [
        "merged_ens_tst['ENSEMBLE'] = np.where(merged_ens_tst['CatClass_tst'] == 1, merged_ens_tst['IMAPA'], 0)\n",
        "merged_ens_tst['ENSEMBLE_round'] = np.round(merged_ens_tst['ENSEMBLE']).astype('uint16')"
      ],
      "metadata": {
        "id": "c9qJzOMZ4ce1"
      },
      "execution_count": null,
      "outputs": []
    },
    {
      "cell_type": "code",
      "source": [
        "#RMSSE - raw\n",
        "r_vec_ens, cols_ens = fast_rmsse(train, merged_ens_tst, merged_ens_tst, 'ENSEMBLE')\n",
        "print(f\"RMSSE ENSEMBLE for h={h}: {np.nanmean(r_vec_ens):.3f}\")\n",
        "mae_imapa = mean_absolute_error(merged_ens_tst['y'], merged_ens_tst['ENSEMBLE'])\n",
        "print(f\"MAE ENSEMBLE for h={h}: {mae_imapa:.3f}\")\n",
        "print('')\n",
        "r_vec_ens, cols_ens = fast_rmsse(train, merged_ens_tst, merged_ens_tst, 'ENSEMBLE_round')\n",
        "print(f\"RMSSE ENSEMBLE for h={h}: {np.nanmean(r_vec_ens):.3f}\")\n",
        "mae_imapa = mean_absolute_error(merged_ens_tst['y'], merged_ens_tst['ENSEMBLE_round'])\n",
        "print(f\"MAE ENSEMBLE for h={h}: {mae_imapa:.3f}\")"
      ],
      "metadata": {
        "colab": {
          "base_uri": "https://localhost:8080/"
        },
        "outputId": "8e94fdbd-d7ff-47e7-99fe-9ad724507aa4",
        "id": "VKnzFP5c4ce1"
      },
      "execution_count": null,
      "outputs": [
        {
          "output_type": "stream",
          "name": "stdout",
          "text": [
            "RMSSE ENSEMBLE for h=12: 0.596\n",
            "MAE ENSEMBLE for h=12: 1.852\n",
            "\n",
            "RMSSE ENSEMBLE for h=12: 0.572\n",
            "MAE ENSEMBLE for h=12: 1.808\n"
          ]
        }
      ]
    },
    {
      "cell_type": "markdown",
      "source": [
        "### With hyperparameters tuning"
      ],
      "metadata": {
        "id": "EcEjCHnh2lvO"
      }
    },
    {
      "cell_type": "code",
      "source": [
        "#X = ['unique_id', 'description',\t'lead_time',\t'price', 'ds']\n",
        "X = strong_features\n",
        "cat_features = train_cat[X].select_dtypes(include=['object', 'category']).columns.tolist()\n",
        "y = 'y_bin'"
      ],
      "metadata": {
        "id": "cgi0yCPl2wIN"
      },
      "execution_count": null,
      "outputs": []
    },
    {
      "cell_type": "code",
      "source": [
        "X_train = train_cat[X]\n",
        "y_train = train_cat[y]\n",
        "\n",
        "X_val = val_cat[X]\n",
        "y_val = val_cat[y]\n",
        "\n",
        "X_test = test_cat[X]\n",
        "y_test = test_cat[y]"
      ],
      "metadata": {
        "id": "6YtNAMgc3MGa"
      },
      "execution_count": null,
      "outputs": []
    },
    {
      "cell_type": "code",
      "source": [
        "train_pool = Pool(X_train, y_train, cat_features=cat_features)\n",
        "val_pool = Pool(X_val, y_val, cat_features=cat_features)\n",
        "test_pool = Pool(X_test, y_test, cat_features=cat_features)"
      ],
      "metadata": {
        "id": "3Rarazfp3MGc"
      },
      "execution_count": null,
      "outputs": []
    },
    {
      "cell_type": "code",
      "source": [
        "#finding optimal hyperparameters\n",
        "def objective(trial):\n",
        "    depth = trial.suggest_int('depth', 4, 10)\n",
        "    lr = trial.suggest_float('learning_rate', 0.01, 0.3, log=True)\n",
        "\n",
        "    model = CatBoostClassifier(\n",
        "        iterations=1000,\n",
        "        depth=depth,\n",
        "        learning_rate=lr,\n",
        "        early_stopping_rounds=200,\n",
        "        loss_function='Logloss',\n",
        "        random_seed=42,\n",
        "        class_weights=[0.57, 4.23]\n",
        "    )\n",
        "    model.fit(train_pool, eval_set=val_pool, verbose=False)\n",
        "\n",
        "    trial.set_user_attr(\"best_iteration\", model.best_iteration_)\n",
        "\n",
        "    return model.best_score_['validation']['Logloss']\n",
        "\n",
        "sampler = optuna.samplers.TPESampler(seed=42)\n",
        "study = optuna.create_study(direction=\"minimize\", sampler=sampler)\n",
        "study.optimize(objective, n_trials=20)"
      ],
      "metadata": {
        "colab": {
          "base_uri": "https://localhost:8080/"
        },
        "outputId": "626a0562-ebda-492e-a9fe-163600c04726",
        "id": "Mp-upQpI3MGd"
      },
      "execution_count": null,
      "outputs": [
        {
          "output_type": "stream",
          "name": "stderr",
          "text": [
            "[I 2025-09-15 16:00:09,696] A new study created in memory with name: no-name-f3c8b50a-188b-477d-ac45-2915ebf08b75\n",
            "[I 2025-09-15 16:00:25,471] Trial 0 finished with value: 0.6884723080184232 and parameters: {'depth': 6, 'learning_rate': 0.2536999076681772}. Best is trial 0 with value: 0.6884723080184232.\n",
            "[I 2025-09-15 16:00:49,564] Trial 1 finished with value: 0.687875311806 and parameters: {'depth': 9, 'learning_rate': 0.07661100707771368}. Best is trial 1 with value: 0.687875311806.\n",
            "[I 2025-09-15 16:01:11,124] Trial 2 finished with value: 0.6880228110545714 and parameters: {'depth': 5, 'learning_rate': 0.01699897838270077}. Best is trial 1 with value: 0.687875311806.\n",
            "[I 2025-09-15 16:01:24,662] Trial 3 finished with value: 0.6879274764991901 and parameters: {'depth': 4, 'learning_rate': 0.19030368381735815}. Best is trial 1 with value: 0.687875311806.\n",
            "[I 2025-09-15 16:01:46,245] Trial 4 finished with value: 0.6876795989364031 and parameters: {'depth': 8, 'learning_rate': 0.11114989443094977}. Best is trial 4 with value: 0.6876795989364031.\n",
            "[I 2025-09-15 16:01:59,183] Trial 5 finished with value: 0.6880748622732383 and parameters: {'depth': 4, 'learning_rate': 0.2708160864249968}. Best is trial 4 with value: 0.6876795989364031.\n",
            "[I 2025-09-15 16:02:29,900] Trial 6 finished with value: 0.6880450989820628 and parameters: {'depth': 9, 'learning_rate': 0.020589728197687916}. Best is trial 4 with value: 0.6876795989364031.\n",
            "[I 2025-09-15 16:02:49,332] Trial 7 finished with value: 0.6880468906346578 and parameters: {'depth': 5, 'learning_rate': 0.018659959624904916}. Best is trial 4 with value: 0.6876795989364031.\n",
            "[I 2025-09-15 16:03:06,874] Trial 8 finished with value: 0.6880984412430731 and parameters: {'depth': 6, 'learning_rate': 0.05958389350068958}. Best is trial 4 with value: 0.6876795989364031.\n",
            "[I 2025-09-15 16:03:29,282] Trial 9 finished with value: 0.6879513976444287 and parameters: {'depth': 7, 'learning_rate': 0.02692655251486473}. Best is trial 4 with value: 0.6876795989364031.\n",
            "[I 2025-09-15 16:04:03,778] Trial 10 finished with value: 0.6883199004687325 and parameters: {'depth': 10, 'learning_rate': 0.11463155095008089}. Best is trial 4 with value: 0.6876795989364031.\n",
            "[I 2025-09-15 16:04:27,871] Trial 11 finished with value: 0.6877821080678621 and parameters: {'depth': 9, 'learning_rate': 0.07473869771227394}. Best is trial 4 with value: 0.6876795989364031.\n",
            "[I 2025-09-15 16:04:49,248] Trial 12 finished with value: 0.6879161791129403 and parameters: {'depth': 8, 'learning_rate': 0.12106618532625447}. Best is trial 4 with value: 0.6876795989364031.\n",
            "[I 2025-09-15 16:05:12,188] Trial 13 finished with value: 0.6880004219932184 and parameters: {'depth': 8, 'learning_rate': 0.03799273062329156}. Best is trial 4 with value: 0.6876795989364031.\n",
            "[I 2025-09-15 16:06:07,061] Trial 14 finished with value: 0.6880711495132472 and parameters: {'depth': 10, 'learning_rate': 0.010458361070578832}. Best is trial 4 with value: 0.6876795989364031.\n",
            "[I 2025-09-15 16:06:25,452] Trial 15 finished with value: 0.6879266667827839 and parameters: {'depth': 8, 'learning_rate': 0.10046305600845826}. Best is trial 4 with value: 0.6876795989364031.\n",
            "[I 2025-09-15 16:06:49,990] Trial 16 finished with value: 0.6879551192606479 and parameters: {'depth': 9, 'learning_rate': 0.04488284231604668}. Best is trial 4 with value: 0.6876795989364031.\n",
            "[I 2025-09-15 16:07:06,829] Trial 17 finished with value: 0.6878129332307841 and parameters: {'depth': 7, 'learning_rate': 0.16999442755802127}. Best is trial 4 with value: 0.6876795989364031.\n",
            "[I 2025-09-15 16:07:29,046] Trial 18 finished with value: 0.6878220584150662 and parameters: {'depth': 9, 'learning_rate': 0.07177507051096862}. Best is trial 4 with value: 0.6876795989364031.\n",
            "[I 2025-09-15 16:07:49,298] Trial 19 finished with value: 0.6880302795488082 and parameters: {'depth': 8, 'learning_rate': 0.15388625825573293}. Best is trial 4 with value: 0.6876795989364031.\n"
          ]
        }
      ]
    },
    {
      "cell_type": "code",
      "source": [
        "best_model = CatBoostClassifier(\n",
        "    iterations=1000,\n",
        "    depth=study.best_params['depth'],\n",
        "    learning_rate=study.best_params['learning_rate'],\n",
        "    early_stopping_rounds=200,\n",
        "    loss_function='Logloss',\n",
        "    random_seed=42,\n",
        "    class_weights=[0.57, 4.23],\n",
        "    verbose=100\n",
        ")\n",
        "\n",
        "best_model.fit(train_pool, eval_set=val_pool)"
      ],
      "metadata": {
        "colab": {
          "base_uri": "https://localhost:8080/"
        },
        "outputId": "17728831-282e-46d8-81eb-8a7482a10ff5",
        "id": "6q0ajyyQ3MGe"
      },
      "execution_count": null,
      "outputs": [
        {
          "output_type": "stream",
          "name": "stdout",
          "text": [
            "0:\tlearn: 0.6897368\ttest: 0.6915121\tbest: 0.6915121 (0)\ttotal: 80.8ms\tremaining: 1m 20s\n",
            "100:\tlearn: 0.6609280\ttest: 0.6907926\tbest: 0.6876796 (11)\ttotal: 7.73s\tremaining: 1m 8s\n",
            "200:\tlearn: 0.6478016\ttest: 0.6931690\tbest: 0.6876796 (11)\ttotal: 17.8s\tremaining: 1m 10s\n",
            "Stopped by overfitting detector  (200 iterations wait)\n",
            "\n",
            "bestTest = 0.6876795989\n",
            "bestIteration = 11\n",
            "\n",
            "Shrink model to first 12 iterations.\n"
          ]
        },
        {
          "output_type": "execute_result",
          "data": {
            "text/plain": [
              "<catboost.core.CatBoostClassifier at 0x7fe33a3b19a0>"
            ]
          },
          "metadata": {},
          "execution_count": 427
        }
      ]
    },
    {
      "cell_type": "code",
      "source": [
        "y_bin_pred_val = best_model.predict(X_val)\n",
        "y_bin_pred_proba = best_model.predict_proba(X_val)[:, 1]\n",
        "\n",
        "val_cat['CatClass_val'] = y_bin_pred_val"
      ],
      "metadata": {
        "id": "GY0Dn2Q3Z8Rd"
      },
      "execution_count": null,
      "outputs": []
    },
    {
      "cell_type": "code",
      "source": [
        "print(np.round(y_bin_pred_proba.min(), 3), np.round(y_bin_pred_proba.max(), 3))"
      ],
      "metadata": {
        "colab": {
          "base_uri": "https://localhost:8080/"
        },
        "outputId": "228f126e-5c3b-4231-86c7-51613f7e98da",
        "id": "BbLeDWJNZ8Rf"
      },
      "execution_count": null,
      "outputs": [
        {
          "output_type": "stream",
          "name": "stdout",
          "text": [
            "0.186 0.652\n"
          ]
        }
      ]
    },
    {
      "cell_type": "code",
      "source": [
        "print(f\"f1_score: {(f1_score(y_val, y_bin_pred_val, zero_division=0)):.3f}\")\n",
        "print(f\"recall_score: {(recall_score(y_val, y_bin_pred_val, zero_division=0)):.3f}\")\n",
        "\n",
        "cm = confusion_matrix(y_val, y_bin_pred_val)\n",
        "df_cm = pd.DataFrame(cm, index=[\"Actual 0\", \"Actual 1\"], columns=[\"Pred 0\", \"Pred 1\"])\n",
        "print(df_cm)"
      ],
      "metadata": {
        "colab": {
          "base_uri": "https://localhost:8080/"
        },
        "outputId": "8956217a-46a6-4e93-993d-591288a50d1c",
        "id": "Hh8Suvr_Z8Rf"
      },
      "execution_count": null,
      "outputs": [
        {
          "output_type": "stream",
          "name": "stdout",
          "text": [
            "f1_score: 0.196\n",
            "recall_score: 0.570\n",
            "          Pred 0  Pred 1\n",
            "Actual 0   27859   25998\n",
            "Actual 1    2644    3499\n"
          ]
        }
      ]
    },
    {
      "cell_type": "code",
      "source": [
        "thresholds = np.linspace(0.01, 0.99, 99)\n",
        "best_thr, best_f1 = 0.5, 0.0\n",
        "for t in thresholds:\n",
        "    p = (y_bin_pred_proba >= t).astype(int)\n",
        "    f = f1_score(y_val, p, zero_division=0)\n",
        "    if f > best_f1:\n",
        "        best_f1 = f; best_thr = t"
      ],
      "metadata": {
        "id": "Bdcs-aFwZ8Rh"
      },
      "execution_count": null,
      "outputs": []
    },
    {
      "cell_type": "code",
      "source": [
        "print(f\"Best validation threshold for F1: {best_thr:.3f} (F1={best_f1:.3f})\")"
      ],
      "metadata": {
        "colab": {
          "base_uri": "https://localhost:8080/"
        },
        "outputId": "d9ef47b9-9eb2-4f1b-cc6c-ffdfba20de5f",
        "id": "diMed5pSZ8Rh"
      },
      "execution_count": null,
      "outputs": [
        {
          "output_type": "stream",
          "name": "stdout",
          "text": [
            "Best validation threshold for F1: 0.490 (F1=0.200)\n"
          ]
        }
      ]
    },
    {
      "cell_type": "code",
      "source": [
        "y_bin_pred_val2 = (y_bin_pred_proba >= best_thr).astype(int)\n",
        "val_cat['CatClass2_val'] = y_bin_pred_val2"
      ],
      "metadata": {
        "id": "mJOCL_-_Z8Rh"
      },
      "execution_count": null,
      "outputs": []
    },
    {
      "cell_type": "code",
      "source": [
        "print(f\"f1_score: {f1_score(y_val, y_bin_pred_val2, zero_division=0):.3f}\")\n",
        "print(f\"recall_score: {recall_score(y_val, y_bin_pred_val2, zero_division=0):.3f}\")\n",
        "\n",
        "cm = confusion_matrix(y_val, y_bin_pred_val2)\n",
        "df_cm = pd.DataFrame(cm, index=[\"Actual 0\", \"Actual 1\"], columns=[\"Pred 0\", \"Pred 1\"])\n",
        "print(df_cm)"
      ],
      "metadata": {
        "colab": {
          "base_uri": "https://localhost:8080/"
        },
        "outputId": "3dbd76ad-ad42-4d04-9861-6b94539e74eb",
        "id": "7Ix1HNxeZ8Rh"
      },
      "execution_count": null,
      "outputs": [
        {
          "output_type": "stream",
          "name": "stdout",
          "text": [
            "f1_score: 0.200\n",
            "recall_score: 0.648\n",
            "          Pred 0  Pred 1\n",
            "Actual 0   24271   29586\n",
            "Actual 1    2163    3980\n"
          ]
        }
      ]
    }
  ]
}
