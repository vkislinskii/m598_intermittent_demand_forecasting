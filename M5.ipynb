{
  "nbformat": 4,
  "nbformat_minor": 0,
  "metadata": {
    "colab": {
      "provenance": [],
      "collapsed_sections": [
        "9ESnSz7PArc6",
        "_HwnKzaCBd8M",
        "SvKxsFEbBwPW",
        "zPzfuq24VEG7",
        "TCsmSofhNU6y"
      ],
      "authorship_tag": "ABX9TyPOLXhzhKuwXmmyaelo9j6s",
      "include_colab_link": true
    },
    "kernelspec": {
      "name": "python3",
      "display_name": "Python 3"
    },
    "language_info": {
      "name": "python"
    }
  },
  "cells": [
    {
      "cell_type": "markdown",
      "metadata": {
        "id": "view-in-github",
        "colab_type": "text"
      },
      "source": [
        "<a href=\"https://colab.research.google.com/github/vkislinskii/m598_intermittent_demand_forecasting/blob/main/M5.ipynb\" target=\"_parent\"><img src=\"https://colab.research.google.com/assets/colab-badge.svg\" alt=\"Open In Colab\"/></a>"
      ]
    },
    {
      "cell_type": "markdown",
      "source": [
        "#0. Importing libraries"
      ],
      "metadata": {
        "id": "9ESnSz7PArc6"
      }
    },
    {
      "cell_type": "code",
      "source": [
        "from google.colab import drive\n",
        "import pandas as pd\n",
        "import numpy as np\n",
        "import matplotlib.pyplot as plt\n",
        "from sklearn.metrics import mean_squared_error, mean_absolute_error\n",
        "\n",
        "!pip install statsforecast\n",
        "from statsforecast import StatsForecast\n",
        "from statsforecast.models import AutoETS, CrostonOptimized, TSB, ADIDA, IMAPA\n",
        "from xgboost import XGBRegressor\n",
        "\n",
        "! pip install catboost\n",
        "from catboost import CatBoostClassifier, CatBoostRegressor\n",
        "from catboost import Pool"
      ],
      "metadata": {
        "id": "e6hNjsQkA7CI",
        "colab": {
          "base_uri": "https://localhost:8080/"
        },
        "outputId": "d70b5cda-06db-4c3f-88ba-612ceb0b31e9"
      },
      "execution_count": 14,
      "outputs": [
        {
          "output_type": "stream",
          "name": "stdout",
          "text": [
            "Requirement already satisfied: statsforecast in /usr/local/lib/python3.12/dist-packages (2.0.2)\n",
            "Requirement already satisfied: cloudpickle in /usr/local/lib/python3.12/dist-packages (from statsforecast) (3.1.1)\n",
            "Requirement already satisfied: coreforecast>=0.0.12 in /usr/local/lib/python3.12/dist-packages (from statsforecast) (0.0.16)\n",
            "Requirement already satisfied: numba>=0.55.0 in /usr/local/lib/python3.12/dist-packages (from statsforecast) (0.60.0)\n",
            "Requirement already satisfied: numpy>=1.21.6 in /usr/local/lib/python3.12/dist-packages (from statsforecast) (2.0.2)\n",
            "Requirement already satisfied: pandas>=1.3.5 in /usr/local/lib/python3.12/dist-packages (from statsforecast) (2.2.2)\n",
            "Requirement already satisfied: scipy<1.16.0,>=1.7.3 in /usr/local/lib/python3.12/dist-packages (from statsforecast) (1.15.3)\n",
            "Requirement already satisfied: statsmodels>=0.13.2 in /usr/local/lib/python3.12/dist-packages (from statsforecast) (0.14.5)\n",
            "Requirement already satisfied: tqdm in /usr/local/lib/python3.12/dist-packages (from statsforecast) (4.67.1)\n",
            "Requirement already satisfied: fugue>=0.8.1 in /usr/local/lib/python3.12/dist-packages (from statsforecast) (0.9.1)\n",
            "Requirement already satisfied: utilsforecast>=0.1.4 in /usr/local/lib/python3.12/dist-packages (from statsforecast) (0.2.12)\n",
            "Requirement already satisfied: threadpoolctl>=3 in /usr/local/lib/python3.12/dist-packages (from statsforecast) (3.6.0)\n",
            "Requirement already satisfied: triad>=0.9.7 in /usr/local/lib/python3.12/dist-packages (from fugue>=0.8.1->statsforecast) (0.9.8)\n",
            "Requirement already satisfied: adagio>=0.2.4 in /usr/local/lib/python3.12/dist-packages (from fugue>=0.8.1->statsforecast) (0.2.6)\n",
            "Requirement already satisfied: llvmlite<0.44,>=0.43.0dev0 in /usr/local/lib/python3.12/dist-packages (from numba>=0.55.0->statsforecast) (0.43.0)\n",
            "Requirement already satisfied: python-dateutil>=2.8.2 in /usr/local/lib/python3.12/dist-packages (from pandas>=1.3.5->statsforecast) (2.9.0.post0)\n",
            "Requirement already satisfied: pytz>=2020.1 in /usr/local/lib/python3.12/dist-packages (from pandas>=1.3.5->statsforecast) (2025.2)\n",
            "Requirement already satisfied: tzdata>=2022.7 in /usr/local/lib/python3.12/dist-packages (from pandas>=1.3.5->statsforecast) (2025.2)\n",
            "Requirement already satisfied: patsy>=0.5.6 in /usr/local/lib/python3.12/dist-packages (from statsmodels>=0.13.2->statsforecast) (1.0.1)\n",
            "Requirement already satisfied: packaging>=21.3 in /usr/local/lib/python3.12/dist-packages (from statsmodels>=0.13.2->statsforecast) (25.0)\n",
            "Requirement already satisfied: six>=1.5 in /usr/local/lib/python3.12/dist-packages (from python-dateutil>=2.8.2->pandas>=1.3.5->statsforecast) (1.17.0)\n",
            "Requirement already satisfied: pyarrow>=6.0.1 in /usr/local/lib/python3.12/dist-packages (from triad>=0.9.7->fugue>=0.8.1->statsforecast) (18.1.0)\n",
            "Requirement already satisfied: fsspec>=2022.5.0 in /usr/local/lib/python3.12/dist-packages (from triad>=0.9.7->fugue>=0.8.1->statsforecast) (2025.3.0)\n",
            "Requirement already satisfied: fs in /usr/local/lib/python3.12/dist-packages (from triad>=0.9.7->fugue>=0.8.1->statsforecast) (2.4.16)\n",
            "Requirement already satisfied: appdirs~=1.4.3 in /usr/local/lib/python3.12/dist-packages (from fs->triad>=0.9.7->fugue>=0.8.1->statsforecast) (1.4.4)\n",
            "Requirement already satisfied: setuptools in /usr/local/lib/python3.12/dist-packages (from fs->triad>=0.9.7->fugue>=0.8.1->statsforecast) (75.2.0)\n",
            "Requirement already satisfied: catboost in /usr/local/lib/python3.12/dist-packages (1.2.8)\n",
            "Requirement already satisfied: graphviz in /usr/local/lib/python3.12/dist-packages (from catboost) (0.21)\n",
            "Requirement already satisfied: matplotlib in /usr/local/lib/python3.12/dist-packages (from catboost) (3.10.0)\n",
            "Requirement already satisfied: numpy<3.0,>=1.16.0 in /usr/local/lib/python3.12/dist-packages (from catboost) (2.0.2)\n",
            "Requirement already satisfied: pandas>=0.24 in /usr/local/lib/python3.12/dist-packages (from catboost) (2.2.2)\n",
            "Requirement already satisfied: scipy in /usr/local/lib/python3.12/dist-packages (from catboost) (1.15.3)\n",
            "Requirement already satisfied: plotly in /usr/local/lib/python3.12/dist-packages (from catboost) (5.24.1)\n",
            "Requirement already satisfied: six in /usr/local/lib/python3.12/dist-packages (from catboost) (1.17.0)\n",
            "Requirement already satisfied: python-dateutil>=2.8.2 in /usr/local/lib/python3.12/dist-packages (from pandas>=0.24->catboost) (2.9.0.post0)\n",
            "Requirement already satisfied: pytz>=2020.1 in /usr/local/lib/python3.12/dist-packages (from pandas>=0.24->catboost) (2025.2)\n",
            "Requirement already satisfied: tzdata>=2022.7 in /usr/local/lib/python3.12/dist-packages (from pandas>=0.24->catboost) (2025.2)\n",
            "Requirement already satisfied: contourpy>=1.0.1 in /usr/local/lib/python3.12/dist-packages (from matplotlib->catboost) (1.3.3)\n",
            "Requirement already satisfied: cycler>=0.10 in /usr/local/lib/python3.12/dist-packages (from matplotlib->catboost) (0.12.1)\n",
            "Requirement already satisfied: fonttools>=4.22.0 in /usr/local/lib/python3.12/dist-packages (from matplotlib->catboost) (4.60.0)\n",
            "Requirement already satisfied: kiwisolver>=1.3.1 in /usr/local/lib/python3.12/dist-packages (from matplotlib->catboost) (1.4.9)\n",
            "Requirement already satisfied: packaging>=20.0 in /usr/local/lib/python3.12/dist-packages (from matplotlib->catboost) (25.0)\n",
            "Requirement already satisfied: pillow>=8 in /usr/local/lib/python3.12/dist-packages (from matplotlib->catboost) (11.3.0)\n",
            "Requirement already satisfied: pyparsing>=2.3.1 in /usr/local/lib/python3.12/dist-packages (from matplotlib->catboost) (3.2.4)\n",
            "Requirement already satisfied: tenacity>=6.2.0 in /usr/local/lib/python3.12/dist-packages (from plotly->catboost) (8.5.0)\n"
          ]
        }
      ]
    },
    {
      "cell_type": "markdown",
      "source": [
        "#1. Reading data"
      ],
      "metadata": {
        "id": "_HwnKzaCBd8M"
      }
    },
    {
      "cell_type": "code",
      "source": [
        "# чек основного куска данных\n",
        "drive.mount('/content/drive')\n",
        "df_data = pd.read_csv(\"/content/drive/MyDrive/202507_thesis/data - m5/sales_train_evaluation.csv\")\n",
        "calendar = pd.read_csv(\"/content/drive/MyDrive/202507_thesis/data - m5/calendar.csv\")\n",
        "sell_prices = pd.read_csv(\"/content/drive/MyDrive/202507_thesis/data - m5/sell_prices.csv\")"
      ],
      "metadata": {
        "id": "Flfone9KZWhI",
        "colab": {
          "base_uri": "https://localhost:8080/"
        },
        "outputId": "7eecb134-a4c5-4cc6-9cf6-2b6db7b22c24"
      },
      "execution_count": 15,
      "outputs": [
        {
          "output_type": "stream",
          "name": "stdout",
          "text": [
            "Drive already mounted at /content/drive; to attempt to forcibly remount, call drive.mount(\"/content/drive\", force_remount=True).\n"
          ]
        }
      ]
    },
    {
      "cell_type": "markdown",
      "source": [
        "#2. Preprocessing data"
      ],
      "metadata": {
        "id": "SvKxsFEbBwPW"
      }
    },
    {
      "cell_type": "code",
      "source": [
        "#function to reduce the dataset size\n",
        "def reduce_mem_usage(df):\n",
        "    for col in df.columns:\n",
        "        col_type = df[col].dtype\n",
        "        if col_type != object:\n",
        "            c_min = df[col].min()\n",
        "            c_max = df[col].max()\n",
        "            if str(col_type)[:3] == 'int':\n",
        "                if c_min >= 0:\n",
        "                    if c_max < 255:\n",
        "                        df[col] = df[col].astype('uint8')\n",
        "                    elif c_max < 65535:\n",
        "                        df[col] = df[col].astype('uint16')\n",
        "                    elif c_max < 4294967295:\n",
        "                        df[col] = df[col].astype('uint32')\n",
        "                    else:\n",
        "                        df[col] = df[col].astype('uint64')\n",
        "                else:\n",
        "                    if c_min > np.iinfo(np.int8).min and c_max < np.iinfo(np.int8).max:\n",
        "                        df[col] = df[col].astype('int8')\n",
        "                    elif c_min > np.iinfo(np.int16).min and c_max < np.iinfo(np.int16).max:\n",
        "                        df[col] = df[col].astype('int16')\n",
        "                    elif c_min > np.iinfo(np.int32).min and c_max < np.iinfo(np.int32).max:\n",
        "                        df[col] = df[col].astype('int32')\n",
        "            else:\n",
        "                df[col] = pd.to_numeric(df[col], downcast='float')\n",
        "        else:\n",
        "            df[col] = df[col].astype('category')\n",
        "    return df"
      ],
      "metadata": {
        "id": "DmR89vlgrA0p"
      },
      "execution_count": 16,
      "outputs": []
    },
    {
      "cell_type": "code",
      "source": [
        "calendar = calendar[['d', 'wm_yr_wk', 'weekday', 'month', 'year', 'event_name_1', 'snap_CA', 'snap_TX', 'snap_WI']]\n",
        "df_data.dept_id = df_data.dept_id.str[-1:]"
      ],
      "metadata": {
        "id": "LhtLAxshqOIi"
      },
      "execution_count": 17,
      "outputs": []
    },
    {
      "cell_type": "code",
      "source": [
        "calendar_small = reduce_mem_usage(calendar).copy()\n",
        "sell_prices_small = reduce_mem_usage(sell_prices).copy()\n",
        "df_data_small = reduce_mem_usage(df_data).copy()\n",
        "del calendar\n",
        "del sell_prices\n",
        "del df_data"
      ],
      "metadata": {
        "id": "ivHsuJvvrHen"
      },
      "execution_count": 18,
      "outputs": []
    },
    {
      "cell_type": "code",
      "source": [
        "#transposing the table\n",
        "id_vars = ['id', 'item_id',\t'dept_id',\t'cat_id',\t'store_id',\t'state_id']\n",
        "value_vars = df_data_small.select_dtypes(include=['uint8', 'uint16']).columns\n",
        "df_data2 = df_data_small.melt(id_vars=id_vars, value_vars=value_vars, var_name=\"d\", value_name=\"y\")\n",
        "\n",
        "df_data_small = pd.DataFrame(None)\n",
        "df_data2['ds'] = pd.to_numeric(df_data2.d.str[2:]).astype('uint16')\n",
        "df_data2['d'] = df_data2['d'].astype('category')\n",
        "df_data2 = df_data2.rename(columns={\"id\": \"unique_id\"})"
      ],
      "metadata": {
        "id": "7eNE7iz4h3o_"
      },
      "execution_count": 19,
      "outputs": []
    },
    {
      "cell_type": "code",
      "source": [
        "#joining the calendar iteratively\n",
        "chunk_size = 5_000_000\n",
        "chunks = []\n",
        "\n",
        "for start in range(0, len(df_data2), chunk_size):\n",
        "    end = start + chunk_size\n",
        "    chunk = df_data2.iloc[start:end].merge(calendar_small, on='d', how='left')\n",
        "    chunks.append(chunk)\n",
        "\n",
        "df_data2 = pd.concat(chunks, ignore_index=True)"
      ],
      "metadata": {
        "id": "ywP9KWMB25SF"
      },
      "execution_count": 20,
      "outputs": []
    },
    {
      "cell_type": "code",
      "source": [
        "#joining the prices iteratively\n",
        "chunk_size = 5_000_000\n",
        "chunks = []\n",
        "\n",
        "for start in range(0, len(df_data2), chunk_size):\n",
        "    end = start + chunk_size\n",
        "    chunk = df_data2.iloc[start:end].merge(sell_prices_small, on=[\"store_id\", \"item_id\", \"wm_yr_wk\"], how='left')\n",
        "    chunks.append(chunk)\n",
        "\n",
        "df_data2 = pd.concat(chunks, ignore_index=True)\n",
        "chunks = []"
      ],
      "metadata": {
        "id": "v1qVSvRtsszl"
      },
      "execution_count": 21,
      "outputs": []
    },
    {
      "cell_type": "code",
      "source": [
        "del calendar_small\n",
        "del sell_prices_small\n",
        "del chunk\n",
        "df_data2 = df_data2.drop(columns='d')"
      ],
      "metadata": {
        "id": "tMWxvTtNatyU"
      },
      "execution_count": 22,
      "outputs": []
    },
    {
      "cell_type": "code",
      "source": [
        "#make the first non-zero demand the initial value\n",
        "df_data_fin_start = df_data2.query(\"y != 0\")[['unique_id', 'ds']].groupby(by=\"unique_id\", observed=False, as_index=False).min().rename(columns={\"ds\": \"ds_start\"})\n",
        "df_data2 = df_data2.merge(df_data_fin_start, on=['unique_id'], how='left').query(\"ds >= ds_start\")\n",
        "df_data_fin = df_data2[['unique_id', 'ds', 'y']]"
      ],
      "metadata": {
        "id": "5dcytvLbO6vP"
      },
      "execution_count": 23,
      "outputs": []
    },
    {
      "cell_type": "markdown",
      "source": [
        "#3. Data exploration"
      ],
      "metadata": {
        "id": "zPzfuq24VEG7"
      }
    },
    {
      "cell_type": "code",
      "source": [
        "df_plot = df_data2.pivot(index=\"ds\", columns=\"unique_id\", values=\"y\").fillna(0)"
      ],
      "metadata": {
        "id": "UpGdUmPhVL0y"
      },
      "execution_count": null,
      "outputs": []
    },
    {
      "cell_type": "code",
      "source": [
        "def compute_p_v_from_series(series: pd.Series, ddof: int = 1):\n",
        "    series = series.dropna()\n",
        "    T = len(series)\n",
        "    positives = series[series > 0]\n",
        "    m = int(positives.count())\n",
        "    if m == 0:\n",
        "        return {\"T\": T, \"m\": 0, \"p\": np.nan, \"mu\": np.nan, \"var\": np.nan, \"v\": np.nan}\n",
        "    p = T / m\n",
        "    mu = float(positives.mean())\n",
        "    if m > ddof:\n",
        "        var = float(positives.var(ddof=ddof))\n",
        "        v = var / (mu**2) if mu != 0 else np.inf\n",
        "    else:\n",
        "        var = np.nan\n",
        "        v = np.nan\n",
        "    return {\"T\": T, \"m\": m, \"p\": p, \"mu\": mu, \"var\": var, \"v\": v}"
      ],
      "metadata": {
        "id": "qveUg4XxVV-w"
      },
      "execution_count": null,
      "outputs": []
    },
    {
      "cell_type": "code",
      "source": [
        "ddof=1\n",
        "sort_by='p'\n",
        "results = []\n",
        "\n",
        "for col in df_plot.columns:\n",
        "  res = compute_p_v_from_series(df_plot[col], ddof=ddof)\n",
        "  res[\"item\"] = col\n",
        "  results.append(res)\n",
        "\n",
        "results_df = pd.DataFrame(results).set_index(\"item\")\n",
        "results_df = results_df[[\"T\", \"m\", \"p\", \"mu\", \"var\", \"v\"]]\n",
        "\n",
        "if sort_by in results_df.columns:\n",
        "  results_df_sorted = results_df.sort_values(sort_by, ascending=False)\n",
        "else:\n",
        "  results_df_sorted = results_df.copy()\n",
        "\n",
        "results_df_sorted['ln_p'] = np.log(results_df_sorted.p)\n",
        "results_df_sorted['ln_v'] = np.log(results_df_sorted.v)"
      ],
      "metadata": {
        "colab": {
          "base_uri": "https://localhost:8080/"
        },
        "id": "BXqpEiUVVLw1",
        "outputId": "3caca893-65bf-4bb6-f8ae-f4ec056c7359"
      },
      "execution_count": null,
      "outputs": [
        {
          "output_type": "stream",
          "name": "stderr",
          "text": [
            "/usr/local/lib/python3.12/dist-packages/pandas/core/arraylike.py:399: RuntimeWarning: divide by zero encountered in log\n",
            "  result = getattr(ufunc, method)(*inputs, **kwargs)\n"
          ]
        }
      ]
    },
    {
      "cell_type": "code",
      "source": [
        "smo = results_df_sorted.query(\"p <= 1.32 & v <= 0.49\").shape[0]\n",
        "inte = results_df_sorted.query(\"p > 1.32 & v <= 0.49\").shape[0]\n",
        "err = results_df_sorted.query(\"p <= 1.32 & v > 0.49\").shape[0]\n",
        "lum = results_df_sorted.query(\"p > 1.32 & v > 0.49\").shape[0]\n",
        "\n",
        "print(f\"{smo} - Smooth \\n{inte} - Intermittent\\n{err} - Erratic\\n{lum} - Lumpy\")"
      ],
      "metadata": {
        "colab": {
          "base_uri": "https://localhost:8080/"
        },
        "id": "3ezKayykJdDk",
        "outputId": "ba01dd4a-fb24-4957-f8de-0e69ac832571"
      },
      "execution_count": null,
      "outputs": [
        {
          "output_type": "stream",
          "name": "stdout",
          "text": [
            "983 - Smooth \n",
            "23075 - Intermittent\n",
            "494 - Erratic\n",
            "5938 - Lumpy\n"
          ]
        }
      ]
    },
    {
      "cell_type": "code",
      "source": [
        "round(results_df_sorted[['p', 'v']].describe(), 2)"
      ],
      "metadata": {
        "colab": {
          "base_uri": "https://localhost:8080/",
          "height": 300
        },
        "id": "fvHxFAMGyL4f",
        "outputId": "e29aecbb-4879-443d-95e8-637f2067b40b"
      },
      "execution_count": null,
      "outputs": [
        {
          "output_type": "execute_result",
          "data": {
            "text/plain": [
              "              p         v\n",
              "count  30490.00  30490.00\n",
              "mean       6.33      0.39\n",
              "std        7.60      0.69\n",
              "min        1.00      0.00\n",
              "25%        2.15      0.23\n",
              "50%        3.75      0.35\n",
              "75%        7.41      0.46\n",
              "max      161.75    106.75"
            ],
            "text/html": [
              "\n",
              "  <div id=\"df-794945c7-d3b7-490f-ae02-a4821e224b2b\" class=\"colab-df-container\">\n",
              "    <div>\n",
              "<style scoped>\n",
              "    .dataframe tbody tr th:only-of-type {\n",
              "        vertical-align: middle;\n",
              "    }\n",
              "\n",
              "    .dataframe tbody tr th {\n",
              "        vertical-align: top;\n",
              "    }\n",
              "\n",
              "    .dataframe thead th {\n",
              "        text-align: right;\n",
              "    }\n",
              "</style>\n",
              "<table border=\"1\" class=\"dataframe\">\n",
              "  <thead>\n",
              "    <tr style=\"text-align: right;\">\n",
              "      <th></th>\n",
              "      <th>p</th>\n",
              "      <th>v</th>\n",
              "    </tr>\n",
              "  </thead>\n",
              "  <tbody>\n",
              "    <tr>\n",
              "      <th>count</th>\n",
              "      <td>30490.00</td>\n",
              "      <td>30490.00</td>\n",
              "    </tr>\n",
              "    <tr>\n",
              "      <th>mean</th>\n",
              "      <td>6.33</td>\n",
              "      <td>0.39</td>\n",
              "    </tr>\n",
              "    <tr>\n",
              "      <th>std</th>\n",
              "      <td>7.60</td>\n",
              "      <td>0.69</td>\n",
              "    </tr>\n",
              "    <tr>\n",
              "      <th>min</th>\n",
              "      <td>1.00</td>\n",
              "      <td>0.00</td>\n",
              "    </tr>\n",
              "    <tr>\n",
              "      <th>25%</th>\n",
              "      <td>2.15</td>\n",
              "      <td>0.23</td>\n",
              "    </tr>\n",
              "    <tr>\n",
              "      <th>50%</th>\n",
              "      <td>3.75</td>\n",
              "      <td>0.35</td>\n",
              "    </tr>\n",
              "    <tr>\n",
              "      <th>75%</th>\n",
              "      <td>7.41</td>\n",
              "      <td>0.46</td>\n",
              "    </tr>\n",
              "    <tr>\n",
              "      <th>max</th>\n",
              "      <td>161.75</td>\n",
              "      <td>106.75</td>\n",
              "    </tr>\n",
              "  </tbody>\n",
              "</table>\n",
              "</div>\n",
              "    <div class=\"colab-df-buttons\">\n",
              "\n",
              "  <div class=\"colab-df-container\">\n",
              "    <button class=\"colab-df-convert\" onclick=\"convertToInteractive('df-794945c7-d3b7-490f-ae02-a4821e224b2b')\"\n",
              "            title=\"Convert this dataframe to an interactive table.\"\n",
              "            style=\"display:none;\">\n",
              "\n",
              "  <svg xmlns=\"http://www.w3.org/2000/svg\" height=\"24px\" viewBox=\"0 -960 960 960\">\n",
              "    <path d=\"M120-120v-720h720v720H120Zm60-500h600v-160H180v160Zm220 220h160v-160H400v160Zm0 220h160v-160H400v160ZM180-400h160v-160H180v160Zm440 0h160v-160H620v160ZM180-180h160v-160H180v160Zm440 0h160v-160H620v160Z\"/>\n",
              "  </svg>\n",
              "    </button>\n",
              "\n",
              "  <style>\n",
              "    .colab-df-container {\n",
              "      display:flex;\n",
              "      gap: 12px;\n",
              "    }\n",
              "\n",
              "    .colab-df-convert {\n",
              "      background-color: #E8F0FE;\n",
              "      border: none;\n",
              "      border-radius: 50%;\n",
              "      cursor: pointer;\n",
              "      display: none;\n",
              "      fill: #1967D2;\n",
              "      height: 32px;\n",
              "      padding: 0 0 0 0;\n",
              "      width: 32px;\n",
              "    }\n",
              "\n",
              "    .colab-df-convert:hover {\n",
              "      background-color: #E2EBFA;\n",
              "      box-shadow: 0px 1px 2px rgba(60, 64, 67, 0.3), 0px 1px 3px 1px rgba(60, 64, 67, 0.15);\n",
              "      fill: #174EA6;\n",
              "    }\n",
              "\n",
              "    .colab-df-buttons div {\n",
              "      margin-bottom: 4px;\n",
              "    }\n",
              "\n",
              "    [theme=dark] .colab-df-convert {\n",
              "      background-color: #3B4455;\n",
              "      fill: #D2E3FC;\n",
              "    }\n",
              "\n",
              "    [theme=dark] .colab-df-convert:hover {\n",
              "      background-color: #434B5C;\n",
              "      box-shadow: 0px 1px 3px 1px rgba(0, 0, 0, 0.15);\n",
              "      filter: drop-shadow(0px 1px 2px rgba(0, 0, 0, 0.3));\n",
              "      fill: #FFFFFF;\n",
              "    }\n",
              "  </style>\n",
              "\n",
              "    <script>\n",
              "      const buttonEl =\n",
              "        document.querySelector('#df-794945c7-d3b7-490f-ae02-a4821e224b2b button.colab-df-convert');\n",
              "      buttonEl.style.display =\n",
              "        google.colab.kernel.accessAllowed ? 'block' : 'none';\n",
              "\n",
              "      async function convertToInteractive(key) {\n",
              "        const element = document.querySelector('#df-794945c7-d3b7-490f-ae02-a4821e224b2b');\n",
              "        const dataTable =\n",
              "          await google.colab.kernel.invokeFunction('convertToInteractive',\n",
              "                                                    [key], {});\n",
              "        if (!dataTable) return;\n",
              "\n",
              "        const docLinkHtml = 'Like what you see? Visit the ' +\n",
              "          '<a target=\"_blank\" href=https://colab.research.google.com/notebooks/data_table.ipynb>data table notebook</a>'\n",
              "          + ' to learn more about interactive tables.';\n",
              "        element.innerHTML = '';\n",
              "        dataTable['output_type'] = 'display_data';\n",
              "        await google.colab.output.renderOutput(dataTable, element);\n",
              "        const docLink = document.createElement('div');\n",
              "        docLink.innerHTML = docLinkHtml;\n",
              "        element.appendChild(docLink);\n",
              "      }\n",
              "    </script>\n",
              "  </div>\n",
              "\n",
              "\n",
              "    <div id=\"df-82253aa5-ae44-4fc0-bcdf-ba1faf942fcb\">\n",
              "      <button class=\"colab-df-quickchart\" onclick=\"quickchart('df-82253aa5-ae44-4fc0-bcdf-ba1faf942fcb')\"\n",
              "                title=\"Suggest charts\"\n",
              "                style=\"display:none;\">\n",
              "\n",
              "<svg xmlns=\"http://www.w3.org/2000/svg\" height=\"24px\"viewBox=\"0 0 24 24\"\n",
              "     width=\"24px\">\n",
              "    <g>\n",
              "        <path d=\"M19 3H5c-1.1 0-2 .9-2 2v14c0 1.1.9 2 2 2h14c1.1 0 2-.9 2-2V5c0-1.1-.9-2-2-2zM9 17H7v-7h2v7zm4 0h-2V7h2v10zm4 0h-2v-4h2v4z\"/>\n",
              "    </g>\n",
              "</svg>\n",
              "      </button>\n",
              "\n",
              "<style>\n",
              "  .colab-df-quickchart {\n",
              "      --bg-color: #E8F0FE;\n",
              "      --fill-color: #1967D2;\n",
              "      --hover-bg-color: #E2EBFA;\n",
              "      --hover-fill-color: #174EA6;\n",
              "      --disabled-fill-color: #AAA;\n",
              "      --disabled-bg-color: #DDD;\n",
              "  }\n",
              "\n",
              "  [theme=dark] .colab-df-quickchart {\n",
              "      --bg-color: #3B4455;\n",
              "      --fill-color: #D2E3FC;\n",
              "      --hover-bg-color: #434B5C;\n",
              "      --hover-fill-color: #FFFFFF;\n",
              "      --disabled-bg-color: #3B4455;\n",
              "      --disabled-fill-color: #666;\n",
              "  }\n",
              "\n",
              "  .colab-df-quickchart {\n",
              "    background-color: var(--bg-color);\n",
              "    border: none;\n",
              "    border-radius: 50%;\n",
              "    cursor: pointer;\n",
              "    display: none;\n",
              "    fill: var(--fill-color);\n",
              "    height: 32px;\n",
              "    padding: 0;\n",
              "    width: 32px;\n",
              "  }\n",
              "\n",
              "  .colab-df-quickchart:hover {\n",
              "    background-color: var(--hover-bg-color);\n",
              "    box-shadow: 0 1px 2px rgba(60, 64, 67, 0.3), 0 1px 3px 1px rgba(60, 64, 67, 0.15);\n",
              "    fill: var(--button-hover-fill-color);\n",
              "  }\n",
              "\n",
              "  .colab-df-quickchart-complete:disabled,\n",
              "  .colab-df-quickchart-complete:disabled:hover {\n",
              "    background-color: var(--disabled-bg-color);\n",
              "    fill: var(--disabled-fill-color);\n",
              "    box-shadow: none;\n",
              "  }\n",
              "\n",
              "  .colab-df-spinner {\n",
              "    border: 2px solid var(--fill-color);\n",
              "    border-color: transparent;\n",
              "    border-bottom-color: var(--fill-color);\n",
              "    animation:\n",
              "      spin 1s steps(1) infinite;\n",
              "  }\n",
              "\n",
              "  @keyframes spin {\n",
              "    0% {\n",
              "      border-color: transparent;\n",
              "      border-bottom-color: var(--fill-color);\n",
              "      border-left-color: var(--fill-color);\n",
              "    }\n",
              "    20% {\n",
              "      border-color: transparent;\n",
              "      border-left-color: var(--fill-color);\n",
              "      border-top-color: var(--fill-color);\n",
              "    }\n",
              "    30% {\n",
              "      border-color: transparent;\n",
              "      border-left-color: var(--fill-color);\n",
              "      border-top-color: var(--fill-color);\n",
              "      border-right-color: var(--fill-color);\n",
              "    }\n",
              "    40% {\n",
              "      border-color: transparent;\n",
              "      border-right-color: var(--fill-color);\n",
              "      border-top-color: var(--fill-color);\n",
              "    }\n",
              "    60% {\n",
              "      border-color: transparent;\n",
              "      border-right-color: var(--fill-color);\n",
              "    }\n",
              "    80% {\n",
              "      border-color: transparent;\n",
              "      border-right-color: var(--fill-color);\n",
              "      border-bottom-color: var(--fill-color);\n",
              "    }\n",
              "    90% {\n",
              "      border-color: transparent;\n",
              "      border-bottom-color: var(--fill-color);\n",
              "    }\n",
              "  }\n",
              "</style>\n",
              "\n",
              "      <script>\n",
              "        async function quickchart(key) {\n",
              "          const quickchartButtonEl =\n",
              "            document.querySelector('#' + key + ' button');\n",
              "          quickchartButtonEl.disabled = true;  // To prevent multiple clicks.\n",
              "          quickchartButtonEl.classList.add('colab-df-spinner');\n",
              "          try {\n",
              "            const charts = await google.colab.kernel.invokeFunction(\n",
              "                'suggestCharts', [key], {});\n",
              "          } catch (error) {\n",
              "            console.error('Error during call to suggestCharts:', error);\n",
              "          }\n",
              "          quickchartButtonEl.classList.remove('colab-df-spinner');\n",
              "          quickchartButtonEl.classList.add('colab-df-quickchart-complete');\n",
              "        }\n",
              "        (() => {\n",
              "          let quickchartButtonEl =\n",
              "            document.querySelector('#df-82253aa5-ae44-4fc0-bcdf-ba1faf942fcb button');\n",
              "          quickchartButtonEl.style.display =\n",
              "            google.colab.kernel.accessAllowed ? 'block' : 'none';\n",
              "        })();\n",
              "      </script>\n",
              "    </div>\n",
              "\n",
              "    </div>\n",
              "  </div>\n"
            ],
            "application/vnd.google.colaboratory.intrinsic+json": {
              "type": "dataframe",
              "summary": "{\n  \"name\": \"round(results_df_sorted[['p', 'v']]\",\n  \"rows\": 8,\n  \"fields\": [\n    {\n      \"column\": \"p\",\n      \"properties\": {\n        \"dtype\": \"number\",\n        \"std\": 10770.387393115621,\n        \"min\": 1.0,\n        \"max\": 30490.0,\n        \"num_unique_values\": 8,\n        \"samples\": [\n          6.33,\n          3.75,\n          30490.0\n        ],\n        \"semantic_type\": \"\",\n        \"description\": \"\"\n      }\n    },\n    {\n      \"column\": \"v\",\n      \"properties\": {\n        \"dtype\": \"number\",\n        \"std\": 10774.408441952277,\n        \"min\": 0.0,\n        \"max\": 30490.0,\n        \"num_unique_values\": 8,\n        \"samples\": [\n          0.39,\n          0.35,\n          30490.0\n        ],\n        \"semantic_type\": \"\",\n        \"description\": \"\"\n      }\n    }\n  ]\n}"
            }
          },
          "metadata": {},
          "execution_count": 38
        }
      ]
    },
    {
      "cell_type": "code",
      "source": [
        "y = results_df_sorted[\"ln_p\"].values\n",
        "x = results_df_sorted[\"ln_v\"].values\n",
        "labels = results_df_sorted.index.astype(str).tolist()\n",
        "\n",
        "fig, ax = plt.subplots(figsize=(4, 4))\n",
        "hb = ax.hexbin(x, y, gridsize=40, cmap=\"inferno\", mincnt=1)\n",
        "\n",
        "ax.set_ylabel(\"ln(p)\") #p - average inter-demand interval\n",
        "ax.set_xlabel(\"ln(v)\") #v - squared coef of variation\n",
        "ax.set_title(\"M5\")\n",
        "\n",
        "ax.grid(True, linewidth=0.3)\n",
        "\n",
        "v_thresh = 0.27763\n",
        "p_thresh = -0.71334\n",
        "\n",
        "# vertical and horizontal lines at the borders\n",
        "ax.axvline(x=p_thresh, color=\"red\", linestyle=\"--\", linewidth=1.5, label=f\"p = {p_thresh}\")\n",
        "ax.axhline(y=v_thresh, color=\"red\", linestyle=\"-.\", linewidth=1.5, label=f\"v = {v_thresh}\")\n",
        "\n",
        "plt.colorbar(hb, ax=ax, label=\"Count per hexagon\")"
      ],
      "metadata": {
        "id": "1guVn4V5V0SO",
        "colab": {
          "base_uri": "https://localhost:8080/",
          "height": 427
        },
        "outputId": "0303ff19-4f75-414c-d395-7c7091c15e71"
      },
      "execution_count": null,
      "outputs": [
        {
          "output_type": "execute_result",
          "data": {
            "text/plain": [
              "<matplotlib.colorbar.Colorbar at 0x7ac336bd2930>"
            ]
          },
          "metadata": {},
          "execution_count": 17
        },
        {
          "output_type": "display_data",
          "data": {
            "text/plain": [
              "<Figure size 400x400 with 2 Axes>"
            ],
            "image/png": "[encoded data removed]"
          },
          "metadata": {}
        }
      ]
    },
    {
      "cell_type": "code",
      "source": [
        "plt.figure(figsize=(4, 4))\n",
        "plt.plot(df_data2.query(\"unique_id == 'FOODS_1_022_CA_4_evaluation'\").ds[:100], df_data2.query(\"unique_id == 'FOODS_1_022_CA_4_evaluation'\").y[:100], linestyle=\"-\", linewidth=2)\n",
        "\n",
        "# Labels and title\n",
        "plt.xlabel(\"Date\")\n",
        "plt.ylabel(\"Demand\")\n",
        "plt.title(\"Demand for FOODS_1_022 in the store CA_4\")\n",
        "plt.xticks(rotation=45)\n",
        "plt.grid(True)\n",
        "\n",
        "plt.tight_layout()\n",
        "plt.show()"
      ],
      "metadata": {
        "id": "mAPSYDD-V0MP",
        "colab": {
          "base_uri": "https://localhost:8080/",
          "height": 407
        },
        "outputId": "295f16f8-e32c-4fe2-a45d-2e5e108b7cd9"
      },
      "execution_count": null,
      "outputs": [
        {
          "output_type": "display_data",
          "data": {
            "text/plain": [
              "<Figure size 400x400 with 1 Axes>"
            ],
            "image/png": "[encoded data removed]"
          },
          "metadata": {}
        }
      ]
    },
    {
      "cell_type": "markdown",
      "source": [
        "#4. Feature engineering"
      ],
      "metadata": {
        "id": "iXEhJq0rmWZs"
      }
    },
    {
      "cell_type": "code",
      "source": [
        "h = 28\n",
        "split_day = int(df_data2.ds.max() - h)"
      ],
      "metadata": {
        "id": "QdZCOwCqw93d"
      },
      "execution_count": 24,
      "outputs": []
    },
    {
      "cell_type": "code",
      "source": [
        "#train-test for univariate models\n",
        "train = df_data_fin.query(\"ds <= @split_day\")\n",
        "test = df_data_fin.query(\"ds > @split_day\")"
      ],
      "metadata": {
        "id": "amX3O5_xPnme"
      },
      "execution_count": 25,
      "outputs": []
    },
    {
      "cell_type": "markdown",
      "source": [
        "#5. Predictions"
      ],
      "metadata": {
        "id": "PpoDPPgHKj-O"
      }
    },
    {
      "cell_type": "markdown",
      "source": [
        "##5.1. RMSSE metric function defining"
      ],
      "metadata": {
        "id": "TCsmSofhNU6y"
      }
    },
    {
      "cell_type": "code",
      "source": [
        "#RMSSE metric calculation\n",
        "def fast_rmsse(df_hist, df_forecasts, df_test, forecast_col):\n",
        "    hist_df = df_hist.pivot(index='ds', columns='unique_id', values='y').sort_index()\n",
        "    test_df = df_test.pivot(index='ds', columns='unique_id', values='y').sort_index()\n",
        "    pred_df = df_forecasts.pivot(index='ds', columns='unique_id', values=forecast_col).sort_index()\n",
        "\n",
        "    #align columns across datsframes\n",
        "    cols = hist_df.columns\n",
        "    test_df = test_df.reindex(columns=cols)\n",
        "    pred_df = pred_df.reindex(columns=cols)\n",
        "\n",
        "    #convert to numpy for calculation\n",
        "    hist_wide = hist_df.to_numpy(dtype=float)\n",
        "    test_wide = test_df.to_numpy(dtype=float)\n",
        "    pred_wide = pred_df.to_numpy(dtype=float)\n",
        "\n",
        "    #denominator\n",
        "    diffsq = np.diff(hist_wide, axis=0) ** 2\n",
        "    denom = np.nanmean(diffsq, axis=0)\n",
        "\n",
        "    #numerator (mean squared forecast errors)\n",
        "    num = np.nanmean((test_wide - pred_wide) ** 2, axis=0)\n",
        "\n",
        "    #calculation\n",
        "    bad = (denom == 0) | np.isnan(denom)\n",
        "    rmsse = np.sqrt(num / denom)\n",
        "    rmsse[bad] = np.nan\n",
        "\n",
        "    return rmsse, cols"
      ],
      "metadata": {
        "id": "MMwzUkJQMDIE"
      },
      "execution_count": 26,
      "outputs": []
    },
    {
      "cell_type": "markdown",
      "source": [
        "##5.2. ETS, SBA, TSB, ADIDA, IMAPA"
      ],
      "metadata": {
        "id": "J23XRK0NCPfd"
      }
    },
    {
      "cell_type": "code",
      "source": [
        "sf = StatsForecast(\n",
        "    models=[\n",
        "        CrostonOptimized(alias='SBA'),\n",
        "        TSB(alpha_d=0.2, alpha_p=0.2),\n",
        "        ADIDA(),\n",
        "        IMAPA(),\n",
        "        AutoETS(season_length=12, model=\"ANN\")\n",
        "        ],\n",
        "    freq=1,\n",
        "    n_jobs=1\n",
        ")"
      ],
      "metadata": {
        "id": "eA9PoGzTOjmb"
      },
      "execution_count": 27,
      "outputs": []
    },
    {
      "cell_type": "code",
      "source": [
        "fitted = sf.fit(train)\n",
        "forecasts = fitted.forecast(df=train, h=h)"
      ],
      "metadata": {
        "id": "k_cA0c-jAHdY"
      },
      "execution_count": 28,
      "outputs": []
    },
    {
      "cell_type": "code",
      "source": [
        "merged = forecasts.merge(test, on=['unique_id', 'ds'], how='left')\n",
        "merged['SBA_round'] = np.round(merged['SBA']).astype('uint16')\n",
        "merged['TSB_round'] = np.round(merged['TSB']).astype('uint16')\n",
        "merged['ADIDA_round'] = np.round(merged['ADIDA']).astype('uint16')\n",
        "merged['IMAPA_round'] = np.round(merged['IMAPA']).astype('uint16')\n",
        "merged['ETS_round'] = np.round(merged['AutoETS']).astype('int16')"
      ],
      "metadata": {
        "id": "RXZp5k-NaI_x"
      },
      "execution_count": 34,
      "outputs": []
    },
    {
      "cell_type": "code",
      "source": [
        "#RMSSE - float prediction\n",
        "r_vec_sba, cols_sba = fast_rmsse(train, merged, test, 'SBA')\n",
        "r_vec_tsb, cols_tsb = fast_rmsse(train, merged, test, 'TSB')\n",
        "r_vec_adida, cols_adida = fast_rmsse(train, merged, test, 'ADIDA')\n",
        "r_vec_imapa, cols_imapa = fast_rmsse(train, merged, test, 'IMAPA')\n",
        "r_vec_ets, cols_ets = fast_rmsse(train, merged, test, 'AutoETS')\n",
        "\n",
        "print(f\"RMSSE CrostonSBA: {np.nanmean(r_vec_sba):.3f}\")\n",
        "print(f\"RMSSE TSB: {np.nanmean(r_vec_tsb):.3f}\")\n",
        "print(f\"RMSSE ADIDA: {np.nanmean(r_vec_adida):.3f}\")\n",
        "print(f\"RMSSE IMAPA: {np.nanmean(r_vec_imapa):.3f}\")\n",
        "print(f\"RMSSE ETS: {np.nanmean(r_vec_ets):.3f}\")"
      ],
      "metadata": {
        "id": "gTRC1yqhRcT7",
        "colab": {
          "base_uri": "https://localhost:8080/"
        },
        "outputId": "e1dbd5f5-e64d-4126-a47f-6869ec95448d"
      },
      "execution_count": 35,
      "outputs": [
        {
          "output_type": "stream",
          "name": "stdout",
          "text": [
            "RMSSE CrostonSBA: 0.771\n",
            "RMSSE TSB: 0.780\n",
            "RMSSE ADIDA: 0.763\n",
            "RMSSE IMAPA: 0.764\n",
            "RMSSE ETS: 0.763\n"
          ]
        }
      ]
    },
    {
      "cell_type": "code",
      "source": [
        "#RMSSE - integer prediction\n",
        "r_vec_sba, cols_sba = fast_rmsse(train, merged, test, 'SBA_round')\n",
        "r_vec_tsb, cols_tsb = fast_rmsse(train, merged, test, 'TSB_round')\n",
        "r_vec_adida, cols_adida = fast_rmsse(train, merged, test, 'ADIDA_round')\n",
        "r_vec_imapa, cols_imapa = fast_rmsse(train, merged, test, 'IMAPA_round')\n",
        "r_vec_ets, cols_ets = fast_rmsse(train, merged, test, 'ETS_round')\n",
        "\n",
        "print(f\"RMSSE CrostonSBA: {np.nanmean(r_vec_sba):.3f}\")\n",
        "print(f\"RMSSE TSB: {np.nanmean(r_vec_tsb):.3f}\")\n",
        "print(f\"RMSSE ADIDA: {np.nanmean(r_vec_adida):.3f}\")\n",
        "print(f\"RMSSE IMAPA: {np.nanmean(r_vec_imapa):.3f}\")\n",
        "print(f\"RMSSE ETS: {np.nanmean(r_vec_ets):.3f}\")"
      ],
      "metadata": {
        "colab": {
          "base_uri": "https://localhost:8080/"
        },
        "id": "WvdvZoDBUVCY",
        "outputId": "491a7220-d7c5-42fa-ef5a-6b3e9d37fe81"
      },
      "execution_count": 36,
      "outputs": [
        {
          "output_type": "stream",
          "name": "stdout",
          "text": [
            "RMSSE CrostonSBA: 0.809\n",
            "RMSSE TSB: 0.815\n",
            "RMSSE ADIDA: 0.801\n",
            "RMSSE IMAPA: 0.802\n",
            "RMSSE ETS: 0.801\n"
          ]
        }
      ]
    },
    {
      "cell_type": "code",
      "source": [
        "#MAE - float prediction\n",
        "mae_sba = mean_absolute_error(merged['y'], merged['SBA'])\n",
        "mae_tsb = mean_absolute_error(merged['y'], merged['TSB'])\n",
        "mae_adida = mean_absolute_error(merged['y'], merged['ADIDA'])\n",
        "mae_imapa = mean_absolute_error(merged['y'], merged['IMAPA'])\n",
        "mae_ets = mean_absolute_error(merged['y'], merged['AutoETS'])\n",
        "\n",
        "print(f\"MAE CrostonSBA: {mae_sba:.3f}\")\n",
        "print(f\"MAE TSB: {mae_tsb:.3f}\")\n",
        "print(f\"MAE ADIDA: {mae_adida:.3f}\")\n",
        "print(f\"MAE IMAPA: {mae_imapa:.3f}\")\n",
        "print(f\"MAE ETS: {mae_ets:.3f}\")"
      ],
      "metadata": {
        "colab": {
          "base_uri": "https://localhost:8080/"
        },
        "id": "OIeOtB8TIC25",
        "outputId": "738f725e-6d4f-41e7-f4e2-cb8d81851f1f"
      },
      "execution_count": 37,
      "outputs": [
        {
          "output_type": "stream",
          "name": "stdout",
          "text": [
            "MAE CrostonSBA: 1.092\n",
            "MAE TSB: 1.072\n",
            "MAE ADIDA: 1.060\n",
            "MAE IMAPA: 1.061\n",
            "MAE ETS: 1.063\n"
          ]
        }
      ]
    },
    {
      "cell_type": "code",
      "source": [
        "#MAE - integer prediction\n",
        "mae_sba = mean_absolute_error(merged['y'], merged['SBA_round'])\n",
        "mae_tsb = mean_absolute_error(merged['y'], merged['TSB_round'])\n",
        "mae_adida = mean_absolute_error(merged['y'], merged['ADIDA_round'])\n",
        "mae_imapa = mean_absolute_error(merged['y'], merged['IMAPA_round'])\n",
        "mae_ets = mean_absolute_error(merged['y'], merged['ETS_round'])\n",
        "\n",
        "print(f\"MAE CrostonSBA: {mae_sba:.3f}\")\n",
        "print(f\"MAE TSB: {mae_tsb:.3f}\")\n",
        "print(f\"MAE ADIDA: {mae_adida:.3f}\")\n",
        "print(f\"MAE IMAPA: {mae_imapa:.3f}\")\n",
        "print(f\"MAE ETS: {mae_ets:.3f}\")"
      ],
      "metadata": {
        "colab": {
          "base_uri": "https://localhost:8080/"
        },
        "id": "Rf6zvhEjmm9k",
        "outputId": "8c260f50-624e-4b87-c518-58247732c0c2"
      },
      "execution_count": 38,
      "outputs": [
        {
          "output_type": "stream",
          "name": "stdout",
          "text": [
            "MAE CrostonSBA: 1.044\n",
            "MAE TSB: 1.035\n",
            "MAE ADIDA: 1.013\n",
            "MAE IMAPA: 1.016\n",
            "MAE ETS: 1.015\n"
          ]
        }
      ]
    }
  ]
}